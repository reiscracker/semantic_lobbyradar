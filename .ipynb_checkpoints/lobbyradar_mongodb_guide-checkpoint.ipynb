{
 "cells": [
  {
   "cell_type": "markdown",
   "metadata": {},
   "source": [
    "### Make sure mongodb service is up and running\n",
    "### _First time only_: Import entities and relations into database\n",
    "\n",
    "Bash:\n",
    "```bash\n",
    "mongorestore --db lobbyradar --collection entities dumps/entities.bson\n",
    "mongorestore --db lobbyradar --collection relations dumps/relations.bson\n",
    "```"
   ]
  },
  {
   "cell_type": "code",
   "execution_count": 14,
   "metadata": {
    "collapsed": true
   },
   "outputs": [
    {
     "name": "stdout",
     "output_type": "stream",
     "text": [
      "downloading https://goo.gl/5TK96v to /tmp/tmpYlEbLE/5TK96v\n",
      "copying /tmp/tmpYlEbLE/5TK96v -> /home/reiscracker/.local/share/jupyter/nbextensions/vim_binding.js\n"
     ]
    },
    {
     "data": {
      "text/plain": [
       "True"
      ]
     },
     "execution_count": 14,
     "metadata": {},
     "output_type": "execute_result"
    }
   ],
   "source": [
    "from notebook.nbextensions import install_nbextension, check_nbextension\n",
    "install_nbextension('https://goo.gl/5TK96v', user=True, destination=\"vim_binding.js\")\n",
    "check_nbextension(\"vim_binding.js\", user=True)"
   ]
  },
  {
   "cell_type": "code",
   "execution_count": 15,
   "metadata": {
    "collapsed": true
   },
   "outputs": [
    {
     "data": {
      "application/javascript": [
       "Jupyter.utils.load_extensions('vim_binding')"
      ],
      "text/plain": [
       "<IPython.core.display.Javascript object>"
      ]
     },
     "metadata": {},
     "output_type": "display_data"
    }
   ],
   "source": [
    "%%javascript\n",
    "Jupyter.utils.load_extensions('vim_binding')"
   ]
  },
  {
   "cell_type": "markdown",
   "metadata": {},
   "source": [
    "## Connect to database"
   ]
  },
  {
   "cell_type": "code",
   "execution_count": 16,
   "metadata": {
    "collapsed": false
   },
   "outputs": [],
   "source": [
    "import pymongo\n",
    "from pymongo import MongoClient\n",
    "from pprint import pprint, pformat\n",
    "\n",
    "client = MongoClient() # Default address localhost\n",
    "db = client.lobbyradar"
   ]
  },
  {
   "cell_type": "markdown",
   "metadata": {},
   "source": [
    "## The collections"
   ]
  },
  {
   "cell_type": "markdown",
   "metadata": {},
   "source": [
    "### Numbers"
   ]
  },
  {
   "cell_type": "code",
   "execution_count": 17,
   "metadata": {
    "collapsed": true
   },
   "outputs": [
    {
     "name": "stdout",
     "output_type": "stream",
     "text": [
      "Collections in database: entities, relations\n",
      "Entities: 26380 documents\n",
      "Relations: 32137 documents\n"
     ]
    }
   ],
   "source": [
    "# The database has two collections\n",
    "print(\"Collections in database: \" + \", \".join(db.collection_names(include_system_collections=False)))\n",
    "\n",
    "print(\"Entities: %s documents\" % db.entities.count())\n",
    "print(\"Relations: %s documents\" % db.relations.count())"
   ]
  },
  {
   "cell_type": "markdown",
   "metadata": {},
   "source": [
    "### Simple queries"
   ]
  },
  {
   "cell_type": "code",
   "execution_count": 18,
   "metadata": {
    "collapsed": false
   },
   "outputs": [
    {
     "name": "stdout",
     "output_type": "stream",
     "text": [
      "Distict entity types:[u'entity', u'person']\n"
     ]
    }
   ],
   "source": [
    "print(\"Distict entity types:\" + pformat(db.entities.distinct(\"type\")))"
   ]
  },
  {
   "cell_type": "code",
   "execution_count": 19,
   "metadata": {
    "collapsed": false
   },
   "outputs": [
    {
     "name": "stdout",
     "output_type": "stream",
     "text": [
      "Distict relation types:[u'general', u'publication']\n"
     ]
    }
   ],
   "source": [
    "print(\"Distict relation types:\" + pformat(db.relations.distinct(\"type\")))"
   ]
  },
  {
   "cell_type": "code",
   "execution_count": 20,
   "metadata": {
    "collapsed": true
   },
   "outputs": [
    {
     "name": "stdout",
     "output_type": "stream",
     "text": [
      "First Entity document in database:{u'_id': ObjectId('54bd3c748b934da06340f4c1'),\n",
      " u'aliases': [u'DIE LINKE',\n",
      "              u'Die Linke',\n",
      "              u'Partei DIE LINKE',\n",
      "              u'DIE LINKE.',\n",
      "              u'Linkspartei',\n",
      "              u'Linkspartei.PDS',\n",
      "              u'PDS',\n",
      "              u'WASG',\n",
      "              u'Partei des Demokratischen Sozialismus',\n",
      "              u'Arbeit & soziale Gerechtigkeit \\u2013 Die Wahlalternative',\n",
      "              u'Wahlalternative',\n",
      "              u'Wahlalternative Arbeit und soziale Gerechtigkeit'],\n",
      " u'created': datetime.datetime(2015, 1, 19, 17, 18, 44, 807000),\n",
      " u'data': [{u'auto': True,\n",
      "            u'created': datetime.datetime(2015, 5, 28, 18, 11, 9, 657000),\n",
      "            u'desc': u'Partei',\n",
      "            u'format': u'string',\n",
      "            u'id': u'2b1adb60a31d37cf9cc0fdccb75149456a425095c6bf5e77abac117ed1a69d0f',\n",
      "            u'key': u'partei',\n",
      "            u'updated': datetime.datetime(2015, 5, 28, 18, 11, 9, 657000),\n",
      "            u'value': u'Die Linke'},\n",
      "           {u'auto': True,\n",
      "            u'created': datetime.datetime(2015, 1, 19, 17, 18, 44, 808000),\n",
      "            u'desc': u'Adresse',\n",
      "            u'format': u'address',\n",
      "            u'id': u'bb4b34d6b3f916cea2ca09b7cea7842afbec6c9d303c3dc31a5823bda70658bb',\n",
      "            u'key': u'address',\n",
      "            u'updated': datetime.datetime(2015, 1, 19, 17, 18, 44, 808000),\n",
      "            u'value': {u'addr': u'Bundesgesch\\xe4ftsstelle',\n",
      "                       u'city': u'Berlin',\n",
      "                       u'country': u'Deutschland',\n",
      "                       u'email': u'bundesgeschaeftsstelle@die-linke.de',\n",
      "                       u'fax': u'+493024009310',\n",
      "                       u'name': u'Partei DIE LINKE',\n",
      "                       u'postcode': u'10178',\n",
      "                       u'street': u'Kleine Alexanderstra\\xdfe 28',\n",
      "                       u'tel': u'+493024009397',\n",
      "                       u'type': u'main',\n",
      "                       u'www': u'http://www.die-linke.de/'}}],\n",
      " u'importer': u'parteien',\n",
      " u'name': u'Die Linke',\n",
      " u'search': [u'die linke',\n",
      "             u'partei die linke',\n",
      "             u'linkspartei',\n",
      "             u'linksparteipds',\n",
      "             u'pds',\n",
      "             u'wasg',\n",
      "             u'partei des demokratischen sozialismus',\n",
      "             u'arbeit and soziale gerechtigkeit die wahlalternative',\n",
      "             u'wahlalternative',\n",
      "             u'wahlalternative arbeit und soziale gerechtigkeit'],\n",
      " u'slug': u'die linke',\n",
      " u'tags': [u'partei', u'linke'],\n",
      " u'type': u'entity',\n",
      " u'updated': datetime.datetime(2015, 5, 28, 18, 11, 12, 646000)}\n",
      "\n"
     ]
    }
   ],
   "source": [
    "# Some commands\n",
    "print(\"First Entity document in database:\" + pformat(db.entities.find_one()) + \"\\n\")\n",
    "#entity_cursor = db.entities.find() # Would find all entities\n",
    "#entity_cursor.next() # Iterator for resultset"
   ]
  },
  {
   "cell_type": "code",
   "execution_count": 21,
   "metadata": {
    "collapsed": true
   },
   "outputs": [
    {
     "name": "stdout",
     "output_type": "stream",
     "text": [
      "First relation document in database:{u'_id': ObjectId('54bd3c968b934da063413717'),\n",
      " u'created': datetime.datetime(2015, 1, 19, 17, 19, 18, 521000),\n",
      " u'data': [{u'desc': u'Verbindung',\n",
      "            u'format': u'association',\n",
      "            u'importer': u'created by lobbyliste importer',\n",
      "            u'key': u'association',\n",
      "            u'value': {u'position': u'Vorstand',\n",
      "                       u'sources': [u'http://bundestag.de/blob/189476/8989cc5f5f65426215d7e0233704b20a/lobbylisteaktuell-data.pdf'],\n",
      "                       u'type': u'executive'}}],\n",
      " u'entities': [ObjectId('54bd3c768b934da06340f4c5'),\n",
      "               ObjectId('54bd3c768b934da06340f4c7')],\n",
      " u'importer': u'lobbyliste',\n",
      " u'tags': [],\n",
      " u'type': u'general',\n",
      " u'updated': datetime.datetime(2015, 1, 19, 17, 19, 18, 521000),\n",
      " u'weight': 1}\n",
      "\n"
     ]
    }
   ],
   "source": [
    "print(\"First relation document in database:\" + pformat(db.relations.find_one()) + \"\\n\")\n",
    "#relation_cursor = db.entities.find()\n",
    "#relation_cursor.next()"
   ]
  },
  {
   "cell_type": "markdown",
   "metadata": {},
   "source": [
    "### Aggregations"
   ]
  },
  {
   "cell_type": "code",
   "execution_count": 22,
   "metadata": {
    "collapsed": true
   },
   "outputs": [
    {
     "name": "stdout",
     "output_type": "stream",
     "text": [
      "Entitiy types count:\n",
      "[{u'_id': u'person', u'counter': 19828}, {u'_id': u'entity', u'counter': 6552}]\n",
      "Relation types count:\n",
      "[{u'_id': u'general', u'counter': 32136}, {u'_id': u'publication', u'counter': 1}]\n"
     ]
    }
   ],
   "source": [
    "from bson.son import SON\n",
    "\n",
    "# Aggregation pipeline that groups by type (entity/person) and counts the sum of documents in each group in a field \"counter\"\n",
    "# The second step sorts the groups by counter and id \n",
    "pipeline = [\n",
    "    {\"$group\": {\"_id\": \"$type\", \"counter\": {\"$sum\": 1}}},   # First step\n",
    "    {\"$sort\": SON([(\"counter\", -1), (\"_id\", -1)])}          # Second step\n",
    "]\n",
    "\n",
    "# Output as list to get all values at once instead of a cursor\n",
    "print(\"Entitiy types count:\")\n",
    "print(list(db.entities.aggregate(pipeline, cursor={})))\n",
    "print(\"Relation types count:\")\n",
    "print(list(db.relations.aggregate(pipeline, cursor={})))"
   ]
  },
  {
   "cell_type": "code",
   "execution_count": 23,
   "metadata": {
    "collapsed": true
   },
   "outputs": [
    {
     "data": {
      "text/plain": [
       "[{u'_id': u'parteien', u'count': 1},\n",
       " {u'_id': u'parteispenden14', u'count': 6},\n",
       " {u'_id': u'kabinette', u'count': 34},\n",
       " {u'_id': u'seitenwechsler', u'count': 214},\n",
       " {u'_id': u'thinktanks', u'count': 309},\n",
       " {u'_id': u'parteispenden13', u'count': 311},\n",
       " {u'_id': u'laender', u'count': 370},\n",
       " {u'_id': u'dax', u'count': 541},\n",
       " {u'_id': None, u'count': 1063},\n",
       " {u'_id': u'pr', u'count': 1767},\n",
       " {u'_id': u'bundestag', u'count': 2046},\n",
       " {u'_id': u'parteispenden', u'count': 2914},\n",
       " {u'_id': u'lobbyliste', u'count': 16804}]"
      ]
     },
     "execution_count": 23,
     "metadata": {},
     "output_type": "execute_result"
    }
   ],
   "source": [
    "# Aggregation mit Gruppierung der Dokumente aus der collection entities nach Feld \"importer\", zählen der Gruppen und aufsteigend danach sortieren\n",
    "pipeline = [ {\"$group\": {\"_id\": \"$importer\", \"count\": {\"$sum\": 1}}} , {\"$sort\": {\"count\":1} }]\n",
    "list(db.entities.aggregate(pipeline, cursor={}))"
   ]
  },
  {
   "cell_type": "raw",
   "metadata": {},
   "source": [
    "tochterfirmen_relations = db.relations.find({ \"type\": \"Tochterfirma\" })\n",
    "print(\"%s Tocherfirma-Beziehungen gefunden.\" % tochterfirmen_relations.count())"
   ]
  },
  {
   "cell_type": "code",
   "execution_count": 28,
   "metadata": {
    "collapsed": false
   },
   "outputs": [
    {
     "name": "stdout",
     "output_type": "stream",
     "text": [
      "{u'_id': ObjectId('550f0eabe073b81931ff68ff'),\n",
      " u'name': u'Firma R & W Industriebeteiligungen GmbH'}\n",
      "{u'_id': ObjectId('550f0eabe073b81931ff6902'),\n",
      " u'name': u'R&W Industriebeteiligungen GmbH'}\n",
      "{u'_id': ObjectId('550f0eabe073b81931ff6906'), u'name': u'MLPD'}\n",
      "3 Entitäten mit importer parteispenden14 gefunden\n"
     ]
    }
   ],
   "source": [
    "query = {'type': 'entity', 'importer': 'parteispenden14'}\n",
    "projection = {'_id': 0, 'name': 1}\n",
    "for i in db.entities.find(query, projection):\n",
    "     pprint(i)\n",
    "\n",
    "print(\"%s Entitäten mit importer parteispenden14 gefunden\" % db.entities.find(query, projection).count())"
   ]
  },
  {
   "cell_type": "code",
   "execution_count": null,
   "metadata": {
    "collapsed": true
   },
   "outputs": [],
   "source": []
  }
 ],
 "metadata": {
  "kernelspec": {
   "display_name": "Python 2",
   "language": "python",
   "name": "python2"
  },
  "language_info": {
   "codemirror_mode": {
    "name": "ipython",
    "version": 2
   },
   "file_extension": ".py",
   "mimetype": "text/x-python",
   "name": "python",
   "nbconvert_exporter": "python",
   "pygments_lexer": "ipython2",
   "version": "2.7.8"
  }
 },
 "nbformat": 4,
 "nbformat_minor": 0
}
