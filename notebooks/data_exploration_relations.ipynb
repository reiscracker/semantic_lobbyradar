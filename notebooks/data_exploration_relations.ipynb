{
 "cells": [
  {
   "cell_type": "code",
   "execution_count": 1,
   "metadata": {
    "collapsed": false
   },
   "outputs": [],
   "source": [
    "import pymongo\n",
    "from pymongo import MongoClient\n",
    "from pprint import pprint, pformat, PrettyPrinter\n",
    "from bson.son import SON\n",
    "from bson.objectid import ObjectId\n",
    "from os.path import exists\n",
    "import json\n",
    "from ipy_table import *"
   ]
  },
  {
   "cell_type": "code",
   "execution_count": 2,
   "metadata": {
    "collapsed": false
   },
   "outputs": [
    {
     "name": "stdout",
     "output_type": "stream",
     "text": [
      "Relations: 32137 Dokumente\n"
     ]
    }
   ],
   "source": [
    "# Connect to database and create variables for the collections\n",
    "client = MongoClient()\n",
    "db = client.lobbyradar\n",
    "entities = db.entities\n",
    "relations = db.relations\n",
    "\n",
    "print(\"Relations: %s Dokumente\" % relations.count())"
   ]
  },
  {
   "cell_type": "code",
   "execution_count": 3,
   "metadata": {
    "collapsed": false
   },
   "outputs": [],
   "source": [
    "# Some format strings and helpers\n",
    "def printCols(iterable, columns=5, spacing=20):                                                                                                                                                                             \n",
    "    formatElement = u\"{:<%s}\" % spacing\n",
    "    \n",
    "    row_format =  formatElement * columns\n",
    "    for chunk in zip(*[iter(iterable)]*columns):\n",
    "        print(row_format.format(*chunk))\n",
    "        \n",
    "    # Splitting might be uneven and we could have some elements left, so print those too\n",
    "    # The missing elements are those with an index in range of iterable % columns at the end \n",
    "    rest=iterable[len(iterable) - (len(iterable) % columns):]\n",
    "    print( (formatElement * len(rest)).format(*rest) )\n"
   ]
  },
  {
   "cell_type": "markdown",
   "metadata": {},
   "source": [
    "# The entities collection"
   ]
  },
  {
   "cell_type": "markdown",
   "metadata": {},
   "source": [
    "## Beispielhaftes Dokument"
   ]
  },
  {
   "cell_type": "code",
   "execution_count": 4,
   "metadata": {
    "collapsed": false,
    "scrolled": true
   },
   "outputs": [
    {
     "name": "stdout",
     "output_type": "stream",
     "text": [
      "{u'_id': ObjectId('54bd3c968b934da063413717'),\n",
      " u'created': datetime.datetime(2015, 1, 19, 17, 19, 18, 521000),\n",
      " u'data': [{u'desc': u'Verbindung',\n",
      "            u'format': u'association',\n",
      "            u'importer': u'created by lobbyliste importer',\n",
      "            u'key': u'association',\n",
      "            u'value': {u'position': u'Vorstand',\n",
      "                       u'sources': [u'http://bundestag.de/blob/189476/8989cc5f5f65426215d7e0233704b20a/lobbylisteaktuell-data.pdf'],\n",
      "                       u'type': u'executive'}}],\n",
      " u'entities': [ObjectId('54bd3c768b934da06340f4c5'),\n",
      "               ObjectId('54bd3c768b934da06340f4c7')],\n",
      " u'importer': u'lobbyliste',\n",
      " u'tags': [],\n",
      " u'type': u'general',\n",
      " u'updated': datetime.datetime(2015, 1, 19, 17, 19, 18, 521000),\n",
      " u'weight': 1}\n"
     ]
    }
   ],
   "source": [
    "first_relation_document = relations.find_one()\n",
    "pprint(first_relation_document)"
   ]
  },
  {
   "cell_type": "code",
   "execution_count": 5,
   "metadata": {
    "collapsed": false
   },
   "outputs": [
    {
     "name": "stdout",
     "output_type": "stream",
     "text": [
      "+------------------------------------------------------------------------------------------+\r\n",
      "| key                       | types                 | occurrences | percents               |\r\n",
      "| ------------------------- | --------------------- | ----------- | ---------------------- |\r\n",
      "| _id                       | ObjectId              |       32137 | 100.000000000000000000 |\r\n",
      "| created                   | Date                  |       32137 | 100.000000000000000000 |\r\n",
      "| data                      | Array                 |       32137 | 100.000000000000000000 |\r\n",
      "| entities                  | Array                 |       32137 | 100.000000000000000000 |\r\n",
      "| importer                  | String,null           |       32137 | 100.000000000000000000 |\r\n",
      "| tags                      | Array                 |       32137 | 100.000000000000000000 |\r\n",
      "| type                      | String                |       32137 | 100.000000000000000000 |\r\n",
      "| updated                   | Date                  |       32137 | 100.000000000000000000 |\r\n",
      "| weight                    | Number                |       32137 | 100.000000000000000000 |\r\n",
      "| data.XX.desc              | String                |       32130 |  99.978218253103904090 |\r\n",
      "| data.XX.format            | String                |       32130 |  99.978218253103904090 |\r\n",
      "| data.XX.key               | String                |       32130 |  99.978218253103904090 |\r\n",
      "| data.XX.value             | Boolean,Object,String |       32130 |  99.978218253103904090 |\r\n",
      "| data.XX.importer          | String,null           |       28844 |  89.753243924448455004 |\r\n",
      "| data.XX.value.sources     | Array                 |       28539 |  88.804182095404044617 |\r\n",
      "| data.XX.value.position    | String,null           |       26896 |  83.691694931076327180 |\r\n",
      "| data.XX.value.type        | String                |       25928 |  80.679590503158351567 |\r\n",
      "| data.XX.auto              | Boolean               |        7267 |  22.612564956280923667 |\r\n",
      "| data.XX.created           | Date                  |        7267 |  22.612564956280923667 |\r\n",
      "| data.XX.id                | String                |        7267 |  22.612564956280923667 |\r\n",
      "| data.XX.updated           | Date                  |        7267 |  22.612564956280923667 |\r\n",
      "| data.XX.value.start       | Object,null           |        4267 |  13.277530572237607132 |\r\n",
      "| data.XX.value.desc        | String                |        4103 |  12.767215359243239803 |\r\n",
      "| data.XX.value.end         | Object,null           |        3876 |  12.060864424183963095 |\r\n",
      "| data.XX.value.amount      | Number                |        3836 |  11.936397299063385091 |\r\n",
      "| data.XX.value.year        | Number                |        3836 |  11.936397299063385091 |\r\n",
      "| data.XX.value.activity    | String,null           |        2513 |   7.819647135700282803 |\r\n",
      "| data.XX.value.level       | Number,null           |        2513 |   7.819647135700282803 |\r\n",
      "| data.XX.value.periodical  | String                |        2513 |   7.819647135700282803 |\r\n",
      "| data.XX.value.place       | String,null           |        2513 |   7.819647135700282803 |\r\n",
      "| data.XX.value.unsalaried  | Boolean               |        2513 |   7.819647135700282803 |\r\n",
      "| data.XX.value.start.year  | Number                |        1169 |   3.637551731648878128 |\r\n",
      "| data.XX.value.verified    | Boolean               |        1068 |   3.323272240719420179 |\r\n",
      "| data.XX.value.start.month | Number,null           |         926 |   2.881413946541369953 |\r\n",
      "| data.XX.value.end.year    | Number                |         911 |   2.834738774621153201 |\r\n",
      "| data.XX.value.start.day   | Number                |         734 |   2.283971745962597666 |\r\n",
      "| data.XX.value.end.month   | Number,null           |         721 |   2.243519930298409903 |\r\n",
      "| data.XX.value.end.day     | Number                |         535 |   1.664747798487724362 |\r\n",
      "| data.XX.position          | String                |           1 |   0.003111678128014438 |\r\n",
      "| data.XX.value.url         | String                |           1 |   0.003111678128014438 |\r\n",
      "+------------------------------------------------------------------------------------------+\r\n"
     ]
    }
   ],
   "source": [
    "# We need to find the tool variety before we can use it\n",
    "VARIETY = \"../variety/variety.js\"\n",
    "if not exists(VARIETY):\n",
    "     print(\"variety.js script NICHT in %s gefunden. Ausversehen verschoben?\" % VARIETY)\n",
    "        \n",
    "# Save database analysis as JSON for processing \n",
    "shell_capture = ! mongo --quiet lobbyradar --eval \"var collection = 'relations', outputFormat='json'\" {VARIETY}\n",
    "variety_schema_json= json.loads(shell_capture.n)\n",
    "\n",
    "# And print as ascii\n",
    "! mongo --quiet lobbyradar --eval \"var collection = 'relations', outputFormat='ascii'\" {VARIETY}"
   ]
  },
  {
   "cell_type": "markdown",
   "metadata": {},
   "source": [
    "# Als erstes müssen wir herausfinden welche Felder die Dokumente überhaupt haben und was wir uns ansehen müssen. \n",
    "### Dazu betrachten wir die Schlüssel aller Dokumenten-Felder (mit unendlicher Tiefe)"
   ]
  },
  {
   "cell_type": "code",
   "execution_count": 32,
   "metadata": {
    "collapsed": false
   },
   "outputs": [
    {
     "name": "stdout",
     "output_type": "stream",
     "text": [
      "[{'key': u'_id', 'type': [u'ObjectId']},\n",
      " {'key': u'created', 'type': [u'Date']},\n",
      " {'key': u'data', 'type': [u'Array']},\n",
      " {'key': u'entities', 'type': [u'Array']},\n",
      " {'key': u'importer', 'type': [u'String', u'null']},\n",
      " {'key': u'tags', 'type': [u'Array']},\n",
      " {'key': u'type', 'type': [u'String']},\n",
      " {'key': u'updated', 'type': [u'Date']},\n",
      " {'key': u'weight', 'type': [u'Number']},\n",
      " {'key': u'data.XX.desc', 'type': [u'String']},\n",
      " {'key': u'data.XX.format', 'type': [u'String']},\n",
      " {'key': u'data.XX.key', 'type': [u'String']},\n",
      " {'key': u'data.XX.value', 'type': [u'Boolean', u'Object', u'String']},\n",
      " {'key': u'data.XX.importer', 'type': [u'String', u'null']},\n",
      " {'key': u'data.XX.value.sources', 'type': [u'Array']},\n",
      " {'key': u'data.XX.value.position', 'type': [u'String', u'null']},\n",
      " {'key': u'data.XX.value.type', 'type': [u'String']},\n",
      " {'key': u'data.XX.auto', 'type': [u'Boolean']},\n",
      " {'key': u'data.XX.created', 'type': [u'Date']},\n",
      " {'key': u'data.XX.id', 'type': [u'String']},\n",
      " {'key': u'data.XX.updated', 'type': [u'Date']},\n",
      " {'key': u'data.XX.value.start', 'type': [u'Object', u'null']},\n",
      " {'key': u'data.XX.value.desc', 'type': [u'String']},\n",
      " {'key': u'data.XX.value.end', 'type': [u'Object', u'null']},\n",
      " {'key': u'data.XX.value.amount', 'type': [u'Number']},\n",
      " {'key': u'data.XX.value.year', 'type': [u'Number']},\n",
      " {'key': u'data.XX.value.activity', 'type': [u'String', u'null']},\n",
      " {'key': u'data.XX.value.level', 'type': [u'Number', u'null']},\n",
      " {'key': u'data.XX.value.periodical', 'type': [u'String']},\n",
      " {'key': u'data.XX.value.place', 'type': [u'String', u'null']},\n",
      " {'key': u'data.XX.value.unsalaried', 'type': [u'Boolean']},\n",
      " {'key': u'data.XX.value.start.year', 'type': [u'Number']},\n",
      " {'key': u'data.XX.value.verified', 'type': [u'Boolean']},\n",
      " {'key': u'data.XX.value.start.month', 'type': [u'Number', u'null']},\n",
      " {'key': u'data.XX.value.end.year', 'type': [u'Number']},\n",
      " {'key': u'data.XX.value.start.day', 'type': [u'Number']},\n",
      " {'key': u'data.XX.value.end.month', 'type': [u'Number', u'null']},\n",
      " {'key': u'data.XX.value.end.day', 'type': [u'Number']},\n",
      " {'key': u'data.XX.position', 'type': [u'String']},\n",
      " {'key': u'data.XX.value.url', 'type': [u'String']}]\n"
     ]
    }
   ],
   "source": [
    "fields = []\n",
    "for x in variety_schema_json:\n",
    "    fields.append( {'key': x['_id']['key'], 'type': x['value']['types']} )\n",
    "pprint(fields)"
   ]
  },
  {
   "cell_type": "markdown",
   "metadata": {
    "variables": {
     " fields[0]['key'] ": "_id",
     " fields[1]['key'] ": "created",
     "-fields[0]['key']-": "<p><strong>SyntaxError</strong>: invalid syntax (<ipython-input-33-0830a3bd8ea8>, line 1)</p>\n",
     "-fields[1]['key']-": "<p><strong>SyntaxError</strong>: invalid syntax (<ipython-input-33-c2a2861c50a5>, line 1)</p>\n",
     "fields[1]['type']": "Date"
    }
   },
   "source": [
    "Das sind einige. Um die Beziehungen zwischen den Entitäten richtig zu verstehen, müssen wir diese aber untersuchen.\n",
    "\n",
    "## {{ fields[0]['key'] }}\n",
    "Die Object-Id des Dokuments. Sagt nichts über die Relation aus.\n",
    "\n",
    "## {{ fields[1]['key'] }}\n",
    "Ist vom Typ {{fields[1]['type']}} und vermutlich einfach das Datum, an dem dieses Dokument erstellt wurde. Kann durch ein einfaches RDF Tripel später ausgedrückt werden."
   ]
  },
  {
   "cell_type": "code",
   "execution_count": 33,
   "metadata": {
    "collapsed": false,
    "scrolled": true
   },
   "outputs": [
    {
     "data": {
      "text/plain": [
       "datetime.datetime(2015, 1, 19, 17, 19, 18, 521000)"
      ]
     },
     "execution_count": 33,
     "metadata": {},
     "output_type": "execute_result"
    }
   ],
   "source": [
    "first_relation_document.get(fields[1]['key'])"
   ]
  },
  {
   "cell_type": "markdown",
   "metadata": {
    "variables": {
     " fields[3]['key'] ": "entities",
     "-fields[3]['key']-": "<p><strong>SyntaxError</strong>: invalid syntax (<ipython-input-292-2221e8c55ac3>, line 1)</p>\n"
    }
   },
   "source": [
    "## {{ fields[3]['key'] }}                                                                                                                                                                     \n",
    "Die Entitäten, die über die Relation miteinander assoziiert sind. Leider können wir nicht davon ausgehen, dass die Relation immer von der Ersten zur Zweiten Entität gerichtet ist."
   ]
  },
  {
   "cell_type": "code",
   "execution_count": 34,
   "metadata": {
    "collapsed": false
   },
   "outputs": [
    {
     "data": {
      "text/plain": [
       "[ObjectId('54bd3c768b934da06340f4c5'), ObjectId('54bd3c768b934da06340f4c7')]"
      ]
     },
     "execution_count": 34,
     "metadata": {},
     "output_type": "execute_result"
    }
   ],
   "source": [
    "first_relation_document.get(fields[3]['key'])"
   ]
  },
  {
   "cell_type": "markdown",
   "metadata": {},
   "source": [
    "Um die Relationen zu verstehen benötigen wir eine Funktion, die"
   ]
  },
  {
   "cell_type": "code",
   "execution_count": 353,
   "metadata": {
    "collapsed": false
   },
   "outputs": [],
   "source": [
    "def lookup_entity(entity_id, queryMask=None):\n",
    "    return entities.find_one({ \"_id\": entity_id }, queryMask)\n",
    "def lookup_relation(relation_id, queryMask=None):\n",
    "    return relations.find_one({ \"_id\": relation_id }, queryMask)\n",
    "    \n",
    "def get_relation_entities(relation_id): \n",
    "    # Look up the entity ids of a relation with provided id\n",
    "    relation = lookup_relation(relation_id, {'_id': 0, 'data.desc': 1, 'entities': 1})\n",
    "\n",
    "    if not relation:\n",
    "        return None\n",
    "    \n",
    "    # Find all those entities in the entities collection\n",
    "    (entity1, entity2) = [ lookup_entity(e_id) for e_id in relation['entities'] ]\n",
    "    \n",
    "    pprint(relation['data'][0]['desc'] + \":\")\n",
    "    pprint(\"%s (%s)  -->  %s (%s)\" % (entity1['name'], entity1['_id'], entity2['name'], entity2['_id']))"
   ]
  },
  {
   "cell_type": "markdown",
   "metadata": {
    "variables": {
     " fields[4]['key'] ": "importer",
     "-fields[4]['key']-": "<p><strong>SyntaxError</strong>: invalid syntax (<ipython-input-35-25a8ef2ec949>, line 1)</p>\n"
    }
   },
   "source": [
    "## {{ fields[4]['key'] }}                                                                                                                                                                      \n",
    "Der Importer wird vermutlich die (Haupt-)quelle sein, aus der diese Information beschafft. So ist bei Angela Merkel \"parteispenden\" als importer angegeben, was auch in den Quellen auf der offiziellen Website des Lobbyradar aufgeführt wird.\n",
    "Hier ist es schon interessant, die unterschiedlichen Werte zu sehen."
   ]
  },
  {
   "cell_type": "code",
   "execution_count": 35,
   "metadata": {
    "collapsed": false,
    "scrolled": true
   },
   "outputs": [
    {
     "name": "stdout",
     "output_type": "stream",
     "text": [
      "lobbyliste: (15810)\n",
      "bundestag: (5315)\n",
      "parteispenden: (3402)\n",
      "None: (2273)\n",
      "pr: (2193)\n",
      "dax: (668)\n",
      "db.clean: (629)\n",
      "laender: (529)\n",
      "kabinette: (433)\n",
      "parteispenden13: (356)\n",
      "seitenwechsler: (350)\n",
      "thinktanks: (174)\n",
      "parteispenden14: (5)\n"
     ]
    }
   ],
   "source": [
    "# Aggregation mit Gruppierung der Dokumente nach Feld \"importer\", zählen der Gruppen und aufsteigend danach sortieren\n",
    "pipeline = [ \n",
    "    { \"$group\": {\"_id\": \"$importer\", \"count\": {\"$sum\": 1}} },\n",
    "    { \"$sort\": {\"count\": -1} }\n",
    "]\n",
    "\n",
    "for row in db.relations.aggregate(pipeline, cursor={}):\n",
    "    print(\"%s: (%s)\" % (row['_id'], row['count']))"
   ]
  },
  {
   "cell_type": "markdown",
   "metadata": {
    "variables": {
     " fields[5]['key'] ": "tags",
     " fields[5]['type'] ": "Array",
     "-fields[5]['key']-": "<p><strong>SyntaxError</strong>: invalid syntax (<ipython-input-36-2a7ab4bf8b20>, line 1)</p>\n"
    }
   },
   "source": [
    "## {{ fields[5]['key'] }}                                                                                                                                                                      \n",
    "Vom Typ {{ fields[5]['type'] }} von Strings. Die Tags könnten wichtig bei der Suche nach Relationen und Schemata für eine Ontologie sein, also lassen wir die möglichen Werte ausgeben. "
   ]
  },
  {
   "cell_type": "code",
   "execution_count": 36,
   "metadata": {
    "collapsed": false
   },
   "outputs": [
    {
     "name": "stdout",
     "output_type": "stream",
     "text": [
      "partei (3926)                 nebentaetigkeit (2552)        committee (1804)              pr-und-lobbyagentur (1151)    spende (1081)                 \n",
      "parteispende (1081)           anwaltskanzlei (1047)         dax (675)                     mdb (629)                     laender (603)                 \n",
      "kabinette (557)               aufsichtsrat (496)            pharma (466)                  seitenwechsler (281)          bank (245)                    \n",
      "regierung (230)               kabinett (229)                ruestung (220)                vorstand (192)                fernsehrat (174)              \n",
      "fernsehen (168)               auto (154)                    medien (80)                   spd (74)                      cdu (72)                      \n",
      "öffentlich-rechtlich (72)     gesundheit (56)               verkehr (48)                  lebensmittel (46)             energie (46)                  \n",
      "radio (42)                    parteilos (38)                VW (36)                       industrie (31)                lobbyist (30)                 \n",
      "fdp (28)                      grune (25)                    csu (20)                      politik (20)                  hausausweise (18)             \n",
      "think-tank (14)               steinkohle (12)               bildung (12)                  versicherung (11)             umwelt (10)                   \n",
      "luftverkehr (10)              experte (9)                   eisenbahn (8)                 landwirtschaft (7)            bundeswehr (6)                \n",
      "vw (5)                        luftfahrt (5)                 schule (4)                    oepp (4)                      telekommunikation (3)         \n",
      "chemie (3)                    ausland (3)                   internet (3)                  kirche (3)                    handel (3)                    \n",
      "seefahrt (3)                  gewerkschaft (2)              kernkraft (2)                 bertelsmann (2)               it (2)                        \n",
      "immobilien (2)                naher-osten (2)               terrorismus (2)               ukraine (2)                   religion (2)                  \n",
      "eu (1)                        verbraucherschutz (1)         gazprom (1)                   stahl (1)                     krankenkasse (1)              \n",
      "beteiligungsgesellschaft (1)  digitalisierung (1)           solar (1)                     stiftung (1)                  werbung (1)                   \n",
      "oesterreich (1)               pr-agentur (1)                wasser (1)                    oel (1)                       fern (1)                      \n"
     ]
    }
   ],
   "source": [
    "# Aggregation, die das \"tags\"-Array der Dokumente zerlegt und für jeden Wert einen neuen Eintrag im Resultset erzeugt.\n",
    "# Diese werden anschließend gruppiert, die Gruppengrößen gezählt und entsprechend sortiert\n",
    "pipeline = [\n",
    "    {\"$unwind\": \"$tags\"},\n",
    "    {\"$group\": {\"_id\": \"$tags\", \"count\": {\"$sum\": 1}}},\n",
    "    {\"$sort\": {\"count\": -1} }\n",
    "]\n",
    "\n",
    "tags = [ u\"%s (%s)\" % (row['_id'], row['count']) for row in db.relations.aggregate(pipeline, cursor={}) ]\n",
    "printCols(tags, columns=5, spacing=30)"
   ]
  },
  {
   "cell_type": "markdown",
   "metadata": {
    "variables": {
     " fields[6]['key'] ": "type",
     "-fields[6]['key']-": "<p><strong>SyntaxError</strong>: invalid syntax (<ipython-input-37-fb150df9b0f5>, line 1)</p>\n"
    }
   },
   "source": [
    "## {{ fields[6]['key'] }}                                                                                                                                                                      \n",
    "Type beschränkt sich auf zwei Werte, general und publication."
   ]
  },
  {
   "cell_type": "code",
   "execution_count": 37,
   "metadata": {
    "collapsed": false
   },
   "outputs": [
    {
     "name": "stdout",
     "output_type": "stream",
     "text": [
      "publication: 1\n",
      "general: 32136\n"
     ]
    }
   ],
   "source": [
    "# Aggregation mit Gruppierung der Dokumente nach Feld \"type\", zählen der Gruppen und aufsteigend danach sortieren\n",
    "pipeline = [ \n",
    "    { \"$group\": {\"_id\": \"$type\", \"count\": {\"$sum\": 1}} },\n",
    "]\n",
    "\n",
    "for typ in db.relations.aggregate(pipeline, cursor={}):\n",
    "    print(\"%s: %s\" % (typ['_id'], typ['count']))"
   ]
  },
  {
   "cell_type": "markdown",
   "metadata": {
    "variables": {
     " fields[7]['key'] ": "updated",
     " fields[7]['type'] ": "Date",
     "-fields[7]['key']-": "<p><strong>SyntaxError</strong>: invalid syntax (<ipython-input-38-41c3c8131a7a>, line 1)</p>\n"
    }
   },
   "source": [
    "Der Type 'publication' ist wohl eher zu vernachlässigen.\n",
    "\n",
    "## {{ fields[7]['key'] }}                              \n",
    "Vom Typ {{ fields[7]['type'] }} und speichert den Zeitpunkt des letzten Updates."
   ]
  },
  {
   "cell_type": "markdown",
   "metadata": {
    "variables": {
     " fields[8]['key'] ": "weight",
     "-fields[8]['key']-": "<p><strong>SyntaxError</strong>: invalid syntax (<ipython-input-38-68f7a9fb3ff5>, line 1)</p>\n"
    }
   },
   "source": [
    "## {{ fields[8]['key'] }}                                                                                                                                                                      \n",
    "Mir bisher noch schleierhaft. Auffallend ist aber, dass die meisten Relationen ein Gewicht von 1 besitzen."
   ]
  },
  {
   "cell_type": "code",
   "execution_count": 38,
   "metadata": {
    "collapsed": false
   },
   "outputs": [
    {
     "name": "stdout",
     "output_type": "stream",
     "text": [
      "weight 0: 2896\n",
      "weight 1: 29241\n"
     ]
    }
   ],
   "source": [
    "pipeline = [ \n",
    "    { \"$group\": {\"_id\": \"$weight\", \"count\": {\"$sum\": 1}} },\n",
    "]\n",
    "for w in relations.aggregate(pipeline, cursor={}):\n",
    "    print(\"weight %s: %s\" % (w['_id'], w['count']))"
   ]
  },
  {
   "cell_type": "markdown",
   "metadata": {
    "variables": {
     " fields[2]['key'] ": "data",
     "-fields[2]['key']-": "<p><strong>SyntaxError</strong>: invalid syntax (<ipython-input-39-e93d808bb0f8>, line 1)</p>\n"
    }
   },
   "source": [
    "## {{ fields[2]['key'] }}                                                                                                                                                                      \n",
    "Auch Data ist ein Array, das sich allerdings noch deutlich weiter verschachtelt. "
   ]
  },
  {
   "cell_type": "code",
   "execution_count": 39,
   "metadata": {
    "collapsed": false
   },
   "outputs": [
    {
     "name": "stdout",
     "output_type": "stream",
     "text": [
      "data.XX.desc                  data.XX.format                data.XX.key                   data.XX.value                 data.XX.importer              \n",
      "data.XX.value.sources         data.XX.value.position        data.XX.value.type            data.XX.auto                  data.XX.created               \n",
      "data.XX.id                    data.XX.updated               data.XX.value.start           data.XX.value.desc            data.XX.value.end             \n",
      "data.XX.value.amount          data.XX.value.year            data.XX.value.activity        data.XX.value.level           data.XX.value.periodical      \n",
      "data.XX.value.place           data.XX.value.unsalaried      data.XX.value.start.year      data.XX.value.verified        data.XX.value.start.month     \n",
      "data.XX.value.end.year        data.XX.value.start.day       data.XX.value.end.month       data.XX.value.end.day         data.XX.position              \n"
     ]
    }
   ],
   "source": [
    "printCols([ field['key'] for field in fields[9:] ], spacing=30)"
   ]
  },
  {
   "cell_type": "markdown",
   "metadata": {
    "variables": {
     " fields[9]['key'] ": "data.XX.desc",
     "-fields[9]['key']-": "<p><strong>SyntaxError</strong>: invalid syntax (<ipython-input-41-02cc5f50c529>, line 1)</p>\n"
    }
   },
   "source": [
    "## {{ fields[9]['key'] }}                                                                                                                                                                      \n",
    "Der größte Teil der Relationen sind als \"Verbindung\" beschrieben, also sehr ungenau."
   ]
  },
  {
   "cell_type": "code",
   "execution_count": 41,
   "metadata": {
    "collapsed": false
   },
   "outputs": [
    {
     "name": "stdout",
     "output_type": "stream",
     "text": [
      "Desc: Verbindung: 26258\n",
      "Desc: Parteispende: 9673\n",
      "Desc: Angaben zur Nebentätigkeit: 2673\n",
      "Desc: Quelle: 1\n",
      "Desc: Verifiziert: 1\n",
      "Desc: Position: 1\n"
     ]
    }
   ],
   "source": [
    "pipeline = make_pipeline(unwind=\"data\", group=\"data.desc\", sort=True)\n",
    "for desc in relations.aggregate(pipeline, cursor={}):\n",
    "    print(\"Desc: %s: %s\" % (desc['_id'], desc['count']))"
   ]
  },
  {
   "cell_type": "markdown",
   "metadata": {},
   "source": [
    "Beispiel für Verbindung:"
   ]
  },
  {
   "cell_type": "code",
   "execution_count": 11,
   "metadata": {
    "collapsed": false
   },
   "outputs": [
    {
     "name": "stdout",
     "output_type": "stream",
     "text": [
      "{u'_id': ObjectId('54bd3c968b934da063413717'),\n",
      " u'created': datetime.datetime(2015, 1, 19, 17, 19, 18, 521000),\n",
      " u'data': [{u'desc': u'Verbindung',\n",
      "            u'format': u'association',\n",
      "            u'importer': u'created by lobbyliste importer',\n",
      "            u'key': u'association',\n",
      "            u'value': {u'position': u'Vorstand',\n",
      "                       u'sources': [u'http://bundestag.de/blob/189476/8989cc5f5f65426215d7e0233704b20a/lobbylisteaktuell-data.pdf'],\n",
      "                       u'type': u'executive'}}],\n",
      " u'entities': [ObjectId('54bd3c768b934da06340f4c5'),\n",
      "               ObjectId('54bd3c768b934da06340f4c7')],\n",
      " u'importer': u'lobbyliste',\n",
      " u'tags': [],\n",
      " u'type': u'general',\n",
      " u'updated': datetime.datetime(2015, 1, 19, 17, 19, 18, 521000),\n",
      " u'weight': 1}\n"
     ]
    }
   ],
   "source": [
    "pprint(relations.find_one({\"data.desc\": \"Verbindung\"}))"
   ]
  },
  {
   "cell_type": "markdown",
   "metadata": {},
   "source": [
    "Beispiel für Parteispende:"
   ]
  },
  {
   "cell_type": "code",
   "execution_count": 7,
   "metadata": {
    "collapsed": false
   },
   "outputs": [
    {
     "name": "stdout",
     "output_type": "stream",
     "text": [
      "{u'_id': ObjectId('54c2a4f0fe6a42c82bbabb54'),\n",
      " u'created': datetime.datetime(2015, 1, 23, 19, 45, 52, 563000),\n",
      " u'data': [{u'auto': True,\n",
      "            u'created': datetime.datetime(2015, 1, 23, 19, 45, 52, 532000),\n",
      "            u'desc': u'Parteispende',\n",
      "            u'format': u'donation',\n",
      "            u'id': u'8744c78b0d974e477285b33b874cbaddd1962043cea900f5c4f3094ebb590ccb',\n",
      "            u'importer': u'created by parteispenden importer',\n",
      "            u'key': u'donation',\n",
      "            u'updated': datetime.datetime(2015, 1, 23, 19, 45, 52, 532000),\n",
      "            u'value': {u'amount': 16872.57,\n",
      "                       u'sources': [u'http://apps.opendatacity.de/parteispenden-recherche/assets/data/parteispenden.json'],\n",
      "                       u'year': 1994}},\n",
      "           {u'auto': True,\n",
      "            u'created': datetime.datetime(2015, 1, 23, 19, 47, 9, 848000),\n",
      "            u'desc': u'Parteispende',\n",
      "            u'format': u'donation',\n",
      "            u'id': u'8c5fe66733aba6f4143094f464a0ca759580be5b0775f3b9545ae648ffe3824f',\n",
      "            u'importer': u'created by parteispenden importer',\n",
      "            u'key': u'donation',\n",
      "            u'updated': datetime.datetime(2015, 1, 23, 19, 47, 9, 848000),\n",
      "            u'value': {u'amount': 12500,\n",
      "                       u'sources': [u'http://apps.opendatacity.de/parteispenden-recherche/assets/data/parteispenden.json'],\n",
      "                       u'year': 2004}}],\n",
      " u'entities': [ObjectId('54c2a4b3fe6a42c82bbaaf73'),\n",
      "               ObjectId('552ff9cdaf9ee96e1c1df7bf')],\n",
      " u'importer': u'parteispenden',\n",
      " u'tags': [u'partei'],\n",
      " u'type': u'general',\n",
      " u'updated': datetime.datetime(2015, 1, 23, 19, 47, 9, 863000),\n",
      " u'weight': 1}\n"
     ]
    }
   ],
   "source": [
    "pprint(relations.find_one({\"data.desc\": \"Parteispende\"}))"
   ]
  },
  {
   "cell_type": "markdown",
   "metadata": {
    "variables": {
     " fields[10]['key'] ": "data.XX.format",
     "-fields[10]['key']-": "<p><strong>SyntaxError</strong>: invalid syntax (<ipython-input-42-a14e1c7a5a16>, line 1)</p>\n"
    }
   },
   "source": [
    "## {{ fields[10]['key'] }}                                                                                                                                                                     \n",
    "Und vom Format eine 'association', also auch lediglich eine 'Verbindung'. Daraus lässt sich leider kaum Informationen gewinnen."
   ]
  },
  {
   "cell_type": "code",
   "execution_count": 42,
   "metadata": {
    "collapsed": false
   },
   "outputs": [
    {
     "name": "stdout",
     "output_type": "stream",
     "text": [
      "Desc: association: 26258\n",
      "Desc: donation: 9673\n",
      "Desc: activity: 2673\n",
      "Desc: bool: 1\n",
      "Desc: link: 1\n",
      "Desc: string: 1\n"
     ]
    }
   ],
   "source": [
    "pipeline = make_pipeline(unwind=\"data\", group=\"data.format\", sort=True)\n",
    "for form in relations.aggregate(pipeline, cursor={}):\n",
    "    print(\"Desc: %s: %s\" % (form['_id'], form['count']))"
   ]
  },
  {
   "cell_type": "markdown",
   "metadata": {
    "variables": {
     " fields[11]['key'] ": "data.XX.key",
     "-fields[11]['key']-": "<p><strong>SyntaxError</strong>: invalid syntax (<ipython-input-48-d3bba588e834>, line 1)</p>\n"
    }
   },
   "source": [
    "## {{ fields[11]['key'] }}                                                                                                                                                                     \n",
    "Wenn mir hier kein Fehler unterlaufen ist, scheint \"Key\" fast die gleichen Werte wie format zu besitzen"
   ]
  },
  {
   "cell_type": "code",
   "execution_count": 43,
   "metadata": {
    "collapsed": false,
    "scrolled": true
   },
   "outputs": [
    {
     "name": "stdout",
     "output_type": "stream",
     "text": [
      "Desc: association: 26258\n",
      "Desc: donation: 9673\n",
      "Desc: activity: 2673\n",
      "Desc: verified: 1\n",
      "Desc: source: 1\n",
      "Desc: position: 1\n"
     ]
    }
   ],
   "source": [
    "pipeline = make_pipeline(unwind=\"data\", group=\"data.key\", sort=True)\n",
    "for key in relations.aggregate(pipeline, cursor={}):\n",
    "    print(\"Desc: %s: %s\" % (key['_id'], key['count']))"
   ]
  },
  {
   "cell_type": "markdown",
   "metadata": {
    "variables": {
     " fields[13]['key'] ": "data.XX.importer",
     "-fields[13]['key']-": "<p><strong>SyntaxError</strong>: invalid syntax (<ipython-input-45-c291b45ae790>, line 1)</p>\n"
    }
   },
   "source": [
    "## {{ fields[13]['key'] }}                                                                                                                                                                     "
   ]
  },
  {
   "cell_type": "code",
   "execution_count": 55,
   "metadata": {
    "collapsed": false,
    "scrolled": true
   },
   "outputs": [
    {
     "name": "stdout",
     "output_type": "stream",
     "text": [
      "Importer:\n",
      "created by lobbyliste importer: 15843                                           created by parteispenden importer: 5483                                         \n",
      "None: 5031                                                                      Parteispenden: 3093                                                             \n",
      "bundestag: 3056                                                                 created by pr importer: 2151                                                    \n",
      "Bundestag Spenden von Personen und Beiträge von Mandatsträgern: 905             created by dax importer: 670                                                    \n",
      "db.clean: 629                                                                   laender: 546                                                                    \n",
      "kabinette: 480                                                                  created by seitenwechsler importer: 349                                         \n",
      "created by thinktank importer: 176                                              Bundestag Spenden von Unternehmen und Verbänden: 128                            \n",
      "pr: 58                                                                          seitenwechsler: 2                                                               \n",
      "Bundestag Drs. 18/335: 1                                                        Bundestag Drs. 18/3386: 1                                                       \n",
      "Bundestag Drs. 18/3614: 1                                                       Bundestag Drs. 17/14625: 1                                                      \n",
      "Politischer Beirat: 1                                                           Bundestag Drs. 17/13010: 1                                                      \n"
     ]
    }
   ],
   "source": [
    "pipeline = make_pipeline(unwind=\"data\", group=\"data.importer\", sort=True)\n",
    "importer = [ \"%s: %s\" % (r['_id'], r['count']) for r in relations.aggregate(pipeline, cursor={}) ]\n",
    "print(\"Importer:\")\n",
    "printCols(importer, columns=2, spacing=80)"
   ]
  },
  {
   "cell_type": "markdown",
   "metadata": {
    "variables": {
     " fields[17]['key'] ": "data.XX.auto",
     "-fields[17]['key']-": "<p><strong>SyntaxError</strong>: invalid syntax (<ipython-input-56-cfa8e3352080>, line 1)</p>\n"
    }
   },
   "source": [
    "## {{ fields[17]['key'] }}                                                                                                                                                                     "
   ]
  },
  {
   "cell_type": "code",
   "execution_count": 58,
   "metadata": {
    "collapsed": false,
    "scrolled": true
   },
   "outputs": [
    {
     "name": "stdout",
     "output_type": "stream",
     "text": [
      "None: 25317\n",
      "True: 12346\n",
      "False: 944\n"
     ]
    }
   ],
   "source": [
    "pipeline = make_pipeline(unwind=\"data\", group=\"data.auto\", sort=True)\n",
    "for r in relations.aggregate(pipeline, cursor={}):\n",
    "     print(\"%s: %s\" % (r['_id'], r['count']))"
   ]
  },
  {
   "cell_type": "markdown",
   "metadata": {
    "variables": {
     " fields[18]['key'] ": "data.XX.created",
     " fields[18]['type'] ": "Date",
     "-fields[18]['key']-": "<p><strong>SyntaxError</strong>: invalid syntax (<ipython-input-59-cb64b6fed5e1>, line 1)</p>\n"
    }
   },
   "source": [
    "## {{ fields[18]['key'] }}                                                                                                                                                                     \n",
    "Vom typ {{ fields[18]['type'] }}, also das Erstellungsdatum. Beispiel:"
   ]
  },
  {
   "cell_type": "code",
   "execution_count": 60,
   "metadata": {
    "collapsed": false
   },
   "outputs": [
    {
     "data": {
      "text/plain": [
       "{u'_id': ObjectId('54bd3c978b934da063413e6d'),\n",
       " u'data': [{u'created': datetime.datetime(2015, 1, 30, 13, 16, 53, 6000)}, {}]}"
      ]
     },
     "execution_count": 60,
     "metadata": {},
     "output_type": "execute_result"
    }
   ],
   "source": [
    "relations.find_one({ \"data.created\": {\"$exists\": 1} }, {'data.created':1})\n",
    "#relations.find_one({ \"data\": {\"$elemMatch\": {\"$in\": [''] }} })"
   ]
  },
  {
   "cell_type": "markdown",
   "metadata": {
    "variables": {
     " fields[19]['key'] ": "data.XX.id",
     "-fields[19]['key']-": "<p><strong>SyntaxError</strong>: invalid syntax (<ipython-input-61-f8d291e7f29c>, line 1)</p>\n"
    }
   },
   "source": [
    "## {{ fields[19]['key'] }}                                                                                                                                                                     "
   ]
  },
  {
   "cell_type": "code",
   "execution_count": 61,
   "metadata": {
    "collapsed": false
   },
   "outputs": [
    {
     "data": {
      "text/plain": [
       "{u'_id': ObjectId('54bd3c978b934da063413e6d'),\n",
       " u'data': [{u'id': u'bd5fff82726759130d968abda0494dd38ff13e2d66e432b18c6c8dab0961043f'},\n",
       "  {}]}"
      ]
     },
     "execution_count": 61,
     "metadata": {},
     "output_type": "execute_result"
    }
   ],
   "source": [
    "relations.find_one({ \"data.id\": {\"$exists\": 1} }, {'data.id':1})"
   ]
  },
  {
   "cell_type": "markdown",
   "metadata": {
    "variables": {
     " fields[20]['key'] ": "data.XX.updated",
     "-fields[20]['key']-": "<p><strong>SyntaxError</strong>: invalid syntax (<ipython-input-62-af6823398141>, line 1)</p>\n"
    }
   },
   "source": [
    "## {{ fields[20]['key'] }}                                                                                                                                                                     "
   ]
  },
  {
   "cell_type": "code",
   "execution_count": 62,
   "metadata": {
    "collapsed": false
   },
   "outputs": [
    {
     "data": {
      "text/plain": [
       "{u'_id': ObjectId('54bd3c978b934da063413e6d'),\n",
       " u'data': [{u'updated': datetime.datetime(2015, 1, 30, 13, 16, 53, 6000)}, {}]}"
      ]
     },
     "execution_count": 62,
     "metadata": {},
     "output_type": "execute_result"
    }
   ],
   "source": [
    "relations.find_one({ \"data.updated\": {\"$exists\": 1} }, {'data.updated':1})"
   ]
  },
  {
   "cell_type": "markdown",
   "metadata": {
    "variables": {
     " fields[12]['key'] ": "<p><strong>NameError</strong>: name &#39;fields&#39; is not defined</p>\n",
     "-fields[12]['key']-": "<p><strong>SyntaxError</strong>: invalid syntax (<ipython-input-2-3f735be69e73>, line 1)</p>\n"
    }
   },
   "source": [
    "# {{ fields[12]['key'] }}                                                                                                                                                                     "
   ]
  },
  {
   "cell_type": "markdown",
   "metadata": {
    "variables": {
     " fields[14]['key'] ": "data.XX.value.sources",
     "-fields[14]['key']-": "<p><strong>SyntaxError</strong>: invalid syntax (<ipython-input-44-249af732e9ac>, line 1)</p>\n"
    }
   },
   "source": [
    "## {{ fields[14]['key'] }}                                                                                                                                                                     "
   ]
  },
  {
   "cell_type": "code",
   "execution_count": 78,
   "metadata": {
    "collapsed": false,
    "scrolled": true
   },
   "outputs": [
    {
     "name": "stdout",
     "output_type": "stream",
     "text": [
      "[u'http://bundestag.de/blob/189476/8989cc5f5f65426215d7e0233704b20a/lobbylisteaktuell-data.pdf']: 15854\n",
      "[u'http://apps.opendatacity.de/parteispenden-recherche/assets/data/parteispenden.json']: 8576\n",
      "None: 3883                                                  \n",
      "[u'https://docs.google.com/spreadsheets/d/1caESI467tBJ8uwv0RqjI-3AJYYcrdceJhfRPAtm2yXw/edit?usp=sharing']: 963\n",
      "[u'https://lobbypedia.de/wiki/Seitenwechsler_in_Deutschland_im_%C3%9Cberblick']: 352\n",
      "[u'http://www.freshfields.com/newsandinsights.aspx?language=de&region=germany&itemtype=News&LangId=1031&SearchRegion=Global&cbDeals=true']: 263\n",
      "[]: 215                                                     \n",
      "[u'http://www.hengeler.com']: 213                           \n",
      "[u'http://www.cliffordchance.com']: 197                     \n",
      "[u'http://www.bakermckenzie.com/']: 144                     \n",
      "[u'http://linklaters.de/aktuelles/presse/pressemitteilungen.html']: 139\n",
      "[u'https://docs.google.com/spreadsheets/d/1sVup987wHu_jozH-X0mU6XZIJsUTkUjNijT0fgoBA6k/edit?usp=sharing']: 128\n",
      "[u'http://www.hkstrategies.com/expertise/case-studies']: 122\n",
      "[u'http://ec.europa.eu/transparencyregister/public/consultation/displaylobbyist.do?id=56047191389-84']: 106\n",
      "[u'https://lobbypedia.de/wiki/WilmerHale']: 100             \n",
      "[u'https://lobbypedia.de/wiki/Hering_Schuppener']: 64       \n",
      "[u'https://lobbypedia.de/wiki/Burson-Marsteller']: 62       \n",
      "[u'http://ec.europa.eu/transparencyregister/public/consultation/displaylobbyist.do?id=7223777790-86']: 62\n",
      "[u'http://www.ogilvy.com/']: 61                             \n",
      "[u'https://www.atlantik-bruecke.org/service/dokumente/a-message-from-germany.pdf']: 58\n",
      "[u'http://www.fischerappelt.de']: 57                        \n",
      "[u'http://www.strukturgesellschaft.de/?loc=menue4']: 52     \n",
      "[u'http://www.swr.de/unternehmen/gremien/gremien/-/id=12338976/did=13695516/nid=12338976/1do440o/index.html']: 41\n",
      "[u'https://www.br.de/unternehmen/inhalt/rundfunkrat/mitglieder100.html']: 39\n",
      "[u'http://www.beckerbuettnerheld.de']: 37                   \n",
      "[u'http://www.s-f.com/']: 35                                \n",
      "[u'http://www.kriminalpraevention.de/kuratorium.html']: 35  \n",
      "[u'https://lobbypedia.de/wiki/Edelman']: 33                 \n",
      "[u'http://www.rbb-online.de/rundfunkrat/mitglieder/rbb-rundfunkrat-mitglieder.html']: 32\n",
      "[u'http://www.akdae.de/Kommission/Organisation/Mitglieder/OM/index.html']: 32\n",
      "[u'http://www.bohnen-kallmorgen.com/']: 32                  \n",
      "[u'https://lobbypedia.de/wiki/Weber_Shandwick']: 31         \n",
      "[u'https://www.securityconference.de/ueber-uns/unterstuetzer-msc-2015/']: 29\n",
      "[u'http://www.db-law.de']: 28                               \n",
      "[u'http://www.bdi.eu/Praesidium.htm']: 26                   \n",
      "[u'http://www.aspectconsulting.eu']: 26                     \n",
      "[u'http://mslgroup.com']: 25                                \n",
      "[u'http://www.orca-affairs.de']: 23                         \n",
      "[u'http://www.schroederschoembs.com']: 21                   \n",
      "[u'https://dgap.org/de/gesellschaft/mitgliedschaft']: 21    \n",
      "[u'https://de.wikipedia.org/wiki/Enquete-Kommission_Internet_und_digitale_Gesellschaft']: 21\n",
      "[u'http://www.koch-consulting.de']: 21                      \n",
      "[u'http://www.thyssenkrupp.com/de/konzern/aufsichtsrat.html']: 20\n",
      "[u'http://www.siemens.com/about/de/management_unternehmensstruktur/aufsichtsrat.htm']: 20\n",
      "[u'http://www.rwe.com/web/cms/de/8356/rwe/ueber-rwe/aufsichtsrat/']: 20\n",
      "[u'http://investor-relations.lufthansagroup.com/corporate-governance/aufsichtsrat.html']: 20\n",
      "[u'http://www.daimler.com/dccom/0-5-65181-49-79600-1-0-0-0-0-0-0-7145-0-0-0-0-0-0-0.html']: 20\n",
      "[u'http://www.bmwgroup.com/bmwgroup_prod/d/0_0_www_bmwgroup_com/unternehmen/unternehmensprofil/aufsichtsrat/aufsichtsrat.html']: 20\n",
      "[u'https://www.deutsche-bank.de/de/content/company/Aufsichtsrat.htm']: 20\n",
      "[u'https://www.commerzbank.de/media/de/konzern_1/konzerninfo/aufsicht/aufsichtsrat_der_commerzbank_ag.pdf']: 20\n",
      "[u'http://www.continental-corporation.com/www/portal_com_de/themen/continental/vors/aufsichtsrat_zusammensetzung_de.html']: 20\n",
      "[u'http://www.dpdhl.com/de/investoren/corporate_governance/aufsichtsrat.html']: 20\n",
      "[u'http://www.swr.de/unternehmen/gremien/mitglieder-verwaltungsrat-swr-liste/-/id=12338976/did=13697116/nid=12338976/1dojz88/index.html']: 19\n",
      "[u'http://www.telekom.com/investor_relations/corporate-governance/aufsichtsrat/26890']: 19\n",
      "[u'http://www.bayer.de/de/Mitglieder.aspx']: 19             \n",
      "[u'https://www.munichre.com/de/ir/shareholder-information/corporate-governance/supervisory-board/index.html']: 19\n",
      "[u'https://lobbypedia.de/wiki/Brunswick_Group']: 19         \n",
      "[u'http://www.bmwi.de/BMWi/Redaktion/PDF/B/beiratsmitglieder-ttip,property=pdf,bereich=bmwi2012,sprache=de,rwb=true.pdf']: 18\n",
      "[u'http://deutsche-boerse.com/dbg/dispatch/de/kir/dbg_nav/investor_relations/15_Corporate_Governance/30_Supervisory_Board']: 18\n",
      "[u'http://www.sap.com/corporate-de/about/our-company/our-boards/supervisory-board.html']: 17\n",
      "[u'https://lobbypedia.de/wiki/WMP_Eurocom#Vorstand']: 17    \n",
      "[u'http://www.volkswagenag.com/content/vwcorp/content/de/investor_relations/corporate_governance/supervisory_board.html']: 17\n",
      "[u'http://www.amcham.de/members/member-lists/']: 17         \n",
      "[u'https://lobbypedia.de/wiki/Deekeling_Arndt_Advisors']: 16\n",
      "[u'http://www.henkel.de/unternehmen/management-und-gremien/henkel-aufsichtsrat']: 16\n",
      "[u'http://www.kulturstiftung.de/stiftung/struktur/stiftungsrat/']: 16\n",
      "[u'http://www.merck.de/de/unternehmen/unternehmensfuehrung/super_visory_board/aufsichtsrat.html']: 16\n",
      "[u'http://www.k-plus-s.com/de/aufsichtsrat/']: 16           \n",
      "[u'http://lobbypedia.de/wiki/APCO_Worldwide']: 16           \n",
      "[u'http://www.fppr.de']: 15                                 \n",
      "[u'http://www.bdi.eu/Vorstand.htm']: 15                     \n",
      "[u'http://www.bundestag.de/bundestag/abgeordnete18/biografien/S/schmidt_ulla.html']: 15\n",
      "[u'http://www.ecfr.eu/about/council#germany']: 15           \n",
      "[u'http://www.roedl.de']: 14                                \n",
      "[u'http://www.wuv.de/agenturen/adac_holt_cnc_communications_fuer_krisen_pr']: 14\n",
      "[u'http://www.dvr.de/site/mitglieder.aspx']: 14             \n",
      "[u'http://www.amcham.de/about-us/board-of-directors.html']: 14\n",
      "[u'http://www.bundestag.de/bundestag/abgeordnete18/biografien/T/tackmann_kirsten/259108']: 14\n",
      "[u'http://www.swp-berlin.org/de/ueber-uns/organe-der-stiftung.html#mitglieder']: 13\n",
      "[u'https://www.securityconference.de/ueber-uns/advisory-council/']: 13\n",
      "[u'https://www.infineon.com/cms/de/about-infineon/company/supervisory-board/']: 13\n",
      "[u'http://www.presseportal.de/pm/103585/2474165/beste-krisenkommunikation-navos-mit-pr-report-award-2013-ausgezeichnet-starkes-neugesch-ft-2013-bei']: 13\n",
      "[u'https://staatskanzlei.hessen.de/ministerpraesident/biografie/mandate-mitgliedschaften-und-nebentaetigkeiten']: 13\n",
      "[u'http://www.bundestag.de/bundestag/abgeordnete18/biografien/S/sensburg_patrick/259024']: 13\n",
      "[u'http://www.ketchum.com']: 12                             \n",
      "[u'http://www.the-linde-group.com/de/about_the_linde_group/management/supervisory_board/index.html']: 12\n",
      "[u'http://www.eon.com/de/investoren/corporate-governance/aufsichtsrat/mitglieder.html']: 12\n",
      "[u'http://www.beiersdorf.de/ueber-uns/unser-profil/aufsichtsrat']: 12\n",
      "[u'http://www.heidelbergcement.com/de/Aufsichtsrat']: 12    \n",
      "[u'http://lanxess.de/de/corporate/investor-relations/corporate-governance/aufsichtsrat/mitglieder/']: 12\n",
      "[u'https://www.basf.com/de/company/about-us/management/supervisory-board.html']: 12\n",
      "[u'http://www.spiegel.de/spiegel/print/d-83422496.html']: 12\n",
      "[u'http://www.adidas-group.com/de/unternehmen/aufsichtsrat/']: 12\n",
      "[u'http://www.bundestag.de/bundestag/abgeordnete18/biografien/T/tack_kerstin.html']: 12\n",
      "[u'https://www.allianz.com/de/ueber_uns/management/aufsichtsrat/index.html#']: 12\n",
      "[u'http://www.porsche.com/germany/aboutporsche/overview/supervisoryboard/']: 11\n",
      "[u'http://www.volkswagenag.com/content/vwcorp/content/de/investor_relations/corporate_governance/senior_management.html']: 11\n",
      "[u'https://www.allianz.com/de/ueber_uns/management/vorstand/index.html#']: 11\n",
      "[u'http://www.insm.de/insm/ueber-die-insm/Kuratoren-und-Botschafter.html']: 11\n",
      "[u'https://www.vfa.de/de/verband-mitglieder/mitgliedsunternehmen']: 11\n",
      "[u'http://www.bundestag.de/bundestag/abgeordnete18/biografien/U/uhl_hans_peter/259136']: 11\n",
      "[u'https://www.bah-bonn.de/der-verband/unsere-mitglieder/']: 11\n",
      "[u'http://www.bundestag.de/bundestag/abgeordnete18/biografien/M/maiziere_thomas/258800']: 11\n",
      "[u'http://www.bundestag.de/bundestag/abgeordnete18/biografien/T/trittin_juergen/259112']: 11\n",
      "[u'http://www.bundestag.de/bundestag/abgeordnete18/biografien/K/kuenast_renate/258572']: 11\n",
      "[u'http://www.bundestag.de/bundestag/abgeordnete18/biografien/W/wunderlich_joern/259204']: 11\n",
      "[u'http://www.jk-kom.de/']: 11                              \n",
      "[u'http://www.bundestag.de/bundestag/abgeordnete18/biografien/B/bergner_christoph/258238']: 11\n",
      "[u'http://www.bundestag.de/bundestag/abgeordnete18/biografien/S/steffen_sonja.html']: 11\n",
      "[u'http://www.bundestag.de/bundestag/abgeordnete18/biografien/L/leyen_ursula/258710']: 11\n",
      "[u'http://www.instinctif.de/fr/archive/detail/getarticle/News/detail/roadshow-couronne-de-succes-pour-lespace-economique-chinois-shenbei-new-district.html']: 11\n",
      "[u'http://www.bundestag.de/bundestag/abgeordnete18/biografien/F/fograscher_gabriele.html']: 11\n",
      "[u'http://www.bundestag.de/bundestag/abgeordnete18/biografien/K/keul_katja/258648']: 11\n",
      "[u'http://www.porsche-se.com/pho/de/porschese/administration/supervisoryboard/']: 10\n",
      "[u'http://www.kmlz.de']: 10                                 \n",
      "[u'http://www.bmas.de/DE/Service/Presse/Pressemitteilungen/vorstellung-kommissionsmitglieder-mindestlohn.html']: 10\n",
      "[u'http://www.bundestag.de/bundestag/abgeordnete18/biografien/W/wendt_marian/259308']: 10\n",
      "[u'http://www.bundestag.de/bundestag/abgeordnete18/biografien/W/wadephul_johann/259168']: 10\n",
      "[u'http://www.bundestag.de/bundestag/abgeordnete18/biografien/T/thoennes_franz.html']: 10\n",
      "[u'http://www.lnegroup.eu/']: 10                            \n",
      "[u'http://www.bundestag.de/bundestag/abgeordnete18/biografien/S/schipanski_tankred/258992']: 10\n",
      "[u'https://www.wirtschaftsrat.de/wirtschaftsrat.nsf/id/praesidium-de']: 10\n",
      "[u'http://www.bundestag.de/bundestag/abgeordnete18/biografien/M/mueller_gerd/258736']: 10\n",
      "[u'http://www.bundestag.de/bundestag/abgeordnete18/biografien/M/mihalic_irene/258734']: 10\n",
      "[u'http://www.bundestag.de/bundestag/abgeordnete18/biografien/J/jung_franz_josef/258540']: 10\n",
      "[u'http://www.bundestag.de/bundestag/abgeordnete18/biografien/S/seif_detlef/258948']: 10\n",
      "[u'http://www.bundestag.de/bundestag/abgeordnete18/biografien/H/hendricks_barbara.html']: 10\n",
      "[u'http://www.bundestag.de/bundestag/abgeordnete18/biografien/F/frieser_michael/258350']: 10\n",
      "[u'http://www.bundestag.de/bundestag/abgeordnete18/biografien/F/fechner_johannes.html']: 10\n",
      "[u'http://www.bundestag.de/bundestag/abgeordnete18/biografien/L/lischka_burkhard.html']: 10\n",
      "[u'http://www.fresenius.de/88.htm']: 10                     \n",
      "[u'http://www.bundestag.de/bundestag/abgeordnete18/biografien/J/juettner_egon/258548']: 10\n",
      "[u'http://www.bundestag.de/bundestag/abgeordnete18/biografien/S/schaeuble_wolfgang/259036']: 10\n",
      "[u'http://www.bundestag.de/bundestag/abgeordnete18/biografien/B/barley_katarina.html']: 10\n",
      "[u'http://www.bundestag.de/bundestag/abgeordnete18/biografien/S/schmidt_christian/258970']: 10\n",
      "[u'http://www.bundestag.de/bundestag/abgeordnete18/biografien/H/hoegl_eva.html']: 10\n",
      "[u'http://www.bundestag.de/bundestag/abgeordnete18/biografien/B/bulmahn_edelgard.html']: 10\n",
      "[u'http://www.bundestag.de/bundestag/abgeordnete18/biografien/H/hirte_christian/258482']: 10\n",
      "[u'http://www.bundestag.de/bundestag/abgeordnete18/biografien/K/kiesewetter_roderich/258562']: 10\n",
      "[u'http://www.bundestag.de/bundestag/abgeordnete18/biografien/P/pols_eckhard/258838']: 10\n",
      "[u'http://www.bundestag.de/bundestag/abgeordnete18/biografien/F/friedrich_hans_peter/258330']: 10\n",
      "[u'http://www.audi.com/corporate/de/unternehmen/unternehmensleitung/aufsichtsrat.html']: 9\n",
      "[u'http://www.bdli.de/index.php?option=com_content&view=article&id=19&Itemid=11&Itemid=11']: 9\n",
      "[u'http://www.rbb-online.de/unternehmen/der_rbb/gremien/verwaltungsrat/verwaltungsrat.html']: 9\n",
      "[u'http://www.akdae.de/Kommission/Organisation/Mitglieder/DoI/Schwabe.pdf']: 9\n",
      "[u'http://ec.europa.eu/transparencyregister/public/consultation/displaylobbyist.do?id=78575056586-62&locale=de']: 9\n",
      "[u'http://www.akdae.de/Kommission/Organisation/Mitglieder/DoI/Laufs.pdf']: 9\n",
      "[u'https://www.basf.com/de/company/about-us/management/board-of-executive-directors.html']: 9\n",
      "[u'http://www.bundestag.de/bundestag/abgeordnete18/biografien/W/woehrl_dagmar/259206']: 9\n",
      "[u'http://www.bundestag.de/bundestag/abgeordnete18/biografien/W/wiese_dirk.html']: 9\n",
      "[u'http://www.bundestag.de/bundestag/abgeordnete18/biografien/W/wawzyniak_halina/259196']: 9\n",
      "[u'http://www.bundestag.de/bundestag/abgeordnete18/biografien/U/ullrich_volker/259388']: 9\n",
      "[u'http://www.bundestag.de/bundestag/abgeordnete18/biografien/S/schroeder_kristina/259014']: 9\n",
      "[u'http://www.bundestag.de/bundestag/abgeordnete18/biografien/R/raatz_simone.html']: 9\n",
      "[u'http://www.bundestag.de/bundestag/abgeordnete18/biografien/N/notz_konstantin/258796']: 9\n",
      "[u'http://www.bundestag.de/bundestag/abgeordnete18/biografien/S/suetterlin_waack_sabine/258946']: 9\n",
      "[u'http://www.bundestag.de/bundestag/abgeordnete18/biografien/M/merkel_angela/258788']: 9\n",
      "[u'http://www.bundestag.de/bundestag/abgeordnete18/biografien/L/luczak_jan_marco/258702']: 9\n",
      "[u'http://www.bundestag.de/bundestag/abgeordnete18/biografien/L/lenz_andreas/259382']: 9\n",
      "[u'http://www.bundestag.de/bundestag/abgeordnete18/biografien/L/laemmel_andreas/258684']: 9\n",
      "[u'http://www.bundestag.de/bundestag/abgeordnete18/biografien/T/traeger_carsten.html']: 9\n",
      "[u'http://www.bundestag.de/bundestag/abgeordnete18/biografien/K/klingbeil_lars.html']: 9\n",
      "[u'http://www.continental-corporation.com/www/portal_com_de/themen/continental/vors/vorstand/']: 9\n",
      "[u'http://www.bundestag.de/bundestag/abgeordnete18/biografien/K/krueger_hans-ulrich.html']: 9\n",
      "[u'http://www.bundestag.de/bundestag/abgeordnete18/biografien/G/groth_annette/258370']: 9\n",
      "[u'http://www.bundestag.de/bundestag/abgeordnete18/biografien/Z/zypries_brigitte.html']: 9\n",
      "[u'http://www.bundestag.de/bundestag/abgeordnete18/biografien/F/flisek_christian.html']: 9\n",
      "[u'http://www.bundestag.de/bundestag/abgeordnete18/biografien/K/karl_alois/258604']: 9\n",
      "[u'http://www.bundestag.de/bundestag/abgeordnete18/biografien/R/renner_martina/258930']: 9\n",
      "[u'http://www.bundestag.de/bundestag/abgeordnete18/biografien/T/tempel_frank/259116']: 9\n",
      "[u'http://www.bundestag.de/bundestag/abgeordnete18/biografien/D/diaby_karamba.html']: 9\n",
      "[u'http://www.bundestag.de/bundestag/abgeordnete18/biografien/K/kuehn_christian/258590']: 9\n",
      "[u'http://www.bundestag.de/bundestag/abgeordnete18/biografien/H/hahn_andre/258442']: 9\n",
      "[u'http://www.bundestag.de/bundestag/abgeordnete18/biografien/A/altmaier_peter/258126']: 9\n",
      "[u'http://www.bundestag.de/bundestag/abgeordnete18/biografien/M/mayer_stephan/258778']: 9\n",
      "[u'http://www.bundestag.de/bundestag/abgeordnete18/biografien/W/wanderwitz_marco/259198']: 9\n",
      "[u'https://www.munichre.com/de/ir/shareholder-information/corporate-governance/board-of-management/index.html']: 9\n",
      "[u'http://www.bundestag.de/bundestag/abgeordnete18/biografien/P/pahlmann_ingrid/258856']: 9\n",
      "[u'http://www.bundestag.de/bundestag/abgeordnete18/biografien/W/woltmann_barbara/259436']: 9\n",
      "[u'http://www.bundestag.de/bundestag/abgeordnete18/biografien/B/brehmer_heike/258232']: 9\n",
      "[u'http://www.rag.de/aufsichtsrat/']: 9                     \n",
      "[u'http://www.bundestag.de/bundestag/abgeordnete18/biografien/F/finckh-kraemer_ute.html']: 9\n",
      "[u'http://www.bundestag.de/bundestag/abgeordnete18/biografien/M/muentefering_michelle.html']: 9\n",
      "[u'http://www.bundestag.de/bundestag/abgeordnete18/biografien/L/liebing_ingbert/258718']: 9\n",
      "[u'http://www.partnerschaften-deutschland.de/wer-wir-sind/aufbau-der-gesellschaft/aufsichtsrat/']: 8\n",
      "[u'http://www.bmwgroup.com/d/0_0_www_bmwgroup_com/unternehmen/unternehmensprofil/vorstand/vorstand.html']: 8\n",
      "[u'http://www.bdsi.de/der-verband/mitglieder/unsere-mitglieder/']: 8\n",
      "[u'http://www.bmwi.de/DE/Presse/pressemitteilungen,did=651464.html']: 8\n",
      "[u'http://www.bundestag.de/bundestag/abgeordnete18/biografien/S/stracke_stephan/258976']: 8\n",
      "[u'http://www.bundestag.de/bundestag/abgeordnete18/biografien/S/steinmeier_frank-walter.html']: 8\n",
      "[u'http://www.bundestag.de/bundestag/abgeordnete18/biografien/S/schuster_armin/259002']: 8\n",
      "[u'http://www.bundestag.de/bundestag/abgeordnete18/biografien/S/schulte_drueggelte_bernhard/259064']: 8\n",
      "[u'http://www.bundestag.de/bundestag/abgeordnete18/biografien/S/sawade_annette.html']: 8\n",
      "[u'http://www.bundestag.de/bundestag/abgeordnete18/biografien/R/reichenbach_gerold.html']: 8\n",
      "[u'http://www.bundestag.de/bundestag/abgeordnete18/biografien/R/rebmann_stefan.html']: 8\n",
      "[u'http://www.bundestag.de/bundestag/abgeordnete18/biografien/R/ramsauer_peter/258902']: 8\n",
      "[u'http://www.bundestag.de/bundestag/abgeordnete18/biografien/R/rachel_thomas/258900']: 8\n",
      "[u'http://www.bundestag.de/bundestag/abgeordnete18/biografien/Z/zimmer_matthias/259222']: 8\n",
      "[u'http://www.bundestag.de/bundestag/abgeordnete18/biografien/O/oezdemir_mahmut.html']: 8\n",
      "[u'http://www.bundestag.de/bundestag/abgeordnete18/biografien/N/nick_andreas/258814']: 8\n",
      "[u'http://www.bundestag.de/bundestag/abgeordnete18/biografien/W/warken_nina/259300']: 8\n",
      "[u'https://www.sdw.org/stiftung/organisation-gremien/gremien/sdw-br-vorstand']: 8\n",
      "[u'http://www.bundestag.de/bundestag/abgeordnete18/biografien/L/lutze_thomas/258694']: 8\n",
      "[u'http://www.bundestag.de/bundestag/abgeordnete18/biografien/K/koeppen_jens/258564']: 8\n",
      "[u'http://www.bundestag.de/bundestag/abgeordnete18/biografien/K/klein_volkmar/258598']: 8\n",
      "[u'http://www.bundestag.de/bundestag/abgeordnete18/biografien/K/kaster_bernhard/258596']: 8\n",
      "[u'http://www.bundestag.de/bundestag/abgeordnete18/biografien/K/koob_markus/258608']: 8\n",
      "[u'http://www.bundestag.de/bundestag/abgeordnete18/biografien/K/kahrs_johannes.html']: 8\n",
      "[u'http://www.bundestag.de/bundestag/abgeordnete18/biografien/J/juratovic_josip.html']: 8\n",
      "[u'http://www.daimler.com/dccom/0-5-65183-49-65184-1-0-0-0-0-0-0-7145-0-0-0-0-0-0-0.html']: 8\n",
      "[u'http://www.bundestag.de/bundestag/abgeordnete18/biografien/M/meiwald_peter/258784']: 8\n",
      "[u'http://www.bundestag.de/bundestag/abgeordnete18/biografien/L/lazar_monika/258678']: 8\n",
      "[u'http://www.bundestag.de/bundestag/abgeordnete18/biografien/H/hintze_peter/258524']: 8\n",
      "[u'http://www.bundestag.de/bundestag/abgeordnete18/biografien/H/heveling_ansgar/258472']: 8\n",
      "[u'http://www.bundestag.de/bundestag/abgeordnete18/biografien/H/hellmich_wolfgang.html']: 8\n",
      "[u'http://www.bundestag.de/bundestag/abgeordnete18/biografien/H/helfrich_mark/259322']: 8\n",
      "[u'http://www.bundestag.de/bundestag/abgeordnete18/biografien/H/heck_stefan/258446']: 8\n",
      "[u'http://www.bundestag.de/dokumente/textarchiv/2012/41006627_wege_politik_hasselmann/index.html']: 8\n",
      "[u'http://www.bundestag.de/bundestag/abgeordnete18/biografien/G/grund_manfred/258374']: 8\n",
      "[u'http://www.bundestag.de/bundestag/abgeordnete18/biografien/S/steiniger_johannes/259426']: 8\n",
      "[u'http://www.bundestag.de/bundestag/abgeordnete18/biografien/E/engelmeier-heite_michaela.html']: 8\n",
      "[u'http://www.bundestag.de/bundestag/abgeordnete18/biografien/E/ehrmann_siegmund.html']: 8\n",
      "[u'http://www.partnerschaften-deutschland.de/fileadmin/Daten/Organisatorisches/140915_Partnerschaften-Deutschland_Zahlen-Daten-Fakten.pdf']: 8\n",
      "[u'http://www.bundestag.de/bundestag/abgeordnete18/biografien/D/doermann_martin.html']: 8\n",
      "[u'http://www.bundestag.de/bundestag/abgeordnete18/biografien/B/brandt_helmut/258214']: 8\n",
      "[u'http://www.bundestag.de/bundestag/abgeordnete18/biografien/B/brand_michael/258188']: 8\n",
      "[u'http://www.bundestag.de/bundestag/abgeordnete18/biografien/B/beermann_maik/259310']: 8\n",
      "[u'http://www.bundestag.de/bundestag/abgeordnete18/biografien/S/stadler_svenja.html']: 8\n",
      "[u'http://www.bundestag.de/bundestag/abgeordnete18/biografien/L/lay_caren/258732']: 8\n",
      "[u'http://www.bundestag.de/bundestag/abgeordnete18/biografien/A/aken_jan/258124']: 8\n",
      "[u'http://www.bundestag.de/bundestag/abgeordnete18/biografien/C/claus_roland/258250']: 8\n",
      "[u'http://www.bundestag.de/bundestag/abgeordnete18/biografien/G/gabriel_sigmar.html']: 8\n",
      "[u'http://www.bundestag.de/bundestag/abgeordnete18/biografien/M/motschmann_elisabeth/258772']: 8\n",
      "[u'https://www.dwt-sgw.de/ueber-die-dwt/foerdernde-mitglieder/']: 8\n",
      "[u'http://www.bundestag.de/bundestag/abgeordnete18/biografien/B/behrens_herbert/258180']: 8\n",
      "[u'http://www.bundestag.de/bundestag/abgeordnete18/biografien/G/groetsch_uli.html']: 8\n",
      "[u'http://www.bundestag.de/bundestag/abgeordnete18/biografien/S/schwarzer_christina/259292']: 8\n",
      "[u'http://www.bundestag.de/bundestag/abgeordnete18/biografien/H/hein_rosemarie/258496']: 8\n",
      "[u'http://www.bundestag.de/bundestag/abgeordnete18/biografien/B/brantner_franziska/259392']: 8\n",
      "[u'http://www.deutschebahn.com/de/konzern/konzernprofil/aufsichtsrat.html']: 8\n",
      "[u'http://www.bundestag.de/bundestag/abgeordnete18/biografien/E/erler_gernot.html']: 8\n",
      "[u'http://www.bundestag.de/bundestag/abgeordnete18/biografien/C/castelluci_lars/258260']: 8\n",
      "[u'http://www.bundestag.de/bundestag/abgeordnete18/biografien/D/dehm_diether/258296']: 8\n",
      "[u'http://www.bundestag.de/bundestag/abgeordnete18/biografien/H/harbarth_stephan/258436']: 8\n",
      "[u'https://www.deutsche-bank.de/ir/de/content/vorstand.htm']: 8\n",
      "[u'http://www.bundestag.de/bundestag/abgeordnete18/biografien/W/wellenreuther_ingo/259208']: 8\n",
      "[u'http://c-netz.de/vorstand/']: 7                          \n",
      "[u'http://www.wbgu.de/beirat/2013-2016/']: 7                \n",
      "[u'http://openinterests.eu/entities/DxeSFEhim9WTVLD-rechtsanwaelte-reiser-coll']: 7\n",
      "[u'http://www.horizont.net/agenturen/nachrichten/Polit-Etats-Nahles-Ministerium-wechselt-Kreativ--und-PR-Agenturen-aus-120522']: 7\n",
      "[u'http://www.siemens.com/about/de/management_unternehmensstruktur/vorstand.htm']: 7\n",
      "[u'http://www.zdf.de/zdf-verwaltungsrat-25164764.html']: 7  \n",
      "[u'https://www.commerzbank.de/de/hauptnavigation/aktionaere/governance_/vorstand/vorstand.html']: 7\n",
      "[u'http://www.bundestag.de/bundestag/abgeordnete18/biografien/Z/zollner_gudrun/259220']: 7\n",
      "[u'http://www.bundestag.de/bundestag/abgeordnete18/biografien/W/widmann_mauz_annette/259182']: 7\n",
      "[u'http://www.bundestag.de/bundestag/abgeordnete18/biografien/W/whittaker_kai/259192']: 7\n",
      "[u'http://www.bundestag.de/bundestag/abgeordnete18/biografien/W/weisgerber_anja/259190']: 7\n",
      "[u'http://www.bundestag.de/bundestag/abgeordnete18/biografien/W/weiler_albert/259304']: 7\n",
      "[u'http://www.bundestag.de/bundestag/abgeordnete18/biografien/W/walter_rosenheimer__beate/259184']: 7\n",
      "[u'http://www.bundestag.de/bundestag/abgeordnete18/biografien/V/vogt_ute.html']: 7\n",
      "[u'http://www.bundestag.de/bundestag/abgeordnete18/biografien/V/vietz_michael/259152']: 7\n",
      "[u'http://www.bundestag.de/bundestag/abgeordnete18/biografien/V/veith_oswin/259296']: 7\n",
      "[u'http://www.bundestag.de/bundestag/abgeordnete18/biografien/T/terpe_harald/259120']: 7\n",
      "[u'http://www.bundestag.de/bundestag/abgeordnete18/biografien/S/stroebele_hans_christian/259044']: 7\n",
      "[u'http://www.bundestag.de/bundestag/abgeordnete18/biografien/S/straubinger_max/259046']: 7\n",
      "[u'https://www.vda.de/de/verband/mitglieder/herstellergruppe-III.html']: 7\n",
      "[u'http://www.bundestag.de/bundestag/abgeordnete18/biografien/S/steinbrueck_peer.html']: 7\n",
      "[u'http://www.dpdhl.com/de/investoren/corporate_governance/vorstand.html']: 7\n",
      "[u'http://www.bundestag.de/bundestag/abgeordnete18/biografien/S/schwarz_andreas.html']: 7\n",
      "[u'http://www.bundestag.de/bundestag/abgeordnete18/biografien/S/schulz_asche_kordula/259042']: 7\n",
      "[u'http://www.bundestag.de/bundestag/abgeordnete18/biografien/S/schroeder_ole/259084']: 7\n",
      "[u'http://www.bundestag.de/bundestag/abgeordnete18/biografien/S/scheuer_andreas/258962']: 7\n",
      "[u'http://www.bundestag.de/bundestag/abgeordnete18/biografien/W/winkelmeier_becker_elisabeth/259202']: 7\n",
      "[u'http://www.bundestag.de/bundestag/abgeordnete18/biografien/R/rueffer_corinna/259288']: 7\n",
      "[u'http://www.bundestag.de/bundestag/abgeordnete18/biografien/R/rix_soenke.html']: 7\n",
      "[u'http://www.fresenius.de/87.htm']: 7                      \n",
      "[u'http://www.bundestag.de/bundestag/abgeordnete18/biografien/R/rainer_alois/258936']: 7\n",
      "[u'http://www.bundestag.de/bundestag/abgeordnete18/biografien/S/schlegel_dorothee.html']: 7\n",
      "[u'http://www.bundestag.de/bundestag/abgeordnete18/biografien/P/pilger_detlev.html']: 7\n",
      "[u'http://www.bundestag.de/bundestag/abgeordnete18/biografien/P/petzold_harald/259282']: 7\n",
      "[u'http://www.bundestag.de/bundestag/abgeordnete18/biografien/P/pau_petra/258840']: 7\n",
      "[u'http://www.bundestag.de/bundestag/abgeordnete18/biografien/S/sarrazin_manuel/259034']: 7\n",
      "[u'http://www.bundestag.de/bundestag/abgeordnete18/biografien/S/stein_peter/259294']: 7\n",
      "[u'http://www.bundestag.de/bundestag/abgeordnete18/biografien/O/ostermann_tim/258826']: 7\n",
      "[u'http://www.bundestag.de/bundestag/abgeordnete18/biografien/N/noll_michaela/258806']: 7\n",
      "[u'http://www.bundestag.de/bundestag/abgeordnete18/biografien/M/-/339918']: 7\n",
      "[u'http://www.bundestag.de/bundestag/abgeordnete18/biografien/M/michelbach_hans/258782']: 7\n",
      "[u'http://www.bundestag.de/bundestag/abgeordnete18/biografien/M/metzler_jan/259344']: 7\n",
      "[u'http://www.bundestag.de/bundestag/abgeordnete18/biografien/M/maag_karin/258762']: 7\n",
      "[u'http://www.bundestag.de/bundestag/abgeordnete18/biografien/L/lindholz_andrea/258728']: 7\n",
      "[u'http://www.bundestag.de/bundestag/abgeordnete18/biografien/L/leikert_katja/259384']: 7\n",
      "[u'http://www.bundestag.de/bundestag/abgeordnete18/biografien/L/lehrieder_paul/258668']: 7\n",
      "[u'http://www.bundestag.de/bundestag/abgeordnete18/biografien/L/lange_ulrich/258692']: 7\n",
      "[u'http://www.bundestag.de/bundestag/abgeordnete18/biografien/R/roth_claudia/258898']: 7\n",
      "[u'http://www.bundestag.de/bundestag/abgeordnete18/biografien/K/kunert_katrin/258658']: 7\n",
      "[u'http://www.bundestag.de/bundestag/abgeordnete18/biografien/K/kruse_ruediger/258588']: 7\n",
      "[u'http://www.bundestag.de/bundestag/abgeordnete18/biografien/L/lotze_hiltrud.html']: 7\n",
      "[u'http://www.bundestag.de/bundestag/abgeordnete18/biografien/S/schmidt_matthias.html']: 7\n",
      "[u'http://www.bundestag.de/bundestag/abgeordnete18/biografien/S/stauche_carola/259026']: 7\n",
      "[u'http://www.bundestag.de/bundestag/abgeordnete18/biografien/K/kolbe_daniela.html']: 7\n",
      "[u'http://www.bundestag.de/bundestag/abgeordnete18/biografien/S/stritzl_thomas/259416']: 7\n",
      "[u'http://www.bundestag.de/bundestag/abgeordnete18/biografien/K/katzmarek_gabriele.html']: 7\n",
      "[u'http://www.bundestag.de/bundestag/abgeordnete18/biografien/K/kassner_kerstin/258654']: 7\n",
      "[u'http://www.bundestag.de/bundestag/abgeordnete18/biografien/K/karawanskij_susanna/258566']: 7\n",
      "[u'http://www.bundestag.de/bundestag/abgeordnete18/biografien/K/kampeter_steffen/258592']: 7\n",
      "[u'http://www.bundestag.de/bundestag/abgeordnete18/biografien/K/kalb_bartholomaeus/258614']: 7\n",
      "[u'http://www.bundestag.de/bundestag/abgeordnete18/biografien/L/leutert_michael/258720']: 7\n",
      "[u'http://www.bundestag.de/bundestag/abgeordnete18/biografien/W/wagner_doris/259166']: 7\n",
      "[u'http://www.bundestag.de/bundestag/abgeordnete18/biografien/J/jung_andreas/258538']: 7\n",
      "[u'http://www.bundestag.de/bundestag/abgeordnete18/biografien/J/jantz_christina.html']: 7\n",
      "[u'http://www.bundestag.de/bundestag/abgeordnete18/biografien/H/huber_charles/259332']: 7\n",
      "[u'http://www.bundestag.de/bundestag/abgeordnete18/biografien/H/hunko_andrej/258450']: 7\n",
      "[u'http://www.bundestag.de/bundestag/abgeordnete18/biografien/H/hoppenstedt_hendrik/259328']: 7\n",
      "[u'http://www.bundestag.de/bundestag/abgeordnete18/biografien/W/westphal_bernd.html']: 7\n",
      "[u'http://www.bundestag.de/bundestag/abgeordnete18/biografien/H/holmeier_karl/258454']: 7\n",
      "[u'http://www.bundestag.de/bundestag/abgeordnete18/biografien/H/hitschler_thomas.html']: 7\n",
      "[u'http://www.bundestag.de/bundestag/abgeordnete18/biografien/H/hirte_heribert/258444']: 7\n",
      "[u'http://www.bundestag.de/bundestag/abgeordnete18/biografien/H/hiller-ohm_gabriele.html']: 7\n",
      "[u'http://www.bundestag.de/bundestag/abgeordnete18/biografien/R/radomski_kerstin/259446']: 7\n",
      "[u'http://www.bundestag.de/bundestag/abgeordnete18/biografien/H/heinrich_gabriela.html']: 7\n",
      "[u'http://www.bundestag.de/bundestag/abgeordnete18/biografien/H/hauptmann_mark/259320']: 7\n",
      "[u'http://www.bundestag.de/bundestag/abgeordnete18/biografien/H/hampel_ulrich.html']: 7\n",
      "[u'http://www.bundestag.de/bundestag/abgeordnete18/biografien/H/heiderich_helmut/258478']: 7\n",
      "[u'http://www.instinctif.de/ueber-uns/das-team.html']: 7    \n",
      "[u'http://www.bundestag.de/bundestag/abgeordnete18/biografien/H/hahn_florian/258512']: 7\n",
      "[u'http://www.bundestag.de/bundestag/abgeordnete18/biografien/G/gundelach_herlind/258384']: 7\n",
      "[u'http://www.solarwirtschaft.de/index.php?id=5&no_cache=1']: 7\n",
      "[u'http://www.bundestag.de/bundestag/abgeordnete18/biografien/P/post_florian.html']: 7\n",
      "[u'http://www.bundestag.de/bundestag/abgeordnete18/biografien/G/gaedechens_ingo/258400']: 7\n",
      "[u'http://www.bundestag.de/bundestag/abgeordnete18/biografien/F/frei_thorsten/258354']: 7\n",
      "[u'http://www.bundestag.de/bundestag/abgeordnete18/biografien/F/freese_ulrich.html']: 7\n",
      "[u'http://www.bundestag.de/bundestag/abgeordnete18/biografien/F/franke_edgar.html']: 7\n",
      "[u'http://www.bundestag.de/bundestag/abgeordnete18/biografien/H/hakverdi_metin.html']: 7\n",
      "[u'http://www.bundestag.de/bundestag/abgeordnete18/biografien/F/fabritius_bernd/258328']: 7\n",
      "[u'http://www.bundestag.de/bundestag/abgeordnete18/biografien/F/freitag_dagmar.html']: 7\n",
      "[u'http://www.bundestag.de/bundestag/abgeordnete18/biografien/E/ebner_harald/258316']: 7\n",
      "[u'http://www.bundestag.de/bundestag/abgeordnete18/biografien/S/stetten_christian/259072']: 7\n",
      "[u'http://www.bundestag.de/bundestag/abgeordnete18/biografien/B/brunner_karlheinz.html']: 7\n",
      "[u'http://www.bundestag.de/bundestag/abgeordnete18/biografien/B/braun_helge/258206']: 7\n",
      "[u'http://www.bundestag.de/bundestag/abgeordnete18/biografien/B/binninger_clemens/258198']: 7\n",
      "[u'http://www.bundestag.de/bundestag/abgeordnete18/biografien/B/bilger_steffen/258230']: 7\n",
      "[u'http://www.bundestag.de/bundestag/abgeordnete18/biografien/B/berghegger_andre/258176']: 7\n",
      "[u'http://www.bundestag.de/bundestag/abgeordnete18/biografien/K/kovac_kordula/259620']: 7\n",
      "[u'http://www.bundestag.de/bundestag/abgeordnete18/biografien/D/daldrup_bernhard.html']: 7\n",
      "[u'http://www.bundestag.de/bundestag/abgeordnete18/biografien/F/ferlemann_enak/258356']: 7\n",
      "[u'http://www.bundestag.de/bundestag/abgeordnete18/biografien/B/beck_marieluise/258154']: 7\n",
      "[u'http://www.bundestag.de/bundestag/abgeordnete18/biografien/B/barthle_norbert/258146']: 7\n",
      "[u'http://www.bundestag.de/bundestag/abgeordnete18/biografien/B/barthel_klaus.html']: 7\n",
      "[u'http://www.bundestag.de/bundestag/abgeordnete18/biografien/B/barnett_doris.html']: 7\n",
      "[u'http://www.bundestag.de/bundestag/abgeordnete18/biografien/E/esken_saskia.html']: 7\n",
      "[u'http://www.bundestag.de/bundestag/abgeordnete18/biografien/B/bahr_ulrike.html']: 7\n",
      "[u'http://www.bundestag.de/bundestag/abgeordnete18/biografien/A/auernhammer_artur/258140']: 7\n",
      "[u'http://www.bundestag.de/bundestag/abgeordnete18/biografien/A/albsteiger_katrin/258136']: 7\n",
      "[u'http://www.bundestag.de/bundestag/abgeordnete18/biografien/B/brase_willi.html']: 7\n",
      "[u'http://www.bundestag.de/bundestag/abgeordnete18/biografien/S/schieder_marianne.html']: 7\n",
      "[u'http://www.akdae.de/Kommission/Organisation/Vorstand/index.html']: 7\n",
      "[u'http://www.bundestag.de/bundestag/abgeordnete18/biografien/L/lindner_tobias/258698']: 7\n",
      "[u'http://www.bundestag.de/bundestag/abgeordnete18/biografien/T/tressel_markus/259114']: 7\n",
      "[u'http://www.bundestag.de/bundestag/abgeordnete18/biografien/H/hinz_petra.html']: 7\n",
      "[u'http://www.bundestag.de/bundestag/abgeordnete18/biografien/H/haensel_heike/258466']: 7\n",
      "[u'http://www.bundestag.de/bundestag/abgeordnete18/biografien/W/wittke_oliver/259172']: 7\n",
      "[u'http://www.bundestag.de/bundestag/abgeordnete18/biografien/S/stefinger_wolfgang/258972']: 7\n",
      "[u'http://www.bundestag.de/bundestag/abgeordnete18/biografien/H/hoeger_inge/258474']: 7\n",
      "[u'http://www.bundestag.de/bundestag/abgeordnete18/biografien/S/schwartze_stefan.html']: 7\n",
      "[u'http://www.bundestag.de/bundestag/abgeordnete18/biografien/H/hochbaum_robert/258462']: 7\n",
      "[u'http://www.bertelsmann.de/unternehmen/aufsichtsrat/#st-1']: 7\n",
      "[u'http://www.bundestag.de/bundestag/abgeordnete18/biografien/D/dinges_dierig_alexandra/258278']: 7\n",
      "[u'http://www.bundestag.de/bundestag/abgeordnete18/biografien/M/mattfeldt_andreas/258750']: 7\n",
      "[u'http://www.bundestag.de/bundestag/abgeordnete18/biografien/B/boehmer_maria/258204']: 7\n",
      "[u'http://www.bundestag.de/bundestag/abgeordnete18/biografien/H/hellmuth_joerg/259378']: 7\n",
      "[u'http://www.biodeutschland.org/a---e.html']: 7            \n",
      "[u'http://www.bundestag.de/dokumente/textarchiv/2009/27890675_malczak/index.html']: 7\n",
      "[u'http://www.bundestag.de/dokumente/textarchiv/2010/28886008_wege_politik_roessner/index.html']: 7\n",
      "[u'http://www.bundestag.de/bundestag/abgeordnete18/biografien/M/mueller_carsten/258740']: 7\n",
      "[u'http://www.bundestag.de/bundestag/abgeordnete18/biografien/B/brauksiepe_ralf/258218']: 7\n",
      "[u'http://www.bundestag.de/bundestag/abgeordnete18/biografien/F/feist_thomas/258326']: 7\n",
      "[u'https://www.vda.de/de/verband/mitglieder/herstellergruppe-I.html']: 7\n",
      "[u'http://www.bundestag.de/bundestag/abgeordnete18/biografien/B/beck_volker/258164']: 7\n",
      "[u'http://www.bundestag.de/bundestag/abgeordnete18/biografien/L/lerchenfeld_philipp_graf/258674']: 7\n",
      "[u'http://www.bundestag.de/bundestag/abgeordnete18/biografien/B/braehmig_klaus/258156']: 7\n",
      "[u'http://www.bundestag.de/bundestag/abgeordnete18/biografien/S/strenz_karin/259000']: 7\n",
      "[u'http://www.bundestag.de/bundestag/abgeordnete18/biografien/B/brackmann_norbert/258152']: 7\n",
      "[u'http://www.bundestag.de/bundestag/abgeordnete18/biografien/M/magwas_yvonne/259424']: 7\n",
      "[u'http://www.bundestag.de/bundestag/abgeordnete18/biografien/F/fischer_axel/258332']: 7\n",
      "[u'http://www.porsche.com/germany/aboutporsche/overview/executiveboard/']: 6\n",
      "[u'https://www.gi.de/wir-ueber-uns/unsere-partner.html']: 6 \n",
      "[u'http://www.theosommer.de/index.php?seite=10&lang=d']: 6  \n",
      "[u'http://www.dortmund.de/media/downloads/pdf/news_pdf/Ratsvorlage.pdf']: 6\n",
      "[u'http://www.kernenergie.de/kernenergie/ueber-uns/datf/praesidium.php']: 6\n",
      "[u'http://www.bmas.de/DE/Ministerium/Leitung-des-Hauses/joerg-asmussen-lebenslauf.html']: 6\n",
      "[u'http://www.fcbayern.de/de/club/fcb-ag/organe/aufsichtsrat/']: 6\n",
      "[u'http://www.hansolafhenkel.de/#!portrait/csgz']: 6        \n",
      "[u'http://www.ehrenberg-kommunikation.com']: 6              \n",
      "[u'http://www.fmc-ag.de/30.htm']: 6                         \n",
      "[u'http://www.telekom.com/investor_relations/Unternehmen/vorstand/201258']: 6\n",
      "[u'http://www.beiersdorf.de/ueber-uns/unser-profil/vorstand']: 6\n",
      "[u'http://www.bll.de/de/mitglieder/unsere-mitglieder/industrielle-unternehmen/_lM']: 6\n",
      "[u'http://www.bundesliga-stiftung.de/stiftung/gremien']: 6  \n",
      "[u'http://www.bundestag.de/bundestag/abgeordnete18/biografien/Z/ziegler_dagmar.html']: 6\n",
      "[u'http://www.bundestag.de/bundestag/abgeordnete18/biografien/Y/yueksel_guelistan.html']: 6\n",
      "[u'http://www.bundestag.de/dokumente/textarchiv/2013/43137834_wege_politik_wilms/index.html']: 6\n",
      "[u'http://www.bundestag.de/bundestag/abgeordnete18/biografien/W/wiese_heinz/259210']: 6\n",
      "[u'http://www.bundestag.de/bundestag/abgeordnete18/biografien/V/voepel_dirk.html']: 6\n",
      "[u'http://www.bundestag.de/bundestag/abgeordnete18/biografien/V/vogler_kathrin/259142']: 6\n",
      "[u'http://www.bundestag.de/bundestag/abgeordnete18/biografien/Z/zech_tobias/259224']: 6\n",
      "[u'http://www.bundestag.de/bundestag/abgeordnete18/biografien/S/strobl_thomas/259082']: 6\n",
      "[u'http://www.bundestag.de/bundestag/abgeordnete18/biografien/S/storjohann_gero/258950']: 6\n",
      "[u'http://www.bundestag.de/bundestag/abgeordnete18/biografien/S/stier_dieter/259038']: 6\n",
      "[u'http://www.bundestag.de/bundestag/abgeordnete18/biografien/S/steineke_sebastian/259058']: 6\n",
      "[u'http://www.bundestag.de/bundestag/abgeordnete18/biografien/S/stamm-fibich_martina.html']: 6\n",
      "[u'http://www.bundestag.de/bundestag/abgeordnete18/biografien/S/steffel_frank/258984']: 6\n",
      "[u'http://www.bundestag.de/bundestag/abgeordnete18/biografien/S/spiering_rainer.html']: 6\n",
      "[u'http://www.bundestag.de/bundestag/abgeordnete18/biografien/S/sorge_tino/259398']: 6\n",
      "[u'http://www.bundestag.de/bundestag/abgeordnete18/biografien/S/sitte_petra/258944']: 6\n",
      "[u'http://www.bundestag.de/bundestag/abgeordnete18/biografien/S/schurer_ewald.html']: 6\n",
      "[u'http://www.bundestag.de/bundestag/abgeordnete18/biografien/S/schoen_nadine/259020']: 6\n",
      "[u'http://www.bundestag.de/bundestag/abgeordnete18/biografien/S/schmidt_gabriele/335588']: 6\n",
      "[u'http://www.bundestag.de/bundestag/abgeordnete18/biografien/S/schiewerling_karl/259016']: 6\n",
      "[u'http://www.bundestag.de/bundestag/abgeordnete18/biografien/S/schiefner_udo.html']: 6\n",
      "[u'http://www.bundestag.de/bundestag/abgeordnete18/biografien/S/schick_gerhard/259076']: 6\n",
      "[u'http://www.bundestag.de/bundestag/abgeordnete18/biografien/S/schauws_ulle/259048']: 6\n",
      "[u'http://www.bundestag.de/bundestag/abgeordnete18/biografien/R/ruetzel_bernd.html']: 6\n",
      "[u'http://www.bundestag.de/bundestag/abgeordnete18/biografien/R/roettgen_norbert/258934']: 6\n",
      "[u'http://www.bundestag.de/bundestag/abgeordnete18/biografien/V/viesehon_thomas/259302']: 6\n",
      "[u'http://www.bundestag.de/bundestag/abgeordnete18/biografien/R/rehberg_eckhardt/258878']: 6\n",
      "[u'http://www.bundestag.de/bundestag/abgeordnete18/biografien/P/priesmeier_wilhelm.html']: 6\n",
      "[u'http://www.bundestag.de/bundestag/abgeordnete18/biografien/P/poschmann_sabine.html']: 6\n",
      "[u'http://www.bundestag.de/bundestag/abgeordnete18/biografien/P/pflugradt_jeannine.html']: 6\n",
      "[u'http://www.bundestag.de/bundestag/abgeordnete18/biografien/P/petzold_ulrich/258868']: 6\n",
      "[u'http://www.bundestag.de/bundestag/abgeordnete18/biografien/T/tillmann_antje/259124']: 6\n",
      "[u'http://www.bundestag.de/bundestag/abgeordnete18/biografien/P/patzelt_martin/258842']: 6\n",
      "[u'http://www.bundestag.de/bundestag/abgeordnete18/biografien/R/rossmann_ernst dieter.html']: 6\n",
      "[u'http://www.petersburger-dialog.de/taxonomy/term/13']: 6  \n",
      "[u'http://www.bundestag.de/bundestag/abgeordnete18/biografien/P/paetzold_martin/258850']: 6\n",
      "[u'http://www.bundestag.de/bundestag/abgeordnete18/biografien/O/ossner_florian/258816']: 6\n",
      "[u'http://www.bundestag.de/bundestag/abgeordnete18/biografien/O/oellers_wilfried/259280']: 6\n",
      "[u'http://www.bundestag.de/dokumente/textarchiv/2009/27901302_nouripour/index.html']: 6\n",
      "[u'http://www.bundestag.de/bundestag/abgeordnete18/biografien/P/post_achim.html']: 6\n",
      "[u'http://www.bundestag.de/bundestag/abgeordnete18/biografien/M/mueller_bettina.html']: 6\n",
      "[u'http://www.bundestag.de/bundestag/abgeordnete18/biografien/R/reiche_katherina/258916']: 6\n",
      "[u'http://www.bundestag.de/bundestag/abgeordnete18/biografien/M/mittag_susanne.html']: 6\n",
      "[u'http://www.bundestag.de/bundestag/abgeordnete18/biografien/M/michalk_maria/258744']: 6\n",
      "[u'http://www.bundestag.de/bundestag/abgeordnete18/biografien/M/mattheis_hilde.html']: 6\n",
      "[u'http://www.bundestag.de/bundestag/abgeordnete18/biografien/Z/zeulner_emmi/259226']: 6\n",
      "[u'http://www.bundestag.de/bundestag/abgeordnete18/biografien/M/mast_katja.html']: 6\n",
      "[u'http://www.bundestag.de/bundestag/abgeordnete18/biografien/L/lezius_antje/258722']: 6\n",
      "[u'http://www.bundestag.de/bundestag/abgeordnete18/biografien/L/lengsfeld_philipp/259340']: 6\n",
      "[u'https://staatskanzlei.hessen.de/ueber-uns/chef-der-staatskanzlei/mandate-mitgliedschaften-und-nebentaetigkeiten']: 6\n",
      "[u'http://www.bundestag.de/bundestag/abgeordnete18/biografien/P/petry_christian.html']: 6\n",
      "[u'http://www.bundestag.de/bundestag/abgeordnete18/biografien/K/krichbaum_gunther/258618']: 6\n",
      "[u'http://www.bundestag.de/bundestag/abgeordnete18/biografien/L/lemke_steffi/259336']: 6\n",
      "[u'http://www.bundestag.de/bundestag/abgeordnete18/biografien/K/koerber_carsten/258556']: 6\n",
      "[u'http://www.bundestag.de/bundestag/abgeordnete18/biografien/K/koempel_birgit.html']: 6\n",
      "[u'http://www.bundestag.de/bundestag/abgeordnete18/biografien/W/weinberg_marcus/259200']: 6\n",
      "[u'http://www.bundestag.de/bundestag/abgeordnete18/biografien/K/knoerig_axel/258630']: 6\n",
      "[u'http://www.bundestag.de/bundestag/abgeordnete18/biografien/K/kiziltepe_cansel.html']: 6\n",
      "[u'http://www.bundestag.de/bundestag/abgeordnete18/biografien/K/kaufmann_stefan/258642']: 6\n",
      "[u'http://www.bundestag.de/bundestag/abgeordnete18/biografien/S/spinrath_norbert.html']: 6\n",
      "[u'http://www.bundestag.de/bundestag/abgeordnete18/biografien/T/thews_michael.html']: 6\n",
      "[u'http://www.bundestag.de/bundestag/abgeordnete18/biografien/K/kaczmarek_oliver.html']: 6\n",
      "[u'http://www.fkhev.de/index.php?id=12']: 6                 \n",
      "[u'http://www.bundestag.de/bundestag/abgeordnete18/biografien/J/jelpke_ulla/258546']: 6\n",
      "[u'http://www.bundestag.de/bundestag/abgeordnete18/biografien/P/pantel_sylvia/258862']: 6\n",
      "[u'http://www.bundestag.de/bundestag/abgeordnete18/biografien/I/irlstorfer_erich/258530']: 6\n",
      "[u'http://www.bundestag.de/bundestag/abgeordnete18/biografien/L/luehmann_kirsten.html']: 6\n",
      "[u'http://www.bundestag.de/bundestag/abgeordnete18/biografien/H/hupach_sigrid/258470']: 6\n",
      "[u'http://www.bundestag.de/bundestag/abgeordnete18/biografien/R/rupprecht_albert/258882']: 6\n",
      "[u'http://www.bundestag.de/bundestag/abgeordnete18/biografien/H/hornhues_bettina/259440']: 6\n",
      "[u'http://www.bundestag.de/bundestag/abgeordnete18/biografien/Z/zdebel_hubertus/259418']: 6\n",
      "[u'http://www.bundestag.de/bundestag/abgeordnete18/biografien/H/henn_heidtrud.html']: 6\n",
      "[u'http://www.bundestag.de/bundestag/abgeordnete18/biografien/K/koschyk_hartmut/258600']: 6\n",
      "[u'http://www.bundestag.de/bundestag/abgeordnete18/biografien/H/heidenblut_dirk.html']: 6\n",
      "[u'http://www.bundestag.de/bundestag/abgeordnete18/biografien/R/ruethrich_susann.html']: 6\n",
      "[u'http://www.bundestag.de/bundestag/abgeordnete18/biografien/W/weber_gabriele.html']: 6\n",
      "[u'http://www.bundestag.de/bundestag/abgeordnete18/biografien/H/hagedorn_bettina.html']: 6\n",
      "[u'http://www.bundestag.de/bundestag/abgeordnete18/biografien/G/gutting_olav/258380']: 6\n",
      "[u'http://www.bundestag.de/bundestag/abgeordnete18/biografien/G/groehe_hermann/258434']: 6\n",
      "[u'http://www.bundestag.de/bundestag/abgeordnete18/biografien/S/silberhorn_thomas/258958']: 6\n",
      "[u'http://www.bundestag.de/bundestag/abgeordnete18/biografien/S/schulte_ursula.html']: 6\n",
      "[u'http://www.bundestag.de/bundestag/abgeordnete18/biografien/J/junge_frank.html']: 6\n",
      "[u'http://www.bundestag.de/bundestag/abgeordnete18/biografien/G/gerig_alois/258394']: 6\n",
      "[u'http://www.bundestag.de/bundestag/abgeordnete18/biografien/G/gehring_kai/258390']: 6\n",
      "[u'https://wissenschaft.hessen.de/ueber-uns/minister/mandate-mitgliedschaften-und-nebentaetigkeiten-3']: 6\n",
      "[u'http://www.bundestag.de/bundestag/abgeordnete18/biografien/L/landgraf_katharina/258682']: 6\n",
      "[u'http://www.bundestag.de/bundestag/abgeordnete18/biografien/R/rohde_dennis.html']: 6\n",
      "[u'http://www.bundestag.de/bundestag/abgeordnete18/biografien/M/miersch_matthias.html']: 6\n",
      "[u'http://www.bundestag.de/bundestag/abgeordnete18/biografien/H/hennrich_michael/258528']: 6\n",
      "[u'http://www.bundestag.de/bundestag/abgeordnete18/biografien/E/eckenbach_jutta/259442']: 6\n",
      "[u'http://www.bundestag.de/bundestag/abgeordnete18/biografien/D/durz_hans_joerg/258274']: 6\n",
      "[u'http://www.bundestag.de/bundestag/abgeordnete18/biografien/D/drobinski-weiss_elvira.html']: 6\n",
      "[u'http://www.bundestag.de/bundestag/abgeordnete18/biografien/G/gross_michael.html']: 6\n",
      "[u'http://www.bundestag.de/bundestag/abgeordnete18/biografien/K/karliczek_anja/258620']: 6\n",
      "[u'http://www.bundestag.de/bundestag/abgeordnete18/biografien/L/lips_patricia/258690']: 6\n",
      "[u'http://www.bundestag.de/bundestag/abgeordnete18/biografien/N/nuesslein_georg/258802']: 6\n",
      "[u'http://www.bundestag.de/bundestag/abgeordnete18/biografien/B/blienert_burkhard.html']: 6\n",
      "[u'http://www.bundestag.de/bundestag/abgeordnete18/biografien/B/benning_sybille/258256']: 6\n",
      "[u'http://www.fmc-ag.de/29.htm']: 6                         \n",
      "[u'http://www.bundestag.de/bundestag/abgeordnete18/biografien/B/barchmann_heinz_joachim/258182']: 6\n",
      "[u'http://www.bundestag.de/bundestag/abgeordnete18/biografien/B/baerbock_annalena/258202']: 6\n",
      "[u'http://www.bundestag.de/bundestag/abgeordnete18/biografien/W/woellert_brigit/259214']: 6\n",
      "[u'http://www.bundestag.de/bundestag/abgeordnete18/biografien/L/ludwig_daniela/258672']: 6\n",
      "[u'http://www.bundestag.de/bundestag/abgeordnete18/biografien/M/marschallvon_matern/259146']: 6\n",
      "[u'http://www.bundestag.de/bundestag/abgeordnete18/biografien/P/paus_lisa/258872']: 6\n",
      "[u'http://www.bundestag.de/bundestag/abgeordnete18/biografien/F/feiler_uwe/258322']: 6\n",
      "[u'http://www.bundestag.de/bundestag/abgeordnete18/biografien/L/lemme_steffen-claudio.html']: 6\n",
      "[u'http://www.bundestag.de/bundestag/abgeordnete18/biografien/J/jarzombek_thomas/258532']: 6\n",
      "[u'http://www.bundestag.de/bundestag/abgeordnete18/biografien/L/lenkert_ralph/258714']: 6\n",
      "[u'http://www.bundestag.de/bundestag/abgeordnete18/biografien/G/gerster_martin.html']: 6\n",
      "[u'http://www.bundestag.de/bundestag/abgeordnete18/biografien/G/gleicke_iris.html']: 6\n",
      "[u'http://www.bundestag.de/bundestag/abgeordnete18/biografien/M/meier_reiner/258780']: 6\n",
      "[u'http://www.bundestag.de/bundestag/abgeordnete18/biografien/K/koenigs_tom/258568']: 6\n",
      "[u'http://www.bundestag.de/bundestag/abgeordnete18/biografien/T/tank_azize/259422']: 6\n",
      "[u'http://www.bundestag.de/bundestag/abgeordnete18/biografien/D/droege_katharina/258270']: 6\n",
      "[u'http://www.bundestag.de/bundestag/abgeordnete18/biografien/B/bartels_hans-peter.html']: 6\n",
      "[u'http://www.bundestag.de/dokumente/textarchiv/2009/28091010_deligoez/index.html']: 6\n",
      "[u'http://www.bundestag.de/bundestag/abgeordnete18/biografien/Z/zertik_heinrich/259434']: 6\n",
      "[u'http://www.eon.com/de/investoren/corporate-governance/vorstand/mitglieder.html']: 6\n",
      "[u'http://www.bundestag.de/bundestag/abgeordnete18/biografien/H/hagl-kehl_rita.html']: 6\n",
      "[u'http://www.bundestag.de/bundestag/abgeordnete18/biografien/S/schneider_carsten.html']: 6\n",
      "[u'http://www.bundestag.de/bundestag/abgeordnete18/biografien/G/groden_kranich_ursula/258412']: 6\n",
      "[u'http://www.bundestag.de/bundestag/abgeordnete18/biografien/C/connemann_gitta/258258']: 6\n",
      "[u'http://www.heidelbergcement.com/de/vorstand']: 6         \n",
      "[u'http://www.bundestag.de/bundestag/abgeordnete18/biografien/N/neu_alexander/259430']: 6\n",
      "[u'http://www.bundestag.de/bundestag/abgeordnete18/biografien/S/sendker_reinhold/258954']: 6\n",
      "[u'http://www.bundestag.de/bundestag/abgeordnete18/biografien/S/stockhofe_rita/259298']: 6\n",
      "[u'http://www.bundestag.de/bundestag/abgeordnete18/biografien/B/bartz_julia/258194']: 6\n",
      "[u'http://www.bundestag.de/bundestag/abgeordnete18/biografien/R/rabanus_martin.html']: 6\n",
      "[u'http://www.bundestag.de/bundestag/abgeordnete18/biografien/B/beyer_peter/258200']: 6\n",
      "[u'http://www.bundestag.de/bundestag/abgeordnete18/biografien/Z/zoellmer_manfred.html']: 6\n",
      "[u'http://www.bundestag.de/bundestag/abgeordnete18/biografien/J/joerrissen_sylvia/258544']: 6\n",
      "[u'http://www.bundestag.de/bundestag/abgeordnete18/biografien/F/fuchtel_hans_joachim/258318']: 6\n",
      "[u'http://www.bundestag.de/bundestag/abgeordnete18/biografien/W/wicklein_andrea.html']: 6\n",
      "[u'http://www.bundestag.de/bundestag/abgeordnete18/biografien/B/bartke_matthias.html']: 6\n",
      "[u'http://www.bundestag.de/bundestag/abgeordnete18/biografien/F/flosbach_klaus_peter/258312']: 6\n",
      "[u'http://www.bundestag.de/bundestag/abgeordnete18/biografien/H/heil_mechthild/258456']: 6\n",
      "[u'http://www.bundestag.de/bundestag/abgeordnete18/biografien/F/freudenstein_astrid/259314']: 6\n",
      "[u'http://www.bundestag.de/dokumente/textarchiv/2014/49875012_kw13_wege_politik_mutlu/index.html']: 6\n",
      "[u'http://www.henkel.de/unternehmen/management-und-gremien/management-board']: 6\n",
      "[u'http://www.bundestag.de/bundestag/abgeordnete18/biografien/G/grindel_reinhard/258426']: 6\n",
      "[u'http://www.bundestag.de/bundestag/abgeordnete18/biografien/L/lanzinger_barbara/259334']: 6\n",
      "[u'http://www.bundestag.de/bundestag/abgeordnete18/biografien/B/bosbach_wolfgang/258160']: 6\n",
      "[u'http://www.bundestag.de/bundestag/abgeordnete18/biografien/L/launert_silke/259380']: 6\n",
      "[u'http://www.bundestag.de/bundestag/abgeordnete18/biografien/K/kudla_bettina/258626']: 6\n",
      "[u'http://www.bundestag.de/bundestag/abgeordnete18/biografien/R/riebsamen_lothar/258918']: 6\n",
      "[u'http://www.bundestag.de/bundestag/abgeordnete18/biografien/N/nissen_ulli.html']: 6\n",
      "[u'http://www.bundestag.de/bundestag/abgeordnete18/biografien/A/arndt-brauer_ingrid.html']: 6\n",
      "[u'http://www.bundestag.de/bundestag/abgeordnete18/biografien/K/kippels_georg/258578']: 6\n",
      "[u'http://www.dih-gruppe.de/']: 5                           \n",
      "[u'http://www.hansemerkur.de/unternehmen/ueber-uns/vorstaende']: 5\n",
      "[u'http://www.friedespringerstiftung.de/Vita.pdf']: 5       \n",
      "[u'http://www.ivst.de/verband-mitglieder.html']: 5          \n",
      "[u'https://www.bundestag.de/bundestag/abgeordnete18/biografien/Z/zypries_brigitte/259230']: 5\n",
      "[u'https://www.bundestag.de/bundestag/gremien18/auslandseinsaetze/mitglieder/263180']: 5\n",
      "[u'http://bilderbergmeetings.org/participants2015.html']: 5 \n",
      "[u'http://www.lebendige-stadt.de/web/template2neu.asp?sid=175&nid=&cof=167']: 5\n",
      "[u'http://www.bertelsmann.de/news-und-media/bildergalerien/galerie/vorstand.jsp']: 5\n",
      "[u'http://www.br.de/unternehmen/inhalt/rundfunkrat/index.html']: 5\n",
      "[u'http://www.akdae.de/Kommission/Organisation/Mitglieder/DoI/Bschor.pdf']: 5\n",
      "[u'http://www.brekoverband.de/mitglieder/breko-mitglieder/']: 5\n",
      "[u'http://www.konvent-fuer-deutschland.de/deu/der_konventkreis/mitglieder/']: 5\n",
      "[u'http://www.diplomatic-economist.eu/']: 5                 \n",
      "[u'http://www.bve-online.de']: 5                            \n",
      "[u'http://www.fraport.de/de/konzern/ueber-uns/aufsichtsrat-und-beraterkreis.html']: 5\n",
      "[u'https://www.dwt-sgw.de/ueber-die-dwt/foerdernde-mitglieder/buchstabe/D/']: 5\n",
      "[u'https://www.dwt-sgw.de/ueber-die-dwt/praesidium/']: 5    \n",
      "[u'http://www.kohlenimporteure.de/mitglieder-verbraucher.html']: 5\n",
      "[u'http://www.bundestag.de/bundestag/abgeordnete18/biografien/Z/zimmermann_pia/259306']: 5\n",
      "[u'http://www.bundestag.de/bundestag/abgeordnete18/biografien/Z/zimmermann_jens.html']: 5\n",
      "[u'http://www.bundestag.de/bundestag/abgeordnete18/biografien/W/weiss_sabine/259194']: 5\n",
      "[u'http://www.bundestag.de/bundestag/abgeordnete18/biografien/W/wegner_kai/259178']: 5\n",
      "[u'http://www.bundestag.de/bundestag/abgeordnete18/biografien/V/volmering_sven/259140']: 5\n",
      "[u'http://www.bundestag.de/bundestag/abgeordnete18/biografien/V/vogel_volkmar/259158']: 5\n",
      "[u'http://www.bundestag.de/bundestag/abgeordnete18/biografien/V/verlinden_julia/259156']: 5\n",
      "[u'http://www.bundestag.de/bundestag/abgeordnete18/biografien/S/strengmann_kuhn_wolfgang/261356']: 5\n",
      "[u'http://www.bundestag.de/bundestag/abgeordnete18/biografien/S/steinke_kersten/259080']: 5\n",
      "[u'http://www.bundestag.de/bundestag/abgeordnete18/biografien/S/stegemann_albert/259098']: 5\n",
      "[u'http://www.bundestag.de/bundestag/abgeordnete18/biografien/S/schwarzeluehr-sutter_rita.html']: 5\n",
      "[u'http://www.bundestag.de/bundestag/abgeordnete18/biografien/S/schnieder_patrick/258982']: 5\n",
      "[u'http://www.thelen-consult.de/']: 5                       \n",
      "[u'http://www.ghst.de/wir-ueber-uns/gremien/']: 5           \n",
      "[u'http://www.bundestag.de/bundestag/abgeordnete18/biografien/S/schindler_norbert/259032']: 5\n",
      "[u'http://www.bundestag.de/bundestag/abgeordnete18/biografien/S/sieling_carsten.html']: 5\n",
      "[u'http://www.bundestag.de/bundestag/abgeordnete18/biografien/S/scharfenberg_elisabeth/259088']: 5\n",
      "[u'http://www.bundestag.de/bundestag/abgeordnete18/biografien/S/schaefer_axel.html']: 5\n",
      "[u'http://www.bundestag.de/bundestag/abgeordnete18/biografien/S/schabedoth_hans-joachim.html']: 5\n",
      "[u'http://www.bundestag.de/bundestag/abgeordnete18/biografien/R/rosemann_martin.html']: 5\n",
      "[u'http://www.bundestag.de/bundestag/abgeordnete18/biografien/T/timmermann_fechter_astrid/259106']: 5\n",
      "[u'http://www.bundestag.de/bundestag/abgeordnete18/biografien/W/weiss_peter/259188']: 5\n",
      "[u'http://www.bundestag.de/bundestag/abgeordnete18/biografien/R/roering_johannes/258888']: 5\n",
      "[u'http://www.bundestag.de/bundestag/abgeordnete18/biografien/R/rimkus_andreas.html']: 5\n",
      "[u'http://www.bundestag.de/bundestag/abgeordnete18/biografien/R/rief_josef/258904']: 5\n",
      "[u'http://www.salzgitter-ag.com/de/konzern/management/aufsichtsrat.html']: 5\n",
      "[u'http://www.bundestag.de/bundestag/abgeordnete18/biografien/P/pfeiffer_joachim/258844']: 5\n",
      "[u'http://www.bundestag.de/bundestag/abgeordnete18/biografien/P/paschke_markus.html']: 5\n",
      "[u'http://www.bundestag.de/bundestag/abgeordnete18/biografien/O/otte_henning/258822']: 5\n",
      "[u'http://www.bundestag.de/bundestag/abgeordnete18/biografien/O/ostendorff_friedrich/258830']: 5\n",
      "[u'http://www.bundestag.de/bundestag/abgeordnete18/biografien/N/nowak_helmut/259444']: 5\n",
      "[u'http://www.gesamtmetall.de/gesamtmetall/meonline.nsf/c31231b8c4ee15bcc12569f2004efcfb/3ccf230bbe9abfa3c125701500328723!OpenDocument']: 5\n",
      "[u'http://www.bundestag.de/bundestag/abgeordnete18/biografien/M/muetzenich_rolf.html']: 5\n",
      "[u'http://www.bundestag.de/bundestag/abgeordnete18/biografien/S/strebl_matthaeus/259066']: 5\n",
      "[u'http://www.bundestag.de/bundestag/abgeordnete18/biografien/M/mueller_stefan/258770']: 5\n",
      "[u'http://www.bundestag.de/bundestag/abgeordnete18/biografien/M/moering_karsten/258756']: 5\n",
      "[u'http://www.bundestag.de/bundestag/abgeordnete18/biografien/M/monstadt_dietrich/258746']: 5\n",
      "[u'http://www.bundestag.de/bundestag/abgeordnete18/biografien/M/mindrup_klaus.html']: 5\n",
      "[u'http://www.bundestag.de/bundestag/abgeordnete18/biografien/Z/zierke_stefan.html']: 5\n",
      "[u'http://www.bundestag.de/bundestag/abgeordnete18/biografien/M/manderla_gisela/259342']: 5\n",
      "[u'http://www.bundestag.de/bundestag/abgeordnete18/biografien/M/mahlberg_thomas/259338']: 5\n",
      "[u'http://www.bundestag.de/bundestag/abgeordnete18/biografien/K/kuehn-mengel_helga.html']: 5\n",
      "[u'http://www.bundestag.de/bundestag/abgeordnete18/biografien/M/middelberg_mathias/258798']: 5\n",
      "[u'http://www.bundestag.de/bundestag/abgeordnete18/biografien/K/kofler_baerbel.html']: 5\n",
      "[u'http://www.bundestag.de/bundestag/abgeordnete18/biografien/N/nietan_dietmar.html']: 5\n",
      "[u'http://www.bundestag.de/bundestag/abgeordnete18/biografien/K/klimke_juergen/258652']: 5\n",
      "[u'http://www.bundestag.de/bundestag/abgeordnete18/biografien/S/strothmann_lena/259008']: 5\n",
      "[u'http://www.bundestag.de/bundestag/abgeordnete18/biografien/K/klein_schmeink_maria/258580']: 5\n",
      "[u'http://www.bundestag.de/bundestag/abgeordnete18/biografien/K/kekeritz_uwe/258646']: 5\n",
      "[u'http://www.bundestag.de/bundestag/abgeordnete18/biografien/S/schulze_klaus_peter/259040']: 5\n",
      "[u'http://www.bundestag.de/bundestag/abgeordnete18/biografien/T/troost_axel/259118']: 5\n",
      "[u'http://www.bundestag.de/bundestag/abgeordnete18/biografien/M/moehring_cornelia/258748']: 5\n",
      "[u'http://www.bundestag.de/bundestag/abgeordnete18/biografien/K/kapschack_ralf.html']: 5\n",
      "[u'http://www.bayer.de/de/Vorstand.aspx']: 5                \n",
      "[u'http://investor-relations.lufthansagroup.com/corporate-governance/vorstand.html']: 5\n",
      "[u'http://www.bundestag.de/bundestag/abgeordnete18/biografien/J/jurk_thomas.html']: 5\n",
      "[u'http://www.bundestag.de/bundestag/abgeordnete18/biografien/M/mortler_marlene/258752']: 5\n",
      "[u'http://www.bundestag.de/bundestag/abgeordnete18/biografien/M/missfelder_philipp/258790']: 5\n",
      "[u'http://www.bundestag.de/bundestag/abgeordnete18/biografien/R/radwan_alexander/258908']: 5\n",
      "[u'http://www.bundestag.de/bundestag/abgeordnete18/biografien/J/janecek_dieter/258552']: 5\n",
      "[u'http://www.bundestag.de/bundestag/abgeordnete18/biografien/I/ilgen_matthias.html']: 5\n",
      "[u'http://www.bundestag.de/bundestag/abgeordnete18/biografien/M/malecha-nissen_birgit.html']: 5\n",
      "[u'http://www.bundestag.de/bundestag/abgeordnete18/biografien/H/hueppe_hubert/258476']: 5\n",
      "[u'http://www.bundestag.de/bundestag/abgeordnete18/biografien/H/huebinger_anette/258510']: 5\n",
      "[u'http://www.bundestag.de/bundestag/abgeordnete18/biografien/S/saathoff_johann.html']: 5\n",
      "[u'http://www.bundestag.de/bundestag/abgeordnete18/biografien/L/lietz_matthias/258700']: 5\n",
      "[u'http://www.bundestag.de/bundestag/abgeordnete18/biografien/H/hoffmann_alexander/259324']: 5\n",
      "[u'http://www.bundestag.de/bundestag/abgeordnete18/biografien/N/nord_thomas/258812']: 5\n",
      "[u'http://www.bundestag.de/bundestag/abgeordnete18/biografien/S/schmidt_dagmar.html']: 5\n",
      "[u'http://www.bundestag.de/bundestag/abgeordnete18/biografien/H/henke_rudolf/258504']: 5\n",
      "[u'http://www.bundestag.de/bundestag/abgeordnete18/biografien/S/spahn_jens/258952']: 5\n",
      "[u'http://www.bundestag.de/bundestag/abgeordnete18/biografien/H/held_marcus.html']: 5\n",
      "[u'http://www.bundestag.de/bundestag/abgeordnete18/biografien/H/heider_matthias/258452']: 5\n",
      "[u'http://www.sap.com/corporate-de/about/our-company/our-boards/executive-board.html']: 5\n",
      "[u'http://www.bundestag.de/bundestag/abgeordnete18/biografien/H/haase_christian/258520']: 5\n",
      "[u'http://www.bundestag.de/bundestag/abgeordnete18/biografien/K/kurth_markus/258554']: 5\n",
      "[u'http://www.bundestag.de/bundestag/abgeordnete18/biografien/G/grundmann_oliver/259318']: 5\n",
      "[u'http://www.bundestag.de/bundestag/abgeordnete18/biografien/G/grosse_broemer_michael/258408']: 5\n",
      "[u'http://www.bundestag.de/bundestag/abgeordnete18/biografien/G/griese_kerstin.html']: 5\n",
      "[u'http://www.bundestag.de/bundestag/abgeordnete18/biografien/S/schwabe_frank.html']: 5\n",
      "[u'http://www.bundestag.de/bundestag/abgeordnete18/biografien/M/movassat_niema/258758']: 5\n",
      "[u'http://www.bundestag.de/bundestag/abgeordnete18/biografien/K/kermer_marina.html']: 5\n",
      "[u'http://www.bundestag.de/bundestag/abgeordnete18/biografien/H/heinrich_frank/258432']: 5\n",
      "[u'http://www.bundestag.de/bundestag/abgeordnete18/biografien/G/gastel_matthias/258382']: 5\n",
      "[u'http://www.bundestag.de/bundestag/abgeordnete18/biografien/F/fuchs_michael/258340']: 5\n",
      "[u'http://www.bundestag.de/bundestag/abgeordnete18/biografien/R/reimann_carola.html']: 5\n",
      "[u'http://www.bundestag.de/bundestag/abgeordnete18/biografien/G/guentzler_fritz/258392']: 5\n",
      "[u'http://www.bundestag.de/bundestag/abgeordnete18/biografien/L/lamers_karl_a_/258730']: 5\n",
      "[u'http://www.bundestag.de/bundestag/abgeordnete18/biografien/E/evers-meyer_karin.html']: 5\n",
      "[u'http://www.bundestag.de/bundestag/abgeordnete18/biografien/L/lauterbach_karl.html']: 5\n",
      "[u'http://www.bundestag.de/bundestag/abgeordnete18/biografien/L/lorenz_wilfried/258666']: 5\n",
      "[u'http://www.bundestag.de/bundestag/abgeordnete18/biografien/D/doerflinger_thomas/258276']: 5\n",
      "[u'http://www.bundestag.de/bundestag/abgeordnete18/biografien/D/dittmar_sabine.html']: 5\n",
      "[u'http://www.bundestag.de/bundestag/abgeordnete18/biografien/C/caesar_cajus/258254']: 5\n",
      "[u'http://www.bundestag.de/bundestag/abgeordnete18/biografien/B/burkert_martin.html']: 5\n",
      "[u'http://www.bundestag.de/bundestag/abgeordnete18/biografien/B/bulling_schroeter_eva/258240']: 5\n",
      "[u'http://www.bundestag.de/bundestag/abgeordnete18/biografien/B/brandl_reinhard/258244']: 5\n",
      "[u'http://www.bundestag.de/bundestag/abgeordnete18/biografien/B/bluhm_heidrun/258162']: 5\n",
      "[u'http://www.bundestag.de/bundestag/abgeordnete18/biografien/B/birkwald_matthias_w/258172']: 5\n",
      "[u'http://www.bundestag.de/bundestag/abgeordnete18/biografien/S/stuebgen_michael/259078']: 5\n",
      "[u'http://www.ipv.de/fileadmin/user_upload/PDF/Daniel_Bahr.pdf']: 5\n",
      "[u'http://www.bundestag.de/bundestag/abgeordnete18/biografien/B/binding_lothar.html']: 5\n",
      "[u'http://www.bundestag.de/bundestag/abgeordnete18/biografien/F/felgentreu_fritz.html']: 5\n",
      "[u'http://www.bundestag.de/bundestag/abgeordnete18/biografien/B/beckmeyer_uwe.html']: 5\n",
      "[u'http://www.bundestag.de/bundestag/abgeordnete18/biografien/V/vossbeck_kayser_christel/259138']: 5\n",
      "[u'http://www.bundestag.de/bundestag/abgeordnete18/biografien/S/schimke_jana/259394']: 5\n",
      "[u'http://www.bundestag.de/bundestag/abgeordnete18/biografien/B/becker_dirk.html']: 5\n",
      "[u'http://www.bundestag.de/bundestag/abgeordnete18/biografien/B/baumann_guenter/258228']: 5\n",
      "[u'http://www.bundestag.de/bundestag/abgeordnete18/biografien/D/donth_michael/258282']: 5\n",
      "[u'http://www.bundestag.de/bundestag/abgeordnete18/biografien/B/bartol_soeren.html']: 5\n",
      "[u'http://www.bundestag.de/bundestag/abgeordnete18/biografien/K/kanitz_steffen/258612']: 5\n",
      "[u'http://www.bundestag.de/bundestag/abgeordnete18/biografien/J/jung_xaver/259420']: 5\n",
      "[u'http://www.bundestag.de/bundestag/abgeordnete18/biografien/B/bareiss_thomas/258236']: 5\n",
      "[u'http://www.bundestag.de/bundestag/abgeordnete18/biografien/B/baer_dorothee/258192']: 5\n",
      "[u'http://www.bundestag.de/bundestag/abgeordnete18/biografien/S/singhammer_johannes/258960']: 5\n",
      "[u'http://www.bundestag.de/bundestag/abgeordnete18/biografien/B/buelow_marco.html']: 5\n",
      "[u'http://www.bundestag.de/bundestag/abgeordnete18/biografien/A/annen_niels.html']: 5\n",
      "[u'http://www.bundestag.de/bundestag/abgeordnete18/biografien/S/schmelzle_heiko/259004']: 5\n",
      "[u'http://www.bundestag.de/bundestag/abgeordnete18/biografien/A/amtsberg_luise/258134']: 5\n",
      "[u'http://www.bundestag.de/bundestag/abgeordnete18/biografien/A/albani_stephan/258132']: 5\n",
      "[u'http://www.bundestag.de/bundestag/abgeordnete18/biografien/E/ernst_klaus/258302']: 5\n",
      "[u'http://www.bundestag.de/bundestag/abgeordnete18/biografien/U/ulrich_alexander/259132']: 5\n",
      "[u'http://www.bundestag.de/bundestag/abgeordnete18/biografien/B/bas_baerbel.html']: 5\n",
      "[u'http://www.bundestag.de/bundestag/abgeordnete18/biografien/G/-/340584']: 5\n",
      "[u'http://www.bundestag.de/bundestag/abgeordnete18/biografien/M/meister_michael/258786']: 5\n",
      "[u'http://www.bundestag.de/bundestag/abgeordnete18/biografien/B/baehrens_heike.html']: 5\n",
      "[u'http://www.bundestag.de/bundestag/abgeordnete18/biografien/F/faerber_hermann/258338']: 5\n",
      "[u'http://www.bundestag.de/bundestag/abgeordnete18/biografien/M/murmann_philipp/258792']: 5\n",
      "[u'http://www.bundestag.de/bundestag/abgeordnete18/biografien/A/arnold_rainer.html']: 5\n",
      "[u'http://www.bundestag.de/bundestag/abgeordnete18/biografien/W/westermayer_waldemar/285852']: 5\n",
      "[u'http://www.bundestag.de/bundestag/abgeordnete18/biografien/G/giousouf_cemile/258378']: 5\n",
      "[u'http://www.bundestag.de/bundestag/abgeordnete18/biografien/P/pitterle_richard/258846']: 5\n",
      "[u'http://www.bundestag.de/bundestag/abgeordnete18/biografien/O/oezoguz_aydan.html']: 5\n",
      "[u'http://www.bundestag.de/bundestag/abgeordnete18/biografien/S/schulz_swen.html']: 5\n",
      "[u'http://www.bundestag.de/bundestag/abgeordnete18/biografien/H/hauer_matthias/259374']: 5\n",
      "[u'http://www.bundestag.de/bundestag/abgeordnete18/biografien/B/brinkhaus_ralph/258184']: 5\n",
      "[u'http://www.bundestag.de/bundestag/abgeordnete18/biografien/G/gauweiler_peter/258396']: 5\n",
      "[u'http://www.bundestag.de/bundestag/abgeordnete18/biografien/B/bertram_ute/259406']: 5\n",
      "[u'http://www.the-linde-group.com/de/about_the_linde_group/management/executive_board/index.html']: 5\n",
      "[u'http://www.bundestag.de/bundestag/abgeordnete18/biografien/K/kammer_hans_werner/258606']: 5\n",
      "[u'http://www.bundestag.de/bundestag/abgeordnete18/biografien/L/lagosky_uwe/259330']: 5\n",
      "[u'http://www.bundestag.de/bundestag/abgeordnete18/biografien/H/hasselfeldt_gerda/258526']: 5\n",
      "[u'http://www.bundestag.de/bundestag/abgeordnete18/biografien/F/funk_alexander/258342']: 5\n",
      "[u'http://www.bundestag.de/bundestag/abgeordnete18/biografien/S/steinbach_erika/258942']: 5\n",
      "[u'http://www.k-plus-s.com/de/vorstand/index.html']: 5      \n",
      "[u'http://deutsche-boerse.com/dbg/dispatch/de/kir/dbg_nav/investor_relations/15_Corporate_Governance/20_Executive_Board']: 5\n",
      "[u'http://www.bundestag.de/bundestag/abgeordnete18/biografien/G/gambke_thomas/258416']: 5\n",
      "[u'http://www.bundestag.de/bundestag/abgeordnete18/biografien/S/scheer_nina.html']: 5\n",
      "[u'http://www.bundestag.de/bundestag/abgeordnete18/biografien/R/rueddel_erwin/258922']: 5\n",
      "[u'http://www.akdae.de/Kommission/Organisation/Mitglieder/DoI/Kern.pdf']: 5\n",
      "[u'http://www.bundestag.de/bundestag/abgeordnete18/biografien/K/klare_arno.html']: 5\n",
      "[u'http://www.bundestag.de/bundestag/abgeordnete18/biografien/C/crone_petra.html']: 5\n",
      "[u'http://www.bundestag.de/bundestag/abgeordnete18/biografien/H/horb_margaret/258438']: 5\n",
      "[u'http://www.bundestag.de/bundestag/abgeordnete18/biografien/S/selle_johannes/258974']: 5\n",
      "[u'http://www.bundestag.de/bundestag/abgeordnete18/biografien/L/leidig_sabine/258716']: 5\n",
      "[u'http://www.bundestag.de/bundestag/abgeordnete18/biografien/B/behrens_manfred/258196']: 5\n",
      "[u'http://www.bundestag.de/bundestag/abgeordnete18/biografien/F/flachsbarth_maria/258348']: 5\n",
      "[u'http://www.bundestag.de/bundestag/abgeordnete18/biografien/H/hoehn_baerbel/258514']: 5\n",
      "[u'http://www.adidas-group.com/de/unternehmen/vorstand/']: 5\n",
      "[u'http://www.akdae.de/Kommission/Organisation/Mitglieder/DoI/Spranger.pdf']: 5\n",
      "[u'http://www.bundestag.de/bundestag/abgeordnete18/biografien/W/werner_katrin/259174']: 5\n",
      "[u'http://www.bundestag.de/bundestag/abgeordnete18/biografien/H/heil_hubertus.html']: 5\n",
      "[u'http://www.bll.de/de/mitglieder/unsere-mitglieder/industrielle-unternehmen/_lS']: 5\n",
      "[u'http://www.bundestag.de/bundestag/abgeordnete18/biografien/L/linnemann_carsten/258686']: 5\n",
      "[u'http://www.bundestag.de/bundestag/abgeordnete18/biografien/L/lambrecht_christine.html']: 5\n",
      "[u'http://www.bundestag.de/bundestag/abgeordnete18/biografien/K/kuehne_roy/259432']: 5\n",
      "[u'http://www.bundestag.de/bundestag/abgeordnete18/biografien/L/luecking_michel_claudia/259390']: 5\n",
      "[u'http://www.bundestag.de/bundestag/abgeordnete18/biografien/K/kampmann_christina.html']: 5\n",
      "[u'http://www.bundestag.de/bundestag/abgeordnete18/biografien/H/hartmann_sebastian.html']: 5\n",
      "[u'http://www.bundestag.de/bundestag/abgeordnete18/biografien/D/de ridder_daniela.html']: 5\n",
      "[u'https://de.wikipedia.org/wiki/Kirchhoff_Gruppe']: 4      \n",
      "[u'http://www.politik-kommunikation.de/personalwechsel/jansen-leitet-hauptstadtrepraesentanz-von-volkswagen-15920']: 4\n",
      "[u'https://www.bayern.landtag.de/abgeordnete/abgeordnete-von-a-z/profil/markus-soeder/']: 4\n",
      "[u'http://www.otto-bernhardt.de/biografie/']: 4             \n",
      "[u'http://www.prostuttgart-21.de/ueber-den-verein.html']: 4 \n",
      "[u'http://www.kjmk.de/index.php/referenzen']: 4             \n",
      "[u'http://www.nfte.de/partner-und-unterstuetzer/partner/derzeitige-unterstuetzer/']: 4\n",
      "[u'http://www.theosommer.de/index.php?seite=8&lang=d']: 4   \n",
      "[u'https://dgap.org/de/gesellschaft/ueber-uns/gremien']: 4  \n",
      "[u'http://www.biodeutschland.org/f---j.html']: 4            \n",
      "[u'http://www.porsche-se.com/pho/de/porschese/administration/executiveboard/']: 4\n",
      "[u'http://www.bsu-legal.de']: 4                             \n",
      "[u'http://www.br.de/unternehmen/inhalt/rundfunkrat/mitglieder100.html']: 4\n",
      "[u'http://www.landtag.brandenburg.de/de/395338']: 4         \n",
      "[u'http://www.bee-ev.de/BEE/Mitglieder/index.php']: 4       \n",
      "[u'https://www.bertelsmann-stiftung.de/de/ueber-uns/wer-wir-sind/organisation/']: 4\n",
      "[u'http://www.bundestag.de/bundestag/abgeordnete18/biografien/W/wolff_waltraud.html']: 4\n",
      "[u'http://www.bundestag.de/bundestag/abgeordnete18/biografien/W/wichtel_peter/259212']: 4\n",
      "[u'http://www.bundestag.de/bundestag/abgeordnete18/biografien/W/wellmann_karl/259186']: 4\n",
      "[u'http://www.bundestag.de/bundestag/abgeordnete18/biografien/W/weinberg_harald/259176']: 4\n",
      "[u'http://www.bundestag.de/bundestag/abgeordnete18/biografien/W/wagenknecht_sahra/259154']: 4\n",
      "[u'http://www.bundestag.de/bundestag/abgeordnete18/biografien/V/vries_kees_de/258272']: 4\n",
      "[u'http://www.bundestag.de/bundestag/abgeordnete18/biografien/V/veit_ruediger.html']: 4\n",
      "[u'http://www.bundestag.de/bundestag/abgeordnete18/biografien/T/tauber_peter/259100']: 4\n",
      "[u'https://www.landtag.nrw.de/portal/WWW/Webmaster/GB_I/I.1/Abgeordnete/abgeordnetendetail.jsp?k=01511']: 4\n",
      "[u'http://www.bundestag.de/bundestag/abgeordnete18/biografien/S/schmidt_frithjof/258994']: 4\n",
      "[u'http://www.bundestag.de/bundestag/abgeordnete18/biografien/S/schlecht_michael/258968']: 4\n",
      "[u'http://www.bundestag.de/bundestag/abgeordnete18/biografien/R/roth_michael.html']: 4\n",
      "[u'http://www.bundestag.de/bundestag/abgeordnete18/biografien/R/riesenhuber_heinz/258896']: 4\n",
      "[u'http://www.bundestag.de/bundestag/abgeordnete18/biografien/P/pronold_florian.html']: 4\n",
      "[u'http://www.bundestag.de/bundestag/abgeordnete18/biografien/P/pfeiffer_sibylle/258848']: 4\n",
      "[u'http://www.bundestag.de/bundestag/abgeordnete18/biografien/M/mueller_gemmeke_beate/258774']: 4\n",
      "[u'http://www.bundestag.de/bundestag/abgeordnete18/biografien/M/marwitz_hans_georg/258776']: 4\n",
      "[u'http://www.bundestag.de/bundestag/abgeordnete18/biografien/M/marks_caren.html']: 4\n",
      "[u'http://www.bundestag.de/bundestag/abgeordnete18/biografien/S/schummer_uwe/259010']: 4\n",
      "[u'http://www.cio.de/a/klaus-vitt-wird-neuer-bundes-cio,3243557']: 4\n",
      "[u'http://www.bundestag.de/bundestag/abgeordnete18/biografien/L/lange_christian.html']: 4\n",
      "[u'http://www.bundestag.de/bundestag/abgeordnete18/biografien/L/lammert_norbert/258676']: 4\n",
      "[u'http://www.bundestag.de/bundestag/abgeordnete18/biografien/L/lach_guenter/258724']: 4\n",
      "[u'http://www.bundestag.de/bundestag/abgeordnete18/biografien/K/kuehn_stephan/258638']: 4\n",
      "[u'http://www.bundestag.de/dokumente/textarchiv/2010/29998570_wege_politik_krischer/index.html']: 4\n",
      "[u'http://www.bundestag.de/bundestag/abgeordnete18/biografien/K/krings_guenter/258634']: 4\n",
      "[u'http://www.bundestag.de/bundestag/abgeordnete18/biografien/N/nahles_andrea.html']: 4\n",
      "[u'http://www.bundestag.de/bundestag/abgeordnete18/biografien/K/kretschmer_michael/258576']: 4\n",
      "[u'http://www.bundestag.de/bundestag/abgeordnete18/biografien/K/kramme_anette.html']: 4\n",
      "[u'http://www.bundestag.de/bundestag/abgeordnete18/biografien/K/korte_jan/258602']: 4\n",
      "[u'http://www.bundestag.de/bundestag/abgeordnete18/biografien/K/kelber_ulrich.html']: 4\n",
      "[u'http://www.bundestag.de/bundestag/abgeordnete18/biografien/K/kauder_volker/258570']: 4\n",
      "[u'http://www.bundestag.de/bundestag/abgeordnete18/biografien/O/oezdemir_cem/258834']: 4\n",
      "[u'http://www.bundestag.de/bundestag/abgeordnete18/biografien/H/holzenkamp_franz_josef/258494']: 4\n",
      "[u'http://www.bundestag.de/bundestag/abgeordnete18/biografien/L/liebich_stefan/258688']: 4\n",
      "[u'http://www.bundestag.de/bundestag/abgeordnete18/biografien/H/heller_uda/258486']: 4\n",
      "[u'http://www.thyssenkrupp.com/de/konzern/vorstand.html']: 4\n",
      "[u'http://www.bundestag.de/bundestag/abgeordnete18/biografien/P/poss_joachim.html']: 4\n",
      "[u'http://www.pardrei.de']: 4                               \n",
      "[u'http://www.bundestag.de/bundestag/abgeordnete18/biografien/H/hartmann_michael.html']: 4\n",
      "[u'http://www.bundestag.de/bundestag/abgeordnete18/biografien/H/hardt_juergen/258480']: 4\n",
      "[u'http://www.bundestag.de/bundestag/abgeordnete18/biografien/H/hajduk_anja/258516']: 4\n",
      "[u'http://www.rwe.com/web/cms/de/8358/rwe/ueber-rwe/vorstand/']: 4\n",
      "[u'http://www.bundestag.de/bundestag/abgeordnete18/biografien/Z/zimmermann_sabine/259228']: 4\n",
      "[u'http://www.bundestag.de/bundestag/abgeordnete18/biografien/G/gruetters_monika/258424']: 4\n",
      "[u'http://www.bundestag.de/bundestag/abgeordnete18/biografien/G/gottschalck_ulrike.html']: 4\n",
      "[u'http://www.bundestag.de/bundestag/abgeordnete18/biografien/P/pothmer_brigitte/258876']: 4\n",
      "[u'http://www.bundestag.de/bundestag/abgeordnete18/biografien/G/goeppel_josef/258418']: 4\n",
      "[u'http://www.bundestag.de/bundestag/abgeordnete18/biografien/G/gehrcke_wolfgang/258366']: 4\n",
      "[u'http://www.bdsv.eu/de/Ueber_uns/Mitglieder.htm']: 4      \n",
      "[u'http://www.bundestag.de/bundestag/abgeordnete18/biografien/G/gebhart_thomas/258428']: 4\n",
      "[u'http://www.bundestag.de/bundestag/abgeordnete18/biografien/F/fischer_dirk/258334']: 4\n",
      "[u'http://www.bundestag.de/bundestag/abgeordnete18/biografien/F/ferner_elke.html']: 4\n",
      "[u'http://www.bundestag.de/bundestag/abgeordnete18/biografien/D/doett_marie_luise/258266']: 4\n",
      "[u'http://www.bundestag.de/dokumente/textarchiv/2010/32275865_wege_politik_doerner/index.html']: 4\n",
      "[u'http://www.bundestag.de/bundestag/abgeordnete18/biografien/D/dagdelen_sevim/258298']: 4\n",
      "[u'http://www.bundestag.de/bundestag/abgeordnete18/biografien/B/bellmann_veronika/258216']: 4\n",
      "[u'http://www.bundestag.de/bundestag/abgeordnete18/biografien/G/gruebel_markus/258414']: 4\n",
      "[u'http://www.bundestag.de/bundestag/abgeordnete18/biografien/E/ernstberger_petra.html']: 4\n",
      "[u'http://www.bundestag.de/bundestag/abgeordnete18/biografien/B/bartsch_dietmar/258174']: 4\n",
      "[u'http://www.bundestag.de/bundestag/abgeordnete18/biografien/M/maisch_nicole/258760']: 4\n",
      "[u'http://www.bundestag.de/bundestag/abgeordnete18/biografien/A/andreae_kerstin/258130']: 4\n",
      "[u'http://www.bundestag.de/bundestag/abgeordnete18/biografien/V/vaatz_arnold/259150']: 4\n",
      "[u'http://www.akdae.de/Kommission/Organisation/Mitglieder/DoI/Kiechle.pdf']: 4\n",
      "[u'http://www.bundestag.de/bundestag/abgeordnete18/biografien/G/groehler_klaus_dieter/259402']: 4\n",
      "[u'http://www.bundestag.de/bundestag/abgeordnete18/biografien/K/kindler_sven_christian/258640']: 4\n",
      "[u'http://www.bundestag.de/bundestag/abgeordnete18/biografien/G/gerdes_michael.html']: 4\n",
      "[u'http://www.bundestag.de/bundestag/abgeordnete18/biografien/T/tausend_claudia.html']: 4\n",
      "[u'http://www.bundestag.de/bundestag/abgeordnete18/biografien/K/kotting_uhl_sylvia/258594']: 4\n",
      "[u'http://www.bundestag.de/bundestag/abgeordnete18/biografien/B/buchholz_christine/258226']: 4\n",
      "[u'http://www.bundestag.de/bundestag/abgeordnete18/biografien/S/schaefer_anita/259056']: 4\n",
      "[u'http://www.bundestag.de/bundestag/abgeordnete18/biografien/L/loesekrug-moeller_gabriele.html']: 4\n",
      "[u'http://www.bundestag.de/bundestag/abgeordnete18/biografien/L/loetzsch_gesine/258662']: 4\n",
      "[u'http://www.bundestag.de/bundestag/abgeordnete18/biografien/R/roespel_ren\\xe9.html']: 4\n",
      "[u'http://www.thinktankdirectory.org/directory/bst.shtml']: 4\n",
      "[u'http://www.bundestag.de/bundestag/abgeordnete18/biografien/B/binder_karin/258224']: 4\n",
      "[u'http://www.bundestag.de/bundestag/abgeordnete18/biografien/G/gienger_eberhard/258430']: 4\n",
      "[u'http://www.bundestag.de/bundestag/abgeordnete18/biografien/H/herzog_gustav.html']: 4\n",
      "[u'http://www.bundestag.de/bundestag/abgeordnete18/biografien/F/fischbach_ingrid/258344']: 4\n",
      "[u'http://www.bundestag.de/bundestag/abgeordnete18/biografien/W/willsch_klaus_peter/259164']: 4\n",
      "[u'http://www.merck.de/de/unternehmen/unternehmensfuehrung/e_merck_kg/executive_board/vorstand.html']: 4\n",
      "[u'http://www.bundestag.de/bundestag/abgeordnete18/biografien/H/hoffmann_thorsten/351176']: 4\n",
      "[u'http://www.vdpp.de/%C3%BCber-uns/']: 3                   \n",
      "[u'http://www.swp-berlin.org/de/ueber-uns/organe-der-stiftung.html#praesidium']: 3\n",
      "[u'http://www.volkswagenag.com/content/vwcorp/content/de/the_group/senior_management.html']: 3\n",
      "[u'https://www.hessischer-landtag.de/icc/Internet/nav/41f/broker.jsp?uMen=41f20ebc-149b-9a11-a7c5-ab364cc4b0fe&uTem=aaaaaaaa-aaaa-aaaa-bbbb-000000000016&class=net.icteam.cms.utils.externalContents.ExternalContentManager;lookup=hai&view=abgDetail&blaettern=true&abgID=926']: 3\n",
      "[u'http://www.friedespringerstiftung.de/']: 3               \n",
      "[u'https://www.hessischer-landtag.de/icc/Internet/nav/41f/broker.jsp?uMen=41f20ebc-149b-9a11-a7c5-ab364cc4b0fe&uTem=aaaaaaaa-aaaa-aaaa-bbbb-000000000016&class=net.icteam.cms.utils.externalContents.ExternalContentManager;lookup=hai&view=abgDetail&blaettern=true&abgID=114']: 3\n",
      "[u'https://www.lobbypedia.de/wiki/Silvana_Koch-Mehrin']: 3  \n",
      "[u'http://www.uni-frankfurt.de/34854412/kuratorium']: 3     \n",
      "[u'http://www.deutschebahn.com/file/de/2191740/IaBjITMUK7QliwphiI9n4615iy8/4065680/data/zusammenfassung.pdf']: 3\n",
      "[u'http://www.bmvg.de/portal/a/bmvg/!ut/p/c4/NYuxDsIwDET_yE5gATaiLgxIqAuULW2jyKiJK-OUhY8nGbiT3nBPh0-szX6j6JU4-wUfOEx0Gj8wpi3Ci4vUFRJlemsQKgnv7TMHmDgHbdSQlSqjeGWBlUWXZopINUAzDsZ2zljzj_0eb1d32Fuz6y6uxzWl8w-hdrg2/']: 3\n",
      "[u'https://d-64.org/verein/mitglieder/']: 3                 \n",
      "[u'http://www.juergen-ruettgers.de/lebenslauf.php']: 3      \n",
      "[u'http://www.broststiftung.ruhr/stiftung/kuratorium/']: 3  \n",
      "[u'https://web.archive.org/web/20150317113944/http://www.bilderbergmeetings.org/participants.html']: 3\n",
      "[u'http://www.bvk-mitglieder.de/pdf/EUTOP-Praesentation.pdf']: 3\n",
      "[u'http://www.heinz-nixdorf-stiftung.de/index.php?id=142']: 3\n",
      "[u'http://dgfs.info/vorstand/']: 3                          \n",
      "[u'http://www.atlantik-bruecke.org/w/files/dokumente/yl-history-2011.pdf']: 3\n",
      "[u'http://sylvia-yvonne-kaufmann.de/ueber-mich/lebenslauf/']: 3\n",
      "[u'https://www.baks.bund.de/de/die-baks/der-beirat']: 3     \n",
      "[u'http://www.akdae.de/Kommission/Organisation/Mitglieder/DoI/Brune.pdf']: 3\n",
      "[u'http://lanxess.de/de/corporate/ueber-lanxess/management/vorstand/']: 3\n",
      "[u'https://www.infineon.com/cms/de/about-infineon/company/management-board/']: 3\n",
      "[u'http://www.bll.de/de/mitglieder/unsere-mitglieder/industrielle-unternehmen/_lC']: 3\n",
      "[u'http://www.kulinaria.org/index-kulinaria.html/verband/vorstand-und-geschaeftsfuehrung']: 3\n",
      "[u'http://www.stiftung-marktwirtschaft.de/wirtschaft/stiftung/team/stiftungsrat.html']: 3\n",
      "[u'http://www.deutschebahn.com/de/konzern/konzernprofil/vorstand']: 3\n",
      "[u'http://www.kohlenimporteure.de/mitglieder-handel.html']: 3\n",
      "[u'http://www.fnl.de/struktur-und-organisation.html']: 3    \n",
      "[u'https://www.bundestag.de/bundestag/abgeordnete18/biografien/M/mueller_carsten/258740']: 3\n",
      "[u'https://web.archive.org/web/20150317113944/http://www.bilderbergmeetings.org/participants.html', u'http://bilderbergmeetings.org/participants2015.html']: 3\n",
      "[u'http://www.amcham.de/about-us/executive-members.html']: 3\n",
      "[u'http://www.bundestag.de/bundestag/abgeordnete18/biografien/R/rawert_mechthild.html']: 3\n",
      "[u'http://www.bdl.aero/de/bdl/mitglieder/']: 3              \n",
      "[u'http://www.kirchhoff-gruppe.de/cms/unternehmensgruppe_gesellschafter']: 3\n",
      "[u'http://www.bundestag.de/bundestag/abgeordnete18/biografien/O/oppermann_thomas.html']: 3\n",
      "[u'http://www.bundestag.de/bundestag/abgeordnete18/biografien/S/siebert_bernd/258998']: 3\n",
      "[u'https://www.reporter-ohne-grenzen.de/ueber-uns/kuratorium/georg-mascolo/']: 3\n",
      "[u'http://www.bundestag.de/bundestag/abgeordnete18/biografien/K/krellmann_jutta/258584']: 3\n",
      "[u'http://www.maxingvest.de/index.php?id=10&language=1']: 3 \n",
      "[u'http://www.bayerischerbauernverband.de/praesident']: 3   \n",
      "[u'http://www.cpc-berlin.de/uBERUNS.htm']: 3                \n",
      "[u'http://www.lencke-wischhusen.de/']: 3                    \n",
      "[u'http://www.leutheusser-schnarrenberger.de/lebenslauf']: 3\n",
      "[u'http://www.bundestag.de/bundestag/abgeordnete18/biografien/G/gunkel_wolfgang.html']: 3\n",
      "[u'http://www.bundestag.de/bundestag/abgeordnete18/biografien/G/groneberg_gabriele/261682']: 3\n",
      "[u'http://www.bundestag.de/bundestag/abgeordnete18/biografien/G/goering_eckardt_katrin/258372']: 3\n",
      "[u'http://www.bundestag.de/bundestag/abgeordnete18/biografien/G/gohlke_nicole/258410']: 3\n",
      "[u'http://www.telekom-stiftung.de/dts-cms/de/personen/vorstand']: 3\n",
      "[u'http://www.kristinaschroeder.de/zur-person/lebenslauf/']: 3\n",
      "[u'https://www.bankenverband.de/mitglieder/?name=']: 3      \n",
      "[u'http://www.bundestag.de/bundestag/abgeordnete18/biografien/K/kipping_katja/258622']: 3\n",
      "[u'http://www.vfa.de/de/verband-mitglieder']: 3             \n",
      "[u'http://www.eppp.org/cms/index.php?option=com_content&view=article&id=65&Itemid=77&lang=de']: 3\n",
      "[u'http://www.bundestag.de/bundestag/abgeordnete18/biografien/A/alpers_agnes/258128']: 3\n",
      "[u'http://www.bundestag.de/bundestag/abgeordnete18/biografien/S/schmitt_ronja/352884']: 3\n",
      "[u'https://www.atlantik-bruecke.org/ueber-uns/gremien/']: 3 \n",
      "[u'http://www.bundestag.de/bundestag/abgeordnete18/biografien/D/dobrindt_alexander/258284']: 3\n",
      "[u'http://www.thinktankdirectory.org/directory/isg.shtml']: 3\n",
      "[u'http://www.thinktankdirectory.org/directory/dikmu.shtml']: 3\n",
      "[u'http://www.thinktankdirectory.org/directory/biss.shtml']: 3\n",
      "[u'http://www.thinktankdirectory.org/directory/zentrum-fuer-entwicklungsforschung.shtml']: 3\n",
      "[u'http://www.rag.de/vorstand/']: 3                         \n",
      "[u'http://www.thinktankdirectory.org/directory/ar.shtml']: 3\n",
      "[u'http://www.thinktankdirectory.org/directory/oeko.shtml']: 3\n",
      "[u'https://de.wikipedia.org/wiki/The_Body_Shop']: 2         \n",
      "[u'https://de.wikipedia.org/wiki/Bernd_Pischetsrieder']: 2  \n",
      "[u'http://www.bmvg.de/portal/a/bmvg/!ut/p/c4/NYxNC8IwEET_UTaRFqk3a4V69aL1Imm7xIV8lO22XvzxpqAz8ObwYOABudGu5KxQitbDHbqBDv1b9WF1amKcZ_xNIBEkv0SHUVkeXrQ-d9oUcNteRlRDiigbBaNQpmMridWUWPxmFuZsFI3QadPU2uh_zKdqi_OpKvdlc6mvMIVw_ALdIpy8/']: 2\n",
      "[u'http://www.faz.net/aktuell/feuilleton/medien/gutachten-wirft-tochterfirmen-von-ard-und-zdf-marktverzerrung-vor-13789986-p2.html?printPagedArticle=true&utm_content=buffer61a9c&utm_medium=social&utm_source=facebook.com&utm_campaign=buffer']: 2\n",
      "[u'http://media.gm.com/media/de/de/opel/news.detail.html/content/Pages/news/opelcompany/de/opel/executives/karl-thomas-neumann.html']: 2\n",
      "[u'https://bankenverband.de/ueber-uns/aufbau/vorstand/']: 2 \n",
      "[u'https://soziales.hessen.de/ueber-uns/staatssekretaer/mandate-mitgliedschaften-und-nebentaetigkeiten-4']: 2\n",
      "[u'http://www.wik.org/index.php?id=665']: 2                 \n",
      "[u'http://www.ien-berlin.de/']: 2                           \n",
      "[u'http://archiv.ruhr2010.de/ruhr2010-gmbh/management/geschaeftsfuehrung.html']: 2\n",
      "[u'http://www.wiso.uni-hamburg.de/fileadmin/vwl/aussenhandel/internationalewirtschaftsbeziehungen/Team/CV_Straubhaar.pdf']: 2\n",
      "[u'http://www.verfassungsschutz.de/de/das-bfv/aufsicht-und-kontrolle']: 2\n",
      "[u'http://www.energiedialog2050.de/index.php/ueber-uns/satzung/10-der-verein']: 2\n",
      "[u'http://www.ehs-dresden.de/index.php?id=606&username=fischer']: 2\n",
      "[u'http://www.fnr.de/fnr-ueber-uns/fnr/mitglieder/']: 2     \n",
      "[u'http://www.axelspringer.de/artikel/Lebenslauf-Dr.-Mathias-Doepfner_40430.html']: 2\n",
      "[u'http://www.armid.de/armid/beirat/']: 2                   \n",
      "[u'https://www.atlantik-bruecke.org/w/files/dokumente/jahresbericht-2012_2013.pdf']: 2\n",
      "[u'http://agv-move.net/index.php/agv-move/praesidium-und-vorstand']: 2\n",
      "[u'http://www.volkswagenag.com/content/vwcorp/info_center/de/news/2015/04/PM_AR.html']: 2\n",
      "[u'http://www.berliner-zeitung.de/archiv/der-berlin-capital-club-feiert-geburtstag-die-edel-clique-geht-durch-den-nebeneingang,10810590,10041826.html']: 2\n",
      "[u'http://www.lebensmittelkontrolle.de/verbaende/bundesverband']: 2\n",
      "[u'https://presseportal.zdf.de/biografie/Person/dieter-stolte/']: 2\n",
      "[u'http://www.politik-kommunikation.de/personalwechsel/ex-bmf-sprecherin-heider-neue-direktorin-eu-affairs-bei-metro-16159']: 2\n",
      "[u'http://webarchiv.bundestag.de/archive/2007/0206/mdb/mdb15/bio/W/wodarwo0.html']: 2\n",
      "[u'http://www.wiwo.de/koepfe-der-wirtschaft/alexander-dibelius/5286856.html']: 2\n",
      "[u'http://www.bsbd.de/']: 2                                 \n",
      "[u'https://lobbypedia.de/wiki/J%C3%B6rg_Asmussen']: 2       \n",
      "[u'http://www.kloepfel-consulting.com/presse/pressemitteilungen/wolfgang-clement-und-wilfried-mocken/']: 2\n",
      "[u'http://www.dvag.de/dvag/unternehmen/aufsichtsrat-und-beirat/']: 2\n",
      "[u'http://www.akdae.de/Kommission/Organisation/Mitglieder/DoI/Thuermann.pdf']: 2\n",
      "[u'http://www.akdae.de/Kommission/Organisation/Mitglieder/DoI/Schnuch.pdf']: 2\n",
      "[u'http://www.akdae.de/Kommission/Organisation/Mitglieder/DoI/Peter.pdf']: 2\n",
      "[u'http://www.akdae.de/Kommission/Organisation/Mitglieder/DoI/Garbe.pdf']: 2\n",
      "[u'http://www.hr-online.de/website/derhr/home/index.jsp?rubrik=6338&key=standard_document_1293996']: 2\n",
      "[u'http://www.missionost.de/content/ueber-uns#who-we-are']: 2\n",
      "[u'http://www.bll.de/de/mitglieder/unsere-mitglieder/unternehmen-des-handels/_lM']: 2\n",
      "[u'http://www.fraport.de/de/investor-relations/fraport-aktie/basisdaten-aktionaersstruktur.html']: 2\n",
      "[u'http://www.deutsche-saatguterzeuger.de/index.php/foerdermitglieder']: 2\n",
      "[u'http://www.bdsw.de/cms/index.php?option=com_include&Itemid=105']: 2\n",
      "[u'http://www.diehl.com/de/diehl-gruppe/unternehmen/organisation/teilkonzerne.html#c232']: 2\n",
      "[u'http://www.bundesimmobilien.de/6964835/dr_juergen_gehb']: 2\n",
      "[u'http://www.tagesspiegel.de/politik/ein-spd-abgeordneter-gegen-industriefeinde/578130.html']: 2\n",
      "[u'https://www.enbw.com/unternehmen/konzern/ueber-uns/vorstand/index.html']: 2\n",
      "[u'https://www.vda.de/de/verband/organisation/vorstand-praesidium.html']: 2\n",
      "[u'https://www.bankenverband.de/ueber-uns/aufbau/vorstand/']: 2\n",
      "[u'http://www.bund.net/ueber_uns/vorstand/beisitzerinnen/']: 2\n",
      "[u'http://www.stiftung-wuerth.de/web/de/stiftung_wuerth/stiftung/organe_geschaeftsfuehrung/organe_geschaeftsfuehrung.php']: 2\n",
      "[u'http://www.bfr.bund.de/de/lebenslauf_professor_dr__reiner_wittkowski-70019.html']: 2\n",
      "[u'http://www.welt.de/politik/ausland/article138062917/Ein-Oligarch-und-jede-Menge-Ex-Minister-als-Retter.html']: 2\n",
      "[u'http://www.bundestag.de/bundestag/abgeordnete18/biografien/S/straesser_christoph.html']: 2\n",
      "[u'http://www.focus.de/politik/deutschland/politik-einst-kommunist-heut-gruen_aid_614542.html']: 2\n",
      "[u'http://www.progenerika.de/verband/mitglieds-unternehmen/']: 2\n",
      "[u'http://www.bundesimmobilien.de/6964877/dr_gert_leis']: 2 \n",
      "[u'http://www.kulinaria.org/index-kulinaria.html/verband/mitgliedschaften-und-kooperationen']: 2\n",
      "[u'http://www.kernenergie.de/kernenergie/ueber-uns/datf/praesident.php']: 2\n",
      "[u'http://www.landtag-saar.de/_layouts/ProfilSeite/Steckbrief.aspx?Account=LDS\\\\hmaas']: 2\n",
      "[u'http://yasmin-fahimi.de/zur-person/']: 2                 \n",
      "[u'http://www.exxonmobil.com/Germany-German/PA/about_who_management.aspx']: 2\n",
      "[u'http://www.bundestag.de/bundestag/abgeordnete18/biografien/M/-/348978']: 2\n",
      "[u'http://www.stiftung-marktwirtschaft.de/wirtschaft/kommission-steuergesetzbuch/lenkungsgruppe/prof-dr-clemens-fuest.html']: 2\n",
      "[u'http://www.swp-berlin.org/de/wissenschaftler-detail/profile/guido_steinberg.html']: 2\n",
      "[u'http://www.broststiftung.ruhr/stiftung/']: 2             \n",
      "[u'http://www.bfach.de/bankenfachverband.php/cat/59/aid/926/title/Beirat']: 2\n",
      "[u'http://www.katjes.de/impressum.html']: 2                 \n",
      "[u'http://www.bundestag.de/bundestag/abgeordnete18/biografien/G/gysi_gregor/258388']: 2\n",
      "[u'http://www.spdfraktion.de/abgeordnete/merten?wp=15']: 2  \n",
      "[u'http://www.bundesregierung.de/Content/DE/Biographien/biographie-steffen-seibert.html']: 2\n",
      "[u'http://www.zew.de/de/mitarbeiter/cfu']: 2                \n",
      "[u'http://www.politik-kommunikation.de/personalwechsel/roeseler-leitet-hauptstadtrepraesentanz-der-deutschen-post-dhl-16597']: 2\n",
      "[u'http://www.bayer.de/de/thomas-fischer.aspx']: 2          \n",
      "[u'http://dip.bundestag.de/btd/18/037/1803757.pdf']: 2      \n",
      "[u'http://www.hbk-bs.de/imperia/md/content/hbk/hbk/hochschule/organisation/hochschulrat/vita_prof_dr_fuest_clemens.pdf']: 2\n",
      "[u'http://ec.europa.eu/transparencyregister/public/consultation/displaylobbyist.do?id=47831085867-54&locale=de']: 2\n",
      "[u'http://www.thinktankdirectory.org/directory/walther-rathenau-institut.shtml']: 2\n",
      "[u'http://www.thinktankdirectory.org/directory/pbp.shtml']: 2\n",
      "[u'http://www.thinktankdirectory.org/directory/mpifg.shtml']: 2\n",
      "[u'http://www.manager-magazin.de/unternehmen/karriere/a-462941.html']: 2\n",
      "[u'http://www.thinktankdirectory.org/directory/mpi.shtml']: 2\n",
      "[u'http://www.johanna-quandt-stiftung.de/index2.html#kuratorium']: 2\n",
      "[u'http://www.thinktankdirectory.org/directory/zerp.shtml']: 2\n",
      "[u'http://www.thinktankdirectory.org/directory/sma.shtml']: 2\n",
      "[u'http://www.thinktankdirectory.org/directory/iwe.shtml']: 2\n",
      "[u'http://www.kmweg.de/impressum.html']: 2                  \n",
      "[u'https://www.flughafenkassel.de/unternehmen/die-flughafen-gmbh/zahlen-daten-fakten/']: 2\n",
      "[u'http://www.derivateverband.de/DEU/Verband/Strategic_Board']: 2\n",
      "[u'http://www.icij.org/journalists/georg-mascolo']: 2       \n",
      "[u'http://www.thinktankdirectory.org/directory/ifo.shtml']: 2\n",
      "[u'http://www.thinktankdirectory.org/directory/iat.shtml']: 2\n",
      "[u'http://www.bee-ev.de/home/verband/mitglieder/']: 2       \n",
      "[u'http://www.thinktankdirectory.org/directory/fio.html']: 2\n",
      "[u'http://www.thinktankdirectory.org/directory/european-council-on-foreign-relations.shtml']: 2\n",
      "[u'http://www.thinktankdirectory.org/directory/iftus.shtml']: 2\n",
      "[u'http://www.thinktankdirectory.org/directory/abi.shtml']: 2\n",
      "[u'http://www.bundestag.de/bundestag/abgeordnete18/biografien/H/hofreiter_anton/258488']: 2\n",
      "[u'http://www.thinktankdirectory.org/directory/fifo.shtml']: 2\n",
      "[u'http://www.thinktankdirectory.org/directory/iwp.shtml']: 2\n",
      "[u'http://www.maxingvest.de/index.php?id=3&language=1']: 2  \n",
      "[u'http://diepresse.com/home/politik/aussenpolitik/4676542/Wie-Michael-Spindelegger-die-Ukraine-modernisieren-soll']: 2\n",
      "[u'http://www.thinktankdirectory.org/directory/fnst.shtml']: 2\n",
      "[u'https://de.wikipedia.org/wiki/Werner_Upmeier']: 1        \n",
      "[u'http://www.olympic.org/mr-thomas-bach']: 1               \n",
      "[u'http://www.rib-ev.de/rib-ev/die-arbeit-des-rib-ev/']: 1  \n",
      "[u'http://www.carl-walther.de/cw.php?lang=de&content=imprint']: 1\n",
      "[u'http://www.bafa.de/bafa/de/das_bafa/praesident.html']: 1 \n",
      "[u'http://foerderportal.bund.de/foekat/jsp/SucheAction.do?actionMode=view&fkz=03ET6045A']: 1\n",
      "[u'http://foerderportal.bund.de/foekat/jsp/SucheAction.do?actionMode=view&fkz=03ET6048A']: 1\n",
      "[u'http://foerderportal.bund.de/foekat/jsp/SucheAction.do?actionMode=view&fkz=0327889A']: 1\n",
      "[u'http://foerderportal.bund.de/foekat/jsp/SucheAction.do?actionMode=view&fkz=0327889B']: 1\n",
      "[u'http://www.faz.net/aktuell/wirtschaft/vw-abgasskandal/blume-heisst-der-neue-mr-porsche-13823844.html']: 1\n",
      "[u'http://www.daimler.com/dccom/0-5-78470-49-1274561-1-0-0-0-0-0-0-0-0-0-0-0-0-0-0.html']: 1\n",
      "[u'http://www.bmwi.de/DE/Ministerium/beiraete,did=639536.html']: 1\n",
      "[u'http://www.tagesschau.de/wirtschaft/audi-113.html']: 1   \n",
      "[u'https://de.wikipedia.org/wiki/Audi']: 1                  \n",
      "[u'https://www.bundesfinanzministerium.de/Content/DE/Pressemitteilungen/Finanzpolitik/2013/03/2013-03-18-PM23.html']: 1\n",
      "[u'http://www.bmi.bund.de/DE/Ministerium/Beamtete-Staatssekretaere/Emily-Haber/emily-haber_node.html']: 1\n",
      "[u'http://www.bmwi.de/DE/Presse/pressemitteilungen,did=611028.html']: 1\n",
      "[u'http://www.bosch.com/de/com/bosch_group/supervisory_council/franz_fehrenbach/franz-fehrenbach.html']: 1\n",
      "[u'http://www.swp-berlin.org/de/ueber-uns/finanzierung-der-swp.html']: 1\n",
      "[u'http://www.vdl.de/presse/meldungen/2015/08/14181.php']: 1\n",
      "[u'http://www.leb-bw.de/ueber-den-leb/vorstand']: 1         \n",
      "[u'http://www.hr-online.de/website/derhr/home/index.jsp?rubrik=6338&key=standard_document_1293772']: 1\n",
      "[u'http://www.hr-online.de/website/derhr/home/index.jsp?rubrik=6338&key=standard_document_1293982']: 1\n",
      "[u'http://www.hr-online.de/website/derhr/home/index.jsp?rubrik=6338&key=standard_document_1293748']: 1\n",
      "[u'http://www.hr-online.de/website/derhr/home/index.jsp?rubrik=6338&key=standard_document_1293202']: 1\n",
      "[u'http://www.hr-online.de/website/derhr/home/index.jsp?rubrik=6338&key=standard_document_1293988']: 1\n",
      "[u'http://www.hr-online.de/website/derhr/home/index.jsp?rubrik=6326']: 1\n",
      "[u'http://www.zeit.de/2011/13/Kretschmann/seite-2']: 1      \n",
      "[u'http://www.hr-online.de/website/derhr/home/index.jsp?rubrik=6328&key=standard_document_42087843']: 1\n",
      "[u'http://www.hr-online.de/website/derhr/home/index.jsp?rubrik=6328&key=standard_document_1287002']: 1\n",
      "[u'http://www.hr-online.de/website/derhr/home/index.jsp?rubrik=6328&key=standard_document_3728654']: 1\n",
      "[u'http://www.hr-online.de/website/derhr/home/index.jsp?rubrik=6328&key=standard_document_1293270']: 1\n",
      "[u'http://www.hr-online.de/website/derhr/home/index.jsp?rubrik=6328&key=standard_document_1293038']: 1\n",
      "[u'http://www.hr-online.de/website/derhr/home/index.jsp?rubrik=6328&key=standard_document_1293032']: 1\n",
      "[u'http://www.hr-online.de/website/derhr/home/index.jsp?rubrik=6328&key=standard_document_3728590']: 1\n",
      "[u'http://www.hr-online.de/website/derhr/home/index.jsp?rubrik=6328&key=standard_document_1287736']: 1\n",
      "[u'http://www.hr-online.de/website/derhr/home/index.jsp?rubrik=6328&key=standard_document_1287678']: 1\n",
      "[u'http://www.hr-online.de/website/derhr/home/index.jsp?rubrik=6328&key=standard_document_1287648']: 1\n",
      "[u'http://www.hr-online.de/website/derhr/home/index.jsp?rubrik=6328&key=standard_document_1287600']: 1\n",
      "[u'http://www.hr-online.de/website/derhr/home/index.jsp?rubrik=6328&key=standard_document_1287358']: 1\n",
      "[u'http://www.hr-online.de/website/derhr/home/index.jsp?rubrik=6328&key=standard_document_1287332']: 1\n",
      "[u'http://www.hr-online.de/website/derhr/home/index.jsp?rubrik=6328&key=standard_document_3728464']: 1\n",
      "[u'http://www.hr-online.de/website/derhr/home/index.jsp?rubrik=6328&key=standard_document_50764095', u'https://staatskanzlei.hessen.de/berlin-europa/lucia-puttrich/lebenslauf/mandate-mitgliedschaften-und-nebentaetigkeiten']: 1\n",
      "[u'http://www.hr-online.de/website/derhr/home/index.jsp?rubrik=6324']: 1\n",
      "[u'http://www.hr-online.de/website/derhr/home/index.jsp?rubrik=6338&key=standard_document_1657410']: 1\n",
      "[u'http://www.schilderueberwachungsverein.de/impressum/']: 1\n",
      "[u'http://www.die-partei.de/koepfe/']: 1                    \n",
      "[u'http://www.presseportal.de/pm/39474/657449']: 1          \n",
      "[u'http://inka.htw-berlin.de/inka/constanze/']: 1           \n",
      "[u'http://www.deutsche-annington.com/de/artikel/da_web_artikel_de_478402.html']: 1\n",
      "[u'http://www.strukturgesellschaft.de/?loc=60']: 1          \n",
      "[u'http://www.hr-online.de/website/derhr/home/index.jsp?rubrik=6328&key=standard_document_50763847']: 1\n",
      "[u'http://www.hr-online.de/website/extern/rundfunkrat/index.jsp?rubrik=45412&key=standard_document_1293638']: 1\n",
      "[u'https://presse.de-cix.net/releases/pressemitteilung/article/statement-de-cix-internetknoten-sind-keine-selbstbedienungslaeden-fuer-behoerdliche-datensauger/']: 1\n",
      "[u'http://www.bfr.bund.de/de/das_bundesinstitut_fuer_risikobewertung__bfr_-280.html']: 1\n",
      "[u'https://staatskanzlei.hessen.de/berlin-europa/lucia-puttrich/lebenslauf/mandate-mitgliedschaften-und-nebentaetigkeiten']: 1\n",
      "[u'https://wirtschaft.hessen.de/ueber-uns/minister/mandate-mitgliedschaften-und-nebentaetigkeiten']: 1\n",
      "[u'http://www.gpluseurope.com/en/people/silvana-koch-mehrin.php']: 1\n",
      "[u'https://www.stiftung-mercator.de/de/presse/mitteilungen/nachrichten/winfried-kneip-und-andre-wilkens-wechseln-in-die-stiftung-mercator/']: 1\n",
      "[u'https://www.kfw.de/KfW-Konzern/Newsroom/Aktuelles/Pressemitteilungen/Pressemitteilungen-Details_203840.html']: 1\n",
      "[u'http://www.bauernverband.de/geschaeftsfuehrung']: 1      \n",
      "[u'http://www.bundesliga-stiftung.de/stiftung/gremien/wolfgang-niersbach']: 1\n",
      "[u'http://www.ecfr.eu/about/council']: 1                    \n",
      "[u'http://www.schalast.com/moenikes']: 1                    \n",
      "[u'http://www.schalast.com/nanda']: 1                       \n",
      "[u'http://www.schalast.com/berlin']: 1                      \n",
      "[u'http://www.travelindustryclub.de/go/board']: 1           \n",
      "[u'http://www.stiftung-wuerth.de/web/de/stiftung_wuerth/stiftung/foerdervolumen/foerdervolumen.php']: 1\n",
      "[u'http://www.securitas.com/de/de/ueber-securitas/organisation/management/manfred-buhl/']: 1\n",
      "[u'http://www.bundesbank.de/Navigation/DE/Bundesbank/Aufgaben_und_Organisation/Historisches/55_Jahre_Bundesbank/Praesidentengalerie/Jens_Weidmann/jens_weidmann.html']: 1\n",
      "[u'https://www.bundesbank.de/Redaktion/DE/Lebenslaeufe/buch_claudia.html']: 1\n",
      "[u'https://www.socialpolitik.de/De/engerer-vorstand']: 1    \n",
      "[u'https://www.lobbycontrol.de/2010/11/die-non-toxic-solar-alliance-fragwurdige-schopfung-einer-lobbyagentur/']: 1\n",
      "[u'http://www.tagung-public-affairs.de/2012/05/04/dr-thomas-bagger-auswartiges-amt/']: 1\n",
      "[u'http://www.broststiftung.ruhr/stiftung/gremien/vorstand/']: 1\n",
      "[u'http://www.bahlsen.com/verantwortung/']: 1               \n",
      "[u'https://www.linkedin.com/pub/hartmut-kn%C3%BCppel/a2/88/91b']: 1\n",
      "[u'http://www.derivateverband.de/DEU/Verband/Vorstand']: 1  \n",
      "[u'http://www.ard.de/home/intern/presse/pressearchiv/Rainald_Becker_wird_neuer_ARD_Chefredakteur/1803430/index.html']: 1\n",
      "[u'https://www.vodafone-stiftung.de/vodafone_stiftung_beirat.html']: 1\n",
      "[u'http://www.corestate-capital.ch/corestate-appoints-christian-wulff-as-senior-advisor/?lang=de']: 1\n",
      "[u'http://www.bundespraesident.de/DE/Bundespraesident-Joachim-Gauck/bundespraesident-joachim-gauck-node.html']: 1\n",
      "[u'http://www.bmwi.de/DE/Ministerium/Minister-und-Staatssekretaere/Beamtete-Staatssekretaere/matthias-machnig.html']: 1\n",
      "[u'http://www.dlr.de/dlr/desktopdefault.aspx/tabid-10329']: 1\n",
      "[u'http://www.ingo-senftleben.de/index.php?ka=5&ska=30']: 1 \n",
      "[u'https://d-64.org/verein/beirat/']: 1                     \n",
      "[u'http://www.cicero.de/kapital/schilderueberwachungsverein-verkehrssicherheit-mit-gschmaeckle/58271']: 1\n",
      "[u'https://d-64.org/verein/vorstand/']: 1                   \n",
      "[u'http://www.brotzeitfuerkinder.com/index.php?option=com_content&view=article&id=74&Itemid=510&lang=de']: 1\n",
      "[u'http://www.markus-loening.de/ueber-uns.php']: 1          \n",
      "[u'http://www.gaulydittrichvandeweyer.com/unternehmen_partner/']: 1\n",
      "[u'http://www.wec-gmbh.com/de/index.html']: 1               \n",
      "[u'http://www.i-unit.de/profil/berater/florian-bernschneider.html']: 1\n",
      "[u'http://www.maria-michalk.de/lebenslauf0.0.html']: 1      \n",
      "[u'http://www.florian-bernschneider.de/startseite/']: 1     \n",
      "[u'http://www.sanofi.de/l/de/de/layout.jsp?cnt=A82C2596-F8E4-4496-93AC-E91C50E06B7A']: 1\n",
      "[u'https://www.bsi.bund.de/DE/DasBSI/DerPraesident/derpraesident_node.html']: 1\n",
      "[u'http://www.verfassungsschutz.de/de/das-bfv/amtsleitung/biografie-praesident-dr-maassen']: 1\n",
      "[u'http://www.wiwo.de/koepfe-der-wirtschaft/anshu-jain/5287308.html']: 1\n",
      "[u'http://www.bka.de/nn_206338/DE/DasBKA/Amtsleitung/PRMuench/prMuench__node.html?__nnn=true']: 1\n",
      "[u'http://www.cdu-schwaigern.de/index.php?ka=1&ska=profil&pid=2']: 1\n",
      "[u'http://www.hamburgsud.com/group/de/corporatehome/pressmedia/photogallery/executiveboard_1/executiveboard_4.html']: 1\n",
      "[u'http://www.taz.de/!5163666/']: 1                         \n",
      "[u'http://www.auer-lighting.com/site/de/187/eingliederung-in-die-adlt-gruppe.html']: 1\n",
      "[u'http://www.energiedienst.de/cms/unternehmen/ueber-uns/ed-gruppe.php']: 1\n",
      "[u'https://www.kabeldeutschland.com/de/unternehmen/corporate-governance/vorstand.html']: 1\n",
      "[u'https://www.cducsu.de/abgeordnete/anke-eymer']: 1        \n",
      "[u'https://www.bundestag.de/bundestag/abgeordnete18/biografien/G/grindel_reinhard/258426']: 1\n",
      "[u'http://www.bnd.bund.de/DE/Einblicke/Aufbauorganisation/Praesident/praesident_node.html']: 1\n",
      "[u'https://lobbypedia.de/wiki/Josef_Ackermann']: 1          \n",
      "[u'https://d-64.org/']: 1                                   \n",
      "[u'http://www.telekom-stiftung.de/dts-cms/de']: 1           \n",
      "[u'https://www.wirtschaftsrat.de/wirtschaftsrat.nsf/id/ehrenmitglieder-de']: 1\n",
      "[u'http://www.depv.de/de/verbandsprofil/verbandsstruktur/geschaeftsfuehrung/']: 1\n",
      "[u'http://www.ddvg.de/']: 1                                 \n",
      "[u'http://www.karl-josef-laumann.de/index.php?option=com_content&view=article&id=4&Itemid=3']: 1\n",
      "[u'http://www.firma.de/das-team/']: 1                       \n",
      "[u'http://www.bilfinger.com/unternehmen/aufsichtsrat/dr-eckhard-cordes/']: 1\n",
      "[u'http://www.leipa.de/de/impressum.php?catS=12']: 1        \n",
      "[u'http://www.sueddeutsche.de/politik/ruestung-von-der-leyens-milliardenauftrag-1.2478345']: 1\n",
      "[u'http://bundestag.de/blob/189476/7916dd657b28fa0fe03ea8cf180c0f86/lobbylisteaktuell-data.pdf']: 1\n",
      "[u'http://www1.wdr.de/unternehmen/organisation/struktur/joerg-schoenenborn100.html']: 1\n",
      "[u'http://www.bertelsmann.de/bereiche/gruner-jahr/#st-1']: 1\n",
      "[u'http://www.atlantik-bruecke.org/w/files/dokumente/120628_jahresbericht_2012.pdf']: 1\n",
      "[u'https://presseportal.zdf.de/biografie/Person/theo-koll/']: 1\n",
      "[u'http://www.bpb.de/die-bpb/51753/praesident']: 1          \n",
      "[u'http://www.berlincapitalclub.de/der-club/']: 1           \n",
      "[u'http://www.debrige.de/k\\xf6nigswinter-conference/']: 1   \n",
      "[u'https://www.lobbyradar.de/station/#/persons']: 1         \n",
      "[u'http://www.sueddeutsche.de/medien/theo-sommer-wird-ein-leben-mit-der-zeit-1.956301']: 1\n",
      "[u'http://www.zdf.de/ZDF/zdfportal/web/ZDF.de/heute-journal/2942490/6063994/aa525f/Die-Moderatoren.html']: 1\n",
      "[u'http://www.csu-portal.de/csunet/wer_wir_sind/index.htm']: 1\n",
      "[u'https://lobbypedia.de/wiki/Tim_Arnold']: 1               \n",
      "[u'http://de.wikipedia.org/wiki/Christoph_Henkel']: 1       \n",
      "[u'http://www.lebensmittelzeitung.net/news/messenews/Lorenz-Bahlsen-Tauscht-Geschaeftsfuehrung-aus_84676.html']: 1\n",
      "[u'http://www.redner.de/prof-dr-ing-e-h-hans-olaf-henkel-redner/']: 1\n",
      "[u'http://www.amnesty.de/umleitung/2000/deu05/198?lang=de&mimetype=text/html&destination=suche%3Fwords%3Dhans-olaf%2Bhenkel%26search_x%3D0%26search_y%3D0%26search%3DSuchen%26form_id%3Dai_search_form_block']: 1\n",
      "[u'http://de.wikipedia.org/wiki/Hans-Olaf_Henkel']: 1       \n",
      "[u'http://www.dfv-sachsen.de/78.html']: 1                   \n",
      "[u'http://www.elmarbrok.de/person']: 1                      \n",
      "[u'http://www.bertelsmann.de/unternehmen/aufsichtsrat/index.jsp#tab-1']: 1\n",
      "[u'http://www.wall.de/de/press/news/neubesetzungen_im_aufsichtsrat_der_wall_ag']: 1\n",
      "[u'http://www.bundesregierung.de/ContentArchiv/DE/Archiv17/Artikel/2012/07/2012-07-03-atlantik-bruecke-merkel.html']: 1\n",
      "[u'http://sylvia-yvonne-kaufmann.de/ueber-mich/lebenslauf']: 1\n",
      "[u'http://www.ard.de/home/intern/presse/pressearchiv/Tina_Hassel_wird_Chefredakteurin_des_Hauptstadtstudios/900242/index.html']: 1\n",
      "[u'https://bundestag.de/blob/189476/7916dd657b28fa0fe03ea8cf180c0f86/lobbylisteaktuell-data.pdf']: 1\n",
      "[u'http://ir.stroeer.com/websites/stroeer/German/222/news.html?newsID=1104681']: 1\n",
      "[u'http://www.douglas-holding.com/index.php?id=520']: 1     \n",
      "[u'http://www.humanistische-union.de/wir_ueber_uns/verein/vorstand/']: 1\n",
      "[u'http://www.gefdab.org/node/4']: 1                        \n",
      "[u'http://www.diw.de/de/diw_01.c.10839.de/ueber_uns/menschen_am_diw_berlin/kemfert_claudia.html']: 1\n",
      "[u'http://www.verband-rauchtabak.de/dervdr/gremien/']: 1    \n",
      "[u'http://www.sueddeutsche.de/geld/klage-gegen-us-bank-goldman-sachs-faellt-in-ungnade-1.937923']: 1\n",
      "[u'http://www.atlantik-bruecke.org/w/files/dokumente/jb-0910-final.pdf']: 1\n",
      "[u'http://www.wincor-nixdorf.com/internet/site_CH/DE/WincorNixdorf/InvestorRelations/Konzerninformationen/Aufsichtsrat/Aufsichtsrat_node.html']: 1\n",
      "[u'http://www.dew21.de/Impressum']: 1                       \n",
      "[u'http://www.elizabeth-haub.com/cms/front_content.php?idart=53']: 1\n",
      "[u'https://www.bundestag.de/bundestag/abgeordnete18/biografien/G/griese_kerstin/258406']: 1\n",
      "[u'https://www.dvag.de/dvag/unternehmen/aufsichtsrat-und-beirat/']: 1\n",
      "[u'http://www.horizont.net/agenturen/nachrichten/-Fischer-Appelt-gewinnt-PR-Etat-von-ARD-und-ZDF-fuer-neues-Gebuehrenmodell-103600']: 1\n",
      "[u'http://www.ece.de/unternehmen/organisation/management-board/']: 1\n",
      "[u'http://www.atlantik-bruecke.org/informationen/videos/interview-mit-bundeskanzlerin-dr-angela-merkel/']: 1\n",
      "[u'http://de.wikipedia.org/wiki/ZDF-Verwaltungsrat']: 1     \n",
      "[u'http://www.deutsch-russisches-forum.de/fileadmin/image_archive/Pressemitteilungen/PM_02_2014.pdf']: 1\n",
      "[u'http://www.aspeninstitute.de/wp-content/uploads/Aspen+Annual+Report+2007-2008.pdf']: 1\n",
      "[u'https://www.ripplelabs.com/advisors/']: 1                \n",
      "[u'http://www.ihk-berlin.de/linkableblob/bihk24/servicemarken/ueber_uns/downloads/828742/.69./data/organigramm-data.pdf']: 1\n",
      "[u'https://de.wikipedia.org/wiki/Nikolaus_Schweickart']: 1  \n",
      "[u'http://www.freshfields.com/profiles/Matthias_Koch/']: 1  \n",
      "[u'https://de.wikipedia.org/wiki/Anke_Sch%C3%A4ferkordt']: 1\n",
      "[u'http://de.wikipedia.org/wiki/Helga_Weinberger']: 1       \n",
      "[u'http://www.akdae.de/Kommission/Organisation/Mitglieder/DoI/Wille.pdf']: 1\n",
      "[u'http://www.akdae.de/Kommission/Organisation/Mitglieder/DoI/Trampisch.pdf']: 1\n",
      "[u'http://www.politik-kommunikation.de/personalwechsel/burdinski-leitet-opel-haupstadtrepraesentanz']: 1\n",
      "[u'http://www.akdae.de/Kommission/Organisation/Mitglieder/DoI/Mueller.pdf']: 1\n",
      "[u'http://www.akdae.de/Kommission/Organisation/Mitglieder/DoI/Kochen.pdf']: 1\n",
      "[u'http://www.rezzoschlauch.de/rezzoschlauch/presse/informationsschreiben.pdf']: 1\n",
      "[u'http://www.akdae.de/Kommission/Organisation/Mitglieder/DoI/Anlauf.pdf']: 1\n",
      "[u'https://www.test.de/unternehmen/stiftungsgremien/']: 1   \n",
      "[u'http://www.akdae.de/Kommission/Organisation/Mitglieder/DoI/Dormann.pdf']: 1\n",
      "[u'http://kress.de/kresskoepfe/kopf/profil/31102-wolf-osthaus.html']: 1\n",
      "[u'https://www.bundestag.de/bundestag/abgeordnete18/biografien/G/gysi_gregor/258388']: 1\n",
      "[u'http://www.florian-hahn.de/mein-profil/lebenslauf.html']: 1\n",
      "[u'http://www.ibm.com/ibm/de/de/?lnk=fui-iide-dede']: 1     \n",
      "[u'https://www.thalesgroup.com/en/germany/executive-committee-germany']: 1\n",
      "[u'http://www.bpa-coalition.org/about-us/']: 1              \n",
      "[u'http://www.vfw-berlin-mitte.de/']: 1                     \n",
      "[u'http://www.gfw-ev.de/informationen/vorstand.htm']: 1     \n",
      "[u'http://dip.bundestag.de/btd/17/146/1714625.pdf']: 1      \n",
      "[u'http://dip21.bundestag.de/dip21/btd/18/033/1803386.pdf']: 1\n",
      "[u'https://www.ifw-kiel.de/das-ifw/management-board']: 1    \n",
      "[u'http://www.vodafone.de/unternehmen/aufsichtsrat.html']: 1\n",
      "[u'http://www.spiegel.de/wirtschaft/unternehmen/volkswagen-hans-dieter-poetsch-ist-neuer-aufsichtsratschef-a-1056668.html']: 1\n",
      "[u'http://www.handelsblatt.com/unternehmen/it-medien/softwarekonzern-sap-gewerkschaften-gewinnen-bei-sap-aufsichtsratswahl/11335154.html']: 1\n",
      "[u'http://www.vdl.de/presse/meldungen/2015/08/14189.php']: 1\n",
      "[u'http://www.audi.com/corporate/de/unternehmen/unternehmensleitung/vorstand.html']: 1\n",
      "[u'http://www.kbv.de/html/432.php']: 1                      \n",
      "[u'https://www.audi-mediacenter.com/de/pressemitteilungen/ulrich-hackenberg-ab-1-juli-2013-neuer-entwicklungschef-der-audi-ag-1396']: 1\n",
      "[u'https://staatskanzlei.hessen.de/ueber-uns/sprecher-der-landesregierung/mandate-mitgliedschaften-und-nebentaetigkeiten']: 1\n",
      "[u'http://diepresse.com/home/politik/aussenpolitik/4677503/Spindelegger-braucht-nicht-gewaehlt-werden?from=suche.intern.portal']: 1\n",
      "[u'https://www.sicher-im-netz.de/vorstand']: 1              \n",
      "[u'http://www.sap.com/germany/about/management.html']: 1    \n",
      "[u'http://www.diw.de/de/diw_01.c.414852.de/ueber_uns/menschen_am_diw_berlin/fratzscher_marcel.html']: 1\n",
      "[u'http://www.bll.de/de/mitglieder/unsere-mitglieder/industrielle-unternehmen/_lN']: 1\n",
      "[u'http://www.bp.com/de/bp-europa-se/das-management-der-bp-europa-se/michael-schmidt.html']: 1\n",
      "[u'http://www.bosch-presse.de/presseforum/modules/oragetblob.dll/PI6348.pdf?db=TBWebDB&item=TBWebDB_texpdf&id=3764,1&dispo=a']: 1\n",
      "[u'http://www.milchindustrie.de/verband/unsere-mitglieder/']: 1\n",
      "[u'http://www.ergo.com/de/Unternehmen/Overview/Management/Dr-Torsten-Oletzky']: 1\n",
      "[u'http://www.abda.de/fileadmin/assets/Lebenslaeufe/vita_graf.pdf']: 1\n",
      "[u'http://www.bdsi.de/der-verband/mitglieder/foerdermitglieder/']: 1\n",
      "[u'http://www.ludwig-erhard-stiftung.de/die-stiftung/mitglieder/']: 1\n",
      "[u'http://www.stiftung-marktwirtschaft.de/inhalte/steuergesetzbuch.html']: 1\n",
      "[u'http://www.stiftung-marktwirtschaft.de/wirtschaft/kommission-steuergesetzbuch/lenkungsgruppe/prof-dr-joachim-lang.html']: 1\n",
      "[u'http://www.stiftung-marktwirtschaft.de/wirtschaft/kommission-steuergesetzbuch/politischer-beirat/friedrich-merz.html']: 1\n",
      "[u'http://www.stiftung-marktwirtschaft.de/wirtschaft/kommission-steuergesetzbuch/politischer-beirat/dr-hermann-otto-solms-mdb.html']: 1\n",
      "[u'http://www.iwmedien.de/das-machen-wir/kunden']: 1        \n",
      "[u'http://www.deininger.de/de/wir-ueber-uns.html']: 1       \n",
      "[u'http://www.zia-deutschland.de/ueber-den-zia/organisation/praesidium/']: 1\n",
      "[u'http://www.ang-online.com/vorstand.html']: 1             \n",
      "[u'http://jugendgegenaids.de/index.php/aktuelles/detail/jga-setzt-neue-ma-st-be-in-hiv-pr-vention/']: 1\n",
      "[u'http://www.rheinmetall.com/de/rheinmetall_ag/group/management/executive_board_3/vorstand_1.php']: 1\n",
      "[u'http://www.arbeitgeber.de/www/arbeitgeber.nsf/id/de_unsere-mitglieder']: 1\n",
      "[u'http://airbusdefenceandspace.com/executive-committee/']: 1\n",
      "[u'http://www.airbusgroup.com/int/en/group-vision/governance/executive-commitee.html']: 1\n",
      "[u'http://www.zdf.de/zdf-fernsehrat-funktion-vorsitz-und-mitglieder-25100018.html', u'http://modultool4.zdf.de/public/Fernsehrat__Gesamtuebersicht/index.html']: 1\n",
      "[u'http://www.berlin.de/rbmskzl/rathausaktuell/archiv/2007/11/06/88418/']: 1\n",
      "[u'http://www.deekeling-arndt.de/de/ueber-uns/presse.html']: 1\n",
      "[u'https://de.wikipedia.org/wiki/Varta_Microbattery#Volkswagen_VARTA_Microbattery_Forschungsgesellschaft']: 1\n",
      "[u'http://www.europa-union.de/eud/news/europa-union-baden-wuerttemberg-im-swr-rundfunkrat-vertreten/']: 1\n",
      "[u'http://www.hessischer-landtag.de/icc/Internet/nav/41f/broker.jsp?uMen=41f20ebc-149b-9a11-a7c5-ab364cc4b0fe&uTem=aaaaaaaa-aaaa-aaaa-bbbb-000000000016&class=net.icteam.cms.utils.externalContents.ExternalContentManager;lookup=hai&view=abgDetail&blaettern=true&abgID=63']: 1\n",
      "[u'http://www.wiwi.uni-frankfurt.de/fileadmin/images/01_Fachbereich/Dies_Academicus_2012/Dokumente/Laudatio_Schweikart.pdf']: 1\n",
      "[u'http://www.faz.net/aktuell/politik/clement-austritt-eine-katastrophe-fuer-die-spd-1727096.html']: 1\n",
      "[u'http://www.weforum.org/content/leadership-team']: 1      \n",
      "[u'http://www.freieberufe-bayern.de/wir-ueber-uns/praesidium-geschaeftsstelle/18-praesidium-geschaeftsstelle/praesidum-geschaeftsstelle/65-christa-baumgartner-dipl-ing-fh.html']: 1\n",
      "[u'http://gsv-verkehrundumwelt.de/index.php?id=14']: 1      \n",
      "[u'http://www.konvent-fuer-deutschland.de/deu/medien_und_presse/pressemeldungen/home.asp?ID=1634']: 1\n",
      "[u'http://www.spiegel.de/politik/deutschland/bundeswehr-ursula-von-der-leyen-ruestet-an-der-cyber-front-auf-a-1042985.html']: 1\n",
      "[u'http://www.brandrepublic.com/article/153889/hill---knowlton-recruits-hewlett-packard-account-head']: 1\n",
      "[u'https://www.allianzdeutschland.de/unternehmen/vorstand/']: 1\n",
      "[u'http://www.abgeordnetenwatch.de/daniel_bahr-575-37457---nebentaetigkeiten.html']: 1\n",
      "[u'https://www.daad.de/der-daad/organisationsstruktur/praesidentin/de/33453-praesidentin/']: 1\n",
      "[u'http://dip21.bundestag.de/dip21/btd/18/003/1800335.pdf']: 1\n",
      "[u'http://www.kbv.de/html/7298.php']: 1                     \n",
      "[u'http://www.atlantik-bruecke.org/service/dokumente/where-thirst-for-knowledge-meets-food-for-thought.pdf']: 1\n",
      "[u'http://www.vzbv.de/ueber-uns/verwaltungsrat']: 1         \n",
      "[u'http://www.alba.info/unternehmen/ueber-uns/vorstand/dr-eric-schweitzer.html']: 1\n",
      "[u'https://de.wikipedia.org/wiki/Dietmar_Hopp']: 1          \n",
      "[u'http://www.bdsv.eu/de/Ueber_uns/Mittelstandsbeauftragter.htm']: 1\n",
      "[u'http://www.stiftung-marktwirtschaft.de/wirtschaft/kommission-steuergesetzbuch/politischer-beirat/georg-fahrenschon.html']: 1\n",
      "[u'http://www.hr-online.de/website/derhr/home/index.jsp?rubrik=6328&key=standard_document_1292936']: 1\n",
      "[u'https://www.bundestag.de/bundestag/abgeordnete18/biografien/W/weber_gabriele/259162']: 1\n",
      "[u'http://www.heckler-koch.com/de/presse/detail/article/heckler-koch-beteiligungsgesellschaft-wird-eine-aktiengesellschaft.html']: 1\n",
      "[u'https://www.dfg-vk.de/kontakte/bundessprecherkreis/']: 1 \n",
      "[u'http://www.ang-online.com/praesidium.html']: 1           \n",
      "[u'www.buchmann.com/']: 1                                   \n",
      "[u'http://www.hr-online.de/website/derhr/home/index.jsp?rubrik=6328&key=standard_document_1287540']: 1\n",
      "[u'http://www.fraport.de/de/konzern/ueber-uns/management-und-organisation.html']: 1\n",
      "[u'http://www.travelindustryclub.de/go/members']: 1         \n",
      "[u'http://www.kommando.streitkraeftebasis.de/portal/a/kdoskb/!ut/p/c4/04_SB8K8xLLM9MSSzPy8xBz9CP3I5EyrpHK94uyk-OyUfL3y1MySlOKS4hK93MQU_YJsR0UABos3fg!!/']: 1\n",
      "[u'http://www.wiwo.de/koepfe-der-wirtschaft/roland-koch/5286302.html']: 1\n",
      "[u'http://www.hr-online.de/website/derhr/home/index.jsp?rubrik=6338&key=standard_document_44764878']: 1\n",
      "[u'http://www.akdae.de/Kommission/Organisation/Mitglieder/DoI/Zieschang.pdf']: 1\n",
      "[u'http://www.bis.org/about/board.htm?m=1|2|2']: 1          \n",
      "[u'https://lobbypedia.de/wiki/Hans-Olaf_Henkel']: 1         \n",
      "[u'http://www.diecrew.de/unsere-crew/']: 1                  \n",
      "[u'http://www.bdi.eu/Recht-und-Versicherung.htm']: 1        \n",
      "[u'http://www.vsw.de/die-vsw/vorstand.html']: 1             \n",
      "[u'http://www.hr-online.de/website/derhr/home/index.jsp?rubrik=6328&key=standard_document_1288094']: 1\n",
      "[u'http://www.zeit.de/2006/24/Kanzleramt_2fmit_Aktuellem']: 1\n",
      "[u'http://www.nestle.com/aboutus/management/boardofdirectors/peterbrabeckletmathe']: 1\n",
      "[u'https://www.umweltbundesamt.de/sites/default/files/medien/376/dokumente/anforderungen_an_ein_luftverkehrskonzept_fuer_deutschland.pdf']: 1\n",
      "[u'http://www.bfr.bund.de/de/praesidium-53757.html']: 1     \n",
      "[u'http://www.suedzucker.de/de/Unternehmen/Vorstand/']: 1   \n",
      "[u'http://www.akdae.de/Kommission/Organisation/index.html']: 1\n",
      "[u'https://www.vfa.de/de/verband-mitglieder/vorstand-gremien']: 1\n",
      "[u'http://www.dkfz.de/de/presse/pressemitteilungen/2014/dkfz-pm-14-48c2-DKFZ-Vorstand-Otmar-Wiestler-zum-neuen-Helmholtz-Praesidenten-gewaehlt.php']: 1\n",
      "[u'http://www.cebit.de/speaker/marcus-isermann/2258']: 1    \n",
      "[u'http://www.rickmers.com/index.php?id=1363&no_cache=1']: 1\n",
      "[u'http://www.spiegel.de/politik/deutschland/afd-bernd-lucke-tritt-aus-der-afd-aus-a-1042730.html']: 1\n",
      "[u'http://www.hr-online.de/website/derhr/home/index.jsp?rubrik=6328&key=standard_document_1286942']: 1\n",
      "[u'http://www.boehringer-ingelheim-stiftung.de/de/ueber-uns/leitbild-und-ziele.html']: 1\n",
      "[u'https://www.bsi.bund.de/DE/DasBSI/Aufgaben/aufgaben_node.html']: 1\n",
      "[u'http://spitzberg-partners.com/team']: 1                  \n",
      "[u'http://www.pen-deutschland.de/de/pen-zentrum-deutschland/mitglieder/']: 1\n",
      "[u'http://www.hr-online.de/website/derhr/home/index.jsp?rubrik=6328&key=standard_document_1288076']: 1\n",
      "[u'http://elephantlogic.de/staff/kajo-wasserhoevel/']: 1    \n",
      "[u'http://www.bmas.de/SharedDocs/Downloads/DE/der-mindestlohn-lebenslaeufe-kommission.pdf?__blob=publicationFile']: 1\n",
      "[u'http://www.ffpr.de/newsroom/2009/11/20/schott-und-fink-fuchs-mit-econ-award-corporate-book-ausgezeichnet/']: 1\n",
      "[u'http://www.hertie-school.org/de/fakultaet-forschung/fakultaet/profile/claudia-kemfert/']: 1\n",
      "[u'http://www.hr-online.de/website/derhr/home/index.jsp?rubrik=6328&key=standard_document_50763951']: 1\n",
      "[u'http://www.bmi.bund.de/SharedDocs/Pressemitteilungen/DE/2015/10/amtsantritt-vitt.html']: 1\n",
      "[u'http://burson-marsteller.de/ueber-uns/management-team/']: 1\n",
      "[u'http://www.maxingvest.de/index.php?id=11&language=1']: 1 \n",
      "[u'http://www.eu-verbraucher.de/de/impressum/?type=270']: 1 \n",
      "[u'http://www.ata-dag.de/ueber-uns/gremien/']: 1            \n",
      "[u'https://www.munzinger.de/search/portrait/Christoph+Heusgen/0/25589.html']: 1\n",
      "[u'http://www.thinktankdirectory.org/directory/zew.shtml']: 1\n",
      "[u'http://www.thinktankdirectory.org/directory/zfkf.shtml']: 1\n",
      "[u'https://de.wikipedia.org/wiki/Eckhard_Cordes#DaimlerChrysler']: 1\n",
      "[u'http://www.thinktankdirectory.org/directory/zei.shtml']: 1\n",
      "[u'http://www.thinktankdirectory.org/directory/wzb.shtml']: 1\n",
      "[u'http://www.thinktankdirectory.org/directory/wsi.shtml']: 1\n",
      "[u'http://www.bundespraesident.de/DE/Die-Bundespraesidenten/Horst-Koehler/horst-koehler-node.html']: 1\n",
      "[u'http://www.thinktankdirectory.org/directory/uni.shtml']: 1\n",
      "[u'http://blog.abgeordnetenwatch.de/2012/07/25/diener-zweier-herren-wie-groskanzleien-die-bundesregierung-in-der-eurokrise-beraten/']: 1\n",
      "[u'http://www.thinktankdirectory.org/directory/upi.shtml']: 1\n",
      "[u'http://www.rwe.com/web/cms/de/703178/rwe/investor-relations/governance/aufsichtsrat/zum-lebenslauf/']: 1\n",
      "[u'http://www.thinktankdirectory.org/directory/szw.shtml']: 1\n",
      "[u'http://www.thinktankdirectory.org/directory/stiftung-ordnungspolitik.shtml']: 1\n",
      "[u'http://www.thinktankdirectory.org/directory/stiftung-neue-verantwortung.shtml']: 1\n",
      "[u'http://www.thinktankdirectory.org/directory/si.shtml']: 1\n",
      "[u'http://www.thinktankdirectory.org/directory/sfz.shtml']: 1\n",
      "[u'http://www.thinktankdirectory.org/directory/ufz.shtml']: 1\n",
      "[u'http://www.thinktankdirectory.org/directory/open-europe-berlin.shtml']: 1\n",
      "[u'http://www.thinktankdirectory.org/directory/oei.shtml']: 1\n",
      "[u'http://www.thinktankdirectory.org/directory/niw.shtml']: 1\n",
      "[u'http://dip.bundestag.de/btd/17/130/1713010.pdf']: 1      \n",
      "[u'http://www.thinktankdirectory.org/directory/irs.shtml']: 1\n",
      "[u'http://www.thinktankdirectory.org/directory/wei.shtml']: 1\n",
      "[u'http://www.hr-online.de/website/derhr/home/index.jsp?rubrik=6328&key=standard_document_43593103']: 1\n",
      "[u'http://www.bpa.de/Aktuelles-Positionen.265.0.html?&no_cache=1&L=0&tx_ttnews[tt_news]=330&cHash=4e49072f0bb5eea368fdedff75c6a5a7']: 1\n",
      "[u'https://www.bundestag.de/bundestag/abgeordnete18/biografien/G/groehe_hermann/258434']: 1\n",
      "[u'http://www.thinktankdirectory.org/directory/taurus.shtml']: 1\n",
      "[u'http://www.thinktankdirectory.org/directory/izt.shtml']: 1\n",
      "[u'http://www.thinktankdirectory.org/directory/nbi.shtml']: 1\n",
      "[u'https://www.wuerth.de/web/de/awkg/unternehmen/reinhold_wuerth/reinhold_wuerth.php']: 1\n",
      "[u'https://www.bundestag.de/bundestag/abgeordnete18/biografien/T/tiefensee_wolfgang/259110']: 1\n",
      "[u'http://www.thinktankdirectory.org/directory/iwg.html']: 1\n",
      "[u'http://www.thinktankdirectory.org/directory/wrs.shtml']: 1\n",
      "[u'http://www.thinktankdirectory.org/directory/ifw.html']: 1\n",
      "[u'https://www.bayerischerbauernverband.de/bezirksbaeuerin-schwaben']: 1\n",
      "[u'https://www.securityconference.de/ueber-uns/organisation/']: 1\n",
      "[u'http://www.thinktankdirectory.org/directory/win.html']: 1\n",
      "[u'https://www.bundestag.de/bundestag/gremien18/auslandseinsaetze/ruehe_biografie/284776']: 1\n",
      "[u'http://www.thinktankdirectory.org/directory/iwh.shtml']: 1\n",
      "[u'http://www.hr-online.de/website/derhr/home/index.jsp?rubrik=6328&key=standard_document_1293542']: 1\n",
      "[u'http://www.thinktankdirectory.org/directory/iuf.shtml']: 1\n",
      "[u'http://www.mwv.de/index.php/pressezentrum/presseinformation/details/29/96']: 1\n",
      "[u'http://www.thinktankdirectory.org/directory/kbi.shtml']: 1\n",
      "[u'http://www.thinktankdirectory.org/directory/soestra.shtml']: 1\n",
      "[u'http://www.thinktankdirectory.org/directory/isf.shtml']: 1\n",
      "[u'http://www.thinktankdirectory.org/directory/ioew.shtml']: 1\n",
      "[u'http://www.clubofrome.de/sup2011/dl-12-kemfert.pdf']: 1  \n",
      "[u'http://www.airbus.com/presscentre/corporate-information/executive-biographies/']: 1\n",
      "[u'http://www.hr-online.de/website/extern/rundfunkrat/index.jsp?rubrik=45412&key=standard_document_1287610']: 1\n",
      "[u'http://www.thinktankdirectory.org/directory/ifmo.shtml']: 1\n",
      "[u'http://www.thinktankdirectory.org/directory/imug.html']: 1\n",
      "[u'http://www.thinktankdirectory.org/directory/ifsh.html']: 1\n",
      "[u'http://www.faz.net/aktuell/wirtschaft/vw-abgasskandal/porsche-chef-matthias-mueller-wird-neuer-vw-chef-13824154.html']: 1\n",
      "[u'http://www.thinktankdirectory.org/directory/ifmk.shtml']: 1\n",
      "[u'http://www.thinktankdirectory.org/directory/idz.shtml']: 1\n",
      "[u'http://www.biodeutschland.org/p---t.html']: 1            \n",
      "[u'http://www.kbv.de/html/7705.php']: 1                     \n",
      "[u'http://www.thinktankdirectory.org/directory/iw-koeln.shtml']: 1\n",
      "[u'http://www.guj.de/unternehmen/geschaeftsfuehrung/geschaeftsfuehrung/']: 1\n",
      "[u'http://www.thinktankdirectory.org/directory/imk.shtml']: 1\n",
      "[u'http://www.thinktankdirectory.org/directory/hss.shtml']: 1\n",
      "[u'http://www.stiftung-marktwirtschaft.de/wirtschaft/kommission-steuergesetzbuch/lenkungsgruppe/prof-dr-bernd-raffelhueschen.html']: 1\n",
      "[u'http://www.thinktankdirectory.org/directory/hr.shtml']: 1\n",
      "[u'http://www.thinktankdirectory.org/directory/hsfk.shtml']: 1\n",
      "[u'http://www.bfw-bund.de/ueber-uns/vorstand/']: 1          \n",
      "[u'http://www.thinktankdirectory.org/directory/hamburgisches-weltwirtschaftsinstitut.shtml']: 1\n",
      "[u'http://www.thinktankdirectory.org/directory/rls.shtml']: 1\n",
      "[u'http://www.thinktankdirectory.org/directory/hui.shtml']: 1\n",
      "[u'http://www.thinktankdirectory.org/directory/giga.shtml']: 1\n",
      "[u'http://www.thinktankdirectory.org/directory/fos.shtml']: 1\n",
      "[u'http://www.thinktankdirectory.org/directory/fiph.shtml']: 1\n",
      "[u'https://www.bayerischerbauernverband.de/bezirkspraesident-oberfranken']: 1\n",
      "[u'http://www.thinktankdirectory.org/directory/esi.shtml']: 1\n",
      "[u'http://www.thinktankdirectory.org/directory/ezm.html']: 1\n",
      "[u'http://www.thinktankdirectory.org/directory/sfs.shtml']: 1\n",
      "[u'http://www.thinktankdirectory.org/directory/efms.shtml']: 1\n",
      "[u'http://de.wikipedia.org/wiki/Wolfgang_Sch%C3%BCssel']: 1 \n",
      "[u'http://www.jcdecaux.de/pressemitteilung+M5b1116df033.html']: 1\n",
      "[u'http://www.thinktankdirectory.org/directory/epi.shtml']: 1\n",
      "[u'http://www.thinktankdirectory.org/directory/risp.shtml']: 1\n",
      "[u'http://www.bundesnetzagentur.de/SharedDocs/Downloads/DE/Sachgebiete/Telekommunikation/Unternehmen_Institutionen/Technik/ATRT/MitgliederlisteATRT.pdf?__blob=publicationFile&v=8']: 1\n",
      "[u'http://www.thinktankdirectory.org/directory/ea.shtml']: 1\n",
      "[u'https://www.man.com/DE/board-of-directors']: 1           \n",
      "[u'http://www.thinktankdirectory.org/directory/isab.shtml']: 1\n",
      "[u'http://www.thinktankdirectory.org/directory/mea.shtml']: 1\n",
      "[u'http://www.thinktankdirectory.org/directory/econwatch.shtml']: 1\n",
      "[u'http://www.bafa.de/bafa/de/']: 1                         \n",
      "[u'http://www.thinktankdirectory.org/directory/dias.shtml']: 1\n",
      "[u'http://www.thinktankdirectory.org/directory/dfi.shtml']: 1\n",
      "[u'http://www.thinktankdirectory.org/directory/hbs.shtml']: 1\n",
      "[u'http://www.thinktankdirectory.org/directory/his.shtml']: 1\n",
      "[u'https://www.ffpr.de/referenzen/projekte']: 1             \n",
      "[u'http://www.thinktankdirectory.org/directory/eco.shtml']: 1\n",
      "[u'http://www.thinktankdirectory.org/directory/iaue.html']: 1\n",
      "[u'https://www.dwt-sgw.de/ueber-die-dwt/foerdernde-mitglieder/buchstabe/B/']: 1\n",
      "[u'http://www.thinktankdirectory.org/directory/zentrum-fuer-gesellschaftlichen-fortschritt.shtml']: 1\n",
      "[u'http://www.thinktankdirectory.org/directory/difu.shtml']: 1\n",
      "[u'http://www.thinktankdirectory.org/directory/ioer.shtml']: 1\n",
      "[u'http://www.in-charge.de/']: 1                            \n",
      "[u'http://www.thinktankdirectory.org/directory/dim.shtml']: 1\n",
      "[u'http://www.thinktankdirectory.org/directory/iamo.html']: 1\n",
      "[u'http://www.thinktankdirectory.org/directory/fes.shtml']: 1\n",
      "[u'http://www.hr-online.de/website/derhr/home/index.jsp?rubrik=6338&key=standard_document_1694436']: 1\n",
      "[u'http://www.thinktankdirectory.org/directory/dientw.shtml']: 1\n",
      "[u'http://www.telecom-ev.de/index.php/willkommen/das-praesidium']: 1\n",
      "[u'http://www.thinktankdirectory.org/directory/foev.shtml']: 1\n",
      "[u'http://www.thinktankdirectory.org/directory/dia.shtml']: 1\n",
      "[u'http://www.thinktankdirectory.org/directory/gppi.shtml']: 1\n",
      "[u'http://www.elizabeth-haub.com/cms/front_content.php?idart=14']: 1\n",
      "[u'http://www.thinktankdirectory.org/directory/iaw.html']: 1\n",
      "[u'http://www.thinktankdirectory.org/directory/dipf.shtml']: 1\n",
      "[u'http://www.thinktankdirectory.org/directory/cpp.shtml']: 1\n",
      "[u'http://www.thinktankdirectory.org/directory/ifm.shtml']: 1\n",
      "[u'http://www.porsche-se.com/pho/de/press/newsarchive2013/?pool=pho&id=2013-03-19']: 1\n",
      "[u'http://www.thinktankdirectory.org/directory/che.shtml']: 1\n",
      "[u'http://www.kbv.de/html/7299.php']: 1                     \n",
      "[u'http://www.heise.de/newsticker/meldung/Facebook-bekommt-deutsche-Lobbyistin-1207075.html']: 1\n",
      "[u'http://www.thinktankdirectory.org/directory/ddi.shtml']: 1\n",
      "[u'http://www.hr-online.de/website/derhr/home/index.jsp?rubrik=6328&key=standard_document_52605129']: 1\n",
      "[u'http://www.thinktankdirectory.org/directory/cep.shtml']: 1\n",
      "[u'http://www.sueddeutsche.de/wirtschaft/kampf-um-glyphosat-wenn-leserbriefe-von-monsanto-als-studien-gelten-1.2570374']: 1\n",
      "[u'http://www.thinktankdirectory.org/directory/progressives-zentrum.shtml']: 1\n",
      "[u'https://www.dkfz.de/de/dkfz/struktur/vorstand.html']: 1  \n",
      "[u'http://www.thinktankdirectory.org/directory/cap.shtml']: 1\n",
      "[u'http://www.thinktankdirectory.org/directory/ifk.html']: 1\n",
      "[u'http://www.stefan-liebich.de/de/topic/131.mitgliedschaften.html']: 1\n",
      "[u'http://www.thinktankdirectory.org/directory/cor.shtml']: 1\n",
      "[u'http://www.thinktankdirectory.org/directory/ivt.shtml']: 1\n",
      "[u'http://www.thinktankdirectory.org/directory/ies.shtml']: 1\n",
      "[u'http://www.ottobock-group.com/de/unternehmen/der-inhaber/']: 1\n",
      "[u'http://www.thinktankdirectory.org/directory/itas.shtml']: 1\n",
      "[u'http://www.schranner.com/de/vortraege/referenten/werner-bayreuther']: 1\n",
      "[u'http://www.thinktankdirectory.org/directory/bicc.shtml']: 1\n",
      "[u'http://de.wikipedia.org/wiki/Benita_Ferrero-Waldner']: 1 \n",
      "[u'http://www.thinktankdirectory.org/directory/bibe.shtml']: 1\n",
      "[u'http://www.thinktankdirectory.org/directory/rufis.shtml']: 1\n",
      "[u'http://www.thinktankdirectory.org/directory/isw.shtml']: 1\n",
      "[u'http://www.thinktankdirectory.org/directory/dieerw.shtml']: 1\n",
      "[u'http://www.loewen.de/meta-menu/unternehmen/daten-fakten/']: 1\n",
      "[u'http://www.thinktankdirectory.org/directory/dji.shtml']: 1\n",
      "[u'http://www.thinktankdirectory.org/directory/institut-solidarische-moderne.shtml']: 1\n",
      "[u'http://www.thinktankdirectory.org/directory/iaq.shtml']: 1\n",
      "[u'http://www.iwr-institut.de/de/impressum']: 1             \n",
      "[u'http://www.thinktankdirectory.org/directory/arl.shtml']: 1\n",
      "[u'http://www.socar.az/socar/az/home/']: 1                  \n",
      "[u'http://www.thinktankdirectory.org/directory/afk.html']: 1\n",
      "[u'http://www.thinktankdirectory.org/directory/fibs.shtml']: 1\n",
      "[u'https://de.wikipedia.org/wiki/Berthold_Huber_%28Gewerkschafter%29']: 1\n",
      "[u'http://www.hr-online.de/website/derhr/home/index.jsp?rubrik=6328&key=standard_document_1293722']: 1\n",
      "[u'http://www.thinktankdirectory.org/directory/min.shtml']: 1\n",
      "[u'http://www.thinktankdirectory.org/directory/kat.shtml']: 1\n",
      "[u'http://www.thinktankdirectory.org/directory/institut-fuer-sozial-oekologische-forschung.shtml']: 1\n",
      "[u'http://www.thinktankdirectory.org/directory/icep.html']: 1\n",
      "[u'https://www.bankenverband.de/mitglieder/?name=deutsche+bank']: 1\n",
      "[u'http://www.thinktankdirectory.org/directory/iza.shtml']: 1\n",
      "[u'http://www.thinktankdirectory.org/directory/awv.shtml']: 1\n",
      "[u'http://www.thinktankdirectory.org/directory/ifl.html']: 1\n",
      "[u'http://www.thinktankdirectory.org/directory/pik.shtml']: 1\n",
      "[u'http://www.thinktankdirectory.org/directory/dgu.shtml']: 1\n",
      "[u'http://www.hr-online.de/website/derhr/home/index.jsp?rubrik=6328&key=standard_document_47128375']: 1\n",
      "[u'http://www.auswaertiges-amt.de/DE/AAmt/Koordinatoren/MR-Koordinator/Uebersicht-MRBeauftragter_node.html']: 1\n",
      "[u'http://www.thinktankdirectory.org/directory/aib.shtml']: 1\n",
      "[u'http://www.thinktankdirectory.org/directory/sef.shtml']: 1\n",
      "[u'http://www.thinktankdirectory.org/directory/fest.shtml']: 1\n",
      "[u'http://www.kulinaria.org/index-kulinaria.html/verband/kulinaria-mitglieder#']: 1\n",
      "[u'http://www.sap.com/corporate-de/about/our-company/our-boards/members/profiles/michael-kleinemeier.html']: 1\n",
      "[u'http://www.thinktankdirectory.org/directory/akuf.shtml']: 1\n",
      "[u'http://www.thinktankdirectory.org/directory/kas.shtml']: 1\n",
      "[u'http://www.thinktankdirectory.org/directory/bits.shtml']: 1\n",
      "[u'http://meedia.de/2015/04/21/ex-pirat-lauer-ist-neuer-leiter-der-strategischen-innovationen-von-axel-springer/']: 1\n",
      "[u'http://www.thinktankdirectory.org/directory/rfm.shtml']: 1\n",
      "[u'http://www.thinktankdirectory.org/directory/iab.shtml']: 1\n",
      "[u'http://www.thinktankdirectory.org/directory/iep.shtml']: 1\n",
      "[u'http://www.thinktankdirectory.org/directory/brandenburgisches-institut-fuer-gesellschaft-und-sicherheit.shtml']: 1\n",
      "[u'https://www.bundestag.de/blob/189456/f766eef1f26877ed8e995db28001bf66/lobbylisteamtlich-data.pdf']: 1\n",
      "[u'http://www.thinktankdirectory.org/directory/rwi.html']: 1\n",
      "[u'http://www.thinktankdirectory.org/directory/schiff.shtml']: 1\n",
      "[u'http://www.thinktankdirectory.org/directory/diw.shtml']: 1\n",
      "[u'http://www.thinktankdirectory.org/directory/swp.shtml']: 1\n",
      "[u'http://www.thinktankdirectory.org/directory/cfact.shtml']: 1\n"
     ]
    }
   ],
   "source": [
    "result = relations.aggregate(make_pipeline(unwind='data', group='data.value.sources', sort=True))\n",
    "printCols([ \"%s: %s\" % (p['_id'], p['count']) for p in result ], columns=1, spacing=60)"
   ]
  },
  {
   "cell_type": "markdown",
   "metadata": {
    "variables": {
     " fields[15]['key'] ": "<p><strong>NameError</strong>: name &#39;fields&#39; is not defined</p>\n",
     "-fields[15]['key']-": "<p><strong>SyntaxError</strong>: invalid syntax (<ipython-input-2-442e17ce4b25>, line 1)</p>\n"
    }
   },
   "source": [
    "## {{ fields[15]['key'] }}                                                                                                                                                                     "
   ]
  },
  {
   "cell_type": "code",
   "execution_count": 76,
   "metadata": {
    "collapsed": false
   },
   "outputs": [
    {
     "name": "stdout",
     "output_type": "stream",
     "text": [
      "Vorstand: 16054                                             None: 11394                                                 Mitglied: 2635                                              \n",
      "Ordentliches Mitglied: 993                                  Stellvertretendes Mitglied: 838                             Arbeitsverhältnis: 837                                      \n",
      "Aufsichtsratsmitglied: 459                                  Mitglied des Kuratoriums: 404                               Mitglied des Beirates: 231                                  \n",
      "Mitglied des Aufsichtsrates: 204                            Mitglied des Vorstandes: 173                                Vorstandsmitglied: 161                                      \n",
      "Staatssekretär: 122                                         Mitglied im Rundfunkrat: 115                                Mitglied des Kreistages: 111                                \n",
      "Parlamentarischer Staatssekretär: 87                        Mitglied des Aufsichtsrats: 84                              Vorsitzender: 83                                            \n",
      "Obmann: 77                                                  Mitglied des Verwaltungsrates: 74                           Mitglied des Stiftungsrates: 70                             \n",
      "Mitglied im Fernsehrat: 68                                  Präsident: 61                                               Assoziiert: 59                                              \n",
      "Mitglied des Parlamentarischen Beirates: 57                 Geschäftsführer: 54                                         Mitglied des Präsidiums: 53                                 \n",
      "Obfrau: 51                                                  Mitglied des Stadtrates: 51                                 Parlamentarische Staatssekretärin: 50                       \n",
      "Mitglied des Vorstands: 44                                  Stellvertretender Vorsitz: 43                               Vorsitz: 41                                                 \n",
      "Staatssekretärin: 35                                        Mitglied des Stiftungsrats: 35                              Vorstandsvorsitzender: 35                                   \n",
      "Mitglied im Verwaltungsrat: 34                              : 33                                                        Stellv. Vorsitzender: 32                                    \n",
      "Vorsitzende: 31                                             Vorstandsvorsitz: 30                                        Mitglied des Gemeinderates: 30                              \n",
      "Aufsichtsratsvorsitz: 29                                    Persönliche Honorare für Vorträge: 28                       Vizepräsident: 28                                           \n",
      "Präsidialmitglied: 25                                       Vorsitzender des Aufsichtsrates: 25                         Persönliche Honorare für Beratertätigkeit: 24               \n",
      "Mitglied der Verbandsversammlung: 22                        Mitglied im Verband: 21                                     Hausausweise: 19                                            \n",
      "Mitglied im Aufsichtsrat: 18                                Ministerpräsident: 17                                       Vorsitzender des Vorstands: 17                              \n",
      "Stellv. Vorsitzende: 17                                     Stellv. Mitglied des Kuratoriums: 17                        Vorsitzender des Vorstandes: 17                             \n",
      "Ratsmitglied: 16                                            Berater: 15                                                 Vorsitzender des Aufsichtsrats: 14                          \n",
      "Board of Directors: 14                                      Landesminister: 14                                          Stellv. Vorsitzender des Aufsichtsrates: 14                 \n",
      "Botschafter: 14                                             Vizepräsidentin: 14                                         Mitglied des Advisory Councils: 13                          \n",
      "Mitglied der Gesellschafterversammlung: 13                  Staatsrat: 13                                               Geschäftsführerin: 13                                       \n",
      "Stellv. Mitglied des Verwaltungsrates: 12                   Staatsminister: 12                                          Präsidentin: 12                                             \n",
      "Hauptsponsor: 11                                            Beamteter Staatssekretär: 11                                Mitglied des Verwaltungsrats: 11                            \n",
      "Vorsitzender des Kuratoriums: 11                            Mitglied des Senats: 11                                     Schatzmeister: 11                                           \n",
      "Hauptgeschäftsführer: 11                                    1. Vorsitzender: 11                                         Bundesminister: 10                                          \n",
      "Chef der Staatskanzlei: 9                                   Gesellschafter der ÖPP Deutschland Beteiligungsgesellschaft mbH: 9Mitglied des Fernsehrats: 9                                 \n",
      "Vorsitzende des Aufsichtsrates: 9                           Vorsitzender des Beirates: 9                                Bundesvorsitzender: 9                                       \n",
      "Partner: 8                                                  Abgeordneter: 8                                             Stellv. Mitglied des Beirates: 8                            \n",
      "Generalsekretär: 8                                          Vorsitzende des Vorstandes: 8                               Geschäftsführender Gesellschafter: 8                        \n",
      "Vize-Präsident: 8                                           Vorsitzender des Stiftungsrates: 8                          Mitglied des Beirats: 7                                     \n",
      "Mitglied im Beirat: 7                                       Mitglied der Kommission: 7                                  Vorsitzende des Kuratoriums: 7                              \n",
      "Landesvorsitzender: 7                                       Mitglied der Vollversammlung: 7                             Sponsor: 7                                                  \n",
      "Mitglied des Rundfunkrates: 7                               Non-governmental partner: 6                                 Ehrenmitglied: 6                                            \n",
      "Leitung: 6                                                  Inhaber: 6                                                  Staatsministerin: 6                                         \n",
      "Stellv. Mitglied des Stiftungsrates: 6                      Mitglied der Vertreterversammlung: 6                        Mitglied der Stadtverordnetenversammlung: 6                 \n",
      "Bundesminister der Finanzen: 6                              Mitglied des Hauptausschusses: 6                            Stellvertretender Vorsitzender: 5                           \n",
      "Bundesminister für Umwelt, Naturschutz und Reaktorsicherheit: 5Bundesministerin für Familie, Senioren, Frauen und Jugend: 5Stellvertreter der Bundeskanzlerin: 5                       \n",
      "Vorsitzender der Geschäftsführung: 5                        Stellvertretender Vorstandsvorsitzender: 5                  Bundesminister des Auswärtigen: 5                           \n",
      "Bundesministerin für Bildung, Wissenschaft, Forschung und Technologie: 5Mitglied des Konventkreises: 5                              Geschäftsführender Vorstand: 5                              \n",
      "Mitglied des Aufsichtsrates, Anteilseignervertreter: 5      Gesellschaftervertreter: 5                                  Stellv. Mitglied des Aufsichtsrates: 5                      \n",
      "Mitglied des Eisenbahninfrastrukturbeirates: 5              Fördermitglied: 5                                           Mitglied des Fachbeirates: 5                                \n",
      "Sachkundiger Bürger: 5                                      Mitglied des Beirates für sparkassenpolitische Grundsatzfragen: 5Beisitzer des Vorstandes: 5                                 \n",
      "Stellv. Vorsitzender des Kuratoriums: 5                     Teilnehmer: 4                                               Mitglied des Bundesvorstandes: 4                            \n",
      "Mitglied im Kuratorium: 4                                   Finanzminister: 4                                           Stellvertreter des Ministerpräsidenten: 4                   \n",
      "Stellvertretender Ministerpräsident: 4                      Leiter: 4                                                   Lenkungsgruppe: 4                                           \n",
      "Gesellschafter: 4                                           Senior Advisor: 4                                           Direktor: 4                                                 \n",
      "CEO: 4                                                      Präsidiumsmitglied: 4                                       Mitglied des politischen Beirates: 4                        \n",
      "Vorsitzende des Stiftungsrates: 4                           Mitglied des Hochschulrates: 4                              Bundesminister für Wirtschaft und Technologie: 4            \n",
      "Bundesministerin der Justiz: 4                              Vorstandsvorsitzende: 4                                     Vorsitzende des Beirates: 4                                 \n",
      "Mitglied des Hörfunkrates: 4                                Bundesminister des Inneren: 4                               Rechtsanwalt: 4                                             \n",
      "Gewerkschaftssekretärin: 4                                  Hauptförderer: 4                                            Senator: 4                                                  \n",
      "Mitglied des Datenschutzbeirates: 4                         Bundesminister der Verteidigung: 4                          Chef des Bundeskanzleramtes: 4                              \n",
      "Mitglied des wissenschaftlichen Beirates: 4                 Mitglied des Politisch-Parlamentarischen Beirates: 4        Schatzmeisterin: 4                                          \n",
      "Medienpartner: 3                                            MdL: 3                                                      Vorsitzender im Verwaltungsrat: 3                           \n",
      "Anteilseignervertreter im Aufsichtsrat: 3                   Bestandsaufnahme und Risikoanalyse zentraler Rüstungsprojekte der Bundeswehr: 3Sprecher der Geschäftsführung: 3                            \n",
      "Konferenzteilnehmerin 2015: 3                               Konferenzteilnehmer 2014: 3                                 Konferenzteilnehmer 2014 & 2015: 3                          \n",
      "Vorsitzende des Vorstands: 3                                Projekte „Wirtschaft in die Schule!“ und „Ökonomische Bildung online“: 3Mitglied der Young Leaders Alumni: 3                        \n",
      "Bundespräsident: 3                                          Abgeordnete: 3                                              Stellvertretender Vorstandsvorsitzender des Aufsichtsrats: 3\n",
      "Staatsrätin: 3                                              Pressesprecher: 3                                           Minister für Inneres und Kommunales: 3                      \n",
      "Minister der Finanzen: 3                                    Minister für Inneres und Sport: 3                           Stellvertretende Ministerpräsidentin: 3                     \n",
      "Bundesminister für Arbeit und Soziales: 3                   Bundeskanzlerin: 3                                          Ministerpräsidentin: 3                                      \n",
      "Gelistet als Referent: 3                                    Vorsitzender des Rundfunkrats: 3                            Sprecher: 3                                                 \n",
      "Mitglied des Beirats der Borussia Dortmund Geschäftsführungs-GmbH: 3Mitglied des Kreistages, Fraktionsvorsitzender: 3           Ehrenvorsitzender: 3                                        \n",
      "Bürgermeister: 3                                            Vorsitzender des Verwaltungsrates: 3                        Mitglied des Verwaltungsausschusses: 3                      \n",
      "Stellv. Mitglied des Rundfunkrates: 3                       Cheflobbyist: 3                                             Mitglied des Rates der Agora: 3                             \n",
      "Mitglied des Expertenrates: 3                               Mitglied der Geschäftsführung: 3                            Beisitzerin des Vorstandes: 3                               \n",
      "Stellv. Bundesvorsitzende: 3                                Bundesminister für besondere Aufgaben: 3                    Mitglied der Mitgliederversammlung: 3                       \n",
      "Beirat: 3                                                   Ehrenpräsident: 3                                           Mitglied des Fernsehrat: 3                                  \n",
      "Justizministerin: 3                                         Stellv. Vorsitzender des Verwaltungsrates: 3                Mitglied des Fernsehrates: 3                                \n",
      "Minister der Justiz: 3                                      Mitglied des Politischen Beirates: 3                        Beamtete Staatssekretärin: 3                                \n",
      "Bundesminister für Ernährung, Landwirtschaft und Verbraucherschutz: 3Gründer & Geschäftsführer: 3                                Mitglied des geschäftsführenden Vorstandes: 3               \n",
      "Mentorin: 2                                                 Unterstützer/Sponsor: 2                                     MdEP: 2                                                     \n",
      "Minister a.D.: 2                                            Stellvertretende Vorsitzende im Verwaltungsrat: 2           Stifter: 2                                                  \n",
      "Beisitzer des Beirats: 2                                    Vorsitz im Kuratorium: 2                                    Mitglied des deutschen Lenkungsausschusses: 2               \n",
      "Geschäftsführendes Vorstandsmitglied: 2                     Bundesministerin für Gesundheit und Soziale Sicherung: 2    Leiter der Hauptstadtrepräsentanz: 2                        \n",
      "Mitglied der Synode, ehrenamtlich: 2                        Mitglied im Beirat der Einkaufsberatung: 2                  Tochterunternehmen: 2                                       \n",
      "Wirtschaftspolitischer Sprecher: 2                          Gründer: 2                                                  Leiter der Grundsatzabteilung: 2                            \n",
      "Sprecherin: 2                                               Partnerin: 2                                                Hauptgeschäftsführerin: 2                                   \n",
      "Chief Executive Officer: 2                                  Chef der Senatskanzlei: 2                                   Bevollmächtigte der Freien Hansestadt Bremen beim Bund und für Europa: 2\n",
      "Senator für Inneres und Sport: 2                            Ministerin für Schule und Berufsbildung: 2                  Partner und Berater: 2                                      \n",
      "Minister für Inneres und Bundesangelegenheiten: 2           Bevollmächtigte beim Bund: 2                                Minister für Wirtschaft, Arbeit und Verkehr: 2              \n",
      "Ministerin für Arbeit, Soziales, Gesundheit, Frauen und Familie: 2Persönliches Honorar für Vortrag: 2                         Ministerin für Kultus: 2                                    \n",
      "Minister für Umwelt und Verbraucherschutz: 2                Ministerin für Bildung, Wissenschaft, Weiterbildung und Kultur: 2Minister der Justiz und für Verbraucherschutz: 2            \n",
      "Vorsitzende der Hauptgeschäftsführung: 2                    Leiter des Rechercheverbundes von NDR, WDR und Süddeutscher Zeitung: 2Bundesminister für Verkehr, Bau- und Wohnungswesen: 2       \n",
      "Bundesminister für Verbraucherschutz, Ernährung und Landwirtschaft: 2Bundesministerin für Verbraucherschutz, Ernährung und Landwirtschaft: 2Bundeskanzler: 2                                            \n",
      "Bundesminister für Verkehr, Bau und Stadtentwicklung: 2     Bundesministerin für Ernährung, Landwirtschaft und Verbraucherschutz: 2Beamter Staatssekretär: 2                                   \n",
      "Bundesministerin für Arbeit und Soziales: 2                 Konferenzteilnehmer 2015: 2                                 Anteilseigentümer: 2                                        \n",
      "Stellvertretende Vorstandsvorsitzende: 2                    Tochtergesellschaft: 2                                      Politischer Beirat: 2                                       \n",
      "Stiftungsrat: 2                                             Managing Director: 2                                        Mitglied des Rundfunkrats: 2                                \n",
      "Stellv. Präsidentin: 2                                      Stellv. Vorsitzender des Vorstandes: 2                      Generalvertreter: 2                                         \n",
      "Mitglied des Europäischen Parlament: 2                      Regierungssprecher: 2                                       Anwalt: 2                                                   \n",
      "Stellv. Bundesvorsitzender: 2                               Trustee: 2                                                  Landesministerin: 2                                         \n",
      "Wissenschaftliches Mitglied: 2                              1. Bürgermeister: 2                                         Stellv. Mitglied der Verbandsversammlung: 2                 \n",
      "Mitglied der Regionalversammlung: 2                         Mitglied des Verwaltungsrates und der Zweckverbandsversammlung: 2Stellvertreterin der Ministerpräsidentin: 2                 \n",
      "Mitglied der Zweckverbandsversammlung: 2                    Geschäftsleitung: 2                                         Bundesvorsitzende: 2                                        \n",
      "Mitglied des Stiftungsvorstandes: 2                         Ehrenvorsitzender des Aufsichtsrates: 2                     Mitglied der Bürgerschaft: 2                                \n",
      "Beratendes Mitglied: 2                                      Geschäftsführende Gesellschafterin: 2                       Mitglied des Steuerungskreises: 2                           \n",
      "Bundesminister für Gesundheit: 2                            Mitglied im BahnBeirat: 2                                   Mitglied des Förderkreises: 2                               \n",
      "Mitglied des Programmausschusses: 2                         Mitglied des Rates der Region: 2                            Stellv. Mitglied der Synode: 2                              \n",
      "Senator für Justiz und Verfassung: 2                        Aufsichtsrat: 2                                             Minister für Energie, Infrastruktur und Landesentwicklung: 2\n",
      "Beratendes Mitglied des Aufsichtsrates: 2                   Stv. Vorsitzender im Fernsehausschuss: 2                    Mitglied des Verbandsgemeinderates: 2                       \n",
      "Mitglied des Aufsichtsrates (bis 30.11.2013): 2             Mitglied des Rates der Stadt: 2                             Mitglied des Politisch / Wissenschaftlichen Beirates: 2     \n",
      "Staatsrätin für Bundesangelegenheiten, Europa und Integration: 2Senator für Stadtentwicklung und Umwelt: 2                  Senatorin: 2                                                \n",
      "Stellvertretende Vorsitzende: 2                             Stellvertretender Vorsitzender des Aufsichtsrats: 2         Gewerkschaftssekretär: 2                                    \n",
      "Mitglied des Herausgeberbeirates: 2                         Ehrenpräsidentin: 2                                         Mitglied des Beirates der Zeitschrift \"Europäische Sicherheit & Technik\": 2\n",
      "Telekommunikation: 2                                        Mitglied des Gesellschafterausschusses: 2                   Stellv. Vorsitzender des Beirates: 2                        \n",
      "Mitglied des Ortsgemeinderates: 2                           Mitglied des Samtgemeinderates: 2                           Policy Fellow: 2                                            \n",
      "Generalsekretärin: 2                                        Mitglied des Stiftungskuratoriums: 2                        Mitglied der Geschäftsleitung: 2                            \n",
      "Verbandsvertreterin: 2                                      Vorsitzender des Stiftungsrats: 2                           Verbandsvertreter: 2                                        \n",
      "Vertrauensmann bei der Wüstenrot Bausparkasse AG: 2         Beisitzer: 2                                                Stellv. Vorsitzender des Stiftungsrates: 2                  \n",
      "Stellv. Mitglied der Gesellschafterversammlung: 2           Mitglied des Caritasrates: 2                                Mitglied des Verbandsrates: 2                               \n",
      "Chef der Staatskanzlei und Bevollmächtigter des Landes beim Bund: 2Vorsitzender des Beirats: 2                                 Stellv. Vorsitzende des Parlamentarischen Beirates: 2       \n",
      "Stv. Vorsitzender des Aufsichtsrats: 2                      Kooptiertes Mitglied des Vorstandes: 2                      Mitglied des Vorstands Geschäftsbereich 'Nutzfahrzeuge': 1  \n",
      "Vice President European Commercial Real Estate Group: 1     Landesvorsitzender Bayern: 1                                Vorstandsmitglied / Kundenservice & Organisationsentwicklung: 1\n",
      "Im Geschäftsbereich des BMWi: 1                             Generalbevollmächtigter für Informationstechnologie und Prozessmanagement: 1Technologie- und Innovationsförderung: 5.253.300,00 €: 1    \n",
      "Technologie- und Innovationsförderung: 6.065.963,00 €: 1    Mitglied des Vorstandes Finanzen und IT: 1                  2/3 Anteile gehören L’Oréal: 1                              \n",
      "1/3 Anteile gehören Nestlè: 1                               Manager Governmental Affairs: 1                             Leiter des Büros der Bundesvorsitzenden Angela Merkel: 1    \n",
      "Mitglied des Vorstandes für Forschung und Entwicklung: 1    Moderatorin und Reporterin bei NDR/ARD: 1                   Core Group Mitglied: 1                                      \n",
      "Journalist; Leiter Hauptredaktion Aktuelles beim ZDF / Moderator: 1Fellow 2006: 1                                              Schirmherr: 1                                               \n",
      "Young Leaders Alumni: 1                                     Journalist; Redaktionsleiter und Moderator ZDF-WISO: 1      Journalistin, stellvertr. Leiterin ZDF-Hauptredaktion Politik / Zeitgeschehen, Moderatorin (u.a. auslandsjournal): 1\n",
      "Redakteur / Moderator (u.a. ZDF-Mittagsmagazin): 1          Redaktionsleiter von ZDF heute: 1                           Stellvertr. Leiter ZDF-Hauptstadtstudio /Moderator \"berlin direkt\": 1\n",
      "Moderator ZDF heute  (19 Uhr) / heute-journal: 1            Leiter Hauptredaktion Neue Medien: 1                        „Ich kann was“-Initiative für Kinder und Jugendliche der Deutschen Telekom, Mitglied des Beirats: 1\n",
      "Axel-Springer-Preis für junge Journalisten, Vorsitzende TV-Jury: 1Leiterin ZDF-Hauptstadtstudio; Redakteurin /Moderatorin (u.a. „berlin direkt): 1Ronald McDonald Haus Erlangen, Schirmherrin: 1              \n",
      "Medienpreises TOM von der Kinderhospizstiftung, Jurymitglied: 1Schirmherrin: 1                                             Unterstützerin: 1                                           \n",
      "Patin: 1                                                    Journalistin; Moderatorin ZDF (u.a. Morgenmagazin): 1       Ehrenamt: 1                                                 \n",
      "Ehrenamtliche Botschafterin; Preis-Jury: DRK-Medienpreis  (Ehrenamt): 1Leiter ZDF-Hauptredaktion Politik & Zeitgeschehen / Moderator (u.a. Politbarometer /Wahlen): 1Die Porsche SE hält 50,7 % der stimmberechtigten Stammaktien von VW: 1\n",
      "Stellvertretender Vorsitzender des Betriebsrats: 1          Leiter der Abteilung Mittelstandspolitik: 1                 Leiter des Planungsstabs: 1                                 \n",
      "Stellv. Präsident: 1                                        Finanzierung aus dem Haushalt des Bundeskanzleramtes: 1     Stv. Vorsitzende des Verwaltungsrats: 1                     \n",
      "Journalistin und Moderatorin ZDF heute (u.a. 19:00 Uhr): 1  Bundesgeschäftsführerin: 1                                  Hypovereinsbank ist Sponsor: 1                              \n",
      "Hauptsponsor & Partner: 1                                   Bundesverfassungsrichter a.D.: 1                            Landesvorsitzender der Grünen Hessen: 1                     \n",
      "Bevollmächtigter des Senats der Freien und  Hansestadt Hamburg: 1Personalrat: 1                                              Karen Hinrichs: 1                                           \n",
      "Stellvertretende Vorsitzende des Vorstands: 1               Vorsitzende des Rundfunkrats: 1                             Vertreter des Rundfunkrats im Programmbeirat von ARTE Deutschland: 1\n",
      "Vorsitzender des Programmbeirats der ARD: 1                 Vorsitzender im Fernsehausschuss: 1                         Bezirkspräsident: 1                                         \n",
      "1. stellvertretende Landesbäuerin: 1                        Generalsekretärin der SPD: 1                                Oberbürgermeisterin: 1                                      \n",
      "Vorsitzender im Hörfunkausschuss: 1                         Stv. Vorsitzender im Hörfunkausschuss: 1                    Stv. Vorsitzender im Ausschuss für Wirtschaft und Finanzen: 1\n",
      "Medienpolitischer Sprecher: 1                               2. stv. Vorsitzender des Rundfunkrats: 1                    Mitglied der Bundesversammlung: 1                           \n",
      "Alleinvorstand: 1                                           Vorsitzender Landsverband Sachsen: 1                        Mitglied des Erweiterten Präsidiums des Bundesverbands Deutscher Zeitungsverleger (BDZV): 1\n",
      "Sekretär der Deutschen Bischofskonferenz: 1                 Vorsitzende der SPD-Landesfraktion des Landes Sachsen-Anhalt: 1Vorstandsvorsitzender der Adam Opel AG: 1                   \n",
      "Organisator der Bundestagswahlkämpfe 1998 bis 2009: 1       Vorsitzender der Geschäftsführung der Opel Group GmbH: 1    Mitglied im Förderverein: 1                                 \n",
      "Gründerin und CEO: 1                                        Vize-Präsidentin: 1                                         Stellvertretender Vorsitzender des Beirates für Arbeit und Soziales: 1\n",
      "Arbeitnehmervertreter im Aufsichtsrat: 1                    Einrichtung im Geschäftsbereich: 1                          Mitglied der Trägerversammlung: 1                           \n",
      "Ehrenvorsitzender des Kuratoriums: 1                        Tochter: 1                                                  Ko-Vorsitzender des Vorstands: 1                            \n",
      "Dozent für Presse- und Medienrecht: 1                       Anwältin: 1                                                 ehem. Bundesvorsitzender: 1                                 \n",
      "Vodafone Enterprise Germany ist Mitglied: 1                 Gründung: 1                                                 Bereichsleiter Marketing und Interne Kommunikation: 1       \n",
      "Vorsitzender des Aufsichtsrates der Bilfinger Infrastructure S.A. Warschau: 1Inhaber und Vorsitzender der Geschäftsführung: 1            Head of Exchange Traded Solutions: 1                        \n",
      "Stellvertretender deutscher Gouverneur: 1                   Stellvertretender Chefredakteur Fernsehen: 1                Fellow: 1                                                   \n",
      "Minister für Europa- und Medienangelegenheiten: 1           Privacy and Policy Managerin für Deutschland, Österreich und Schweiz: 1Bundesministerin für Bildung und Forschung: 1               \n",
      "Konferenzteilnehmerin 1973, 1977 & 1980: 1                  Abteilungsleiterin Grundsatz / Organisationsentwicklung: 1  Leiter der Kommunikation: 1                                 \n",
      "Beiratsvorsitzender: 1                                      Senior Researcher: 1                                        Gründerin: 1                                                \n",
      "Senior-Consult: 1                                           Inhaberin: 1                                                President: 1                                                \n",
      "Berater für politische, strategische und außenwirtschaftliche Fragen: 1Vorsitzender der Geschäftsführung der Airbus Helicopters Deutschland GmbH: 1Executive Vice President Marketing & Sales bei der Defence and Space GmbH: 1\n",
      "Stiftungsaufsichtsratsvorsitzenden der Würth-Gruppe: 1      Die Schott AG ist zu 100% in die ADLT-Gruppe eingegliedert: 1Beisitzerin des Vorstands: 1                                \n",
      "Präsident und wissenschaftlicher Geschäftsführer: 1         Stellv. Sprecher des Arbeitskreises „Schmerz und Alter“: 1  Ordentliches Mitglied im Beirat: 1                          \n",
      "Chairman of the Board of Directors, Nestlé S.A.: 1          Independent Non-executive Director: 1                       Member of the Managing Board: 1                             \n",
      "Mitglied im Präsidium und Schatzmeister: 1                  Mitglied des Vorstandes Vertrieb und Marketing: 1           Vorstands und Arbeitsdirektor: 1                            \n",
      "Mitglied im Konzernbeirat: 1                                Auftrag zur Entwicklung des Medium Extended Air Defense System: 1Anteilseigner: 1                                            \n",
      "Stellvertretender Vorsitzender des Aufsichtsrates: 1        Ministerialdirektor die für Außenpolitik: 1                 Chefredakteurin des ARD-Hauptstadtstudios: 1                \n",
      "Beauftragter für Menschenrechtspolitik und Humanitäre Hilfe: 1Herausgeber: 1                                              Neubewertung der Krebsrisiken von Glyphosat: 1              \n",
      "Ehrenmitglied des Verbandes: 1                              2. Vorsitzende des Vorstands: 1                             Geschäftsführerin und Schatzmeisterin: 1                    \n",
      "Herausgeber der Welt und der Berliner Morgenpost: 1         ehemaliger Intendant: 1                                     Mitglied des Beirats ehrenamtlich, Forum V, Nordbayerisches Institut für Versicherungswissenschaft und -wirtschaft: 1\n",
      "Referatsleiterin Bilaterale Beziehungen, EU-Erweiterung, Nachbarschaftspolitik und deutsch-französische Zusammenarbeit: 1Ehrenvorsitzender im Aufsichtsrat: 1                        Professorin für Energieökonomie und Nachhaltigkeit: 1       \n",
      "Abteilungsleiterin Energie, Verkehr, Umwelt: 1              Stellvertretender Vorstandsvorsitzender des Kuratoriums: 1  Ministerin für Arbeit, Gleichstellung und Soziale: 1        \n",
      "Syndika: 1                                                  Akademiedirektor: 1                                         Agrarpolitischer Sprecher der SPD-Landtagsfraktion Brandenburg: 1\n",
      "Verantwortlich für die PR-Kampagne zur Umstellung des Gebührenmodells: 1Managing Director Office, Traffic, Industries & Corporate Communications: 1Vorsitzenden des Vorstands: 1                               \n",
      "Redakteur und Moderator: 1                                  Gutachten, Studien oder sonstigen Beratungsleistungen: 1    CEO von Weber Shandwick Deutschland: 1                      \n",
      "Bundesleiter: 1                                             Vorsitzender im Ausschuss für Grundsatzfragen und Geschäftsordnung: 1Persönliches Honorar als Mitglied der Arzneimittelexpertengruppe: 1\n",
      "Journalistin; Moderatorin ZDF (u.a. WISO): 1                SVP Regulatory & Public Policy und Mitglied der Geschäftsleitung: 1Leiter Politik & Regulierung: 1                             \n",
      "Stv. Vorsitzender des Stiftungsrats: 1                      Vertreter der Kassenärztlichen Bundesvereinigung: 1         Gründer und Ehrenvorsitzender des Aufsichtsrates: 1         \n",
      "Parteivorsitzende: 1                                        Leiter des Geschäftsbereichs Kernkraftwerke: 1              Mitglied des Advisory Board: 1                              \n",
      "Beiratsmitglied: 1                                          Aufsichtsratsmitglied und Anteilseigner: 1                  Bundesministerin: 1                                         \n",
      "Stv. Vorsitzende des Rundfunkrats: 1                        Mitglied im Board of Directors der Vodafone Group Plc.: 1   Head of Public Sector: 1                                    \n",
      "Mitarbeiter der Hauptgeschäftsführung: 1                    Vorstandsreferent: 1                                        Vorsitzender im Bundesvorstand: 1                           \n",
      "Leiter des Bereichs Gesundheits- und Ernährungsfragen: 1    Unternehmensberaterin : 1                                   Leiter im Bereich Koordinierung der Europapolitik: 1        \n",
      "Leiter des Bereichs Global External Affairs and Public Policy: 1Mitglied der Hauptgeschäftsführung : 1                      Mitglied des deutschen Beirats: 1                           \n",
      "Mitglied des Kommunalbeirats: 1                             Koordinator für die deutsche Luft- und Raumfahrt: 1         Vertreter des Rundfunkrats im Programmbeirat ARTE G.E.I.E. / Schriftführer des Rundfunkrats: 1\n",
      "Erster Bürgermeister: 1                                     Vice Chairman Europa und Vorsitzender der Geschäftsleitung: 1Stellvertretender Hauptgeschäftsführer: 1                   \n",
      "Vorsitzender des Advisory Councils: 1                       Vorsitzenden der Kommission zur Erstellung eines nationalen Luftverkehrskonzepts: 1Senatorin für Wirtschaft, Technologie und Forschung: 1      \n",
      "Erster Head of Public Affairs: 1                            Mitgliede der Geschäftsführung: 1                           Erster Direktor Bankenaufsicht: 1                           \n",
      "Vice President European Government Relations and Public Policy: 1Director Corporate Affairs und Public Strategies: 1         Abgeordnete / Vorsitzende der Gruppe der Frauen in der Unions-Fraktion: 1\n",
      "Vorsitzender des Haushaltsausschusses: 1                    Stellvertretende Sprecherin der Bundesregierung: 1          Leitung Hauptstadtbüro: 1                                   \n",
      "Oberbürgermeister der Stadt Mannheim: 1                     Leiter des Bereiches Europa/Internationales : 1             Leiter des Ausschusses Verteidigungswirtschaft: 1           \n",
      "Swiss Life Select Deutschland GmbH ist hervorgegangen aus dem AWD: 1Ehrenamtliche Botschafterin: 1                              Tochterunternehmen von Omnicom: 1                           \n",
      "Vorstand Finanzen: 1                                        Minister für Bildung, Jugend und Sport: 1                   Senator für Justiz und Gleichstellung: 1                    \n",
      "Finanzsenator: 1                                            Senator für Schule und Berufsbildung: 1                     Senator für Wirtschaft, Arbeit und Häfen: 1                 \n",
      "Senatskommissarin für die Verwirklichung der Gleichberechtigung der Frau: 1Direktor für internationale Verkehrsrechte und Vorstands-Bevollmächtigter: 1Senatorin für Soziales, Kinder, Jugend und Frauen: 1        \n",
      "Senator für Gesundheit: 1                                   Senatskommissarin für den Datenschutz: 1                    Beraterin: 1                                                \n",
      "Bürgermeister und Präsident des Senats: 1                   Minister für Wirtschaft, Arbeit, Verkehr und Technologie: 1 Senator für Wissenschaft und Forschung: 1                   \n",
      "Finanzministerin Schleswig-Holstein: 1                      Zweite Stellvertreterin des Ministerpräsidenten: 1          Leiter Public Affairs: 1                                    \n",
      "Ministerin für Arbeit, Gleichstellung und Soziales: 1       Minister für Bildung, Wissenschaft und Kultur: 1            Minister für Wirtschaft, Bau und Tourismus: 1               \n",
      "Kuratoriumsvorsitzender: 1                                  Minister für Soziales und Verbraucherschutz: 1              Minister des Innern: 1                                      \n",
      "Stellv. Direktor: 1                                         Geschäftsführer der Stiftung Münchner Sicherheitskonferenz gGmbH: 1Ministerin für Bundesangelegenheiten, Europa und Medien: 1  \n",
      "Ministerin für Gesundheit, Emanzipation, Pflege und Alter: 1Mitarbeiter der Abteilung Presse- und Öffentlichkeitsarbeit: 1Ministerin für Familie, Kinder, Jugend, Kultur und Sport: 1 \n",
      "Ministerin für Innovation, Wissenschaft und Forschung: 1    Minister für Arbeit, Integration und Soziales: 1            Vorsitzender des Fernsehrats: 1                             \n",
      "Minister für Umwelt, Energie und Klimaschutz: 1             Leiter der Staatskanzlei: 1                                 Ministerin für Wissenschaft und Kunst: 1                    \n",
      "Minister für Migration, Justiz und Verbraucherschutz: 1     Bereichsleiter Strategische Planung auf Bundesebene: 1      Ministerin für Infrastruktur und Landwirtschaft: 1          \n",
      "Ministerin für Umwelt, Energie und Naturschutz: 1           Ministerin der Finanzen: 1                                  Minister für Landwirtschaft und Umwelt: 1                   \n",
      "Minister für Arbeit und Soziales: 1                         Technologie- und Innovationsförderung: 6.428.340,00 €: 1    Umwelt, Klimaschutz, Landwirtschaft und Verbraucherschutz: 1\n",
      "Minister für Wissenschaft und Kunst: 1                      Minister für Wirtschaft, Energie, Verkehr und Landesentwicklung: 1Minister des Inneren und für Sport: 1                       \n",
      "Ministerin für Umwelt, Landwirtschaft, Ernährung, Weinbau und Forsten: 1Ministerin für Wirtschaft, Klimaschutz, Energie und Landesplanung: 1Bavaria Film GmbH hält 62,4 Prozent Anteile: 1              \n",
      "Referatsleiter Presse: 1                                    Minister der Finanzen Rheinland-Pfalz: 1                    Bundesminister für Ernährung, Landwirtschaft und Verbraucherschutz (kommissarisch): 1\n",
      "Chefin der Staatskanzlei: 1                                 Staatsrätin für Zivilgesellschaft und Bürgerbeteiligung: 1  Jury des Hanns-Joachim-Friedrich-Preises: 1                 \n",
      "Ministerin für Integration Baden-Württemberg: 1             Minister für Ländlichen Raum und Verbraucherschutz Baden-Württemberg: 1Landesminister für Kultus, Jugend und Sport von Baden-Württemberg: 1\n",
      "Justizminister des Landes Baden-Württemberg: 1              Journalist; Chefredakteur ZDF: 1                            Staatssekretär im Ministerium für Finanzen und Wirtschaft: 1\n",
      "Bayrische Staatsministerin für Arbeit und Soziales, Familie und Integration: 1Bayrische Staatsministerin für Gesundheit und Pflege: 1     Bayrischer Staatsminister des Inneren, für Bau und Verkehr: 1\n",
      "Stiftungsvorstand: 1                                        Bevollmächtigter des Freistaates beim Bund: 1               Internationaler Beirat: 1                                   \n",
      "Senator für Gesundheit und Soziales: 1                      Senator für Gesundheit und Verbraucherschutz: 1             Bürgermeisterin und Senatorin für Arbeit, Integration und Frauen: 1\n",
      "Mitglied des Vorstands Geschäftsbereich 'Finanzen und Controlling': 1Prokuristin: 1                                              Senior Vice President Political Strategy: 1                 \n",
      "LH Bundeswehr Bekleidungsgesellschaft mbH ist Mitglied im Verband: 1Vice President Policy and Communications BP Biofuels, London: 1Bundesministerin für Umwelt, Naturschutz, Bau und Reaktorsicherheit: 1\n",
      "Geschäftsführer Deutschland: 1                              Bundesminister der Justiz: 1                                Minister für Finanzen und Wirtschaft: 1                     \n",
      "Mitarbeit: 1                                                Senator für Wirtschaft, Verkehr und Innovation: 1           Staatssekretärin für Bundes- und Europaangelegenheiten: 1   \n",
      "Leiter Access: 1                                            Bundessprecher: 1                                           Geschäftsführer der SAP Deutschland SE & Co. KG: 1          \n",
      "Vorsitz der Expertenkommission: 1                           Mitglied des Beraterkreises: 1                              Leiter der Zentralabteilung Außenangelegenheiten, Regierungs- und Politikbeziehungen: 1\n",
      "Mitglied des Geschäftsführenden Vorstands: 1                Generalbevollmächtigter für Regierungsbeziehungen: 1        Mitglied im sozialpolitischen Ausschuss: 1                  \n",
      "Mitglied im Energiebeirat: 1                                Leiter im Bereich Equity Derivatives Sales: 1               Vorsitzender des Lobby-Netzwerks: 1                         \n",
      "Vorstandsvorsitzender Der Porsche SE: 1                     Leiter des Berliner Büros: 1                                Leitung des Hauptstadtbüro: 1                               \n",
      "Senior Director: 1                                          Schirmherr der Kampagne „Save your Dreams“: 1               Vorstand der Kabel Deutschland Holding AG: 1                \n",
      "Verbandspartner: 1                                          Vorsitzender des Aufsichtsrats, Allianz Beratungs-und Vertriebs-AG: 1Minister für Kultur, Bundes- und Europaangelegenheiten: 1   \n",
      "Head of the intellectual property and information technology practice group: 1Erster Stellvertreter des Ministerpräsidenten: 1            Gründungsmitglied des Fördervereins: 1                      \n",
      "Sprecher der Bundesregierung: 1                             Managing Director/Mitglied des Vorstands: 1                 Ministerin für Infrastruktur und Landesplanung: 1           \n",
      "Professor für Wettbewerbstheorie und -politik: 1            Manager Daimler Benz AG Belgien und Südostasien: 1          Professor für Geldtheorie und -politik: 1                   \n",
      "Inhaber des Lehrstuhls für Finanzwissenschaft und Public Management: 1Medienstiftung der Sparkasse Leipzig, Mitglied des Stiftungs-Beirats: 1Direktor des Instituts für Volkswirtschaftslehre und Finanzwissenschaft: 1\n",
      "Aufsichtsrat a.D.: 1                                        Redaktionsleiterin ZDF heute journal: 1                     Mittelstandsbeauftragter: 1                                 \n",
      "Mitglied des SAP Global Managing Board: 1                   Abgeordneter / Verkehrsausschuss: 1                         Mitglied des Aufsichtsrats, Anteilseignervertreter: 1       \n",
      "Ministerin für Soziales, Arbeit, Gesundheit und Demografie: 1Mitglied des Aufsichtsrates, Arbeitnehmervertreter: 1       Ministerin der Finanzen Rheinland-Pfalz: 1                  \n",
      "Bereichsvorstand Diehl Aerosystems: 1                       Mitarbeiter der CDU/CSU-Bundestagsfraktion: 1               Mitglied des Bundestags: 1                                  \n",
      "Vice President: 1                                           Mitarbeiter: 1                                              Minister für Finanzen und Europa: 1                         \n",
      "Mitglied im Aufsichtsrat der Vattenfall Mining & Generation AG: 1Mitglied der Lenkungsgruppe der Kommission \"Steuergesetzbuch\": 1Hessischer Finanzminister a.D: 1                            \n",
      "Präsidialmitgleid: 1                                        Vorsitzender des Konzernbetriebsrats: 1                     Head of the Centre for Regional Strategies and Member of the Managing Board: 1\n",
      "ehemalige österreichische Außenministerin: 1                Wissenschaftlicher Beirat: 1                                Botschafterin: 1                                            \n",
      "Mitglied des Strategic Board: 1                             Kuratoriumsmitglied: 1                                      Deputy Global Head of Private Investor Products: 1          \n",
      "Managing Director im Bereich Public und Corporate Affairs: 1Leiterin des Referats „Medienberatung“: 1                   Leiterin des Stabs „Politische Planung; Grundsatzfragen; Sonderaufgaben“: 1\n",
      "Bundesminister für Verkehr und digitale Infrastruktur: 1    Finanzenminister: 1                                         Vorsitzender des Verbraucherbeirates: 1                     \n",
      "Vorsitzender des Rechnungsprüfungsausschusses: 1            CFO der Airbus Helicopters S.A.S.: 1                        Kultusminister: 1                                           \n",
      "Vorstandsreferentin des Fraktionsvorsitzender Fritz Kuhn: 1 Stellv. Vorsitzende des Kreistages: 1                       Kultursenator: 1                                            \n",
      "Mitglied des Kuratorims: 1                                  Stellv. Chefredakteur, USA-Korrespondenten Moderator: 1     Aufsichtsratsvorsitzender: 1                                \n",
      "Cheflobbyist / Leiter des Bereichs Global External Affairs und Public Policy: 1Vorsitzende des Beirates für Verkehr: 1                     Abteilungsleiter Recht und Versicherung: 1                  \n",
      "Mitglied des Gremiums für Fragen der deutschen Minderheitin Nordschleswig: 1Mitglied der Jury: 1                                        Chefredakteur Bild & Bild am Sonntag: 1                     \n",
      "Mitglied des Beirates Württemberg: 1                        Mitglied des Ethik-Beirates: 1                              Vorsitzender des Beirates für Medien, Internet und Telekommunikation: 1\n",
      "Direktorin für Western Europe & EU Affairs: 1               Mitglied des Verwaltungsrates und des Präsidiums: 1         Mitglied des Rundfunkrates und Vorsitzender des Distributionsausschusses: 1\n",
      "Mitglied des Kreistages und Vorsitzender des Ausschusses für Landwirtschaft und Umwelt: 1Mitglied des Betriebsausschusses der Eigenbetriebsähnlichen Einrichtung Ruhr Grün: 1Mitglied des Betriebsausschusses der Route der Industriekultur: 1\n",
      "Vorsitzender des Berufungsausschusses für Zahnärzte und Krankenkassen: 1Mitglied des Polizeibeirates: 1                             Minister für Wissenschaft und Wirtschaft: 1                 \n",
      "Mitglied der Genossenschaftsversammlung: 1                  Ministerin für Wirtschaft, Arbeit, Energie und Verkehr: 1   Gründer und geschäftsführender Gesellschafter: 1            \n",
      "Vorsitzender des Vorstandes der RAG-Stiftung: 1             Mitglied des Politischen/Wissenschaftlichen Beirates: 1     Vorsitzender des Unternehmerbeirates: 1                     \n",
      "Geschäftsführer und 2. Bevollmächtigter: 1                  Stellv. Mitglied des Zweckverbandes: 1                      Mitglied der Gewährträgerversammlung und des Verwaltungsrates: 1\n",
      "Honorarkonsul: 1                                            Mitglied des Gemeinderates (bis April 2014): 1              Vorsitzender des Aufsichtsrates und Mitglied der Gesellschafterversammlung: 1\n",
      "Vorsitzender des Beschwerdeausschusses der Krankenkassen und Vertragsärzte: 1Staatssekretär für Rüstungskontrolle: 1                     Vorsitzender des Beirates für Gesundheit: 1                 \n",
      "Internetversand und Einzelhandel: 1                         Die Bundeswehr untersteht dem Bundesminister der Verteidigung: 1Stellv. Vorsitzender des Eisenbahninfrastrukturbeirates: 1  \n",
      "Mitglied des Kuratoriums im Landesverband Berlin-Brandenburg: 1Stellv. Vorsitzender im Landesverband Berlin und Beisitzer im Kreisverband Berlin-Spandau: 1Mitgründer: 1                                               \n",
      "Landesvorsitzende: 1                                        Stellv. Mitglied des Verwaltungsrates (bis Februar 2014): 1 Sachverständiges Mitglied des Aufsichtsrates: 1             \n",
      "Vertreterin der Stadt Marl in der Gesellschafterversammlung: 1Alternierender Vorsitzender der Vertreterversammlung: 1     Beauftragter für kreative und digitale Ökonomie: 1          \n",
      "Bevollmächtigter des Vorstandes für Politik: 1              Leiter der Qualitätssicherung: 1                            CEO Airbus Defence and Space: 1                             \n",
      "Minister für Bauen, Wohnen, Stadtentwicklung und Verkehr: 1 Mitglied des Ausschusses Entwicklungsdienst und humanitäre Hilfe: 1Mitglied des Marktrates: 1                                  \n",
      "Mitglied des Politisch/Wissenschaftlichen Beirates: 1       Mitglied des Landeskuratoriums Bayern: 1                    Mitglied des Beirates des Projekts \"Gleichgeschlechtliche Lebensweisen und Selbstbestimmung im Alter\" (GLESA): 1\n",
      "Mitglied des Vorstandes der Ortsgruppe Rehau: 1             Stellv. Landesvorsitzender: 1                               Mitglied des Regionalbeirates Nord: 1                       \n",
      "Mitglied des Magistrats: 1                                  Vorsitzender des Kuratoriums, Nationales Zentrum für Bürokratiekostenabbau: 1Vorsitzender der Gesellschafterversammlung: 1               \n",
      "Mitglied des Programmbeirates Antenne Mainz: 1              Vorsitzender des Kreisverbandes und des Unterbezirkes: 1    Bevollmächtigter des Vorstandes und Leiter der Abteilung Public Affairs: 1\n",
      "Anteilseignerin & stellvertretende Aufsichtsratsvorsitzende: 1Mitglied des Bezirksvorstandes: 1                           Mitglied des Ethikrates: 1                                  \n",
      "Mitglied des Rates der Evangelischen Kirche in Deutschland: 1Mitglied im Aus­schuss für technische Re­gu­lie­rung in der Te­le­kom­mu­ni­ka­ti­on: 1Vorsitzender des Fachausschusses Schweinefleisch: 1         \n",
      "Vorsitzender des Fachbeirates Vieh, Fleischerzeugung: 1     Mitarbeit an der Gesetzgebung zu Hedgefonds in Deutschland: 1Leiter des Kompetenzzentrums Internationale Verständigung: 1\n",
      "Qualitätsmanager: 1                                         Ministerin für Wissenschaft, Forschung und Kunst Baden-Württemberg: 1Mitglied des Verwaltungsrates des Jugendbildungswerkes: 1   \n",
      "Landessynodaler: 1                                          Bevollmächtigter beim Bund: 1                               Arbeitnehmervertreter des Aufsichtsrates: 1                 \n",
      "Politischer Staatssekretär: 1                               Mitglied des Beirates, Kompetenzzentrum für Verpackungs- und Automatisierungstechnik: 1Diagnose der Fähigkeiten und Ressourcen im Bereich Cyber-Abwehr: 1\n",
      "Vorsitzender des Beirates für Wirtschaft und Wirtschaftsrecht: 1Mitglied des strategischen Beirates: 1                      Innenminister des Landes Baden-Württemberg: 1               \n",
      "Bayrische Staatsministerin für Europaangelegenheiten und regionale Beziehungen in der Staatskanzlei: 1Mitglied des Lenkungsgremiums: 1                            Mitglied des Ortsrates und Ortsvorsteher Welschbach: 1      \n",
      "Mitglied des Berufsbildungsausschusses: 1                   Ministerin für Gleichstellung und Integration: 1            Mitglied des Aufsichtsrates und des Landwirtschaftl. Beirates: 1\n",
      "Mitglied der Steuerungsgruppe Migration: 1                  Chefvolkswirt: 1                                            Mitglied des Ausschusses: 1                                 \n",
      "Bayrischer Staatsminister der Finanzen, für Landesentwicklung und Heimat: 1Mitglied des Lenkungsausschusses: 1                         Kooptiertes Mitglied des Kuratoriums: 1                     \n",
      "Mitglied des Rundfunkrates und des Landesrundfunkrates Hamburg: 1Stellv. Mitglied des Kuratoriums der Initiative \"Ein Netz für Kinder\": 1Geschäftsführendes Präsidiumsmitglied: 1                    \n",
      "Mitglied der Anstaltsversammlung: 1                         Mitglied des Genossenschaftsvorstandes: 1                   Professor für Corporate Finance: 1                          \n",
      "Ministerin für Integration, Familie, Kinder, Jugend und Frauen: 1Mitglied des Kundenbeirates: 1                              Mitglied des Vorstandes Beschaffung: 1                      \n",
      "Geschäftsführer der Komplementärin: 1                       Journalistin;  Leiterin ZDF-Hauptredaktion Wirtschaft, Soziales Umwelt: 1Stellv. Vorsitzende des Verwaltungsrates: 1                 \n",
      "Mitglied der Metropolversammlung: 1                         Minister für Energiewende, Landwirtschaft, Umwelt und ländliche Räume: 1Vorsitzende des Rates für sorbische Angelegenheiten: 1      \n",
      "Stellv. Mitglied der Landesmedienkommission: 1              Senatorin für Bildung, Wissenschaft und Gesundheit: 1       Mitglied des Verwaltungsrates von Amts wegen: 1             \n",
      "Mitglied der Verbandsversammlung und des Verbandsausschusses: 1Institute Risk and Fraud Management: 1                      Domherr: 1                                                  \n",
      "Leiterin der Fachgruppe Medien: 1                           Leiter der Vertretung: 1                                    Mitglied des Ortsrates Mellendorf/Gailhof: 1                \n",
      "Stellv. Vorsitzende der Diözesangruppe Köln: 1              Stellv. Mitglied des Beirates für die grafische Gestaltung der Sonderpostwertzeichen: 1Mitglied des Beirates des Kompetenzzentrums für Nachhaltige Energietechnik Mitglied des Beirates des Institutes für Leichtbau mit Hybridsystemen: 1\n",
      "Mitglied des Kuratoriums zur Vorbereitung des Reformationsjubiläum 2017: 1Entwicklungschef: 1                                         Lehrbeauftragter: 1                                         \n",
      "Mitglied im Beirat TÜV Nord Bildung Saar GmbH​: 1           Mitglied des Kreistages und stellv. Landrätin: 1            2. Stellv. Vorsitzende: 1                                   \n",
      "Derivatives Global Head of Public Distribution: 1           Mitglied des Führungsstabes: 1                              Verkaufsleiter, Kaufm. Angestellter: 1                      \n",
      "Regionalvorsitzender der Bezirksgruppe Oberpfalz: 1         Stiftungsbeirat: 1                                          Diözesanvorsitzender: 1                                     \n",
      "Staatsminister für Europa: 1                                Mitglied des Aufsichtsrates und des CSR-Komitees: 1         Mitglied des Vorstandes und der Versammlung: 1              \n",
      "Medienpreis Politik des Deutschen Bundestages, Jury-Mitglied: 1Generalbevollmächtigter für Außen- und Regierungsbeziehungen: 1Referent: 1                                                 \n",
      "Mitglied des Kuratoriums des Instituts für Kulturpolitik: 1 Minister für Ernährung, Landwirtschaft und Verbraucherschutz: 1Stellv. Vorsitzender des Beirates für Welthandel: 1         \n",
      "Minister für Bundesrat, Europa und internationale Angelegenheiten: 1Redakteur / Leiter ZDF-info: 1                              1. Vorsitzender des Vorstands: 1                            \n",
      "Mitglied des Gemeinderates, Fraktionsvorsitzender und Mitglied des Ortsrates Abbenrode: 12. Stellv. Vorsitzender des Aufsichtsrates: 1               Rechtsanwältin: 1                                           \n",
      "Ortsbürgermeister: 1                                        Abteilungsleiter für Grundsatzfragen : 1                    ehem. Vizekanzler von Österreich: 1                         \n",
      "Mitglied des Ortsrates: 1                                   Treuhänder nach § 7 PfandBG: 1                              Tochterunternhemen von Nestlé: 1                            \n",
      "Mitglied des Verwaltungsrates und des Zweckverbandsrates: 1 Mitglied der Synode: 1                                      Leiterin der Staatskanzlei und Staatsministerin für Bundesangelegenheiten und Sonderaufgaben: 1\n",
      "Mitglied der Gemeindevertretung: 1                          Mitglied des Regionalbeirates: 1                            Leiter der Berliner Konzernrepräsentanz der Deutschen Post DHL: 1\n",
      "Mitglied des Gesamtvorstandes: 1                            Stellv. Sprecher des Beirates: 1                            Vorsitzender des Bildungswerkes: 1                          \n",
      "Mitglied im Politisch/Wissenschaftlichen Beirat: 1          Leiter Unternehmenskommunikation: 1                         Mitglied im Fernsehrate: 1                                  \n",
      "Minister für Soziales, Arbeit, Gesundheit und Demografie: 1 Ehrenmitglied des Kuratoriums: 1                            Mitglied des Diskussionsforums Reha-Recht (bis 16.01.2014): 1\n",
      "Mitglied des Sprecherrates des Expertenkreises \"Inklusive Bildung\": 1Kooptiertes Mitglied des Bundesvorstandes: 1                Mitglied des Beirates des Projekts \"Zugang für alle!\": 1    \n",
      "Bayrischer Staatsminister für Ernährung, Landwirtschaft und Forsten: 1Mitglied der Arbeitsgruppe \"Barrierefreie Umweltgestaltung\" und der Expertenrunde zur Frühförderung (bis 16.01.2014): 1Konzernbevollmächtigter: 1                                  \n",
      "Mitglied des Aufsichtsrates und des Präsidiums: 1           Mitglied des Expertenbeirates zur Ausgestaltung eines neuen Pflegebedürftigkeitsbegriffs: 1Mitglied des Beirates \"Ausstellungsprojekt der DGPPN zur NS-Psychiatrie\": 1\n",
      "Bayrische Staatsministerin für Wirtschaft und Medien, Energie und Technologie: 1Minister für Wirtschaft, Energie, Industrie, Mittelstand und Handwerk: 1Mitglied des Ausschusses des Nationalen Aktionsplans, Mitglied des Beirates zur wissenschaftlichen Begleitforschung \"Persönliches Budget\": 1\n",
      "Mitglied der Arbeitsgruppe \"Notruf-App\": 1                  Persönlich stellv. Mitglied des Verwaltungsrates: 1         Managing Director Head of Coverage Germany & Austria: 1     \n",
      "Mitglied der forschungsbegleitenden Arbeitsgruppe \"Leitfaden Barrierefreies Bauen\": 1Mitglied des Parlamentarischen Beirates des ASA-Programms: 1Mitglied des Jugendhilfeausschusses: 1                      \n",
      "Minister für Klimaschutz, Umwelt, Landwirtschaft, Natur- und Verbraucherschutz: 1Vorstandsbeirat: 1                                          Mitglieder des Vorstands der Allianz Deutschland AG: 1      \n",
      "Mitglied des Kirchenvorstandes: 1                           Journalist und Moderator (ZDF heute journal): 1             Vorsitzender des Verwaltungsausschusses: 1                  \n",
      "Leiter der Staatskanzlei und Staatsminister für Bundesangelegenheiten und Sonderaufgaben: 1Vorstandsbeauftragter für Politik und Regierungsarbeiten in Deutschland: 1Regierender Bürgermeister: 1                                \n",
      "Mitglied der Vertreterversammlung und Mitglied des Beirates: 1Senator für Umwelt, Bau und Verkehr: 1                      Abgeordneter / Ausschuss für Wirtschaft und Technologie: 1  \n",
      "Mitglied des Deutschen Lenkungsausschusses: 1               Mitglied des Fachbereichsrates Studiengang International Management / Handelsmanagement: 1Minister des Inneren: 1                                     \n",
      "Minister für ländliche Entwicklung, Umwelt und Landwirtschaft: 1Mitglied im Senat: 1                                        Beratendes Mitglied des Aufsichtsrates (Gaststatus): 1      \n",
      "2. Stellv. Landrätin: 1                                     Zweite Bürgermeisterin: 1                                   Vertreter der Bundesministerin für Bildung und Forschung: 1 \n",
      "Stellv. Mitglied des Verwaltungsausschusses: 1              Stellv. Mitglied des Ausschusses für anzeigepflichtige Entlassungen: 1Persönlicher Stellvertreter der Verbandsversammlung: 1      \n",
      "Mitglied der Landessynode: 1                                Mitglied des Beirates \"Pflegebudgets\": 1                    Staatsminister für Umwelt, Gesundheit und Verbraucherschutz: 1\n",
      "Stellv. Vorsitzender der Gesellschafterversammlung: 1       Mitglied der Landesschiedskommission: 1                     Mitglied des Beirates der Zeitschrift \"Wehrtechnik\": 1      \n",
      "Ehrenpräsidentin des Kuratoriums: 1                         Minister für Wirtschaft, Wissenschaft und Digitale Gesellschaft: 1Mitglied des Stiftungsrates der Wissenschaftsstiftung Ernst Reuter: 1\n",
      "Mitglied des Kommunalen Beirates: 1                         Vertrauensfrau der Bausparer der LBS Ostdeutsche Landesbausparkasse AG: 1Mitglied des Rates: 1                                       \n",
      "Stellv. Mitglied der Regionalversammlung: 1                 Vorsitzender des deutschen Lenkungsausschusses: 1           Mitglied des Beirates \"Frauen in der Wissenschaft\": 1       \n",
      "Mitglied des Generalvorstandes: 1                           Ehrenvorsitzende: 1                                         Bevollmächtigter beim Bund, bei der EU und für auswärtige Angelegenheiten: 1\n",
      "Leiter Politische Interessenvertretung Regulierung und Bundesländer: 1Vertreter: 1                                                Justizminister: 1                                           \n",
      "Vorstandsmitglied / Vertrieb, Vertriebscontrolling, Internet-Vertrieb, Marketing: 1Mitglied des Kuratoriums zur Vorbereitung des Reformationsjubiläums 2017: 1Vertrauensmann der Bausparer der LBS Westdeutsche Landesbausparkasse: 1\n",
      "Mitglied des Gemeinsamen Ausschusses: 1                     Bundesministerin der Verteidigung: 1                        Vertreterin des Bundes in der Gesellschafterversammlung: 1  \n",
      "Politische Beratung, Öffentlichkeitsarbeit und Sponsoringaktivitäten: 1Sonderbeauftragter für Politik: 1                           Vorsitzender der Kommission sexueller Missbrauch: 1         \n",
      "Mitglied des Beirates und des Modellprogramms \"Engagement braucht Leadership\" (bis 23.12.2013): 1Mitglied des Programmbeirates: 1                            Vorsitzender im Ausschuss für Wirtschaft und Finanzen: 1    \n",
      "Ortsvorsteherin des Stadtteils Mainz-Hechtsheim: 1          Vorstandsmitglied / Asset Management, Risikomanagement der Kapitalanlagen, Rechnungswesen: 1Inhaltliche und finanzielle Unterstützung, Bildmaterial und technische Informationen: 1\n",
      "Vorsitzender des Parlamentarischen Beirates: 1              Ministerin für Bildung, Jugend und Sport: 1                 Mitglied des Herausgeber-Beirates: 1                        \n",
      "Generalleutnant / Stellvertreter des Inspekteurs der Luftwaffe: 1Stellv. Vorsitzender des Parlamentarischen Beirates: 1      Stellv. Vorsitzende des Rundfunkrates: 1                    \n",
      "Leiter der strategischen Innovationen: 1                    Mitglied des Kreistages (bis Mai 2014): 1                   1. Vizepräsident: 1                                         \n",
      "Vorsitzender des Bezirksbeirates: 1                         Minister für Soziales, Gesundheit, Frauen und Familie: 1    Stellv. Mitglied des Landestierschutzbeirates: 1            \n",
      "Mitglied des Kreisjagdausschusses: 1                        Untersteht dem Bundeskanzleramt: 1                          Minister für Landesentwicklung und Verkehr: 1               \n",
      "Initiator: 1                                                Mitglied des Beirates des Erdgas Sportparks: 1              Leiter der Berliner Repräsentanz: 1                         \n",
      "Landesgeschäftsführer: 1                                    Cheflobbyistin: 1                                           Moderatorin der ZDF-Sendungen: heute (19 Uhr) / Mona Lisa: 1\n",
      "Stellv. Kreislandwirt und Mitglied des Hauptausschusses: 1  Mitglied des Jagdbeirates: 1                                Leiter des Zentralbereichs Politik und Unternehmensverantwortung: 1\n",
      "Vorsitzender des Fachbeirates Rind und Schwein: 1           Bundesgeschäftsführer: 1                                    Dozent: 1                                                   \n",
      "Mitglied des Projektbeirates \"Job-Win-Win - Mentoren-Netzwerk für mehr Vielfalt in Unternehmen\": 1Landesministerin für Kultus, Jugend und Sport von Baden-Württemberg: 1Vorsitzender des Beirates Finanzen, Steuern, Geld und Kredit: 1\n",
      "Kreisbeigeordneter: 1                                       Minister für Umwelt und Landwirtschaft: 1                   Ministerin für Schule und Weiterbildung: 1                  \n",
      "Ersatzmitglied des Verwaltungsrates: 1                      Mitglied des Wissenschaftlichen Beirat e s: 1               Stellv. Mitglied des Sozialausschusses des Kreistages: 1    \n",
      "DHL Exel Supply Chain Central Europe ist Mitglied im Verband: 1Mitglied des Beirates der Zeitschrift \"Strategie & Technik\": 1Aufsichtsratschef: 1                                        \n",
      "Mitglied der Kreissynode: 1                                 Mitglied der 12. 13. & 14. Bundesversammlung: 1             Mitglied des Kreistages und Stellv. Landrat: 1              \n",
      "Bezirksverordneter der Bezirksverordnetenversammlung Pankow: 1Mitglied des Zentralbeirates: 1                             Mitglied der Grundsatzkommission: 1                         \n",
      "Mitglied des Beirates des öffentlichen Dienstes: 1          Mitglied des Prüfungsausschusses: 1                         Ministerin für Arbeit und Sozialordnung, Familie, Frauen und Senioren Baden-Württemberg: 1\n",
      "Mitglied des Beirates Sparkassen-Tourismusbarometer: 1      Stellv. Vorsitzende der CDU: 1                              Mitglied der technischen Einsatzleitung Katastrophenschutz: 1\n",
      "Vorsitzender des Kreistages: 1                              Organisatorischer Leiter Rettungsdienst: 1                  Financier: 1                                                \n",
      "Stellv. Vorsitzende des Kuratoriums: 1                      Stellv. Mitglied des Landesjagdbeirates: 1                  stellv. Vorsitzender des Ausschusses für Grundsatzfragen und Geschäftsordnung: 1\n",
      "Mitglied des Kuratoriums und Mitglied des Aufsichtsrates: 1 Mitglied des Aufsichtsrates und Mitglied des Präsidiums: 1  Sonderstaatssekretärin für Regionalpolitik: 1               \n",
      "Beiratssprecher: 1                                          Minister des Inneren, für Sport und Infrastruktur Rheinland-Pfalz: 1Mitglied des Kuratoriums für Deutsches und Internationales Parteienrecht und Parteienforschung: 1\n",
      "Vorsitzende des Landesvorstandes: 1                         Vorsitzender des Beirates für Energie: 1                    Die RWE FiberNet GmbH ist Mitglied im Verband: 1            \n",
      "Mitglied der Deutsch-Indischen Beratungsgruppe: 1           Mitglied des Fachbeirates \"Europa/Transatlantik\": 1         Tagungsleitung: 1                                           \n",
      "Leiterin: 1                                                 Mitglied des Sparkassen-Beirates: 1                         ehemaliges Mitglied des Bundestags: 1                       \n",
      "Mitglied des Beirates Leiseres Mittelrheintal: 1            Mitglied des Projektbeirates \"Entwicklung und Vermarktung barrierefreier Angebote und Dienstleistungen im Sinne eines Tourismus für Alle in Deutschland\": 1Stellv. Kreisobmann: 1                                      \n",
      "Bereichsvorstand Diehl Defence: 1                           Themenmanager der Landesinitiative \"Zukunft schmieden\": 1   Generalbevollmächtigter: 1                                  \n",
      "ZDF hält 24,1% der Anteile: 1                               Beisitzerin des Kuratoriums: 1                              Mitglied des Vergabeausschusses: 1                          \n",
      "Bürgermeister und Senator für Inneres und Sport: 1          Co-Beisitzerin des Vorstandes: 1                            Minister für Justiz, Europa und Verbraucherschutz: 1        \n",
      "Stellvertretender Vorstandsvorsitzender und Mitglied des Vorstandes für Personal- und Sozialwesen: 1Mitglied des Verbandsvorstandes: 1                          Direktorin / Leiterin des Öffentlichen Sektors in Deutschland: 1\n",
      "Mitglied des Steering Committees der Königswinter Konferenz: 1Mitglied der Bezirksvertretung Alt-Oberhausen: 1            Stellvertreter des Bundeskanzlers: 1                        \n",
      "Schöffe: 1                                                  Mitglied des Plenums und der geschäftsführenden Arbeitsgruppe: 1Stellv. Vorsitzender des Beirates für Gesundheit: 1         \n",
      "Beratendes Mitglied des EUREGIO-Rates: 1                    Bezirksrevisor: 1                                           Bezirksvorsitzender: 1                                      \n",
      "Elektrizitätswerk Gemeinde Burtenbach (als Abnehmer nach § 4 EEG): 1Vorstandsmitglied / Personal, Außendienst-Service, Kooperationen, Direktionsvertrieb Reiseversicherung: 1Mitglied des Kreistages (bis 30.11.2013): 1                 \n",
      "Altpräsident: 1                                             Mitglied der Kammer für nachhaltige Entwicklung: 1          Mitglied des Stadtrates und Mitglied des Ortsbeirates Seebach: 1\n",
      "Mitglied des Bezirksausschusses 16: 1                       Beratendes Mitglied im Ausschuss Familie, Jugend, Senioren: 1Mitglied der Ethikkommission: 1                             \n",
      "Mitglied des Lenkungskreises und der Jury für den Deutschen Bürgerpreis: 1Kooptiertes Mitglied des Präsidiums: 1                      Stellvertretende Sprecher der Bundesregierung und stellvertretender Leiter des Presse- und Informationsamtes: 1\n",
      "Vizepräsident des Verwaltungsrates: 1                       Das Kommando Sanitätsdienst der Bundeswehr ist Mitglied: 1  Ministerin für Wissenschaft und Kultur: 1                   \n",
      "Mitglied des Markenvorstands Volkswagen für den Geschäftsbereich Entwicklung: 1Berater als Vice Chairman: 1                                Mitglied des Beirates für Bildung, Forschung und Technikfolgenabschätzung: 1\n",
      "Mitglied des Ausschusses für Vorsorge und Versicherungsfragen der deutschen Bauern, Gärtner und Winzer: 1Referent Internationaler Terrorismus: 1                     Mitglied des Bezirksrates: 1                                \n",
      "Mitglied im Beirat für Agrarfragen: 1                       Mitglied der Verbandsversammlung und Vorsitzender des Rechnungsprüfungsausschusses: 1Mitglied des Politisch- Parlamentarischen Beirates: 1       \n",
      "Staatssekretärin für Europa und Kultur: 1                   Mitglied des Regionalrates: 1                               Sachkundige Bürgerin im Schul- und Umweltausschuss: 1       \n",
      "1. Vorstand: 1                                              Senator für Kultur und kirchliche Angelegenheiten: 1        Vorsitzende des Auswahlausschusses: 1                       \n",
      "Missbrauchsbeauftragter für die Katholische Militärseelsorge: 1Stellv. Mitglied der Medienkommission: 1                    Revisorin: 1                                                \n",
      "Vorstand der Königswinter-Konferenz: 1                      Mitglied der Kommission \"Europäische Sicherheit und Zukunft der Bundeswehr\": 1Präsident des Kuratoriums: 1                                \n",
      "Interessenvertreter: 1                                      Leiter ZDF-Auslandsstudio Paris: 1                          Hundertprozentige Tochtergesellschaft der Bertelsmann-Gruppe: 1\n",
      "Vorsitzender des Vorstands der Lufthansa Cargo AG: 1        Kreisvorsitzender und Mitglied des Vorstandes: 1            Minister für Wirtschaft, Arbeit, Energie und Verkehr: 1     \n",
      "Senator für Arbeit, Soziales, Familie und Integration: 1    Beisitzer im Rechtsausschuss: 1                             Mitglied des Vorstandes und Leiter der Arbeitsgruppe Sozialpolitik: 1\n",
      "Mitglied im Advisory Council: 1                             Zusammenarbeit durch die Institut der deutschen Wirtschaft Köln Medien GmbH: 1Mitglied des Kreistages (bis 07.11.2014): 1                 \n",
      "Senatorin für Bildung, Jugend und Wissenschaft: 1           Minister für Verkehr und Infrastruktur Baden-Württemberg: 1 ehemaliger österreichischer Bundeskanzler: 1                \n",
      "Mitglied des Kuratoriums \"Ein Netz für Kinder\": 1           Mitglied des Beirates des Stadtteil-Projekts Lirich: 1      Vorsitzender des Kreisverbandes Soest: 1                    \n",
      "ehrenamtlicher Vizepräsident: 1                             Mitglied des Aufsichtsrates und der Gesellschafterversammlung: 1Missbrauchsbeauftragte der Katholischen Militärseelsorge: 1 \n",
      "Finanzverwalter: 1                                          Mitglied des Kulturausschusses und des Schöffenwahlausschusses: 1Mitglied des Verwaltungsrates und 2. Vorsitzender: 1        \n",
      "Mitglied des Gemeinderates und stellv. Bürgermeister: 1     Bürgermeisterin: 1                                          Vorstandsmitglied Ressort Wirtschaft und Politik: 1         \n",
      "Mitglied im Fachbeirat des Studienwerkes: 1                 Ministerin für Soziales, Gesundheit, Wissenschaft und Gleichstellung: 1Vertrauensmann bei der LBS Westdeutsche Landesbausparkasse: 1\n",
      "Mitglied der Gemeinschaftsversammlung: 1                    Prokurist: 1                                                Senatorin für Bildung und Wissenschaft: 1                   \n",
      "Präsident des Kirchenamtes der Evangelischen Kirche in Deutschland: 1Ständiger Bevollmächtigter des Vorsitzenden der SPD-Bundestagsfraktion in der Mitgliederversammlung: 1Vorsitzender der Stiftungskommission: 1                     \n",
      "Mitglied der Bundesfachkommission Wachstum und Innovation: 1Geschäftsführender Sekretär: 1                              Stadtverordneter: 1                                         \n",
      "Mitglied des Freundeskreises: 1                             Nebenamtlicher Prüfer: 1                                    Soziales und Integration: 1                                 \n",
      "Germersheim: 1                                              Mitglied des Ehrensenats: 1                                 Ministerin für Justiz, Europa und Kultur: 1                 \n",
      "Mitglied des Betriebsausschusses der Stadtwerke: 1          Vorsitzender des Verwaltungsrats: 1                         Lehrauftrag: 1                                              \n",
      "Parlamentarischer Geschäftsführer der FDP-Fraktion: 1       Neuss: 1                                                    Senator für Finanzen: 1                                     \n",
      "Das Institute for International Healthcare Management ist Mitglied im Verband: 1Minister für Umwelt, Klima und Energiewirtschaft Baden-Württemberg: 1Stellv. Vorsitzender des Präsidiums: 1                      \n",
      "Präsidialmitglieder: 1                                      Bayrischer Staatsminister der Justiz: 1                     Anspruch auf übergangsweise Fortzahlung der Bezüge aus der früheren Vorstandstätigkeit: 1\n",
      "1. stv. Vorsitzende des Rundfunkrats: 1                     Direktorin: 1                                               Vertreter der Bundesärztekammer: 1                          \n",
      "Leiter im Geschäftsbereich Customer Care/IT: 1              Vorsitender des Aufsichtsrats: 1                            Stellv. Vorsitzende des Stiftungsvorstandes: 1              \n",
      "Vorsitzende des Stiftungsvorstandes: 1                      Gründungsmitglied: 1                                        Mitglied der Geschäftsführung der E.ON Kernkraft GmbH: 1    \n",
      "Mitglied des Präsidiums und Schatzmeister: 1                Mitglied des Vorstandes und der Vollversammlung: 1          Stellv. Vorsitzender des Ärztebeirates: 1                   \n",
      "Staatsminister für Bundes- und Europaangelegenheiten: 1     Mitglied im Landesvorstand: 1                               Mitglied des Vorstandes und des Geschäftsführenden Vorstandes: 1\n",
      "Leiter der Abteilung Reaktorsicherheit: 1                   Deutscher Co-Vorsitzender des Koordinierungsrates: 1        Prominentes Fördermitglied: 1                               \n",
      "Young Global Leader: 1                                      Mitglied der Bundesarbeitsgruppe Staatsfinanzen: 1          Mitglied des Verwaltungsrates und Stellv. Mitglied der Vergabekommission: 1\n",
      "Mitglied der Bundesfachkommission Verkehr, Logistik und Infrastruktur: 1Member of the Board: 1                                      Bayrischer Staatsminister für Bildung und Kultus, Wissenschaft und Kunst: 1\n",
      "Vorstand/Inhaber: 1                                         Stellv. Bürgermeisterin: 1                                  Manager: 1                                                  \n",
      "Vorsitzender des Fördervereins der Landjugend: 1            Ministerin für Wissenschaft und Wirtschaft: 1               parteinahe Stiftung: 1                                      \n",
      "Ministerin für Bundes- und Europaangelegenheiten: 1         Mitglied des Arbeitskreises Politische Grundfragen: 1       Mitglied der Kammer für Öffentliche Verantwortung: 1        \n",
      "Stellv. Mitglied des Infrastrukturbeirates Schiene: 1       Ministerin für Justiz und Gleichstellung: 1                 Mitglied der Kammer für Bildung und Erziehung, Kinder und Jugend: 1\n",
      "Ministerin für Wissenschaft, Forschung und Technologie: 1   Koordinator für die transatlantische Zusammenarbeit: 1      Kooptiertes korrespondierendes Mitglied des Vorstandes: 1   \n",
      "Mitglied des Transparenzgremiums: 1                         Mitglied des Präsidiumsvorstandes: 1                        Mitglied des Konventes: 1                                   \n",
      "Mitglied des Gemeinderates und des Kreistages: 1            Bundesministerin für Gesundheit: 1                          Stellv. Vorsitzender des Beirates für Europa: 1             \n",
      "Managing Partner LBU Immobilien Invest: 1                   Mitglied der Pflegschaft: 1                                 Executive Vice President Procurement: 1                     \n",
      "Politische Beraterin / Senior Policy Advisor: 1             Mitglied des Kreistages, Fraktionsvorsitzender, stellv. Landrat: 1Stellv. kooptiertes Mitglied des Präsidiums: 1              \n",
      "Stellv. Vorsitzender des Beirates für Bildung, Forschung und Technikfolgenabschätzung: 1Beteiligung treuhänderisch für den Parteivorstand der SPD: 1Mitglied des Ortschaftsrates Neuershausen: 1                \n",
      "Geschäftsführerin der Mediengruppe RTL Deutschland und RTL Television: 1Deutscher Gouverneur: 1                                     Ministerin für Inneres und Sport: 1                         \n",
      "Mitglied des Vorstandes, Stellv. Vorsitzender der European Group, Vorsitzender der Deutschen Gruppe der Trilateralen Kommission e.V.: 1Bayrische Staatsministerin für Umwelt und Verbraucherschutz: 1Einberufen von Bundeswirtschaftsminister Sigmar Gabriel: 1  \n",
      "Mitglied des Stiftungsbeirates: 1                           Persönlich haftender Gesellschafter: 1                      50% in Besitz von DvH Medien: 1                             \n",
      "Revisor: 1                                                  Fachbeirätin: 1                                             Senator für Justiz und Verbraucherschutz: 1                 \n",
      "Mitglied des Hauptvorstandes: 1                             Stellv. Landesvorsitzende: 1                                Mitglied des Investitionskomitees: 1                        \n",
      "Mitglied des Beirates für die grafische Gestaltung der Sonderpostwertzeichen: 1Mitglied im Council: 1                                      Landtagsabgeordneter: 1                                     \n",
      "Ministerin im Staatsministerium: 1                          Kommunikationsdirektor für Windkraft- und Solarprojekte: 1  Vorsitzender des Wirtschaftsausschusses des Verwaltungsrats des hr: 1\n",
      "Miniserin für Wissenschaft, Forschung und Kultur: 1         2. Vorsitzender: 1                                          Mitglied des Direktoriums: 1                                \n",
      "Bundesdatenschutzbeauftragte: 1                             Bereichsvorstand der T-Com für Informationsmanagement und Prozesse: 1Vorsitzender des Inklusionsbeirates: 1                      \n",
      "Mitglied des Verwaltungsbeirates: 1                         Moderatorin ZDF heute-journal: 1                            Mitglied der Führung Sportentwicklung: 1                    \n",
      "Professur für Nachhaltiges Management: 1                    Präsident des Senats und Erster Bürgermeister: 1            Member of the Advisory Board: 1                             \n",
      "Personalvorstand: 1                                         Ministerin für Soziales, Gesundheit und Gleichstellung: 1   Mitglied der Hauptversammlung: 1                            \n",
      "Ministerin für Bundes- und Europaangelegenheiten in der Staatskanzlei: 1Stellv. Vorsitzende der deutschen Gruppe: 1                 Erster stellv. Bürgermeister: 1                             \n",
      "Direktor und Vorstandsvorsitzender: 1                       Stellvertretende Fraktionsvorsitzende: 1                    Minister für Landwirtschaft, Umwelt und Verbraucherschutz: 1\n",
      "Vorsitzender der Direktion: 1                               Leiter des Pressereferats: 1                                Bayrischer Staatsminister für Umwelt und Verbraucherschutz: 1\n",
      "Bundesminister für wirtschaftliche Zusammenarbeit und Entwicklung: 1Senior Manager für Regierungs- und Politikangelegenheiten: 1Ordentlich: 1                                               \n",
      "Mitglied des Landesvorstandes, Fachbereich 6: 1             Mitglied des Hilfswerkausschusses: 1                        Kultusministerin: 1                                         \n",
      "Abteilungsleiter Politik: 1                                 1. Vizepräsident und Vorsitzender der Landeskommission für Pferdeleistungsprüfungen Sachsen-Anhalt: 1Ministerin für Soziales, Gesundheit, Frauen und Familie: 1  \n",
      "Staatssekretär für Medien: 1                                Mitglied des Kreistages und des Kreisausschusses: 1         Stellv. Mitglied der Mitgliederversammlung: 1               \n",
      "Managing Partner: 1                                         Persönlicher Stellvertreter des Kreispolizeibeirates: 1     Fernsehdirektor: 1                                          \n",
      "Stellvertrender Geschäftsführer und Pressesprecher der FDP-Landtagsfraktion Niedersachsen: 1Technologie- und Innovationsförderung: 2.425.543,00 €: 1    Ordentliches Mitglied des Beirates: 1                       \n",
      "Stifterin: 1                                                Jury des Landes RP für Vergabe der Carl-Zuckmayer-Medaille: 1Mitglied im Anlageausschuss: 1                              \n",
      "Stellv. Generalsekretärin: 1                                Beigeordneter Ortsbürgermeister der Gemeinde Rammelsbach: 1 Mitglied des Beirates des Kirchlichen Dienstes in der Arbeitswelt: 1\n",
      "Mitglied des Haushaltsausschusses: 1                        Journalistin; Moderatorin der ZDF-Talksendung \"Maybrit Illner\": 1Vorsitzender des Schiedsausschusses: 1                      \n",
      "Mitbegründer: 1                                             Kooptiertes Mitglied des Landesvorstandes: 1                Beauftragter des Vorstandes für die Interessen des Unternehmens bei der französischen Regierung in Paris und bei der Europäischen Union in Brüssel: 1\n",
      "Leiter der Abteilung Aufsichtsangelegenheiten / Head of Regulatory Affairs : 1Mitglied der Kurie der Parteien: 1                          DGB-Regionsvorsitzender: 1                                  \n",
      "Geschäftsführer für IT und Kundenbetreuung bei T-Mobile: 1  1. Vorsitzende: 1                                           Generalbevollmächtigter für politische und internationale Beziehungen: 1\n",
      "Integrationspreis - Mitglied der Jury: 1                    Forschungsforum Öffentliche Sicherheit: 1                   Kooptiertes Mitglied des Vorstandes und Ehrenpräsidentin: 1 \n",
      "Stellv. Vorsitzende des Beirates für Handel und Verbraucherschutz: 1Medienholding der SPD: 1                                    Gründer und Vorstandsvorsitzender: 1                        \n",
      "Minister für Bildung und Kultur: 1                          Mitglied des Komittees: 1                                   Spenden über 100 Millionen € (2009)  und 50 Millionen € (2013): 1\n",
      "Mitglied des Beirates des Stadtteil-Projekts Alt-Oberhausen (Projekt Teamcity): 1Vorsitzender des Beirates für Arbeit und Soziales: 1        Vorsitzender des Ritterrates: 1                             \n",
      "Minister für Wirtschaft und Energie: 1                      Landesvorstandsmitglied in Baden-Württemberg: 1             Senior Vice-President Media-Development: 1                  \n",
      "Hausverwalter: 1                                            Mitglied des Verbandsausschusses und der Verbandsversammlung: 1Kassenprüfer: 1                                             \n",
      "Mitglied des Kuratoriums des Verbundes Sachsen: 1           Mitglied des Gemeinderates und Ortsbürgermeister/OT Ebendorf: 1Staatssekretär für \"Informationstechnik, Digitale Gesellschaft und Cybersicherheit\"  & \"Verwaltungsmodernisierung, Verwaltungsorganisation\": 1\n",
      "Tochtergesellschaft der Deutschen Post: 1                   Landesrevisor: 1                                            Vorsitzende des Integrationsrates: 1                        \n",
      "Bürgermeisterin und Senatorin für Finanzen: 1               Mitglied des Präsidium: 1                                   Mitglied des Ortschaftsrates Selbitz: 1                     \n",
      "Persönlicher Stellvertreter der Gesellschafterversammlung undMitglied des Verwaltungsrates: 1Stellvertretender Vorsitzender des Rundfunkrats: 1          Mitglied des Beirates für die Teilhabe behinderter Menschen nach § 64 SGB IX und des Projektbeirates zur Evaluation von Leistungen zur Teilhabe behinderter Menschen: 1\n",
      "Vorsitzender des DGB: 1                                     Mitglied der Betriebskommission des Eigenbetriebes Abfallwirtschaft: 1Mitglied des Landesvorstandes: 1                            \n"
     ]
    }
   ],
   "source": [
    "result = relations.aggregate(make_pipeline(unwind='data', group='data.value.position', sort=True))\n",
    "printCols([ \"%s: %s\" % (p['_id'], p['count']) for p in result ], columns=3, spacing=60)"
   ]
  },
  {
   "cell_type": "markdown",
   "metadata": {
    "variables": {
     " fields[16]['key'] ": "data.XX.value.type",
     "-fields[16]['key']-": "<p><strong>SyntaxError</strong>: invalid syntax (<ipython-input-44-2e781c71a8b8>, line 1)</p>\n"
    }
   },
   "source": [
    "## {{ fields[16]['key'] }}                                                                                                                                                                     "
   ]
  },
  {
   "cell_type": "code",
   "execution_count": 81,
   "metadata": {
    "collapsed": false
   },
   "outputs": [
    {
     "name": "stdout",
     "output_type": "stream",
     "text": [
      "executive: 17212                        None: 12338                             \n",
      "member: 5129                            job: 1598                               \n",
      "business: 1445                          government: 633                         \n",
      "subsidiary: 82                          : 64                                    \n",
      "sponsoring: 43                          committee: 28                           \n",
      "pass: 19                                participant: 16                         \n"
     ]
    }
   ],
   "source": [
    "result = relations.aggregate(make_pipeline(unwind='data', group='data.value.type', sort=True))\n",
    "printCols([ \"%s: %s\" % (p['_id'], p['count']) for p in result ], columns=2, spacing=40)"
   ]
  },
  {
   "cell_type": "markdown",
   "metadata": {
    "variables": {
     " fields[21]['key'] ": "data.XX.value.start",
     "-fields[21]['key']-": "<p><strong>SyntaxError</strong>: invalid syntax (<ipython-input-87-22c29c47b5b4>, line 1)</p>\n"
    }
   },
   "source": [
    "## {{ fields[21]['key'] }}                                                                                                                                                                     \n",
    "Start ist ein Zeitpunkt, zu dem ein Verhältnis zweier Entitäten begonnen hat."
   ]
  },
  {
   "cell_type": "code",
   "execution_count": 86,
   "metadata": {
    "collapsed": false
   },
   "outputs": [
    {
     "data": {
      "text/plain": [
       "{u'_id': ObjectId('54bd3c988b934da0634141b5'),\n",
       " u'data': [{u'value': {u'start': {u'day': 1, u'month': 6, u'year': 2011}}}]}"
      ]
     },
     "execution_count": 86,
     "metadata": {},
     "output_type": "execute_result"
    }
   ],
   "source": [
    "relations.find_one({ \"data.value.start\": {\"$exists\": 1, \"$ne\": None} }, {'data.value.start':1})"
   ]
  },
  {
   "cell_type": "markdown",
   "metadata": {},
   "source": [
    "Hier zum Beispiel eine Position als Vorstand bei einem Unternehmen."
   ]
  },
  {
   "cell_type": "code",
   "execution_count": 89,
   "metadata": {
    "collapsed": false
   },
   "outputs": [
    {
     "data": {
      "text/plain": [
       "{u'_id': ObjectId('54bd3c988b934da0634141b5'),\n",
       " u'data': [{u'desc': u'Verbindung',\n",
       "   u'format': u'association',\n",
       "   u'importer': u'created by lobbyliste importer',\n",
       "   u'key': u'association',\n",
       "   u'value': {u'position': u'Vorstand',\n",
       "    u'sources': [u'http://bundestag.de/blob/189476/8989cc5f5f65426215d7e0233704b20a/lobbylisteaktuell-data.pdf'],\n",
       "    u'start': {u'day': 1, u'month': 6, u'year': 2011},\n",
       "    u'type': u'executive'}}]}"
      ]
     },
     "execution_count": 89,
     "metadata": {},
     "output_type": "execute_result"
    }
   ],
   "source": [
    "relations.find_one({ \"data.value.start\": {\"$exists\": 1, \"$ne\": None} }, {'data':1})"
   ]
  },
  {
   "cell_type": "markdown",
   "metadata": {
    "variables": {
     " fields[22]['key'] ": "data.XX.value.desc",
     "-fields[22]['key']-": "<p><strong>SyntaxError</strong>: invalid syntax (<ipython-input-44-91d9952749cc>, line 1)</p>\n"
    }
   },
   "source": [
    "## {{ fields[22]['key'] }}                                                                                                                                                                     "
   ]
  },
  {
   "cell_type": "code",
   "execution_count": 94,
   "metadata": {
    "collapsed": false,
    "scrolled": true
   },
   "outputs": [
    {
     "name": "stdout",
     "output_type": "stream",
     "text": [
      "None: 34325                                                                                         \n",
      "Geschäftsverbindung: 1435                                                                           \n",
      "Funktionen in Vereinen, Verbänden und Stiftungen: 1220                                              \n",
      "Funktionen in Körperschaften und Anstalten des öffentlichen Rechts: 682                             \n",
      "Funktionen in Unternehmen: 468                                                                      \n",
      "Entgeltliche Tätigkeiten neben dem Mandat: 298                                                      \n",
      "Bundestag Spenden von Personen und Beiträge von Mandatsträgern: 58                                  \n",
      "Bündnis90/Die Grünen: 13                                                                            \n",
      "Mitglied im Fernsehrat als Vertreterin aus den Bereichen des Erziehungs- und Bildungswesens, der Wissenschaft, der Kunst, der Kultur, der Filmwirtschaft, der Freien Berufe, der Familienarbeit, des Kinderschutzes, der Jugendarbeit, des Verbraucherschutzes und des Tierschutzes: 9\n",
      "Mitglied im Verwaltungsrat seit 01. Juli 2012 als vom Fernsehrat gewähltes Mitglied: 5              \n",
      "Die Linke: 4                                                                                        \n",
      "Beteiligungen an Kapital- oder Personengesellschaften: 4                                            \n",
      ": 3                                                                                                 \n",
      "Mitglied des Europäischen Parlament: 2                                                              \n",
      "Mitglied im Fernsehrat: 2                                                                           \n",
      "Seit 1996 im ZDF: 1                                                                                 \n",
      "Mitglied im Verwaltungsrat seit 07. Dezember 2007 als vom Fernsehrat gewähltes Mitglied: 1          \n",
      "Mitglied im Verwaltungsrat seit 01. April 2011 als Vertreter der Länder: 1                          \n",
      "Mitglied im Verwaltungsrat seit 19. August 2013 als Vertreter der Länder: 1                         \n",
      "Mitglied im Verwaltungsrat seit 28. März 2006 als Vertreter des Bundes: 1                           \n",
      "Mitglied im Fernsehrat von 04. November 2002 bis 06. Juli 2012 als Vertreter von ver.di - Vereinte Dienstleistungsgewerkschaft e. V. aus dem Fachbereich Medien und seit 06. Juli 2012 als Vertreter von ver.di - Vereinte Dienstleistungsgewerkschaft e. V.: 1\n",
      "Mitglied im Fernsehrat seit 06. Juli 2012 als Vertreter aus den Bereichen des Erziehungs- und Bildungswesens, der Wissenschaft, der Kunst, der Kultur, der Filmwirtschaft, der Freien Berufe, der FAmilienarbeit, des Kunderschutzes, der Jugendarbeit, des Verbraucherschutzes und des Tierschutzes: 1\n",
      "Mitglied im Fernsehrat seit 09. Juli 2004 als Vertreter der SPD: 1                                  \n",
      "Mitglied im Fernsehrat seit 19. Juni 1992 als Vertreter des Landes Brandenburg: 1                   \n",
      "Mitglied im Fernsehrat seit 09. Juli 2004 als Vertreter des Deutschen Gewerkschaftsbundes: 1        \n",
      "Mitglied im Fernsehrat seit 09. Juli 2004 als Vertreter des Deutschen Roten Kreuzes (Freie Wohlfahrtsverbände): 1\n",
      "Mitglied im Fernsehrat seit 20. Juli 2015 als Vertreter des Zentralverbandes des Deutschen Handwerks: 1\n",
      "Mitglied im Fernsehrat als Vertreterin der Bundesvereinigung Deutscher Arbeitgeberverbände: 1       \n",
      "Vorsitzender des Fernsehrates seit 28. Juni 2002 und Mitglied im Fernsehrat seit 30. Juni 2000 als Vertreter der CDU: 1\n",
      "Mitglied im Fernsehrat als Vertreter der Bundesvereinigung Deutscher Arbeitgeberverbände: 1         \n",
      "Mitglied im Fernsehrat  als Vertreter des Deutschen Caritasverbandes e. V. (Freie Wohlfahrtsverbände): 1\n",
      "Mitglied im Fernsehrat als Vertreter des Landes Niedersachsen: 1                                    \n",
      "Mitglied im Fernsehrat als Vertreter des Zentralausschusses der Deutschen Landwirtschaft: 1         \n",
      "Mitglied im Fernsehrat seit 06. Juli 2012 als Vertreter aus den Bereichen des Erziehungs- und Bildungswesens, der Wissenschaft, der Kunst, der Kultur, der Filmwirtschaft, der Freien Berufe, der Familienarbeit, des Kinderschutzes, der Jugendarbeit, des Verbraucherschutzes und des Tierschutzes: 1\n",
      "Mitglied im Fernsehrat als Vertreter des Bundesverbandes Deutscher Zeitungsverleger: 1              \n",
      "Mitglied im Fernsehrat als Vertreter der Katholischen Kirche: 1                                     \n",
      "Mitglied im Fernsehrat als Vertreter des Deutschen Städte- und Gemeindebundes: 1                    \n",
      "Mitglied im Fernsehrat als Vertreter des Zentralrates der Juden in Deutschland: 1                   \n",
      "Mitglied im Fernsehrat als Vertreter des Deutschen Journalisten-Verbandes e. V.: 1                  \n",
      "Mitglied im Fernsehrat  als Vertreter aus den Bereichen des Erziehungs- und Bildungswesens, der Wissenschaft, der Kunst, der Kultur, der Filmwirtschaft, der Freien Berufe, der Familienarbeit, des Kinderschutzes, der Jugendarbeit, des Verbraucherschutzes und des Tierschutzes: 1\n",
      "Mitglied im Fernsehrat als Vertreter des Landes Hessen: 1                                           \n",
      "Mitglied im Fernsehrat als Vertreter der Freien Hansestadt Bremen: 1                                \n",
      "Mitglied im Fernsehrat als Vertreter des Freistaates Thüringen: 1                                   \n",
      "Mitglied im Fernsehrat als Vertreterin des Evangelischen Werkes für Diakonie und Entwicklung e. V. (Freie Wohlfahrtsverbände): 1\n",
      "Mitglied im Fernsehrat seit 11. Februar 2015 als Vertreterin der SPD: 1                             \n",
      "Mitglied im Fernsehrat seit 06. Juli 2012 als Vertreter des Deutschen Landkreistages: 1             \n",
      "Mitglied im Fernsehrat als Vertreter des Deutschen Industrie- und Handelskammertages: 1             \n",
      "Mitglied im Fernsehrat als Vertreter des Freistaates Sachsen: 1                                     \n",
      "Mitglied im Fernsehrat als Vertreter des Deutschen Beamtenbundes: 1                                 \n",
      "Mitglied im Fernsehrat als Vertreter des Landes Rheinland-Pfalz: 1                                  \n",
      "Mitglied im Fernsehrat als Vertreter des Landes Sachsen-Anhalt: 1                                   \n",
      "Mitglied im Fernsehrat von 19. Juni 1992 bis 03. März 2010 als Vertreterin der CDU und seit 03. März 2010 als Vertreterin des Bundes: 1\n",
      "Mitglied im Fernsehrat als Vertreterin der SPD: 1                                                   \n",
      "Mitglied im Fernsehrat seit 06. Januar 2011 als Vertreter der Evangelischen Kirche in Deutschland: 1\n",
      "Seit 1994 Redakteurin und Reporterin beim ZDF: 1                                                    \n",
      "Mitglied im Verwaltungsrat seit 28. Oktober 2010 als Vertreter der Länder: 1                        \n",
      "Mitglied im Fernsehrat seit 09. Juli 2004 als Vertreterin der Evangelischen Kirche in Deutschland: 1\n",
      "Mitglied im Verwaltungsrat seit 01. Juli 2002 als vom Fernsehrat gewähltes Mitglied: 1              \n",
      "Mitglied im Verwaltungsrat seit 18. November 1994 als Vertreter der Länder und  Vorsitzender des Verwaltungsrates seit 27. August 1999: 1\n",
      "Mitglied im Fernsehrat als Vertreter des Landes Mecklenburg-Vorpommern: 1                           \n",
      "Mitglied im Fernsehrat seit 08. Mai 2006 als Vertreter der Europa-Union Deutschland e. V.: 1        \n",
      "Mitglied im Fernsehrat als Vertreter aus den Bereichen des Erziehungs- und Bildungswesens, der Wissenschaft, der Kunst, der Kultur, der Filmwirtschaft, der Freien Berufe, der Familienarbeit, des Kinderschutzes, der Jugendarbeit, des Verbraucherschutzes und des Tierschutzes: 1\n",
      "Mitglied im Fernsehrat seit 06. Juli 2012 als Vertreter der Deutschen Arbeiterwohlfahrt e. V. (Freie Wohlfahrtsverbände): 1\n",
      "Mitglied im Verwaltungsrat seit 04. Juli 2007 als Vertreter der Länder: 1                           \n",
      "Mitglied im Fernsehrat als Vertreter des Landes Berlin: 1                                           \n",
      "Mitglied im Fernsehrat seit 04. August 2014 als Vertreter des Landes Baden-Württemberg: 1           \n",
      "Mitglied im Fernsehrat als Vertreterin des Bundes: 1                                                \n",
      "Mitglied im Fernsehrat seit 01. September 2003 als Vertreter des Naturschutzbundes Deutschland e. V.: 1\n",
      "Mitglied im Fernsehrat als Vertreter der FDP: 1                                                     \n",
      "Mitglied im Fernsehrat als Vertreter der Vereinigung der Opfer des Stalinismus e. V. (VOS): 1       \n",
      "Mitglied im Fernsehrat als Vertreter der Freuen und Hansestadt Hamburg: 1                           \n",
      "Mitglied im Fernsehrat als Vertreterin der Partei Bündnis 90/Die Grünen: 1                          \n",
      "Mitglied im Fernsehrat seit 06. Juli 2012 als Vertreterin der Katholischen Kirche: 1                \n",
      "Mitglied im Fernsehrat seit 28. Februar 2014 als Vertreter der CDU: 1                               \n",
      "Mitglied im Fernsehrat als Vertreterin der Partei DIE LINKE: 1                                      \n",
      "Mitglied im Fernsehrat  als Vertreter des Landes Nordrhein-Westfalen: 1                             \n",
      "Mitglied im Verwaltungsrat seit 04. März 2005 als vom Fernsehrat gewähltes Mitglied: 1              \n",
      "Mitglied im Fernsehrat als Vertreter des Bundes der Vertriebenen: 1                                 \n",
      "Mitglied im Fernsehrat als Vertreter des Deutschen Olympischen Sportbundes: 1                       \n",
      "Mitglied im Fernsehrat seit 04. Juli 2008 als Vertreterin aus den Bereichen des Erziehungs- und Bildungswesens, der Wissenschaft, der Kunst, der Kultur, der Filmwirtschaft, der Freien Berufe, der Familienarbeit, des Kinderschutzes, der Jugendarbeit, des Verbraucherschutzes und des Tierschutzes: 1\n",
      "Mitglied im Fernsehrat vom 11. April 2002 bis 30. November 2007 als Vertreter der CSU, vom 01. Dezember 2007 bis 03. Dezember 2008 als Vertreter des Freistaates Bayern und seit 12. November 2013 als Vertreter des Freistaates Bayern: 1\n",
      "Mitglied im Fernsehrat von 04. Mai 1999 bis 01. April 2010 als Vertreter des Landes Hessen und seit 01. April 2010 als Vertreter der CDU: 1\n",
      "Mitglied im Fernsehrat seit 01. Juli 2015 als Vertreterin der FDP: 1                                \n",
      "Mitglied im Fernsehrat seit 14. Juli 2006 als Vertreter des Bundesverbandes Deutscher Zeitungsverleger: 1\n",
      "Generalsekretärin: 1                                                                                \n",
      "Mitglied im Fernsehrat seit 30. Juni 2010 als Vertreter des Bundes für Umwelt und Naturschutz Deutschland e. V.: 1\n",
      "Mitglied im Fernsehrat als Vertreter des Bundes: 1                                                  \n",
      "Mitglied im Fernsehrat seit 16. Mai 2013 als Vertreter des Saarlandes: 1                            \n",
      "Mitglied im Fernsehrat von 29. Dezember 2009 bis 06. Juli 2012 als Vertreter des Saarlandes und seit 06. Juli 2012 als Vertreter aus den Bereichen des Erziehungs- und Bildungswesens, der Wissenschaft, der Kunst, der Kultur, der Filmwirtschaft, der Freien Berufe, der Familienarbeit, des Kinderschutzes, der Jugendarbeit, des Verbraucherschutzes und des Tierschutzes: 1\n",
      "Mitglied im Fernsehrat seit 09. März 2010 als Vertreter der CDU: 1                                  \n",
      "Mitglied im Fernsehrat seit 06. März 2014 als Vertreter der CSU: 1                                  \n",
      "Mitglied im Fernsehrat als Verteterin von ver.di - Vereinte Dienstleistungsgewerkschaft e. V. aus dem Fachbereich für Medien: 1\n",
      "Mitglied im Fernsehrat seit 06. Juli 2012 als Vertreter des Landes Schleswig-Holstein: 1            \n",
      "Vereinbarungen über künftige Tätigkeiten oder Vermögensvorteile: 1                                  \n"
     ]
    }
   ],
   "source": [
    "descs = [ \"%s: %s\" % (d['_id'], d['count']) for d in relations.aggregate(make_pipeline(unwind='data', group='data.value.desc', sort=True))]\n",
    "printCols(descs, columns=1, spacing=100)"
   ]
  },
  {
   "cell_type": "code",
   "execution_count": 90,
   "metadata": {
    "collapsed": false,
    "scrolled": true
   },
   "outputs": [
    {
     "data": {
      "text/plain": [
       "{u'_id': ObjectId('54bd3c9b8b934da06341579f'),\n",
       " u'data': [{u'value': {u'desc': u'Funktionen in Vereinen, Verb\\xe4nden und Stiftungen'}}]}"
      ]
     },
     "execution_count": 90,
     "metadata": {},
     "output_type": "execute_result"
    }
   ],
   "source": [
    "relations.find_one({ \"data.value.desc\": {\"$exists\": 1, \"$ne\": None} }, {'data.value.desc':1})"
   ]
  },
  {
   "cell_type": "markdown",
   "metadata": {
    "variables": {
     " fields[23]['key'] ": "data.XX.value.end",
     "-fields[23]['key']-": "<p><strong>SyntaxError</strong>: invalid syntax (<ipython-input-44-dd5d5ae68b7b>, line 1)</p>\n"
    }
   },
   "source": [
    "## {{ fields[23]['key'] }}                                                                                                                                                                     "
   ]
  },
  {
   "cell_type": "code",
   "execution_count": 95,
   "metadata": {
    "collapsed": false
   },
   "outputs": [
    {
     "data": {
      "text/plain": [
       "{u'_id': ObjectId('54bd3c968b934da0634137ea'),\n",
       " u'data': [{u'value': {u'end': {u'day': 1, u'month': 5, u'year': 2015}}}]}"
      ]
     },
     "execution_count": 95,
     "metadata": {},
     "output_type": "execute_result"
    }
   ],
   "source": [
    "relations.find_one({ \"data.value.end\": {\"$exists\": 1, \"$ne\": None} }, {'data.value.end':1})"
   ]
  },
  {
   "cell_type": "code",
   "execution_count": 96,
   "metadata": {
    "collapsed": false
   },
   "outputs": [
    {
     "data": {
      "text/plain": [
       "{u'_id': ObjectId('54bd3c968b934da0634137ea'),\n",
       " u'data': [{u'desc': u'Verbindung',\n",
       "   u'format': u'association',\n",
       "   u'importer': u'created by lobbyliste importer',\n",
       "   u'key': u'association',\n",
       "   u'value': {u'end': {u'day': 1, u'month': 5, u'year': 2015},\n",
       "    u'position': u'Vorstand',\n",
       "    u'sources': [u'http://bundestag.de/blob/189476/8989cc5f5f65426215d7e0233704b20a/lobbylisteaktuell-data.pdf'],\n",
       "    u'type': u'executive'}}]}"
      ]
     },
     "execution_count": 96,
     "metadata": {},
     "output_type": "execute_result"
    }
   ],
   "source": [
    "relations.find_one({ \"data.value.end\": {\"$exists\": 1, \"$ne\": None} }, {'data':1})"
   ]
  },
  {
   "cell_type": "markdown",
   "metadata": {
    "variables": {
     " fields[24]['key'] ": "data.XX.value.amount",
     "-fields[24]['key']-": "<p><strong>SyntaxError</strong>: invalid syntax (<ipython-input-104-600ca66bd42b>, line 1)</p>\n"
    }
   },
   "source": [
    "## {{ fields[24]['key'] }}                                                                                                                                                                     \n",
    "Das hier scheinen Nebeneinkünfte oder Parteispenden zu sein! Wichtig und auf jeden Fall relevant."
   ]
  },
  {
   "cell_type": "code",
   "execution_count": 105,
   "metadata": {
    "collapsed": false,
    "scrolled": false
   },
   "outputs": [
    {
     "name": "stdout",
     "output_type": "stream",
     "text": [
      "[{u'_id': ObjectId('54c2a4f0fe6a42c82bbabb54'),\n",
      "  u'data': [{u'value': {u'amount': 16872.57,\n",
      "                        u'sources': [u'http://apps.opendatacity.de/parteispenden-recherche/assets/data/parteispenden.json'],\n",
      "                        u'year': 1994}},\n",
      "            {u'value': {u'amount': 12500,\n",
      "                        u'sources': [u'http://apps.opendatacity.de/parteispenden-recherche/assets/data/parteispenden.json'],\n",
      "                        u'year': 2004}}]},\n",
      " {u'_id': ObjectId('54c2a4f0fe6a42c82bbabb55'),\n",
      "  u'data': [{u'value': {u'amount': 15338.7,\n",
      "                        u'sources': [u'http://apps.opendatacity.de/parteispenden-recherche/assets/data/parteispenden.json'],\n",
      "                        u'year': 1994}},\n",
      "            {u'value': {u'amount': 15000,\n",
      "                        u'sources': [u'http://apps.opendatacity.de/parteispenden-recherche/assets/data/parteispenden.json'],\n",
      "                        u'year': 2003}},\n",
      "            {u'value': {u'amount': 15000,\n",
      "                        u'sources': [u'http://apps.opendatacity.de/parteispenden-recherche/assets/data/parteispenden.json'],\n",
      "                        u'year': 2007}},\n",
      "            {u'value': {u'amount': 16000,\n",
      "                        u'sources': [u'http://apps.opendatacity.de/parteispenden-recherche/assets/data/parteispenden.json'],\n",
      "                        u'year': 2008}},\n",
      "            {u'value': {u'amount': 16000,\n",
      "                        u'sources': [u'http://apps.opendatacity.de/parteispenden-recherche/assets/data/parteispenden.json'],\n",
      "                        u'year': 2010}},\n",
      "            {u'value': {u'amount': 15000,\n",
      "                        u'sources': [u'http://apps.opendatacity.de/parteispenden-recherche/assets/data/parteispenden.json'],\n",
      "                        u'year': 2011}},\n",
      "            {u'value': {u'amount': 22500,\n",
      "                        u'sources': [u'https://docs.google.com/spreadsheets/d/1caESI467tBJ8uwv0RqjI-3AJYYcrdceJhfRPAtm2yXw/edit?usp=sharing'],\n",
      "                        u'year': 2013}}]}]\n"
     ]
    }
   ],
   "source": [
    "amounts = relations.find({ \"data.value.amount\": {\"$exists\": 1}}, {'data.value': 1}).limit(2)\n",
    "pprint(list(amounts))"
   ]
  },
  {
   "cell_type": "markdown",
   "metadata": {
    "variables": {
     " fields[25]['key'] ": "data.XX.value.year",
     "-fields[25]['key']-": "<p><strong>SyntaxError</strong>: invalid syntax (<ipython-input-108-2b2f85b9823c>, line 1)</p>\n"
    }
   },
   "source": [
    "## {{ fields[25]['key'] }} \n",
    "Das Jahr einer Parteispende ist festgehalten zusammen mit einem Quellenbeleg."
   ]
  },
  {
   "cell_type": "code",
   "execution_count": 107,
   "metadata": {
    "collapsed": false
   },
   "outputs": [
    {
     "data": {
      "text/plain": [
       "{u'_id': ObjectId('54c2a4f0fe6a42c82bbabb54'),\n",
       " u'data': [{u'value': {u'amount': 16872.57,\n",
       "    u'sources': [u'http://apps.opendatacity.de/parteispenden-recherche/assets/data/parteispenden.json'],\n",
       "    u'year': 1994}},\n",
       "  {u'value': {u'amount': 12500,\n",
       "    u'sources': [u'http://apps.opendatacity.de/parteispenden-recherche/assets/data/parteispenden.json'],\n",
       "    u'year': 2004}}]}"
      ]
     },
     "execution_count": 107,
     "metadata": {},
     "output_type": "execute_result"
    }
   ],
   "source": [
    "relations.find_one({ \"data.value.year\": {\"$exists\": 1}}, {'data.value': 1})"
   ]
  },
  {
   "cell_type": "markdown",
   "metadata": {
    "variables": {
     " fields[26]['key'] ": "data.XX.value.activity",
     "-fields[26]['key']-": "<p><strong>SyntaxError</strong>: invalid syntax (<ipython-input-44-52a9c01b0114>, line 1)</p>\n"
    }
   },
   "source": [
    "## {{ fields[26]['key'] }}                                                                                                                                                                     "
   ]
  },
  {
   "cell_type": "code",
   "execution_count": 112,
   "metadata": {
    "collapsed": false
   },
   "outputs": [
    {
     "name": "stdout",
     "output_type": "stream",
     "text": [
      "None: 38418                                                 Rechtsanwalt: 62                                            Vortrag: 33                                                 \n",
      "Betriebsleiter: 8                                           Beratung: 7                                                 Rechtsanwältin: 4                                           \n",
      "Rechtsanwalt und Notar: 3                                   Wissenschaftliche Beratung: 3                               Publizistische Tätigkeit: 3                                 \n",
      "Autorin: 2                                                  Betreuerin: 2                                               Landwirt/Geschäftsführer: 2                                 \n",
      "Wirtschaftsprüfer/Steuerberater: 2                          Landwirt: 2                                                 Berater, freiberuflich: 2                                   \n",
      "Lehrbeauftragte: 1                                          Kunde 10: 1                                                 Kunde 09: 1                                                 \n",
      "Kunde 02: 1                                                 Streitgespräch: 1                                           Studienreferendar: 1                                        \n",
      "Vortrag: Kundenseminar: 1                                   Vortrag und Podiumsdiskussion auf dem 3. Kongress der HUK-Coburg-Rechtsschutzversicherung: 1Vortrag: Transplantationssymposium: 1                       \n",
      "Unternehmensberater: 1                                      Podiumsdiskussion: 1                                        Vortrags-Lehr- und Prüfungstätigkeit: 1                     \n",
      "Rede und Podiumsdiskussion: 1                               Konferenzmitwirkung: 1                                      Metzgermeister: 1                                           \n",
      "Kunde 04: 1                                                 Glasermeister: 1                                            Kunde 03: 1                                                 \n",
      "ARD Medienpreis: 1                                          Seminarleiterin: 1                                          politisches Podiumsgespräch: 1                              \n",
      "Autorenhonorar: 1                                           Universitätsprofessor: 1                                    Publikation: 1                                              \n",
      "Kunde 08: 1                                                 Vortrag bei der Veranstaltungsreihe „Die Zukunft der Demokratie\": 1Moderation: 1                                               \n",
      "Diskussionsrunde: 1                                         Vortragsreihe: 1                                            Podiumsdiskussion: \"Das Freihandelsabkommen TTIP - Chance oder Schreckensvision für Europa\": 1\n",
      "Architektin: 1                                              Kaufmann: 1                                                 Honorarprofessorin: 1                                       \n",
      "Privatdozent: 1                                             Lesung: 1                                                   Unternehmer: 1                                              \n",
      "Historiker: 1                                               Mitwirkung in der TV-Sendung \"Zimmer frei!\": 1              Vortrag: GKV-Infotag: 1                                     \n",
      "Leiter des Reit-Zucht- und Ausbildungsstalles Markwerben: 1 Seminardurchführung, Training: 1                            Geschäftsführer: 1                                          \n",
      "Kunde 01: 1                                                 Richterin: 1                                                Herausgeber: 1                                              \n",
      "Dozent und Prüfer: 1                                        Bankkauffrau: 1                                             Leitender Angestellter: 1                                   \n",
      "Zusatzhonorar 2013: 1                                       Arzt: 1                                                     Vortrag: Qualitätskongress: 1                               \n",
      "Vermittlung von Versicherungsleistungen: 1                  Moderation: Arzneimittelversorgung: 1                       Buchautor: 1                                                \n"
     ]
    }
   ],
   "source": [
    "printCols([ \"%s: %s\" % (a['_id'], a['count']) for a in relations.aggregate(make_pipeline(unwind=\"data\", group=\"data.value.activity\", sort=True))], columns=3, spacing=60)"
   ]
  },
  {
   "cell_type": "code",
   "execution_count": 222,
   "metadata": {
    "collapsed": true
   },
   "outputs": [],
   "source": [
    "find_one_if_exists = lambda field, mask: relations.find_one({ field: {\"$exists\": 1, \"$ne\": None} }, {mask: 1})"
   ]
  },
  {
   "cell_type": "markdown",
   "metadata": {
    "variables": {
     " fields[27]['key'] ": "data.XX.value.level",
     "-fields[27]['key']-": "<p><strong>SyntaxError</strong>: invalid syntax (<ipython-input-44-3221c14fa566>, line 1)</p>\n"
    }
   },
   "source": [
    "## {{ fields[27]['key'] }}                                                                                                                                                                     "
   ]
  },
  {
   "cell_type": "code",
   "execution_count": 117,
   "metadata": {
    "collapsed": false
   },
   "outputs": [
    {
     "data": {
      "text/plain": [
       "{u'_id': ObjectId('54bd3c978b934da063413e6d'),\n",
       " u'data': [{u'value': {u'activity': None,\n",
       "    u'desc': u'Funktionen in Vereinen, Verb\\xe4nden und Stiftungen',\n",
       "    u'end': None,\n",
       "    u'level': 0,\n",
       "    u'periodical': u'einmalig',\n",
       "    u'place': None,\n",
       "    u'position': u'Vorsitzende',\n",
       "    u'start': None,\n",
       "    u'unsalaried': True}},\n",
       "  {u'value': {u'position': u'Vorstand',\n",
       "    u'sources': [u'http://bundestag.de/blob/189476/8989cc5f5f65426215d7e0233704b20a/lobbylisteaktuell-data.pdf'],\n",
       "    u'type': u'executive'}}]}"
      ]
     },
     "execution_count": 117,
     "metadata": {},
     "output_type": "execute_result"
    }
   ],
   "source": [
    "find_one_if_exists(\"data.value.level\", \"data.value\")"
   ]
  },
  {
   "cell_type": "markdown",
   "metadata": {
    "variables": {
     " fields[28]['key'] ": "data.XX.value.periodical",
     "-fields[28]['key']-": "<p><strong>SyntaxError</strong>: invalid syntax (<ipython-input-210-096f15e496b2>, line 1)</p>\n"
    }
   },
   "source": [
    "## {{ fields[28]['key'] }}                                                                                                                                                                     \n",
    "Die Häufigkeit einer Beschäftigung oder ähnliches. Könnte auch hilfreich sein."
   ]
  },
  {
   "cell_type": "code",
   "execution_count": 214,
   "metadata": {
    "collapsed": false
   },
   "outputs": [
    {
     "name": "stdout",
     "output_type": "stream",
     "text": [
      "None: 35934         einmalig: 2535      monatlich: 96       jährlich: 42        \n"
     ]
    }
   ],
   "source": [
    "periodicals = relations.aggregate(make_pipeline(unwind='data', group='data.value.periodical', sort=True))\n",
    "printCols( [ \"%s: %s\" % (d['_id'], d['count']) for d in periodicals ] )"
   ]
  },
  {
   "cell_type": "markdown",
   "metadata": {},
   "source": [
    "Anscheinend bestand dieses Verhältnis nur einmalig, war eine Funktion in einem Verein bei der eine Person die Rolle des Vorsitzenden eingenommen hat und dabei nicht bezahlt wurde"
   ]
  },
  {
   "cell_type": "code",
   "execution_count": 223,
   "metadata": {
    "collapsed": false,
    "scrolled": true
   },
   "outputs": [
    {
     "name": "stdout",
     "output_type": "stream",
     "text": [
      "{u'_id': ObjectId('54bd3c9b8b934da06341579f'),\n",
      " u'data': [{u'value': {u'activity': None,\n",
      "                       u'desc': u'Funktionen in Vereinen, Verb\\xe4nden und Stiftungen',\n",
      "                       u'end': {},\n",
      "                       u'level': 0,\n",
      "                       u'periodical': u'einmalig',\n",
      "                       u'place': None,\n",
      "                       u'position': u'Mitglied des Vorstandes',\n",
      "                       u'start': {u'month': 12, u'year': 2013},\n",
      "                       u'type': u'executive',\n",
      "                       u'unsalaried': True,\n",
      "                       u'verified': True}}]}\n"
     ]
    }
   ],
   "source": [
    "pprint(find_one_if_exists(\"data.value.periodical\", \"data.value\"))"
   ]
  },
  {
   "cell_type": "markdown",
   "metadata": {
    "variables": {
     " fields[29]['key'] ": "data.XX.value.place",
     "-fields[29]['key']-": "<p><strong>SyntaxError</strong>: invalid syntax (<ipython-input-232-09b7ef96d9d5>, line 1)</p>\n"
    }
   },
   "source": [
    "## {{ fields[29]['key'] }}                                                                                                                                                                     \n",
    "Ein Ort bzw eine Region, an dem ein (Arbeits-)verhältnis stattgefunden hat. Wird anscheinend nicht häufig verwendet."
   ]
  },
  {
   "cell_type": "code",
   "execution_count": 232,
   "metadata": {
    "collapsed": false
   },
   "outputs": [
    {
     "data": {
      "text/plain": [
       "{u'_id': ObjectId('54cb8443bbde97945a06a608'),\n",
       " u'data': [{u'value': {u'activity': u'Landwirt',\n",
       "    u'desc': u'Entgeltliche T\\xe4tigkeiten neben dem Mandat',\n",
       "    u'end': {u'year': 2013},\n",
       "    u'level': 3,\n",
       "    u'periodical': u'einmalig',\n",
       "    u'place': u'Oberhochstatt',\n",
       "    u'position': None,\n",
       "    u'start': {u'year': 2013},\n",
       "    u'unsalaried': False}}]}"
      ]
     },
     "execution_count": 232,
     "metadata": {},
     "output_type": "execute_result"
    }
   ],
   "source": [
    "find_one_if_exists(\"data.value.place\", \"data.value\") "
   ]
  },
  {
   "cell_type": "code",
   "execution_count": 233,
   "metadata": {
    "collapsed": false
   },
   "outputs": [
    {
     "name": "stdout",
     "output_type": "stream",
     "text": [
      "None: 38591                   Bad Zwischenahn: 2            Emlichheim: 2                 Legden: 2                     \n",
      "Vierlinden: 2                 Oberhochstatt: 2              Coburg: 1                     Haspa-Branchen Treff „Wirtschaftsfaktor Russland\", Hamburg: 1\n",
      "Lingen: 1                     Astellas GmbH, München: 1     Laar: 1                       Deutscher Zigarettenverband e.V., Berlin: 1\n",
      "\n"
     ]
    }
   ],
   "source": [
    "places = relations.aggregate(make_pipeline(unwind='data', group='data.value.place', sort=True))\n",
    "printCols( [ \"%s: %s\" % (d['_id'], d['count']) for d in places ], spacing=30, columns=4)"
   ]
  },
  {
   "cell_type": "code",
   "execution_count": 258,
   "metadata": {
    "collapsed": true
   },
   "outputs": [],
   "source": [
    "def make_pipeline(**kwargs):\n",
    "    unwind = lambda field: {\"$unwind\": \"$\"+field}\n",
    "    group = lambda field: {\"$group\": {\"_id\": \"$\"+field, \"count\": {\"$sum\": 1}} }\n",
    "    sort = {\"$sort\": {\"count\": -1} }\n",
    "    pipeline = []\n",
    "    if (kwargs.has_key('unwind')): pipeline.append(unwind(kwargs['unwind']))\n",
    "    if (kwargs.has_key('group')): pipeline.append(group(kwargs['group']))\n",
    "    if (kwargs.has_key('sort')): pipeline.append(sort)\n",
    "    return pipeline\n",
    "\n",
    "# Returns a simple aggregationd directly as list of values\n",
    "def simple_aggregate(group=\"\", unwind=None, sort=True):\n",
    "    pipeline = make_pipeline(unwind=unwind, group=group, sort=sort)\n",
    "    return [ \"%s: %s\" % (d['_id'], d['count']) for d in relations.aggregate(pipeline, cursor={}) ]"
   ]
  },
  {
   "cell_type": "markdown",
   "metadata": {
    "variables": {
     " fields[30]['key'] ": "data.XX.value.unsalaried",
     "-fields[30]['key']-": "<p><strong>SyntaxError</strong>: invalid syntax (<ipython-input-251-bc6e7d9e2547>, line 1)</p>\n"
    }
   },
   "source": [
    "## {{ fields[30]['key'] }}                                                                                                                                                                     \n",
    "Ob eine Tätigkeit ehremamtlich stattgefunden hat. Scheinen ja nur wenige zugegeben zu haben ;)"
   ]
  },
  {
   "cell_type": "code",
   "execution_count": 251,
   "metadata": {
    "collapsed": false
   },
   "outputs": [
    {
     "name": "stdout",
     "output_type": "stream",
     "text": [
      "None: 35934         \n",
      "False: 2091         \n",
      "True: 582           \n",
      "\n"
     ]
    }
   ],
   "source": [
    "unsalaried = simple_aggregate(unwind=\"data\", group=\"data.value.unsalaried\", sort=True)\n",
    "printCols(unsalaried, columns=1)"
   ]
  },
  {
   "cell_type": "markdown",
   "metadata": {
    "variables": {
     " fields[32]['key'] ": "data.XX.value.verified",
     "-fields[32]['key']-": "<p><strong>SyntaxError</strong>: invalid syntax (<ipython-input-256-772f2e0fa1c0>, line 1)</p>\n"
    }
   },
   "source": [
    "## {{ fields[32]['key'] }}                                                                                                                                                                     "
   ]
  },
  {
   "cell_type": "code",
   "execution_count": 257,
   "metadata": {
    "collapsed": false
   },
   "outputs": [
    {
     "data": {
      "text/plain": [
       "['None: 37524', 'True: 1083']"
      ]
     },
     "execution_count": 257,
     "metadata": {},
     "output_type": "execute_result"
    }
   ],
   "source": [
    "simple_aggregate(unwind=\"data\", group=\"data.value.verified\")"
   ]
  },
  {
   "cell_type": "code",
   "execution_count": 259,
   "metadata": {
    "collapsed": false
   },
   "outputs": [
    {
     "data": {
      "text/plain": [
       "{u'_id': ObjectId('54bd3c9b8b934da063415516'),\n",
       " u'data': [{u'value': {u'end': {u'year': 2014},\n",
       "    u'position': u'Vize-Pr\\xe4sident',\n",
       "    u'sources': [u'http://bundestag.de/blob/189476/8989cc5f5f65426215d7e0233704b20a/lobbylisteaktuell-data.pdf'],\n",
       "    u'start': {u'year': 2006},\n",
       "    u'type': u'executive',\n",
       "    u'verified': True}}]}"
      ]
     },
     "execution_count": 259,
     "metadata": {},
     "output_type": "execute_result"
    }
   ],
   "source": [
    "find_one_if_exists(\"data.value.verified\", \"data.value\") "
   ]
  },
  {
   "cell_type": "markdown",
   "metadata": {
    "variables": {
     " fields[31]['key'] ": "data.XX.value.start.year",
     " fields[33]['key'] ": "data.XX.value.start.month",
     " fields[35]['key'] ": "data.XX.value.start.day",
     "-fields[31]['key']-": "<p><strong>SyntaxError</strong>: invalid syntax (<ipython-input-272-ddffa895fc6f>, line 1)</p>\n",
     "-fields[33]['key']-": "<p><strong>SyntaxError</strong>: invalid syntax (<ipython-input-272-35d2b420e7ca>, line 1)</p>\n",
     "-fields[35]['key']-": "<p><strong>SyntaxError</strong>: invalid syntax (<ipython-input-272-f14d67a325d5>, line 1)</p>\n"
    }
   },
   "source": [
    "## {{ fields[35]['key'] }} | {{ fields[33]['key'] }} | {{ fields[31]['key'] }}"
   ]
  },
  {
   "cell_type": "code",
   "execution_count": 270,
   "metadata": {
    "collapsed": false
   },
   "outputs": [
    {
     "name": "stdout",
     "output_type": "stream",
     "text": [
      "{u'_id': ObjectId('54bd3c988b934da0634141b5'), u'data': [{u'value': {u'start': {u'year': 2011, u'day': 1, u'month': 6}}}]}\n",
      "{u'_id': ObjectId('54bd3c988b934da0634141b5'), u'data': [{u'value': {u'start': {u'year': 2011, u'day': 1, u'month': 6}}}]}\n",
      "{u'_id': ObjectId('54bd3c988b934da0634141b5'), u'data': [{u'value': {u'start': {u'year': 2011, u'day': 1, u'month': 6}}}]}\n"
     ]
    }
   ],
   "source": [
    "print(find_one_if_exists(\"data.value.start.day\", \"data.value.start\")) \n",
    "print(find_one_if_exists(\"data.value.start.year\", \"data.value.start\"))\n",
    "print(find_one_if_exists(\"data.value.start.month\", \"data.value.start\")) "
   ]
  },
  {
   "cell_type": "markdown",
   "metadata": {
    "variables": {
     " fields[34]['key'] ": "data.XX.value.end.year",
     " fields[36]['key'] ": "data.XX.value.end.month",
     " fields[37]['key'] ": "data.XX.value.end.day",
     "-fields[34]['key']-": "<p><strong>SyntaxError</strong>: invalid syntax (<ipython-input-272-078eabb4484c>, line 1)</p>\n",
     "-fields[36]['key']-": "<p><strong>SyntaxError</strong>: invalid syntax (<ipython-input-272-6957c3c66ec6>, line 1)</p>\n",
     "-fields[37]['key']-": "<p><strong>SyntaxError</strong>: invalid syntax (<ipython-input-272-a4b3fb967b31>, line 1)</p>\n"
    }
   },
   "source": [
    "## {{ fields[37]['key'] }} | {{ fields[36]['key'] }} | {{ fields[34]['key'] }} "
   ]
  },
  {
   "cell_type": "code",
   "execution_count": 271,
   "metadata": {
    "collapsed": false
   },
   "outputs": [
    {
     "name": "stdout",
     "output_type": "stream",
     "text": [
      "{u'_id': ObjectId('54bd3c968b934da0634137ea'), u'data': [{u'value': {u'end': {u'year': 2015, u'day': 1, u'month': 5}}}]}\n",
      "{u'_id': ObjectId('54bd3c968b934da0634137ea'), u'data': [{u'value': {u'end': {u'year': 2015, u'day': 1, u'month': 5}}}]}\n",
      "{u'_id': ObjectId('54bd3c968b934da0634137ea'), u'data': [{u'value': {u'end': {u'year': 2015, u'day': 1, u'month': 5}}}]}\n"
     ]
    }
   ],
   "source": [
    "print(find_one_if_exists(\"data.value.end.day\", \"data.value.end\"))\n",
    "print(find_one_if_exists(\"data.value.end.month\", \"data.value.end\"))\n",
    "print(find_one_if_exists(\"data.value.end.year\", \"data.value.end\")) "
   ]
  },
  {
   "cell_type": "markdown",
   "metadata": {
    "variables": {
     " fields[38]['key'] ": "data.XX.position",
     "-fields[38]['key']-": "<p><strong>SyntaxError</strong>: invalid syntax (<ipython-input-273-a895f7026d06>, line 1)</p>\n"
    }
   },
   "source": [
    "## {{ fields[38]['key'] }} \n",
    "Aaaaaaah ja..."
   ]
  },
  {
   "cell_type": "code",
   "execution_count": 272,
   "metadata": {
    "collapsed": false
   },
   "outputs": [
    {
     "name": "stdout",
     "output_type": "stream",
     "text": [
      "None: 38606         Lobbyist: 1         \n"
     ]
    }
   ],
   "source": [
    "printCols(simple_aggregate(unwind=\"data\", group=\"data.position\"))"
   ]
  },
  {
   "cell_type": "markdown",
   "metadata": {
    "variables": {
     " fields[39]['key'] ": "data.XX.value.url",
     "-fields[39]['key']-": "<p><strong>SyntaxError</strong>: invalid syntax (<ipython-input-270-285bee043ca9>, line 1)</p>\n"
    }
   },
   "source": [
    "## {{ fields[39]['key'] }} "
   ]
  },
  {
   "cell_type": "code",
   "execution_count": 277,
   "metadata": {
    "collapsed": false
   },
   "outputs": [
    {
     "name": "stdout",
     "output_type": "stream",
     "text": [
      "None: 38606         https://lobbypedia.de/wiki/Zentrum_f%C3%BCr_Europ%C3%A4ische_Wirtschaftsforschung: 1\n"
     ]
    }
   ],
   "source": [
    "printCols(simple_aggregate(unwind=\"data\", group=\"data.value.url\"))"
   ]
  },
  {
   "cell_type": "markdown",
   "metadata": {},
   "source": [
    "# Altes"
   ]
  },
  {
   "cell_type": "code",
   "execution_count": 288,
   "metadata": {
    "collapsed": false
   },
   "outputs": [
    {
     "name": "stdout",
     "output_type": "stream",
     "text": [
      "Verbindung/association: 26258\n",
      "Parteispende/donation: 9673\n",
      "Angaben zur Nebentätigkeit/activity: 2673\n",
      "Verifiziert/bool: 1 \n",
      "Quelle/link: 1      \n",
      "Position/string: 1  \n",
      "\n"
     ]
    }
   ],
   "source": [
    "# Werte von \"Desc\"\n",
    "pipeline = [\n",
    "    {\"$unwind\": \"$data\"},\n",
    "    {\"$group\": {\"_id\": {\"desc\": \"$data.desc\", \"format\": \"$data.format\"}, \"count\": {\"$sum\": 1}}},\n",
    "    {\"$sort\": {\"count\": -1} }\n",
    "]\n",
    "\n",
    "results = relations.aggregate(pipeline, cursor={})\n",
    "printCols([ \"%s/%s: %s\" % (row['_id']['desc'], row['_id']['format'], row['count']) for row in results ], columns=1)"
   ]
  },
  {
   "cell_type": "code",
   "execution_count": 291,
   "metadata": {
    "collapsed": false,
    "scrolled": true
   },
   "outputs": [
    {
     "name": "stdout",
     "output_type": "stream",
     "text": [
      "{u'data': [{u'desc': u'Verbindung',\n",
      "            u'format': u'association',\n",
      "            u'value': {u'position': u'Vorstand', u'type': u'executive'}}]}\n",
      "{u'data': [{u'desc': u'Parteispende', u'format': u'donation', u'value': {}},\n",
      "           {u'desc': u'Parteispende', u'format': u'donation', u'value': {}}]}\n",
      "{u'data': [{u'desc': u'Angaben zur Nebent\\xe4tigkeit',\n",
      "            u'format': u'activity',\n",
      "            u'value': {u'desc': u'Funktionen in Vereinen, Verb\\xe4nden und Stiftungen',\n",
      "                       u'position': u'Vorsitzende'}},\n",
      "           {u'desc': u'Verbindung',\n",
      "            u'format': u'association',\n",
      "            u'value': {u'position': u'Vorstand', u'type': u'executive'}}]}\n",
      "{u'data': [{u'desc': u'Verbindung',\n",
      "            u'format': u'association',\n",
      "            u'value': {u'position': u'Vorstand', u'type': u'executive'}}]}\n",
      "{u'data': [{u'desc': u'Angaben zur Nebent\\xe4tigkeit',\n",
      "            u'format': u'activity',\n",
      "            u'value': {u'desc': u'Funktionen in Vereinen, Verb\\xe4nden und Stiftungen',\n",
      "                       u'position': u'Vorsitzende'}},\n",
      "           {u'desc': u'Verbindung',\n",
      "            u'format': u'association',\n",
      "            u'value': {u'position': u'Vorstand', u'type': u'executive'}}]}\n",
      "{u'data': [{u'desc': u'Position', u'format': u'string'},\n",
      "           {u'desc': u'Quelle', u'format': u'link', u'value': {}},\n",
      "           {u'desc': u'Verifiziert', u'format': u'bool'}]}\n",
      "{u'data': [{u'desc': u'Position', u'format': u'string'},\n",
      "           {u'desc': u'Quelle', u'format': u'link', u'value': {}},\n",
      "           {u'desc': u'Verifiziert', u'format': u'bool'}]}\n",
      "{u'data': [{u'desc': u'Position', u'format': u'string'},\n",
      "           {u'desc': u'Quelle', u'format': u'link', u'value': {}},\n",
      "           {u'desc': u'Verifiziert', u'format': u'bool'}]}\n",
      "{u'data': [{u'desc': u'Parteispende', u'format': u'donation', u'value': {}},\n",
      "           {u'desc': u'Parteispende', u'format': u'donation', u'value': {}}]}\n"
     ]
    }
   ],
   "source": [
    "# Print an example value of each description type\n",
    "for desc in distinct_desc_types:\n",
    "    desc_type = desc['_id']['desc']\n",
    "    entity_with_desc_type = db.relations.find_one({ \"data.desc\": {\"$eq\": desc_type} }, { \"_id\": 0, \"data.desc\": 1, \"data.format\": 1, \"data.value.position\": 1, \"data.value.type\": 1, \"data.value.desc\": 1 })\n",
    "    #entity_with_desc_type = db.entities.find_one({ \"data.desc\": {\"$eq\": desc_type} }, { \"data\": {\"$elemMatch\": {\"data.desc\": desc_type}} })\n",
    "    pprint(entity_with_desc_type)"
   ]
  }
 ],
 "metadata": {
  "kernelspec": {
   "display_name": "Python 2",
   "language": "python",
   "name": "python2"
  },
  "language_info": {
   "codemirror_mode": {
    "name": "ipython",
    "version": 2
   },
   "file_extension": ".py",
   "mimetype": "text/x-python",
   "name": "python",
   "nbconvert_exporter": "python",
   "pygments_lexer": "ipython2",
   "version": "2.7.8"
  }
 },
 "nbformat": 4,
 "nbformat_minor": 0
}
