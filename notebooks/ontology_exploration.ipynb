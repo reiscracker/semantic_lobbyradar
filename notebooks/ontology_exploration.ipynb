{
 "cells": [
  {
   "cell_type": "code",
   "execution_count": 166,
   "metadata": {
    "collapsed": false
   },
   "outputs": [],
   "source": [
    "import pymongo                                                                                                                                                                                                                               \n",
    "from pymongo import MongoClient                                                                                                                                                                                                              \n",
    "from pprint import pprint#, pformat, PrettyPrinter                                                                                                                                                                                            \n",
    "# from bson.son import SON                                                                                                                                                                                                                     \n",
    "from bson.objectid import ObjectId                                                                                                                                                                                                           \n",
    "# from os.path import exists                                                                                                                                                                                                                   \n",
    "# import json                                                                                                                                                                                                                                  \n",
    "# from ipy_table import *        \n",
    "\n",
    "from mongotools import *"
   ]
  },
  {
   "cell_type": "code",
   "execution_count": 167,
   "metadata": {
    "collapsed": true
   },
   "outputs": [],
   "source": [
    "def formatRow(row):\n",
    "    formats = { 2: u\"{}: {}\", 3: u\"{}: {} ({})\" }\n",
    "    row_format = formats.get( len(row), u\"{} \" * len(row) )\n",
    "    return (row_format.format(*row.values()))"
   ]
  },
  {
   "cell_type": "code",
   "execution_count": 168,
   "metadata": {
    "collapsed": false
   },
   "outputs": [
    {
     "name": "stdout",
     "output_type": "stream",
     "text": [
      "26380 Entities and 32137 Relations loaded.\n"
     ]
    }
   ],
   "source": [
    "# Connect to database and create variables for the collections                                                                                                                                                                                 \n",
    "client = MongoClient()                                                                                                                                                                                                                       \n",
    "db = client.lobbyradar                                                                                                                                                                                                                       \n",
    "entities, relations = db.entities, db.relations\n",
    "\n",
    "print(\"%s Entities and %s Relations loaded.\" % (entities.count(), relations.count())) "
   ]
  },
  {
   "cell_type": "code",
   "execution_count": 169,
   "metadata": {
    "collapsed": false
   },
   "outputs": [],
   "source": [
    "etools = MongoHelper(entities)\n",
    "rtools = MongoHelper(relations)"
   ]
  },
  {
   "cell_type": "markdown",
   "metadata": {},
   "source": [
    "# Ontologie\n",
    "Um eine Ontologie zu bauen müssen wir uns auf Klasse und Eigenschaften festlegen. Es geht nun also darum, die Daten gut zu untersuchen und die wichtigsten Klassen daraus abzuleiten.\n",
    "\n",
    "Grundlegend geht es in diesem Datensatz um Vernetzung, weshalb die \"Verbindung\" so gut wie allen Relationen zu Grunde liegt."
   ]
  },
  {
   "cell_type": "markdown",
   "metadata": {},
   "source": [
    "Auf Seiten der Relationen sind die Felder\n",
    " - Tags\n",
    " - data.desc\n",
    " - data.format\n",
    " - __data.value.position__\n",
    " - data.value.type\n",
    " - __data.value.desc__\n",
    " - __data.value.amount__\n",
    " - __data.value.activity__\n",
    "\n",
    "besonders aussagekräftig und bieten viele Daten."
   ]
  },
  {
   "cell_type": "markdown",
   "metadata": {},
   "source": [
    "### Tags\n",
    "Die Tags bieten relativ viel Informationen, dafür leider unstrukturiert. Da es viele wenig genutzte Tags gibt, schränken wir die Suche etwas ein."
   ]
  },
  {
   "cell_type": "code",
   "execution_count": 170,
   "metadata": {
    "collapsed": false,
    "scrolled": false
   },
   "outputs": [
    {
     "ename": "TypeError",
     "evalue": "make_pipeline() takes exactly 1 argument (0 given)",
     "output_type": "error",
     "traceback": [
      "\u001b[1;31m---------------------------------------------------------------------------\u001b[0m",
      "\u001b[1;31mTypeError\u001b[0m                                 Traceback (most recent call last)",
      "\u001b[1;32m<ipython-input-170-d81f9909eab5>\u001b[0m in \u001b[0;36m<module>\u001b[1;34m()\u001b[0m\n\u001b[0;32m      1\u001b[0m \u001b[1;31m# Filter Tags with less than 100 occurences\u001b[0m\u001b[1;33m\u001b[0m\u001b[1;33m\u001b[0m\u001b[0m\n\u001b[1;32m----> 2\u001b[1;33m \u001b[0mpipeline\u001b[0m \u001b[1;33m=\u001b[0m \u001b[0mmake_pipeline\u001b[0m\u001b[1;33m(\u001b[0m\u001b[0munwind\u001b[0m\u001b[1;33m=\u001b[0m\u001b[1;34m\"tags\"\u001b[0m\u001b[1;33m,\u001b[0m \u001b[0mgroup\u001b[0m\u001b[1;33m=\u001b[0m\u001b[1;34m\"tags\"\u001b[0m\u001b[1;33m,\u001b[0m \u001b[0msort\u001b[0m\u001b[1;33m=\u001b[0m\u001b[0mTrue\u001b[0m\u001b[1;33m,\u001b[0m \u001b[0mmin_count\u001b[0m\u001b[1;33m=\u001b[0m\u001b[1;36m100\u001b[0m\u001b[1;33m)\u001b[0m\u001b[1;33m\u001b[0m\u001b[0m\n\u001b[0m\u001b[0;32m      3\u001b[0m \u001b[1;33m\u001b[0m\u001b[0m\n\u001b[0;32m      4\u001b[0m \u001b[0mtags\u001b[0m \u001b[1;33m=\u001b[0m \u001b[0mrelations\u001b[0m\u001b[1;33m.\u001b[0m\u001b[0maggregate\u001b[0m\u001b[1;33m(\u001b[0m\u001b[0mpipeline\u001b[0m \u001b[1;33m,\u001b[0m \u001b[0mcursor\u001b[0m\u001b[1;33m=\u001b[0m\u001b[1;33m{\u001b[0m\u001b[1;33m}\u001b[0m\u001b[1;33m)\u001b[0m\u001b[1;33m\u001b[0m\u001b[0m\n\u001b[0;32m      5\u001b[0m \u001b[0mprintCols\u001b[0m\u001b[1;33m(\u001b[0m \u001b[1;33m[\u001b[0m \u001b[0mformatRow\u001b[0m\u001b[1;33m(\u001b[0m\u001b[0mrow\u001b[0m\u001b[1;33m)\u001b[0m \u001b[1;32mfor\u001b[0m \u001b[0mrow\u001b[0m \u001b[1;32min\u001b[0m \u001b[0mtags\u001b[0m \u001b[1;33m]\u001b[0m\u001b[1;33m,\u001b[0m \u001b[0mspacing\u001b[0m\u001b[1;33m=\u001b[0m\u001b[1;36m20\u001b[0m\u001b[1;33m)\u001b[0m\u001b[1;33m\u001b[0m\u001b[0m\n",
      "\u001b[1;31mTypeError\u001b[0m: make_pipeline() takes exactly 1 argument (0 given)"
     ]
    }
   ],
   "source": [
    "# Filter Tags with less than 100 occurences\n",
    "pipeline = make_pipeline(unwind=\"tags\", group=\"tags\", sort=True, min_count=100)\n",
    "\n",
    "tags = relations.aggregate(pipeline , cursor={})\n",
    "printCols( [ formatRow(row) for row in tags ], spacing=20)"
   ]
  },
  {
   "cell_type": "markdown",
   "metadata": {
    "run_control": {
     "marked": false
    }
   },
   "source": [
    "### data.XX.desc  | data.XX.format"
   ]
  },
  {
   "cell_type": "code",
   "execution_count": null,
   "metadata": {
    "collapsed": false
   },
   "outputs": [],
   "source": [
    "desc_pipeline = make_pipeline(unwind=\"data\", group=\"data.desc\", sort=True, min_count=100)\n",
    "format_pipeline = make_pipeline(unwind=\"data\", group=\"data.format\", sort=True, min_count=100)\n",
    "desc = relations.aggregate(desc_pipeline, cursor={})\n",
    "form = relations.aggregate(format_pipeline, cursor={})\n",
    "\n",
    "printCols( [ u\"{:<60} {:<50}\".format(d, f) for (d, f) in zip(desc, form) ], columns=1 )"
   ]
  },
  {
   "cell_type": "markdown",
   "metadata": {},
   "source": [
    "Hier sehen wir deutlich, dass data.desc und data.format so gut wie deckungsgleich sehen. Es reicht also, wenn wir eines der Felder betrachten. \n",
    "Auch data.key ist fast gleichbedeutend damit."
   ]
  },
  {
   "cell_type": "markdown",
   "metadata": {},
   "source": [
    "### data.value.position"
   ]
  },
  {
   "cell_type": "code",
   "execution_count": null,
   "metadata": {
    "collapsed": false,
    "scrolled": true
   },
   "outputs": [],
   "source": [
    "position_pipeline = make_pipeline(unwind=\"data\", group=\"data.value.position\", sort=True, min_count=100)\n",
    "position = relations.aggregate(position_pipeline, cursor={})\n",
    "\n",
    "printCols( [ formatRow(row) for row in position ], columns=4, spacing=40)"
   ]
  },
  {
   "cell_type": "markdown",
   "metadata": {},
   "source": [
    "Natürlicherweise sind alle Vorstände auch immer assoziiert mit dem jeweiligen Partner:"
   ]
  },
  {
   "cell_type": "code",
   "execution_count": null,
   "metadata": {
    "collapsed": false
   },
   "outputs": [],
   "source": [
    "p = [\n",
    " {'$unwind': '$data'},\n",
    " {'$match': {'data.format': {'$eq': \"association\"}}},\n",
    " {'$group': {'_id': { 'position': '$data.value.position', 'format': '$data.format'}, 'count': {'$sum': 1}}},\n",
    " {'$sort': {'count': -1}},\n",
    " {'$match': {'count': {'$gt': 100}}} \n",
    "]\n",
    "printCols( [ formatRow(row) for row in relations.aggregate(p) ], columns=2, spacing=90)"
   ]
  },
  {
   "cell_type": "markdown",
   "metadata": {},
   "source": [
    "Dass eine Spende zusammen mit einer \"Position\" eintritt ist eher seltener.."
   ]
  },
  {
   "cell_type": "code",
   "execution_count": null,
   "metadata": {
    "collapsed": false
   },
   "outputs": [],
   "source": [
    "p = [\n",
    " {'$unwind': '$data'},\n",
    " {'$match': {'data.format': {'$eq': \"donation\"}}},\n",
    " {'$group': {'_id': { 'position': '$data.value.position', 'format': '$data.format'}, 'count': {'$sum': 1}}},\n",
    " {'$sort': {'count': -1}},\n",
    " {'$match': {'count': {'$gt': 100}}} \n",
    "]\n",
    "printCols( [ formatRow(row) for row in relations.aggregate(p) ], columns=2, spacing=90)"
   ]
  },
  {
   "cell_type": "markdown",
   "metadata": {},
   "source": [
    "Bei der activity gibt es wieder Personen, die eine Position innehaben."
   ]
  },
  {
   "cell_type": "code",
   "execution_count": null,
   "metadata": {
    "collapsed": false
   },
   "outputs": [],
   "source": [
    "p = [\n",
    " {'$unwind': '$data'},\n",
    " {'$match': {'data.format': {'$eq': \"activity\"}}},\n",
    " {'$group': {'_id': { 'position': '$data.value.position', 'format': '$data.format'}, 'count': {'$sum': 1}}},\n",
    " {'$sort': {'count': -1}},\n",
    " {'$match': {'count': {'$gt': 100}}} \n",
    "]\n",
    "printCols( [ formatRow(row) for row in relations.aggregate(p) ], columns=2, spacing=90)"
   ]
  },
  {
   "cell_type": "markdown",
   "metadata": {},
   "source": [
    "### data.value.type"
   ]
  },
  {
   "cell_type": "code",
   "execution_count": null,
   "metadata": {
    "collapsed": false
   },
   "outputs": [],
   "source": [
    "type_pipeline = make_pipeline(unwind=\"data\", group=\"data.value.type\", sort=True, min_count=50)\n",
    "types = relations.aggregate(type_pipeline, cursor={})\n",
    "\n",
    "printCols( [ formatRow(row) for row in types ], columns=2)"
   ]
  },
  {
   "cell_type": "code",
   "execution_count": null,
   "metadata": {
    "collapsed": false
   },
   "outputs": [],
   "source": [
    "subsidiary = relations.find({ \"data.value.type\": {\"$eq\": \"subsidiary\"} }, {'tags': 1, 'data.value': 1, 'entities': 1}).limit(3)\n",
    "for r in subsidiary:\n",
    "    pprint(r)"
   ]
  },
  {
   "cell_type": "code",
   "execution_count": null,
   "metadata": {
    "collapsed": true
   },
   "outputs": [],
   "source": [
    "def lookup_relation(relation_id):\n",
    "    relation = relations.find_one({ \"_id\": relation_id }, {'tags': 1, 'data': 1, 'entities': 1})  \n",
    "    entity_ids = relation.get('entities')\n",
    "    pprint(relation.get('data'))\n",
    "    print(etools.lookup_entity(entitiy_ids[0], {'name': 1}))\n",
    "    print(etools.lookup_entity(entitiy_ids[1], {'name': 1}))\n",
    "    \n",
    "def lookup_by_value_desc(value_desc):\n",
    "    relation = relations.find_one({ \"data.value.desc\": value_desc }, {'tags': 1, 'data': 1, 'entities': 1})  \n",
    "    entity_ids = relation.get('entities')\n",
    "    pprint(relation.get('data'))\n",
    "    print(etools.lookup_entity(entitiy_ids[0], {'name': 1}))\n",
    "    print(etools.lookup_entity(entitiy_ids[1], {'name': 1}))"
   ]
  },
  {
   "cell_type": "code",
   "execution_count": null,
   "metadata": {
    "collapsed": false
   },
   "outputs": [],
   "source": [
    "entitiy_ids = (ObjectId('54c2a4cafe6a42c82bbab93d'), ObjectId('54bd3ca38b934da0634177da'))\n",
    "print(etools.lookup_entity(entitiy_ids[0], {'name': 1}))\n",
    "print(etools.lookup_entity(entitiy_ids[1], {'name': 1}))"
   ]
  },
  {
   "cell_type": "code",
   "execution_count": null,
   "metadata": {
    "collapsed": false
   },
   "outputs": [],
   "source": [
    "entitiy_ids = (ObjectId('54c2a4b3fe6a42c82bbaaf7e'),\n",
    "               ObjectId('54bd3ca18b934da063417539'))\n",
    "print(etools.lookup_entity(entitiy_ids[0], {'name': 1}))\n",
    "print(etools.lookup_entity(entitiy_ids[1], {'name': 1}))"
   ]
  },
  {
   "cell_type": "code",
   "execution_count": null,
   "metadata": {
    "collapsed": false
   },
   "outputs": [],
   "source": [
    "entitiy_ids = (ObjectId('54c2a4b3fe6a42c82bbaaf7e'),\n",
    "               ObjectId('54cb842abbde97945a06a06f'))\n",
    "print(etools.lookup_entity(entitiy_ids[0], {'name': 1}))\n",
    "print(etools.lookup_entity(entitiy_ids[1], {'name': 1}))"
   ]
  },
  {
   "cell_type": "markdown",
   "metadata": {},
   "source": [
    "### data.value.desc"
   ]
  },
  {
   "cell_type": "code",
   "execution_count": null,
   "metadata": {
    "collapsed": false
   },
   "outputs": [],
   "source": [
    "desc_pipeline = make_pipeline(unwind=\"data\", group=\"data.value.desc\", sort=True, min_count=50)\n",
    "descs = relations.aggregate(desc_pipeline, cursor={})\n",
    "\n",
    "printCols( [ formatRow(row) for row in descs ], columns=2, spacing=70)"
   ]
  },
  {
   "cell_type": "code",
   "execution_count": null,
   "metadata": {
    "collapsed": true
   },
   "outputs": [],
   "source": [
    "lookup_by_value_desc(\"Funktionen in Unternehmen\")"
   ]
  },
  {
   "cell_type": "code",
   "execution_count": null,
   "metadata": {
    "collapsed": false
   },
   "outputs": [],
   "source": [
    "lookup_by_value_desc(\"Geschäftsverbindung\")"
   ]
  },
  {
   "cell_type": "code",
   "execution_count": null,
   "metadata": {
    "collapsed": true
   },
   "outputs": [],
   "source": [
    "lookup_by_value_desc(\"Funktionen in Vereinen, Verbänden und Stiftungen\")"
   ]
  },
  {
   "cell_type": "code",
   "execution_count": null,
   "metadata": {
    "collapsed": true
   },
   "outputs": [],
   "source": [
    "lookup_by_value_desc(\"Funktionen in Körperschaften und Anstalten des öffentlichen Rechts\")"
   ]
  },
  {
   "cell_type": "code",
   "execution_count": null,
   "metadata": {
    "collapsed": false
   },
   "outputs": [],
   "source": [
    "lookup_by_value_desc(\"Bundestag Spenden von Personen und Beiträge von Mandatsträgern\")"
   ]
  },
  {
   "cell_type": "markdown",
   "metadata": {},
   "source": [
    "### data.value.amount"
   ]
  },
  {
   "cell_type": "code",
   "execution_count": null,
   "metadata": {
    "collapsed": false,
    "run_control": {
     "marked": false
    }
   },
   "outputs": [],
   "source": [
    "amount_pipeline = make_pipeline(unwind=\"data\", group=\"data.value.amount\", sort=True, min_count=50)\n",
    "amounts = relations.aggregate(amount_pipeline, cursor={})\n",
    "\n",
    "printCols( [ formatRow(row) for row in amounts ], columns=2)"
   ]
  },
  {
   "cell_type": "code",
   "execution_count": null,
   "metadata": {
    "collapsed": true
   },
   "outputs": [],
   "source": [
    "amounts = relations.find({ \"data.value.amount\": {\"$exists\": 1}}).limit(2)\n",
    "pprint(list(amounts))"
   ]
  },
  {
   "cell_type": "markdown",
   "metadata": {},
   "source": [
    "### Beide relation-IDs stammen von einer Parteispende-Beziehung"
   ]
  },
  {
   "cell_type": "code",
   "execution_count": null,
   "metadata": {
    "collapsed": false,
    "run_control": {
     "marked": false
    }
   },
   "outputs": [],
   "source": [
    "pprint(lookup_relation(ObjectId('54c2a4f0fe6a42c82bbabb54')))\n",
    "pprint(lookup_relation(ObjectId('54c2a4f0fe6a42c82bbabb55')))"
   ]
  },
  {
   "cell_type": "code",
   "execution_count": null,
   "metadata": {
    "collapsed": false,
    "scrolled": false
   },
   "outputs": [],
   "source": [
    "amounts = relations.find({ \"data.value.amount\": {\"$exists\": 1}}, {'data.value': 1}).limit(2)\n",
    "pprint(list(amounts))"
   ]
  },
  {
   "cell_type": "markdown",
   "metadata": {},
   "source": [
    "### data.value.activity"
   ]
  },
  {
   "cell_type": "code",
   "execution_count": null,
   "metadata": {
    "collapsed": false
   },
   "outputs": [],
   "source": [
    "activity_pipeline = make_pipeline(unwind=\"data\", group=\"data.value.activity\", sort=True)\n",
    "activities = relations.aggregate(activity_pipeline, cursor={})\n",
    "\n",
    "printCols( [ formatRow(row) for row in activities ], columns=3, spacing=70)"
   ]
  },
  {
   "cell_type": "code",
   "execution_count": null,
   "metadata": {
    "collapsed": false
   },
   "outputs": [],
   "source": [
    "pprint(list(relations.find({ \"data.value.activity\": \"Vortrag\" }).limit(3)))"
   ]
  },
  {
   "cell_type": "code",
   "execution_count": null,
   "metadata": {
    "collapsed": true
   },
   "outputs": [],
   "source": []
  }
 ],
 "metadata": {
  "kernelspec": {
   "display_name": "Python 2",
   "language": "python",
   "name": "python2"
  },
  "language_info": {
   "codemirror_mode": {
    "name": "ipython",
    "version": 2
   },
   "file_extension": ".py",
   "mimetype": "text/x-python",
   "name": "python",
   "nbconvert_exporter": "python",
   "pygments_lexer": "ipython2",
   "version": "2.7.8"
  }
 },
 "nbformat": 4,
 "nbformat_minor": 0
}
