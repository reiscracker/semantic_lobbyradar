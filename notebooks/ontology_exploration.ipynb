{
 "cells": [
  {
   "cell_type": "code",
   "execution_count": 1,
   "metadata": {
    "collapsed": false
   },
   "outputs": [],
   "source": [
    "import pymongo                                                                                                                                                                                                                               \n",
    "from pymongo import MongoClient                                                                                                                                                                                                              \n",
    "from pprint import pprint#, pformat, PrettyPrinter                                                                                                                                                                                            \n",
    "# from bson.son import SON                                                                                                                                                                                                                     \n",
    "from bson.objectid import ObjectId                                                                                                                                                                                                           \n",
    "# from os.path import exists                                                                                                                                                                                                                   \n",
    "# import json                                                                                                                                                                                                                                  \n",
    "# from ipy_table import *        \n",
    "\n",
    "from mongotools import *"
   ]
  },
  {
   "cell_type": "code",
   "execution_count": 2,
   "metadata": {
    "collapsed": true
   },
   "outputs": [],
   "source": [
    "def formatRow(row):\n",
    "    formats = { 2: u\"{}: {}\", 3: u\"{}: {} ({})\" }\n",
    "    row_format = formats.get( len(row), u\"{} \" * len(row) )\n",
    "    return (row_format.format(*row.values()))"
   ]
  },
  {
   "cell_type": "code",
   "execution_count": 3,
   "metadata": {
    "collapsed": false
   },
   "outputs": [
    {
     "name": "stdout",
     "output_type": "stream",
     "text": [
      "26380 Entities and 32137 Relations loaded.\n"
     ]
    }
   ],
   "source": [
    "# Connect to database and create variables for the collections                                                                                                                                                                                 \n",
    "client = MongoClient()                                                                                                                                                                                                                       \n",
    "db = client.lobbyradar                                                                                                                                                                                                                       \n",
    "entities, relations = db.entities, db.relations\n",
    "\n",
    "print(\"%s Entities and %s Relations loaded.\" % (entities.count(), relations.count())) "
   ]
  },
  {
   "cell_type": "code",
   "execution_count": 4,
   "metadata": {
    "collapsed": false
   },
   "outputs": [],
   "source": [
    "etools = MongoHelper(entities)\n",
    "rtools = MongoHelper(relations)"
   ]
  },
  {
   "cell_type": "markdown",
   "metadata": {},
   "source": [
    "# Ontologie\n",
    "Um eine Ontologie zu bauen müssen wir uns auf Klasse und Eigenschaften festlegen. Es geht nun also darum, die Daten gut zu untersuchen und die wichtigsten Klassen daraus abzuleiten.\n",
    "\n",
    "Grundlegend geht es in diesem Datensatz um Vernetzung, weshalb die \"Verbindung\" so gut wie allen Relationen zu Grunde liegt."
   ]
  },
  {
   "cell_type": "markdown",
   "metadata": {},
   "source": [
    "Auf Seiten der Relationen sind die Felder\n",
    " - Tags\n",
    " - data.desc\n",
    " - data.format\n",
    " - __data.value.position__\n",
    " - data.value.type\n",
    " - __data.value.desc__\n",
    " - __data.value.amount__\n",
    " - __data.value.activity__\n",
    "\n",
    "besonders aussagekräftig und bieten viele Daten."
   ]
  },
  {
   "cell_type": "markdown",
   "metadata": {},
   "source": [
    "### Tags\n",
    "Die Tags bieten relativ viel Informationen, dafür leider unstrukturiert. Da es viele wenig genutzte Tags gibt, schränken wir die Suche etwas ein."
   ]
  },
  {
   "cell_type": "code",
   "execution_count": 5,
   "metadata": {
    "collapsed": false,
    "scrolled": false
   },
   "outputs": [
    {
     "name": "stdout",
     "output_type": "stream",
     "text": [
      "3926: partei        2552: nebentaetigkeit1804: committee     1151: pr-und-lobbyagentur1081: spende        \n",
      "1081: parteispende  1047: anwaltskanzlei675: dax            629: mdb            603: laender        \n",
      "557: kabinette      496: aufsichtsrat   466: pharma         281: seitenwechsler 245: bank           \n",
      "230: regierung      229: kabinett       220: ruestung       192: vorstand       174: fernsehrat     \n",
      "168: fernsehen      154: auto           \n"
     ]
    }
   ],
   "source": [
    "# Filter Tags with less than 100 occurences\n",
    "pipeline = make_pipeline(unwind=\"tags\", group=\"tags\", sort=True, min_count=100)\n",
    "\n",
    "tags = relations.aggregate(pipeline , cursor={})\n",
    "printCols( [ formatRow(row) for row in tags ], spacing=20)"
   ]
  },
  {
   "cell_type": "markdown",
   "metadata": {
    "run_control": {
     "marked": false
    }
   },
   "source": [
    "### data.XX.desc  | data.XX.format"
   ]
  },
  {
   "cell_type": "code",
   "execution_count": 6,
   "metadata": {
    "collapsed": false
   },
   "outputs": [
    {
     "name": "stdout",
     "output_type": "stream",
     "text": [
      "{u'count': 26258, u'_id': u'Verbindung'}                     {u'count': 26258, u'_id': u'association'}         \n",
      "{u'count': 9673, u'_id': u'Parteispende'}                    {u'count': 9673, u'_id': u'donation'}             \n",
      "{u'count': 2673, u'_id': u'Angaben zur Nebent\\xe4tigkeit'}   {u'count': 2673, u'_id': u'activity'}             \n",
      "\n"
     ]
    }
   ],
   "source": [
    "desc_pipeline = make_pipeline(unwind=\"data\", group=\"data.desc\", sort=True, min_count=100)\n",
    "format_pipeline = make_pipeline(unwind=\"data\", group=\"data.format\", sort=True, min_count=100)\n",
    "desc = relations.aggregate(desc_pipeline, cursor={})\n",
    "form = relations.aggregate(format_pipeline, cursor={})\n",
    "\n",
    "printCols( [ u\"{:<60} {:<50}\".format(d, f) for (d, f) in zip(desc, form) ], columns=1 )"
   ]
  },
  {
   "cell_type": "markdown",
   "metadata": {},
   "source": [
    "Hier sehen wir deutlich, dass data.desc und data.format so gut wie deckungsgleich sehen. Es reicht also, wenn wir eines der Felder betrachten. \n",
    "Auch data.key ist fast gleichbedeutend damit."
   ]
  },
  {
   "cell_type": "markdown",
   "metadata": {},
   "source": [
    "### data.value.position"
   ]
  },
  {
   "cell_type": "code",
   "execution_count": 7,
   "metadata": {
    "collapsed": false,
    "scrolled": true
   },
   "outputs": [
    {
     "name": "stdout",
     "output_type": "stream",
     "text": [
      "16054: Vorstand                         11394: None                             2635: Mitglied                          993: Ordentliches Mitglied              \n",
      "838: Stellvertretendes Mitglied         837: Arbeitsverhältnis                  459: Aufsichtsratsmitglied              404: Mitglied des Kuratoriums           \n",
      "231: Mitglied des Beirates              204: Mitglied des Aufsichtsrates        173: Mitglied des Vorstandes            161: Vorstandsmitglied                  \n",
      "122: Staatssekretär                     115: Mitglied im Rundfunkrat            111: Mitglied des Kreistages            \n"
     ]
    }
   ],
   "source": [
    "position_pipeline = make_pipeline(unwind=\"data\", group=\"data.value.position\", sort=True, min_count=100)\n",
    "position = relations.aggregate(position_pipeline, cursor={})\n",
    "\n",
    "printCols( [ formatRow(row) for row in position ], columns=4, spacing=40)"
   ]
  },
  {
   "cell_type": "markdown",
   "metadata": {},
   "source": [
    "Natürlicherweise sind alle Vorstände auch immer assoziiert mit dem jeweiligen Partner:"
   ]
  },
  {
   "cell_type": "code",
   "execution_count": 8,
   "metadata": {
    "collapsed": false
   },
   "outputs": [
    {
     "name": "stdout",
     "output_type": "stream",
     "text": [
      "16054: {u'position': u'Vorstand', u'format': u'association'}                              2635: {u'position': u'Mitglied', u'format': u'association'}                               \n",
      "1490: {u'format': u'association'}                                                         993: {u'position': u'Ordentliches Mitglied', u'format': u'association'}                   \n",
      "838: {u'position': u'Stellvertretendes Mitglied', u'format': u'association'}              837: {u'position': u'Arbeitsverh\\xe4ltnis', u'format': u'association'}                    \n",
      "459: {u'position': u'Aufsichtsratsmitglied', u'format': u'association'}                   161: {u'position': u'Vorstandsmitglied', u'format': u'association'}                       \n",
      "122: {u'position': u'Staatssekret\\xe4r', u'format': u'association'}                       115: {u'position': u'Mitglied im Rundfunkrat', u'format': u'association'}                 \n",
      "\n"
     ]
    }
   ],
   "source": [
    "p = [\n",
    " {'$unwind': '$data'},\n",
    " {'$match': {'data.format': {'$eq': \"association\"}}},\n",
    " {'$group': {'_id': { 'position': '$data.value.position', 'format': '$data.format'}, 'count': {'$sum': 1}}},\n",
    " {'$sort': {'count': -1}},\n",
    " {'$match': {'count': {'$gt': 100}}} \n",
    "]\n",
    "printCols( [ formatRow(row) for row in relations.aggregate(p) ], columns=2, spacing=90)"
   ]
  },
  {
   "cell_type": "markdown",
   "metadata": {},
   "source": [
    "Dass eine Spende zusammen mit einer \"Position\" eintritt ist eher seltener.."
   ]
  },
  {
   "cell_type": "code",
   "execution_count": 9,
   "metadata": {
    "collapsed": false
   },
   "outputs": [
    {
     "name": "stdout",
     "output_type": "stream",
     "text": [
      "9673: {u'format': u'donation'}                                                            \n"
     ]
    }
   ],
   "source": [
    "p = [\n",
    " {'$unwind': '$data'},\n",
    " {'$match': {'data.format': {'$eq': \"donation\"}}},\n",
    " {'$group': {'_id': { 'position': '$data.value.position', 'format': '$data.format'}, 'count': {'$sum': 1}}},\n",
    " {'$sort': {'count': -1}},\n",
    " {'$match': {'count': {'$gt': 100}}} \n",
    "]\n",
    "printCols( [ formatRow(row) for row in relations.aggregate(p) ], columns=2, spacing=90)"
   ]
  },
  {
   "cell_type": "markdown",
   "metadata": {},
   "source": [
    "Bei der activity gibt es wieder Personen, die eine Position innehaben."
   ]
  },
  {
   "cell_type": "code",
   "execution_count": 10,
   "metadata": {
    "collapsed": false
   },
   "outputs": [
    {
     "name": "stdout",
     "output_type": "stream",
     "text": [
      "324: {u'position': u'Mitglied des Kuratoriums', u'format': u'activity'}                   229: {u'position': u'Mitglied des Beirates', u'format': u'activity'}                      \n",
      "228: {u'position': None, u'format': u'activity'}                                          203: {u'position': u'Mitglied des Aufsichtsrates', u'format': u'activity'}                \n",
      "169: {u'position': u'Mitglied des Vorstandes', u'format': u'activity'}                    110: {u'position': u'Mitglied des Kreistages', u'format': u'activity'}                    \n",
      "\n"
     ]
    }
   ],
   "source": [
    "p = [\n",
    " {'$unwind': '$data'},\n",
    " {'$match': {'data.format': {'$eq': \"activity\"}}},\n",
    " {'$group': {'_id': { 'position': '$data.value.position', 'format': '$data.format'}, 'count': {'$sum': 1}}},\n",
    " {'$sort': {'count': -1}},\n",
    " {'$match': {'count': {'$gt': 100}}} \n",
    "]\n",
    "printCols( [ formatRow(row) for row in relations.aggregate(p) ], columns=2, spacing=90)"
   ]
  },
  {
   "cell_type": "markdown",
   "metadata": {},
   "source": [
    "### data.value.type"
   ]
  },
  {
   "cell_type": "code",
   "execution_count": 11,
   "metadata": {
    "collapsed": false
   },
   "outputs": [
    {
     "name": "stdout",
     "output_type": "stream",
     "text": [
      "17212: executive              12338: None                   \n",
      "5129: member                  1598: job                     \n",
      "1445: business                633: government               \n",
      "82: subsidiary                64:                           \n",
      "\n"
     ]
    }
   ],
   "source": [
    "type_pipeline = make_pipeline(unwind=\"data\", group=\"data.value.type\", sort=True, min_count=50)\n",
    "types = relations.aggregate(type_pipeline, cursor={})\n",
    "\n",
    "printCols( [ formatRow(row) for row in types ], columns=2)"
   ]
  },
  {
   "cell_type": "code",
   "execution_count": 12,
   "metadata": {
    "collapsed": false
   },
   "outputs": [
    {
     "name": "stdout",
     "output_type": "stream",
     "text": [
      "{u'_id': ObjectId('54ca5b4266c1658e2ecfbdb9'),\n",
      " u'data': [{u'value': {u'position': u'', u'type': u'subsidiary'}}],\n",
      " u'entities': [ObjectId('54c2a4cafe6a42c82bbab93d'),\n",
      "               ObjectId('54bd3ca38b934da0634177da')],\n",
      " u'tags': [u'ruestung']}\n",
      "{u'_id': ObjectId('54db26ae45666daa087dd7a7'),\n",
      " u'data': [{u'value': {u'position': u'', u'type': u'subsidiary'}}],\n",
      " u'entities': [ObjectId('54c2a4b3fe6a42c82bbaaf7e'),\n",
      "               ObjectId('54bd3ca18b934da063417539')],\n",
      " u'tags': []}\n",
      "{u'_id': ObjectId('54db280545666daa087dd7a9'),\n",
      " u'data': [{u'value': {u'position': u'', u'type': u'subsidiary'}}],\n",
      " u'entities': [ObjectId('54c2a4b3fe6a42c82bbaaf7e'),\n",
      "               ObjectId('54cb842abbde97945a06a06f')],\n",
      " u'tags': []}\n"
     ]
    }
   ],
   "source": [
    "subsidiary = relations.find({ \"data.value.type\": {\"$eq\": \"subsidiary\"} }, {'tags': 1, 'data.value': 1, 'entities': 1}).limit(3)\n",
    "for r in subsidiary:\n",
    "    pprint(r)"
   ]
  },
  {
   "cell_type": "code",
   "execution_count": 13,
   "metadata": {
    "collapsed": true
   },
   "outputs": [],
   "source": [
    "def lookup_relation(relation_id):\n",
    "    relation = relations.find_one({ \"_id\": relation_id }, {'tags': 1, 'data': 1, 'entities': 1})  \n",
    "    entity_ids = relation.get('entities')\n",
    "    pprint(relation.get('data'))\n",
    "    print(etools.lookup_entity(entitiy_ids[0], {'name': 1}))\n",
    "    print(etools.lookup_entity(entitiy_ids[1], {'name': 1}))\n",
    "    \n",
    "def lookup_by_value_desc(value_desc):\n",
    "    relation = relations.find_one({ \"data.value.desc\": value_desc }, {'tags': 1, 'data': 1, 'entities': 1})  \n",
    "    entity_ids = relation.get('entities')\n",
    "    pprint(relation.get('data'))\n",
    "    print(etools.lookup_entity(entitiy_ids[0], {'name': 1}))\n",
    "    print(etools.lookup_entity(entitiy_ids[1], {'name': 1}))"
   ]
  },
  {
   "cell_type": "code",
   "execution_count": 14,
   "metadata": {
    "collapsed": false
   },
   "outputs": [
    {
     "name": "stdout",
     "output_type": "stream",
     "text": [
      "{u'_id': ObjectId('54c2a4cafe6a42c82bbab93d'), u'name': u'Jena Optronic GmbH'}\n",
      "{u'_id': ObjectId('54bd3ca38b934da0634177da'), u'name': u'Airbus Group'}\n"
     ]
    }
   ],
   "source": [
    "entitiy_ids = (ObjectId('54c2a4cafe6a42c82bbab93d'), ObjectId('54bd3ca38b934da0634177da'))\n",
    "print(etools.lookup_entity(entitiy_ids[0], {'name': 1}))\n",
    "print(etools.lookup_entity(entitiy_ids[1], {'name': 1}))"
   ]
  },
  {
   "cell_type": "code",
   "execution_count": 15,
   "metadata": {
    "collapsed": false
   },
   "outputs": [
    {
     "name": "stdout",
     "output_type": "stream",
     "text": [
      "{u'_id': ObjectId('54c2a4b3fe6a42c82bbaaf7e'), u'name': u'Bertelsmann SE & Co. KGaA'}\n",
      "{u'_id': ObjectId('54bd3ca18b934da063417539'), u'name': u'Bertelsmann-Stiftung'}\n"
     ]
    }
   ],
   "source": [
    "entitiy_ids = (ObjectId('54c2a4b3fe6a42c82bbaaf7e'),\n",
    "               ObjectId('54bd3ca18b934da063417539'))\n",
    "print(etools.lookup_entity(entitiy_ids[0], {'name': 1}))\n",
    "print(etools.lookup_entity(entitiy_ids[1], {'name': 1}))"
   ]
  },
  {
   "cell_type": "code",
   "execution_count": 16,
   "metadata": {
    "collapsed": false
   },
   "outputs": [
    {
     "name": "stdout",
     "output_type": "stream",
     "text": [
      "{u'_id': ObjectId('54c2a4b3fe6a42c82bbaaf7e'), u'name': u'Bertelsmann SE & Co. KGaA'}\n",
      "{u'_id': ObjectId('54cb842abbde97945a06a06f'), u'name': u'RTL Television GmbH'}\n"
     ]
    }
   ],
   "source": [
    "entitiy_ids = (ObjectId('54c2a4b3fe6a42c82bbaaf7e'),\n",
    "               ObjectId('54cb842abbde97945a06a06f'))\n",
    "print(etools.lookup_entity(entitiy_ids[0], {'name': 1}))\n",
    "print(etools.lookup_entity(entitiy_ids[1], {'name': 1}))"
   ]
  },
  {
   "cell_type": "markdown",
   "metadata": {},
   "source": [
    "### data.value.desc"
   ]
  },
  {
   "cell_type": "code",
   "execution_count": 17,
   "metadata": {
    "collapsed": false
   },
   "outputs": [
    {
     "name": "stdout",
     "output_type": "stream",
     "text": [
      "34325: None                                                           1435: Geschäftsverbindung                                             \n",
      "1220: Funktionen in Vereinen, Verbänden und Stiftungen                682: Funktionen in Körperschaften und Anstalten des öffentlichen Rechts\n",
      "468: Funktionen in Unternehmen                                        298: Entgeltliche Tätigkeiten neben dem Mandat                        \n",
      "58: Bundestag Spenden von Personen und Beiträge von Mandatsträgern    \n"
     ]
    }
   ],
   "source": [
    "desc_pipeline = make_pipeline(unwind=\"data\", group=\"data.value.desc\", sort=True, min_count=50)\n",
    "descs = relations.aggregate(desc_pipeline, cursor={})\n",
    "\n",
    "printCols( [ formatRow(row) for row in descs ], columns=2, spacing=70)"
   ]
  },
  {
   "cell_type": "code",
   "execution_count": 18,
   "metadata": {
    "collapsed": false
   },
   "outputs": [
    {
     "name": "stdout",
     "output_type": "stream",
     "text": [
      "[{u'auto': True,\n",
      "  u'created': datetime.datetime(2015, 1, 30, 13, 16, 52, 128000),\n",
      "  u'desc': u'Angaben zur Nebent\\xe4tigkeit',\n",
      "  u'format': u'activity',\n",
      "  u'id': u'97748cdc9e054fcd94a1f98f398cfc84ee2a2762291348635b4a79384bf5339a',\n",
      "  u'key': u'activity',\n",
      "  u'updated': datetime.datetime(2015, 1, 30, 13, 16, 52, 128000),\n",
      "  u'value': {u'activity': None,\n",
      "             u'desc': u'Funktionen in Unternehmen',\n",
      "             u'end': None,\n",
      "             u'level': 0,\n",
      "             u'periodical': u'einmalig',\n",
      "             u'place': None,\n",
      "             u'position': u'Mitglied des Aufsichtsrates',\n",
      "             u'start': None,\n",
      "             u'unsalaried': True}}]\n",
      "{u'_id': ObjectId('54c2a4b3fe6a42c82bbaaf7e'), u'name': u'Bertelsmann SE & Co. KGaA'}\n",
      "{u'_id': ObjectId('54cb842abbde97945a06a06f'), u'name': u'RTL Television GmbH'}\n"
     ]
    }
   ],
   "source": [
    "lookup_by_value_desc(\"Funktionen in Unternehmen\")"
   ]
  },
  {
   "cell_type": "code",
   "execution_count": 19,
   "metadata": {
    "collapsed": false
   },
   "outputs": [
    {
     "name": "stdout",
     "output_type": "stream",
     "text": [
      "[{u'desc': u'Verbindung',\n",
      "  u'format': u'association',\n",
      "  u'importer': u'created by pr importer',\n",
      "  u'key': u'association',\n",
      "  u'value': {u'desc': u'Gesch\\xe4ftsverbindung',\n",
      "             u'sources': [u'http://www.bohnen-kallmorgen.com/'],\n",
      "             u'type': u'business'}}]\n",
      "{u'_id': ObjectId('54c2a4b3fe6a42c82bbaaf7e'), u'name': u'Bertelsmann SE & Co. KGaA'}\n",
      "{u'_id': ObjectId('54cb842abbde97945a06a06f'), u'name': u'RTL Television GmbH'}\n"
     ]
    }
   ],
   "source": [
    "lookup_by_value_desc(\"Geschäftsverbindung\")"
   ]
  },
  {
   "cell_type": "code",
   "execution_count": 20,
   "metadata": {
    "collapsed": false
   },
   "outputs": [
    {
     "name": "stdout",
     "output_type": "stream",
     "text": [
      "[{u'auto': True,\n",
      "  u'created': datetime.datetime(2015, 1, 30, 13, 16, 53, 6000),\n",
      "  u'desc': u'Angaben zur Nebent\\xe4tigkeit',\n",
      "  u'format': u'activity',\n",
      "  u'id': u'bd5fff82726759130d968abda0494dd38ff13e2d66e432b18c6c8dab0961043f',\n",
      "  u'key': u'activity',\n",
      "  u'updated': datetime.datetime(2015, 1, 30, 13, 16, 53, 6000),\n",
      "  u'value': {u'activity': None,\n",
      "             u'desc': u'Funktionen in Vereinen, Verb\\xe4nden und Stiftungen',\n",
      "             u'end': None,\n",
      "             u'level': 0,\n",
      "             u'periodical': u'einmalig',\n",
      "             u'place': None,\n",
      "             u'position': u'Vorsitzende',\n",
      "             u'start': None,\n",
      "             u'unsalaried': True}},\n",
      " {u'desc': u'Verbindung',\n",
      "  u'format': u'association',\n",
      "  u'importer': u'created by lobbyliste importer',\n",
      "  u'key': u'association',\n",
      "  u'value': {u'position': u'Vorstand',\n",
      "             u'sources': [u'http://bundestag.de/blob/189476/8989cc5f5f65426215d7e0233704b20a/lobbylisteaktuell-data.pdf'],\n",
      "             u'type': u'executive'}}]\n",
      "{u'_id': ObjectId('54c2a4b3fe6a42c82bbaaf7e'), u'name': u'Bertelsmann SE & Co. KGaA'}\n",
      "{u'_id': ObjectId('54cb842abbde97945a06a06f'), u'name': u'RTL Television GmbH'}\n"
     ]
    }
   ],
   "source": [
    "lookup_by_value_desc(\"Funktionen in Vereinen, Verbänden und Stiftungen\")"
   ]
  },
  {
   "cell_type": "code",
   "execution_count": 21,
   "metadata": {
    "collapsed": false
   },
   "outputs": [
    {
     "name": "stdout",
     "output_type": "stream",
     "text": [
      "[{u'auto': True,\n",
      "  u'created': datetime.datetime(2015, 1, 30, 13, 16, 51, 597000),\n",
      "  u'desc': u'Angaben zur Nebent\\xe4tigkeit',\n",
      "  u'format': u'activity',\n",
      "  u'id': u'd94f252e5e8a91dab2063c1db592f3c49f6f8db5ab68bf3617d415cb0eb87f23',\n",
      "  u'key': u'activity',\n",
      "  u'updated': datetime.datetime(2015, 1, 30, 13, 16, 51, 597000),\n",
      "  u'value': {u'activity': None,\n",
      "             u'desc': u'Funktionen in K\\xf6rperschaften und Anstalten des \\xf6ffentlichen Rechts',\n",
      "             u'end': None,\n",
      "             u'level': 0,\n",
      "             u'periodical': u'einmalig',\n",
      "             u'place': None,\n",
      "             u'position': u'Mitglied des Stadtrates',\n",
      "             u'start': None,\n",
      "             u'unsalaried': False}}]\n",
      "{u'_id': ObjectId('54c2a4b3fe6a42c82bbaaf7e'), u'name': u'Bertelsmann SE & Co. KGaA'}\n",
      "{u'_id': ObjectId('54cb842abbde97945a06a06f'), u'name': u'RTL Television GmbH'}\n"
     ]
    }
   ],
   "source": [
    "lookup_by_value_desc(\"Funktionen in Körperschaften und Anstalten des öffentlichen Rechts\")"
   ]
  },
  {
   "cell_type": "code",
   "execution_count": 22,
   "metadata": {
    "collapsed": false
   },
   "outputs": [
    {
     "name": "stdout",
     "output_type": "stream",
     "text": [
      "[{u'auto': True,\n",
      "  u'created': datetime.datetime(2015, 1, 23, 19, 47, 42, 389000),\n",
      "  u'desc': u'Parteispende',\n",
      "  u'format': u'donation',\n",
      "  u'id': u'be29110dcc2433e7fa8472b2a5632d28467f9ba7ea986dc9a7e712969172effa',\n",
      "  u'importer': u'created by parteispenden importer',\n",
      "  u'key': u'donation',\n",
      "  u'updated': datetime.datetime(2015, 1, 23, 19, 47, 42, 389000),\n",
      "  u'value': {u'amount': 10750,\n",
      "             u'sources': [u'http://apps.opendatacity.de/parteispenden-recherche/assets/data/parteispenden.json'],\n",
      "             u'year': 2006}},\n",
      " {u'auto': True,\n",
      "  u'created': datetime.datetime(2015, 1, 23, 19, 47, 57, 433000),\n",
      "  u'desc': u'Parteispende',\n",
      "  u'format': u'donation',\n",
      "  u'id': u'45c621a0ca5f94d85787b0ff32df43548181c8a98525b8b09177689c11c0e117',\n",
      "  u'importer': u'created by parteispenden importer',\n",
      "  u'key': u'donation',\n",
      "  u'updated': datetime.datetime(2015, 1, 23, 19, 47, 57, 433000),\n",
      "  u'value': {u'amount': 13911,\n",
      "             u'sources': [u'http://apps.opendatacity.de/parteispenden-recherche/assets/data/parteispenden.json'],\n",
      "             u'year': 2007}},\n",
      " {u'auto': True,\n",
      "  u'created': datetime.datetime(2015, 1, 23, 19, 48, 10, 866000),\n",
      "  u'desc': u'Parteispende',\n",
      "  u'format': u'donation',\n",
      "  u'id': u'eef3997c1236bfa8c023bc91d07f0386dfe88ab4829cfb9e41af2a605bfa0078',\n",
      "  u'importer': u'created by parteispenden importer',\n",
      "  u'key': u'donation',\n",
      "  u'updated': datetime.datetime(2015, 1, 23, 19, 48, 10, 866000),\n",
      "  u'value': {u'amount': 11822,\n",
      "             u'sources': [u'http://apps.opendatacity.de/parteispenden-recherche/assets/data/parteispenden.json'],\n",
      "             u'year': 2008}},\n",
      " {u'auto': True,\n",
      "  u'created': datetime.datetime(2015, 1, 23, 19, 48, 31, 556000),\n",
      "  u'desc': u'Parteispende',\n",
      "  u'format': u'donation',\n",
      "  u'id': u'646a63102468e021bf50d36e510075ecafc8d4fa5a59cab96a8f856f9174fe6f',\n",
      "  u'importer': u'created by parteispenden importer',\n",
      "  u'key': u'donation',\n",
      "  u'updated': datetime.datetime(2015, 1, 23, 19, 48, 31, 556000),\n",
      "  u'value': {u'amount': 11842,\n",
      "             u'sources': [u'http://apps.opendatacity.de/parteispenden-recherche/assets/data/parteispenden.json'],\n",
      "             u'year': 2009}},\n",
      " {u'auto': True,\n",
      "  u'created': datetime.datetime(2015, 1, 23, 19, 48, 49, 908000),\n",
      "  u'desc': u'Parteispende',\n",
      "  u'format': u'donation',\n",
      "  u'id': u'76d234e917e99fec0b00afdba75d25dac82763d75e11f871e769374fafd7d055',\n",
      "  u'importer': u'created by parteispenden importer',\n",
      "  u'key': u'donation',\n",
      "  u'updated': datetime.datetime(2015, 1, 23, 19, 48, 49, 908000),\n",
      "  u'value': {u'amount': 12122,\n",
      "             u'sources': [u'http://apps.opendatacity.de/parteispenden-recherche/assets/data/parteispenden.json'],\n",
      "             u'year': 2010}},\n",
      " {u'auto': True,\n",
      "  u'created': datetime.datetime(2015, 1, 23, 19, 49, 8, 81000),\n",
      "  u'desc': u'Parteispende',\n",
      "  u'format': u'donation',\n",
      "  u'id': u'8fac4b71bdd7e80d5334bef60046286f22aec33c43cdfb73370c627c25b7b28c',\n",
      "  u'importer': u'created by parteispenden importer',\n",
      "  u'key': u'donation',\n",
      "  u'updated': datetime.datetime(2015, 1, 23, 19, 49, 8, 81000),\n",
      "  u'value': {u'amount': 10792.84,\n",
      "             u'sources': [u'http://apps.opendatacity.de/parteispenden-recherche/assets/data/parteispenden.json'],\n",
      "             u'year': 2011}},\n",
      " {u'auto': True,\n",
      "  u'created': datetime.datetime(2015, 1, 23, 19, 49, 26, 729000),\n",
      "  u'desc': u'Parteispende',\n",
      "  u'format': u'donation',\n",
      "  u'id': u'a8fa7a777ebdc2a3d7b517a0a4a74d7a663d69340db3b4363fa0f8a639637d43',\n",
      "  u'importer': u'created by parteispenden importer',\n",
      "  u'key': u'donation',\n",
      "  u'updated': datetime.datetime(2015, 1, 23, 19, 49, 26, 729000),\n",
      "  u'value': {u'amount': 11037.8,\n",
      "             u'sources': [u'http://apps.opendatacity.de/parteispenden-recherche/assets/data/parteispenden.json'],\n",
      "             u'year': 2012}},\n",
      " {u'auto': True,\n",
      "  u'created': datetime.datetime(2015, 5, 28, 18, 11, 14, 275000),\n",
      "  u'desc': u'Parteispende',\n",
      "  u'format': u'donation',\n",
      "  u'id': u'3ff289da5dfeac7502f02a197adb5c72a506d4cb930e3c9f060b0fb92010cb24',\n",
      "  u'key': u'donation',\n",
      "  u'updated': datetime.datetime(2015, 5, 28, 18, 11, 14, 275000),\n",
      "  u'value': {u'amount': 13873.65,\n",
      "             u'desc': u'Bundestag Spenden von Personen und Beitr\\xe4ge von Mandatstr\\xe4gern',\n",
      "             u'sources': [u'https://docs.google.com/spreadsheets/d/1caESI467tBJ8uwv0RqjI-3AJYYcrdceJhfRPAtm2yXw/edit?usp=sharing'],\n",
      "             u'year': 2013}},\n",
      " {u'desc': u'Verbindung',\n",
      "  u'format': u'association',\n",
      "  u'importer': u'bundestag',\n",
      "  u'key': u'association',\n",
      "  u'value': {u'position': u'Mitglied',\n",
      "             u'sources': [u'http://www.bundestag.de/bundestag/abgeordnete18/biografien/S/schmidt_christian/258970'],\n",
      "             u'type': u'member'}}]\n",
      "{u'_id': ObjectId('54c2a4b3fe6a42c82bbaaf7e'), u'name': u'Bertelsmann SE & Co. KGaA'}\n",
      "{u'_id': ObjectId('54cb842abbde97945a06a06f'), u'name': u'RTL Television GmbH'}\n"
     ]
    }
   ],
   "source": [
    "lookup_by_value_desc(\"Bundestag Spenden von Personen und Beiträge von Mandatsträgern\")"
   ]
  },
  {
   "cell_type": "markdown",
   "metadata": {},
   "source": [
    "### data.value.amount"
   ]
  },
  {
   "cell_type": "code",
   "execution_count": 23,
   "metadata": {
    "collapsed": false,
    "run_control": {
     "marked": false
    }
   },
   "outputs": [
    {
     "name": "stdout",
     "output_type": "stream",
     "text": [
      "28934: None                   272: 15000                    \n",
      "263: 20000                    145: 25000                    \n",
      "124: 50000                    117: 12000                    \n",
      "116: 12782.25                 98: 15338.7                   \n",
      "94: 30000                     81: 11000                     \n",
      "65: 12500                     64: 10500                     \n",
      "62: 25564.5                   57: 13000                     \n",
      "\n"
     ]
    }
   ],
   "source": [
    "amount_pipeline = make_pipeline(unwind=\"data\", group=\"data.value.amount\", sort=True, min_count=50)\n",
    "amounts = relations.aggregate(amount_pipeline, cursor={})\n",
    "\n",
    "printCols( [ formatRow(row) for row in amounts ], columns=2)"
   ]
  },
  {
   "cell_type": "code",
   "execution_count": 24,
   "metadata": {
    "collapsed": false
   },
   "outputs": [
    {
     "name": "stdout",
     "output_type": "stream",
     "text": [
      "[{u'_id': ObjectId('54c2a4f0fe6a42c82bbabb54'),\n",
      "  u'created': datetime.datetime(2015, 1, 23, 19, 45, 52, 563000),\n",
      "  u'data': [{u'auto': True,\n",
      "             u'created': datetime.datetime(2015, 1, 23, 19, 45, 52, 532000),\n",
      "             u'desc': u'Parteispende',\n",
      "             u'format': u'donation',\n",
      "             u'id': u'8744c78b0d974e477285b33b874cbaddd1962043cea900f5c4f3094ebb590ccb',\n",
      "             u'importer': u'created by parteispenden importer',\n",
      "             u'key': u'donation',\n",
      "             u'updated': datetime.datetime(2015, 1, 23, 19, 45, 52, 532000),\n",
      "             u'value': {u'amount': 16872.57,\n",
      "                        u'sources': [u'http://apps.opendatacity.de/parteispenden-recherche/assets/data/parteispenden.json'],\n",
      "                        u'year': 1994}},\n",
      "            {u'auto': True,\n",
      "             u'created': datetime.datetime(2015, 1, 23, 19, 47, 9, 848000),\n",
      "             u'desc': u'Parteispende',\n",
      "             u'format': u'donation',\n",
      "             u'id': u'8c5fe66733aba6f4143094f464a0ca759580be5b0775f3b9545ae648ffe3824f',\n",
      "             u'importer': u'created by parteispenden importer',\n",
      "             u'key': u'donation',\n",
      "             u'updated': datetime.datetime(2015, 1, 23, 19, 47, 9, 848000),\n",
      "             u'value': {u'amount': 12500,\n",
      "                        u'sources': [u'http://apps.opendatacity.de/parteispenden-recherche/assets/data/parteispenden.json'],\n",
      "                        u'year': 2004}}],\n",
      "  u'entities': [ObjectId('54c2a4b3fe6a42c82bbaaf73'),\n",
      "                ObjectId('552ff9cdaf9ee96e1c1df7bf')],\n",
      "  u'importer': u'parteispenden',\n",
      "  u'tags': [u'partei'],\n",
      "  u'type': u'general',\n",
      "  u'updated': datetime.datetime(2015, 1, 23, 19, 47, 9, 863000),\n",
      "  u'weight': 1},\n",
      " {u'_id': ObjectId('54c2a4f0fe6a42c82bbabb55'),\n",
      "  u'created': datetime.datetime(2015, 1, 23, 19, 45, 52, 673000),\n",
      "  u'data': [{u'auto': True,\n",
      "             u'created': datetime.datetime(2015, 1, 23, 19, 45, 52, 647000),\n",
      "             u'desc': u'Parteispende',\n",
      "             u'format': u'donation',\n",
      "             u'id': u'bafefe61854ea83d496d5d12d7c2f8d27f2b7f8290a8590b3373a28bf84e015b',\n",
      "             u'importer': u'Parteispenden',\n",
      "             u'key': u'donation',\n",
      "             u'updated': datetime.datetime(2015, 1, 23, 19, 45, 52, 647000),\n",
      "             u'value': {u'amount': 15338.7,\n",
      "                        u'sources': [u'http://apps.opendatacity.de/parteispenden-recherche/assets/data/parteispenden.json'],\n",
      "                        u'year': 1994}},\n",
      "            {u'auto': True,\n",
      "             u'created': datetime.datetime(2015, 1, 23, 19, 47, 1, 194000),\n",
      "             u'desc': u'Parteispende',\n",
      "             u'format': u'donation',\n",
      "             u'id': u'5980ff7509aae08ab740314bcb36708d981226759d75b702458011a381d7b0c7',\n",
      "             u'importer': u'Parteispenden',\n",
      "             u'key': u'donation',\n",
      "             u'updated': datetime.datetime(2015, 1, 23, 19, 47, 1, 194000),\n",
      "             u'value': {u'amount': 15000,\n",
      "                        u'sources': [u'http://apps.opendatacity.de/parteispenden-recherche/assets/data/parteispenden.json'],\n",
      "                        u'year': 2003}},\n",
      "            {u'auto': True,\n",
      "             u'created': datetime.datetime(2015, 1, 23, 19, 47, 51, 759000),\n",
      "             u'desc': u'Parteispende',\n",
      "             u'format': u'donation',\n",
      "             u'id': u'f3994468da7f5b9c8e0edbf480f446e8cbb85418cd99a5175b207071ddd5e3d0',\n",
      "             u'importer': u'Parteispenden',\n",
      "             u'key': u'donation',\n",
      "             u'updated': datetime.datetime(2015, 1, 23, 19, 47, 51, 759000),\n",
      "             u'value': {u'amount': 15000,\n",
      "                        u'sources': [u'http://apps.opendatacity.de/parteispenden-recherche/assets/data/parteispenden.json'],\n",
      "                        u'year': 2007}},\n",
      "            {u'auto': True,\n",
      "             u'created': datetime.datetime(2015, 1, 23, 19, 48, 4, 878000),\n",
      "             u'desc': u'Parteispende',\n",
      "             u'format': u'donation',\n",
      "             u'id': u'3ed635030d3af1531f3a62c79de1be9d20bcc0e1aa4b11aa67e2035fbbf7713d',\n",
      "             u'importer': u'Parteispenden',\n",
      "             u'key': u'donation',\n",
      "             u'updated': datetime.datetime(2015, 1, 23, 19, 48, 4, 879000),\n",
      "             u'value': {u'amount': 16000,\n",
      "                        u'sources': [u'http://apps.opendatacity.de/parteispenden-recherche/assets/data/parteispenden.json'],\n",
      "                        u'year': 2008}},\n",
      "            {u'auto': True,\n",
      "             u'created': datetime.datetime(2015, 1, 23, 19, 48, 45, 963000),\n",
      "             u'desc': u'Parteispende',\n",
      "             u'format': u'donation',\n",
      "             u'id': u'497696a96f682666888c2667433f4be8d136064f5c14af68279df45fccfe7ced',\n",
      "             u'importer': u'Parteispenden',\n",
      "             u'key': u'donation',\n",
      "             u'updated': datetime.datetime(2015, 1, 23, 19, 48, 45, 963000),\n",
      "             u'value': {u'amount': 16000,\n",
      "                        u'sources': [u'http://apps.opendatacity.de/parteispenden-recherche/assets/data/parteispenden.json'],\n",
      "                        u'year': 2010}},\n",
      "            {u'auto': True,\n",
      "             u'created': datetime.datetime(2015, 1, 23, 19, 49, 2, 812000),\n",
      "             u'desc': u'Parteispende',\n",
      "             u'format': u'donation',\n",
      "             u'id': u'0f0898efe88b8e96ad746ef7e8fdfbc736080f9166ec20e222cf908313c909ca',\n",
      "             u'importer': u'Parteispenden',\n",
      "             u'key': u'donation',\n",
      "             u'updated': datetime.datetime(2015, 1, 23, 19, 49, 2, 812000),\n",
      "             u'value': {u'amount': 15000,\n",
      "                        u'sources': [u'http://apps.opendatacity.de/parteispenden-recherche/assets/data/parteispenden.json'],\n",
      "                        u'year': 2011}},\n",
      "            {u'auto': True,\n",
      "             u'created': datetime.datetime(2015, 5, 28, 18, 11, 17, 168000),\n",
      "             u'desc': u'Parteispende',\n",
      "             u'format': u'donation',\n",
      "             u'id': u'590dd4cee365f72ba4ae6f97d3b4d977674f9fa2cdb4b799d97de202236f1bd0',\n",
      "             u'importer': u'Bundestag Spenden von Personen und Beitr\\xe4ge von Mandatstr\\xe4gern',\n",
      "             u'key': u'donation',\n",
      "             u'updated': datetime.datetime(2015, 5, 28, 18, 11, 17, 168000),\n",
      "             u'value': {u'amount': 22500,\n",
      "                        u'sources': [u'https://docs.google.com/spreadsheets/d/1caESI467tBJ8uwv0RqjI-3AJYYcrdceJhfRPAtm2yXw/edit?usp=sharing'],\n",
      "                        u'year': 2013}}],\n",
      "  u'entities': [ObjectId('54c2a4b3fe6a42c82bbaaf74'),\n",
      "                ObjectId('552ff9cdaf9ee96e1c1df7bf')],\n",
      "  u'importer': u'parteispenden',\n",
      "  u'tags': [u'partei', u'spende', u'parteispende'],\n",
      "  u'type': u'general',\n",
      "  u'updated': datetime.datetime(2015, 5, 28, 18, 11, 17, 171000),\n",
      "  u'weight': 1}]\n"
     ]
    }
   ],
   "source": [
    "amounts = relations.find({ \"data.value.amount\": {\"$exists\": 1}}).limit(2)\n",
    "pprint(list(amounts))"
   ]
  },
  {
   "cell_type": "markdown",
   "metadata": {},
   "source": [
    "### Beide relation-IDs stammen von einer Parteispende-Beziehung"
   ]
  },
  {
   "cell_type": "code",
   "execution_count": 31,
   "metadata": {
    "collapsed": false
   },
   "outputs": [
    {
     "data": {
      "text/plain": [
       "{u'_id': ObjectId('54c2a4f0fe6a42c82bbabb54'),\n",
       " u'created': datetime.datetime(2015, 1, 23, 19, 45, 52, 563000),\n",
       " u'data': [{u'auto': True,\n",
       "   u'created': datetime.datetime(2015, 1, 23, 19, 45, 52, 532000),\n",
       "   u'desc': u'Parteispende',\n",
       "   u'format': u'donation',\n",
       "   u'id': u'8744c78b0d974e477285b33b874cbaddd1962043cea900f5c4f3094ebb590ccb',\n",
       "   u'importer': u'created by parteispenden importer',\n",
       "   u'key': u'donation',\n",
       "   u'updated': datetime.datetime(2015, 1, 23, 19, 45, 52, 532000),\n",
       "   u'value': {u'amount': 16872.57,\n",
       "    u'sources': [u'http://apps.opendatacity.de/parteispenden-recherche/assets/data/parteispenden.json'],\n",
       "    u'year': 1994}},\n",
       "  {u'auto': True,\n",
       "   u'created': datetime.datetime(2015, 1, 23, 19, 47, 9, 848000),\n",
       "   u'desc': u'Parteispende',\n",
       "   u'format': u'donation',\n",
       "   u'id': u'8c5fe66733aba6f4143094f464a0ca759580be5b0775f3b9545ae648ffe3824f',\n",
       "   u'importer': u'created by parteispenden importer',\n",
       "   u'key': u'donation',\n",
       "   u'updated': datetime.datetime(2015, 1, 23, 19, 47, 9, 848000),\n",
       "   u'value': {u'amount': 12500,\n",
       "    u'sources': [u'http://apps.opendatacity.de/parteispenden-recherche/assets/data/parteispenden.json'],\n",
       "    u'year': 2004}}],\n",
       " u'entities': [ObjectId('54c2a4b3fe6a42c82bbaaf73'),\n",
       "  ObjectId('552ff9cdaf9ee96e1c1df7bf')],\n",
       " u'importer': u'parteispenden',\n",
       " u'tags': [u'partei'],\n",
       " u'type': u'general',\n",
       " u'updated': datetime.datetime(2015, 1, 23, 19, 47, 9, 863000),\n",
       " u'weight': 1}"
      ]
     },
     "execution_count": 31,
     "metadata": {},
     "output_type": "execute_result"
    }
   ],
   "source": [
    "relations.find_one({\"_id\": ObjectId('54c2a4f0fe6a42c82bbabb54')})"
   ]
  },
  {
   "cell_type": "code",
   "execution_count": 29,
   "metadata": {
    "collapsed": false
   },
   "outputs": [
    {
     "name": "stdout",
     "output_type": "stream",
     "text": [
      "[{u'auto': True,\n",
      "  u'created': datetime.datetime(2015, 1, 23, 19, 45, 52, 532000),\n",
      "  u'desc': u'Parteispende',\n",
      "  u'format': u'donation',\n",
      "  u'id': u'8744c78b0d974e477285b33b874cbaddd1962043cea900f5c4f3094ebb590ccb',\n",
      "  u'importer': u'created by parteispenden importer',\n",
      "  u'key': u'donation',\n",
      "  u'updated': datetime.datetime(2015, 1, 23, 19, 45, 52, 532000),\n",
      "  u'value': {u'amount': 16872.57,\n",
      "             u'sources': [u'http://apps.opendatacity.de/parteispenden-recherche/assets/data/parteispenden.json'],\n",
      "             u'year': 1994}},\n",
      " {u'auto': True,\n",
      "  u'created': datetime.datetime(2015, 1, 23, 19, 47, 9, 848000),\n",
      "  u'desc': u'Parteispende',\n",
      "  u'format': u'donation',\n",
      "  u'id': u'8c5fe66733aba6f4143094f464a0ca759580be5b0775f3b9545ae648ffe3824f',\n",
      "  u'importer': u'created by parteispenden importer',\n",
      "  u'key': u'donation',\n",
      "  u'updated': datetime.datetime(2015, 1, 23, 19, 47, 9, 848000),\n",
      "  u'value': {u'amount': 12500,\n",
      "             u'sources': [u'http://apps.opendatacity.de/parteispenden-recherche/assets/data/parteispenden.json'],\n",
      "             u'year': 2004}}]\n",
      "{u'_id': ObjectId('54c2a4b3fe6a42c82bbaaf7e'), u'name': u'Bertelsmann SE & Co. KGaA'}\n",
      "{u'_id': ObjectId('54cb842abbde97945a06a06f'), u'name': u'RTL Television GmbH'}\n",
      "None\n"
     ]
    }
   ],
   "source": [
    "pprint(lookup_relation(ObjectId('54c2a4f0fe6a42c82bbabb54')))"
   ]
  },
  {
   "cell_type": "code",
   "execution_count": 30,
   "metadata": {
    "collapsed": false,
    "run_control": {
     "marked": false
    }
   },
   "outputs": [
    {
     "name": "stdout",
     "output_type": "stream",
     "text": [
      "[{u'auto': True,\n",
      "  u'created': datetime.datetime(2015, 1, 23, 19, 45, 52, 647000),\n",
      "  u'desc': u'Parteispende',\n",
      "  u'format': u'donation',\n",
      "  u'id': u'bafefe61854ea83d496d5d12d7c2f8d27f2b7f8290a8590b3373a28bf84e015b',\n",
      "  u'importer': u'Parteispenden',\n",
      "  u'key': u'donation',\n",
      "  u'updated': datetime.datetime(2015, 1, 23, 19, 45, 52, 647000),\n",
      "  u'value': {u'amount': 15338.7,\n",
      "             u'sources': [u'http://apps.opendatacity.de/parteispenden-recherche/assets/data/parteispenden.json'],\n",
      "             u'year': 1994}},\n",
      " {u'auto': True,\n",
      "  u'created': datetime.datetime(2015, 1, 23, 19, 47, 1, 194000),\n",
      "  u'desc': u'Parteispende',\n",
      "  u'format': u'donation',\n",
      "  u'id': u'5980ff7509aae08ab740314bcb36708d981226759d75b702458011a381d7b0c7',\n",
      "  u'importer': u'Parteispenden',\n",
      "  u'key': u'donation',\n",
      "  u'updated': datetime.datetime(2015, 1, 23, 19, 47, 1, 194000),\n",
      "  u'value': {u'amount': 15000,\n",
      "             u'sources': [u'http://apps.opendatacity.de/parteispenden-recherche/assets/data/parteispenden.json'],\n",
      "             u'year': 2003}},\n",
      " {u'auto': True,\n",
      "  u'created': datetime.datetime(2015, 1, 23, 19, 47, 51, 759000),\n",
      "  u'desc': u'Parteispende',\n",
      "  u'format': u'donation',\n",
      "  u'id': u'f3994468da7f5b9c8e0edbf480f446e8cbb85418cd99a5175b207071ddd5e3d0',\n",
      "  u'importer': u'Parteispenden',\n",
      "  u'key': u'donation',\n",
      "  u'updated': datetime.datetime(2015, 1, 23, 19, 47, 51, 759000),\n",
      "  u'value': {u'amount': 15000,\n",
      "             u'sources': [u'http://apps.opendatacity.de/parteispenden-recherche/assets/data/parteispenden.json'],\n",
      "             u'year': 2007}},\n",
      " {u'auto': True,\n",
      "  u'created': datetime.datetime(2015, 1, 23, 19, 48, 4, 878000),\n",
      "  u'desc': u'Parteispende',\n",
      "  u'format': u'donation',\n",
      "  u'id': u'3ed635030d3af1531f3a62c79de1be9d20bcc0e1aa4b11aa67e2035fbbf7713d',\n",
      "  u'importer': u'Parteispenden',\n",
      "  u'key': u'donation',\n",
      "  u'updated': datetime.datetime(2015, 1, 23, 19, 48, 4, 879000),\n",
      "  u'value': {u'amount': 16000,\n",
      "             u'sources': [u'http://apps.opendatacity.de/parteispenden-recherche/assets/data/parteispenden.json'],\n",
      "             u'year': 2008}},\n",
      " {u'auto': True,\n",
      "  u'created': datetime.datetime(2015, 1, 23, 19, 48, 45, 963000),\n",
      "  u'desc': u'Parteispende',\n",
      "  u'format': u'donation',\n",
      "  u'id': u'497696a96f682666888c2667433f4be8d136064f5c14af68279df45fccfe7ced',\n",
      "  u'importer': u'Parteispenden',\n",
      "  u'key': u'donation',\n",
      "  u'updated': datetime.datetime(2015, 1, 23, 19, 48, 45, 963000),\n",
      "  u'value': {u'amount': 16000,\n",
      "             u'sources': [u'http://apps.opendatacity.de/parteispenden-recherche/assets/data/parteispenden.json'],\n",
      "             u'year': 2010}},\n",
      " {u'auto': True,\n",
      "  u'created': datetime.datetime(2015, 1, 23, 19, 49, 2, 812000),\n",
      "  u'desc': u'Parteispende',\n",
      "  u'format': u'donation',\n",
      "  u'id': u'0f0898efe88b8e96ad746ef7e8fdfbc736080f9166ec20e222cf908313c909ca',\n",
      "  u'importer': u'Parteispenden',\n",
      "  u'key': u'donation',\n",
      "  u'updated': datetime.datetime(2015, 1, 23, 19, 49, 2, 812000),\n",
      "  u'value': {u'amount': 15000,\n",
      "             u'sources': [u'http://apps.opendatacity.de/parteispenden-recherche/assets/data/parteispenden.json'],\n",
      "             u'year': 2011}},\n",
      " {u'auto': True,\n",
      "  u'created': datetime.datetime(2015, 5, 28, 18, 11, 17, 168000),\n",
      "  u'desc': u'Parteispende',\n",
      "  u'format': u'donation',\n",
      "  u'id': u'590dd4cee365f72ba4ae6f97d3b4d977674f9fa2cdb4b799d97de202236f1bd0',\n",
      "  u'importer': u'Bundestag Spenden von Personen und Beitr\\xe4ge von Mandatstr\\xe4gern',\n",
      "  u'key': u'donation',\n",
      "  u'updated': datetime.datetime(2015, 5, 28, 18, 11, 17, 168000),\n",
      "  u'value': {u'amount': 22500,\n",
      "             u'sources': [u'https://docs.google.com/spreadsheets/d/1caESI467tBJ8uwv0RqjI-3AJYYcrdceJhfRPAtm2yXw/edit?usp=sharing'],\n",
      "             u'year': 2013}}]\n",
      "{u'_id': ObjectId('54c2a4b3fe6a42c82bbaaf7e'), u'name': u'Bertelsmann SE & Co. KGaA'}\n",
      "{u'_id': ObjectId('54cb842abbde97945a06a06f'), u'name': u'RTL Television GmbH'}\n",
      "None\n"
     ]
    }
   ],
   "source": [
    "pprint(lookup_relation(ObjectId('54c2a4f0fe6a42c82bbabb55')))"
   ]
  },
  {
   "cell_type": "code",
   "execution_count": 26,
   "metadata": {
    "collapsed": false,
    "scrolled": false
   },
   "outputs": [
    {
     "name": "stdout",
     "output_type": "stream",
     "text": [
      "[{u'_id': ObjectId('54c2a4f0fe6a42c82bbabb54'),\n",
      "  u'data': [{u'value': {u'amount': 16872.57,\n",
      "                        u'sources': [u'http://apps.opendatacity.de/parteispenden-recherche/assets/data/parteispenden.json'],\n",
      "                        u'year': 1994}},\n",
      "            {u'value': {u'amount': 12500,\n",
      "                        u'sources': [u'http://apps.opendatacity.de/parteispenden-recherche/assets/data/parteispenden.json'],\n",
      "                        u'year': 2004}}]},\n",
      " {u'_id': ObjectId('54c2a4f0fe6a42c82bbabb55'),\n",
      "  u'data': [{u'value': {u'amount': 15338.7,\n",
      "                        u'sources': [u'http://apps.opendatacity.de/parteispenden-recherche/assets/data/parteispenden.json'],\n",
      "                        u'year': 1994}},\n",
      "            {u'value': {u'amount': 15000,\n",
      "                        u'sources': [u'http://apps.opendatacity.de/parteispenden-recherche/assets/data/parteispenden.json'],\n",
      "                        u'year': 2003}},\n",
      "            {u'value': {u'amount': 15000,\n",
      "                        u'sources': [u'http://apps.opendatacity.de/parteispenden-recherche/assets/data/parteispenden.json'],\n",
      "                        u'year': 2007}},\n",
      "            {u'value': {u'amount': 16000,\n",
      "                        u'sources': [u'http://apps.opendatacity.de/parteispenden-recherche/assets/data/parteispenden.json'],\n",
      "                        u'year': 2008}},\n",
      "            {u'value': {u'amount': 16000,\n",
      "                        u'sources': [u'http://apps.opendatacity.de/parteispenden-recherche/assets/data/parteispenden.json'],\n",
      "                        u'year': 2010}},\n",
      "            {u'value': {u'amount': 15000,\n",
      "                        u'sources': [u'http://apps.opendatacity.de/parteispenden-recherche/assets/data/parteispenden.json'],\n",
      "                        u'year': 2011}},\n",
      "            {u'value': {u'amount': 22500,\n",
      "                        u'sources': [u'https://docs.google.com/spreadsheets/d/1caESI467tBJ8uwv0RqjI-3AJYYcrdceJhfRPAtm2yXw/edit?usp=sharing'],\n",
      "                        u'year': 2013}}]}]\n"
     ]
    }
   ],
   "source": [
    "amounts = relations.find({ \"data.value.amount\": {\"$exists\": 1}}, {'data.value': 1}).limit(2)\n",
    "pprint(list(amounts))"
   ]
  },
  {
   "cell_type": "markdown",
   "metadata": {},
   "source": [
    "### data.value.activity"
   ]
  },
  {
   "cell_type": "code",
   "execution_count": 27,
   "metadata": {
    "collapsed": false
   },
   "outputs": [
    {
     "name": "stdout",
     "output_type": "stream",
     "text": [
      "38418: None                                                           62: Rechtsanwalt                                                      33: Vortrag                                                           \n",
      "8: Betriebsleiter                                                     7: Beratung                                                           4: Rechtsanwältin                                                     \n",
      "3: Rechtsanwalt und Notar                                             3: Wissenschaftliche Beratung                                         3: Publizistische Tätigkeit                                           \n",
      "2: Autorin                                                            2: Betreuerin                                                         2: Landwirt/Geschäftsführer                                           \n",
      "2: Wirtschaftsprüfer/Steuerberater                                    2: Landwirt                                                           2: Berater, freiberuflich                                             \n",
      "1: Lehrbeauftragte                                                    1: Kunde 10                                                           1: Kunde 09                                                           \n",
      "1: Kunde 02                                                           1: Streitgespräch                                                     1: Studienreferendar                                                  \n",
      "1: Vortrag: Kundenseminar                                             1: Vortrag und Podiumsdiskussion auf dem 3. Kongress der HUK-Coburg-Rechtsschutzversicherung1: Vortrag: Transplantationssymposium                                 \n",
      "1: Unternehmensberater                                                1: Podiumsdiskussion                                                  1: Vortrags-Lehr- und Prüfungstätigkeit                               \n",
      "1: Rede und Podiumsdiskussion                                         1: Konferenzmitwirkung                                                1: Metzgermeister                                                     \n",
      "1: Kunde 04                                                           1: Glasermeister                                                      1: Kunde 03                                                           \n",
      "1: ARD Medienpreis                                                    1: Seminarleiterin                                                    1: politisches Podiumsgespräch                                        \n",
      "1: Autorenhonorar                                                     1: Universitätsprofessor                                              1: Publikation                                                        \n",
      "1: Kunde 08                                                           1: Vortrag bei der Veranstaltungsreihe „Die Zukunft der Demokratie\"   1: Moderation                                                         \n",
      "1: Diskussionsrunde                                                   1: Vortragsreihe                                                      1: Podiumsdiskussion: \"Das Freihandelsabkommen TTIP - Chance oder Schreckensvision für Europa\"\n",
      "1: Architektin                                                        1: Kaufmann                                                           1: Honorarprofessorin                                                 \n",
      "1: Privatdozent                                                       1: Lesung                                                             1: Unternehmer                                                        \n",
      "1: Historiker                                                         1: Mitwirkung in der TV-Sendung \"Zimmer frei!\"                        1: Vortrag: GKV-Infotag                                               \n",
      "1: Leiter des Reit-Zucht- und Ausbildungsstalles Markwerben           1: Seminardurchführung, Training                                      1: Geschäftsführer                                                    \n",
      "1: Kunde 01                                                           1: Richterin                                                          1: Herausgeber                                                        \n",
      "1: Dozent und Prüfer                                                  1: Bankkauffrau                                                       1: Leitender Angestellter                                             \n",
      "1: Zusatzhonorar 2013                                                 1: Arzt                                                               1: Vortrag: Qualitätskongress                                         \n",
      "1: Vermittlung von Versicherungsleistungen                            1: Moderation: Arzneimittelversorgung                                 1: Buchautor                                                          \n",
      "\n"
     ]
    }
   ],
   "source": [
    "activity_pipeline = make_pipeline(unwind=\"data\", group=\"data.value.activity\", sort=True)\n",
    "activities = relations.aggregate(activity_pipeline, cursor={})\n",
    "\n",
    "printCols( [ formatRow(row) for row in activities ], columns=3, spacing=70)"
   ]
  },
  {
   "cell_type": "code",
   "execution_count": 28,
   "metadata": {
    "collapsed": false
   },
   "outputs": [
    {
     "name": "stdout",
     "output_type": "stream",
     "text": [
      "[{u'_id': ObjectId('54cb8444bbde97945a06a67e'),\n",
      "  u'created': datetime.datetime(2015, 1, 30, 13, 16, 52, 332000),\n",
      "  u'data': [{u'auto': True,\n",
      "             u'created': datetime.datetime(2015, 1, 30, 13, 16, 52, 331000),\n",
      "             u'desc': u'Angaben zur Nebent\\xe4tigkeit',\n",
      "             u'format': u'activity',\n",
      "             u'id': u'b42966dfdc88953b7a7e6b49198f7af669f4d9ff5979ddcf2c9823d9252231a3',\n",
      "             u'key': u'activity',\n",
      "             u'updated': datetime.datetime(2015, 1, 30, 13, 16, 52, 331000),\n",
      "             u'value': {u'activity': u'Vortrag',\n",
      "                        u'desc': u'Entgeltliche T\\xe4tigkeiten neben dem Mandat',\n",
      "                        u'end': {u'year': 2013},\n",
      "                        u'level': 2,\n",
      "                        u'periodical': u'einmalig',\n",
      "                        u'place': None,\n",
      "                        u'position': None,\n",
      "                        u'start': {u'year': 2013},\n",
      "                        u'unsalaried': False}}],\n",
      "  u'entities': [ObjectId('54c71e92349d25992bca5238'),\n",
      "                ObjectId('54cb842bbbde97945a06a0c5')],\n",
      "  u'importer': u'bundestag',\n",
      "  u'tags': [u'nebentaetigkeit'],\n",
      "  u'type': u'general',\n",
      "  u'updated': datetime.datetime(2015, 1, 30, 13, 16, 52, 332000),\n",
      "  u'weight': 1},\n",
      " {u'_id': ObjectId('54cb8444bbde97945a06a67f'),\n",
      "  u'created': datetime.datetime(2015, 1, 30, 13, 16, 52, 333000),\n",
      "  u'data': [{u'auto': True,\n",
      "             u'created': datetime.datetime(2015, 1, 30, 13, 16, 52, 333000),\n",
      "             u'desc': u'Angaben zur Nebent\\xe4tigkeit',\n",
      "             u'format': u'activity',\n",
      "             u'id': u'851f977aacfdd543cb362b2947cb86da928d7e10e68ba03c5e1768a6d4605d3b',\n",
      "             u'key': u'activity',\n",
      "             u'updated': datetime.datetime(2015, 1, 30, 13, 16, 52, 333000),\n",
      "             u'value': {u'activity': u'Vortrag',\n",
      "                        u'desc': u'Entgeltliche T\\xe4tigkeiten neben dem Mandat',\n",
      "                        u'end': {u'year': 2013},\n",
      "                        u'level': 1,\n",
      "                        u'periodical': u'einmalig',\n",
      "                        u'place': None,\n",
      "                        u'position': None,\n",
      "                        u'start': {u'year': 2013},\n",
      "                        u'unsalaried': False}}],\n",
      "  u'entities': [ObjectId('54c71e92349d25992bca5238'),\n",
      "                ObjectId('54cb842bbbde97945a06a0c6')],\n",
      "  u'importer': u'bundestag',\n",
      "  u'tags': [u'nebentaetigkeit'],\n",
      "  u'type': u'general',\n",
      "  u'updated': datetime.datetime(2015, 1, 30, 13, 16, 52, 333000),\n",
      "  u'weight': 1},\n",
      " {u'_id': ObjectId('54cb8444bbde97945a06a680'),\n",
      "  u'created': datetime.datetime(2015, 1, 30, 13, 16, 52, 334000),\n",
      "  u'data': [{u'auto': True,\n",
      "             u'created': datetime.datetime(2015, 1, 30, 13, 16, 52, 334000),\n",
      "             u'desc': u'Angaben zur Nebent\\xe4tigkeit',\n",
      "             u'format': u'activity',\n",
      "             u'id': u'2cc352921bf014f3426d232c910ce62aa36c19379604127d3550834d07571c1f',\n",
      "             u'key': u'activity',\n",
      "             u'updated': datetime.datetime(2015, 1, 30, 13, 16, 52, 334000),\n",
      "             u'value': {u'activity': u'Vortrag',\n",
      "                        u'desc': u'Entgeltliche T\\xe4tigkeiten neben dem Mandat',\n",
      "                        u'end': {u'year': 2013},\n",
      "                        u'level': 2,\n",
      "                        u'periodical': u'einmalig',\n",
      "                        u'place': None,\n",
      "                        u'position': None,\n",
      "                        u'start': {u'year': 2013},\n",
      "                        u'unsalaried': False}}],\n",
      "  u'entities': [ObjectId('54c71e92349d25992bca5238'),\n",
      "                ObjectId('54cb842bbbde97945a06a0c7')],\n",
      "  u'importer': u'bundestag',\n",
      "  u'tags': [u'nebentaetigkeit'],\n",
      "  u'type': u'general',\n",
      "  u'updated': datetime.datetime(2015, 1, 30, 13, 16, 52, 334000),\n",
      "  u'weight': 1}]\n"
     ]
    }
   ],
   "source": [
    "pprint(list(relations.find({ \"data.value.activity\": \"Vortrag\" }).limit(3)))"
   ]
  },
  {
   "cell_type": "code",
   "execution_count": 33,
   "metadata": {
    "collapsed": false
   },
   "outputs": [
    {
     "data": {
      "text/plain": [
       "[{u'_id': ObjectId('54bd3c968b934da063413717'),\n",
       "  u'created': datetime.datetime(2015, 1, 19, 17, 19, 18, 521000),\n",
       "  u'data': [{u'desc': u'Verbindung',\n",
       "    u'format': u'association',\n",
       "    u'importer': u'created by lobbyliste importer',\n",
       "    u'key': u'association',\n",
       "    u'value': {u'position': u'Vorstand',\n",
       "     u'sources': [u'http://bundestag.de/blob/189476/8989cc5f5f65426215d7e0233704b20a/lobbylisteaktuell-data.pdf'],\n",
       "     u'type': u'executive'}}],\n",
       "  u'entities': [ObjectId('54bd3c768b934da06340f4c5'),\n",
       "   ObjectId('54bd3c768b934da06340f4c7')],\n",
       "  u'importer': u'lobbyliste',\n",
       "  u'tags': [],\n",
       "  u'type': u'general',\n",
       "  u'updated': datetime.datetime(2015, 1, 19, 17, 19, 18, 521000),\n",
       "  u'weight': 1},\n",
       " {u'_id': ObjectId('54bd3c968b934da063413719'),\n",
       "  u'created': datetime.datetime(2015, 1, 19, 17, 19, 18, 525000),\n",
       "  u'data': [{u'desc': u'Verbindung',\n",
       "    u'format': u'association',\n",
       "    u'importer': u'created by lobbyliste importer',\n",
       "    u'key': u'association',\n",
       "    u'value': {u'position': u'Vorstand',\n",
       "     u'sources': [u'http://bundestag.de/blob/189476/8989cc5f5f65426215d7e0233704b20a/lobbylisteaktuell-data.pdf'],\n",
       "     u'type': u'executive'}}],\n",
       "  u'entities': [ObjectId('54bd3c768b934da06340f4c5'),\n",
       "   ObjectId('54bd3c768b934da06340f4c6')],\n",
       "  u'importer': u'lobbyliste',\n",
       "  u'tags': [],\n",
       "  u'type': u'general',\n",
       "  u'updated': datetime.datetime(2015, 1, 19, 17, 19, 18, 525000),\n",
       "  u'weight': 1},\n",
       " {u'_id': ObjectId('54bd3c968b934da06341371b'),\n",
       "  u'created': datetime.datetime(2015, 1, 19, 17, 19, 18, 527000),\n",
       "  u'data': [{u'desc': u'Verbindung',\n",
       "    u'format': u'association',\n",
       "    u'importer': u'created by lobbyliste importer',\n",
       "    u'key': u'association',\n",
       "    u'value': {u'position': u'Vorstand',\n",
       "     u'sources': [u'http://bundestag.de/blob/189476/8989cc5f5f65426215d7e0233704b20a/lobbylisteaktuell-data.pdf'],\n",
       "     u'type': u'executive'}}],\n",
       "  u'entities': [ObjectId('54bd3c768b934da06340f4c5'),\n",
       "   ObjectId('54bd3c768b934da06340f4c9')],\n",
       "  u'importer': u'lobbyliste',\n",
       "  u'tags': [],\n",
       "  u'type': u'general',\n",
       "  u'updated': datetime.datetime(2015, 2, 6, 18, 22, 0, 848000),\n",
       "  u'weight': 1}]"
      ]
     },
     "execution_count": 33,
     "metadata": {},
     "output_type": "execute_result"
    }
   ],
   "source": [
    "list(relations.find().limit(3))"
   ]
  },
  {
   "cell_type": "code",
   "execution_count": null,
   "metadata": {
    "collapsed": true
   },
   "outputs": [],
   "source": []
  }
 ],
 "metadata": {
  "kernelspec": {
   "display_name": "Python 2",
   "language": "python",
   "name": "python2"
  },
  "language_info": {
   "codemirror_mode": {
    "name": "ipython",
    "version": 2
   },
   "file_extension": ".py",
   "mimetype": "text/x-python",
   "name": "python",
   "nbconvert_exporter": "python",
   "pygments_lexer": "ipython2",
   "version": "2.7.8"
  }
 },
 "nbformat": 4,
 "nbformat_minor": 0
}
