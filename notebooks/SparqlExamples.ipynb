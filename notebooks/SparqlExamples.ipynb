{
 "cells": [
  {
   "cell_type": "code",
   "execution_count": 10,
   "metadata": {
    "collapsed": true
   },
   "outputs": [],
   "source": [
    "from rdflib import Namespace, Graph\n",
    "from rdflib.namespace import RDF, RDFS, XSD, FOAF\n",
    "from SPARQLWrapper import SPARQLWrapper, JSON"
   ]
  },
  {
   "cell_type": "code",
   "execution_count": 3,
   "metadata": {
    "collapsed": true
   },
   "outputs": [],
   "source": [
    "sparql = SPARQLWrapper(\"http://localhost:3030/lobbyradar/sparql\")"
   ]
  },
  {
   "cell_type": "code",
   "execution_count": 18,
   "metadata": {
    "collapsed": true
   },
   "outputs": [],
   "source": [
    "sparql.setReturnFormat(JSON)"
   ]
  },
  {
   "cell_type": "code",
   "execution_count": 19,
   "metadata": {
    "collapsed": true
   },
   "outputs": [],
   "source": [
    "prefixes = \"\"\"\n",
    "PREFIX rdf: <http://www.w3.org/1999/02/22-rdf-syntax-ns#>\n",
    "PREFIX foaf: <http://xmlns.com/foaf/0.1/>\n",
    "PREFIX lobbyOntology: <https://studi.f4.htw-berlin.de/~s0539710/lobbyradar/ontology#>\n",
    "PREFIX lobbyFacts: <https://studi.f4.htw-berlin.de/~s0539710/lobbyradar#>\n",
    "PREFIX org: <http://www.w3.org/ns/org#>\n",
    "PREFIX vcard: <http://www.w3.org/2006/vcard/ns#>\n",
    "\"\"\""
   ]
  },
  {
   "cell_type": "markdown",
   "metadata": {},
   "source": [
    "### Get 10 lobby organizations"
   ]
  },
  {
   "cell_type": "code",
   "execution_count": 20,
   "metadata": {
    "collapsed": false
   },
   "outputs": [
    {
     "name": "stdout",
     "output_type": "stream",
     "text": [
      "Lobbyorganisation: Bundesverband freier Berufsbetreuer e.V.\n",
      "Lobbyorganisation: DAV - Deutsche Aktuarvereinigung e.V.\n",
      "Lobbyorganisation: Deutscher Schwerhörigenbund e.V. DSB\n",
      "Lobbyorganisation: Deutsche Gesellschaft für Recht und Informatik (DGRI) e.V.\n",
      "Lobbyorganisation: Gesellschaft für Wehr- und Sicherheitspolitik e.V.\n",
      "Lobbyorganisation: Stiftung 2° - Deutsche Unternehmer für Klimaschutz\n",
      "Lobbyorganisation: Deutsche Gesellschaft für Ur- und Frühgeschichte (DGUF) e.V.\n",
      "Lobbyorganisation: Deutsche Gesellschaft zur Förderung der Unterwasserarchäologie e.V.\n",
      "Lobbyorganisation: Wissensforum Backwaren e.V. (WFB)\n",
      "Lobbyorganisation: Deutsche Stiftung Mediation\n"
     ]
    }
   ],
   "source": [
    "sparql.setQuery(prefixes + \n",
    "\"\"\"\n",
    "SELECT ?name WHERE {\n",
    "    ?org rdf:type lobbyOntology:LobbyOrganization ;\n",
    "        foaf:name ?name\n",
    "} LIMIT 10\n",
    "\"\"\")\n",
    "\n",
    "result = sparql.query().convert()\n",
    "for row in result['results']['bindings']:\n",
    "    print(\"Lobbyorganisation: %s\" % row['name']['value'])"
   ]
  },
  {
   "cell_type": "markdown",
   "metadata": {},
   "source": [
    "### Get all organizations that work with arms and weaponry"
   ]
  },
  {
   "cell_type": "code",
   "execution_count": 26,
   "metadata": {
    "collapsed": false
   },
   "outputs": [
    {
     "name": "stdout",
     "output_type": "stream",
     "text": [
      "Organizations in the arms field:\n",
      " - THALES Defence Deutschland GmbH\n",
      " - Diehl Aerospace\n",
      " - SIG SAUER GmbH & Co. KG\n",
      " - Heckler & Koch GmbH\n",
      " - Freundeskreis Fregatte Baden-Württemberg e.V.\n",
      " - European Security and Defense Association\n",
      " - Forum Luft- und Raumfahrt e.V.\n",
      " - Verteidigungsausschuss\n",
      " - Carl Walther GmbH\n",
      " - Interessengemeinschaft Deutsche Luftwaffe e.V.\n",
      " - MBDA Missle Systems\n",
      " - Krauss-Maffai Wegmann GmbH & Co. KG\n",
      " - Bundeswehr\n",
      " - Bundesministerium der Verteidigung\n"
     ]
    }
   ],
   "source": [
    "query = prefixes + \"\"\"\n",
    "SELECT ?name WHERE {\n",
    "    ?org rdf:type lobbyOntology:ArmsCorporation ;\n",
    "        foaf:name ?name\n",
    "}  \n",
    "\"\"\"\n",
    "sparql.setQuery(query)\n",
    "\n",
    "print(\"Organizations in the arms field:\")\n",
    "result = sparql.query().convert()\n",
    "for row in result['results']['bindings']:\n",
    "    print ' - %s' % row['name']['value']"
   ]
  },
  {
   "cell_type": "markdown",
   "metadata": {},
   "source": [
    "### Get all members of a lobby organization"
   ]
  },
  {
   "cell_type": "code",
   "execution_count": 43,
   "metadata": {
    "collapsed": false
   },
   "outputs": [
    {
     "name": "stdout",
     "output_type": "stream",
     "text": [
      "Members of BLL:\n",
      " - Ferrero Deutschland GmbH\n",
      " - Schwartauer Werke GmbH & Co\n",
      " - QS Qualität und Sicherheit GmbH\n",
      " - Mondelez\n",
      " - Nordzucker AG\n",
      " - Verband der Hersteller kulinarischer Lebensmittel e.V.\n",
      " - Südzucker AG\n",
      " - Coca-Cola\n",
      " - Nestlé\n",
      " - Tengelmann Warenhandelsgesellschaft KG\n",
      " - Bahlsen GmbH & Co. KG\n",
      " - Philip Morris GmbH\n",
      " - METRO AG\n"
     ]
    }
   ],
   "source": [
    "query = prefixes + \"\"\"\n",
    "SELECT ?member_name WHERE {\n",
    "    ?org rdf:type lobbyOntology:LobbyOrganization ;\n",
    "        foaf:name \"Bund für Lebensmittelrecht und Lebensmittelkunde e.V. (BLL)\" .\n",
    "    ?member org:memberOf ?org ;\n",
    "        foaf:name ?member_name .\n",
    "} \n",
    "\"\"\"\n",
    "sparql.setQuery(query)\n",
    "\n",
    "print(\"Members of BLL:\")\n",
    "result = sparql.query().convert()\n",
    "for row in result['results']['bindings']:\n",
    "    print \" - %s\" % row['member_name']['value']"
   ]
  },
  {
   "cell_type": "markdown",
   "metadata": {},
   "source": [
    "### Get all work addresses of members of organizations in the arms field"
   ]
  },
  {
   "cell_type": "code",
   "execution_count": 50,
   "metadata": {
    "collapsed": false
   },
   "outputs": [
    {
     "name": "stdout",
     "output_type": "stream",
     "text": [
      "Organizations in the arms field:\n",
      "{u'street': {u'type': u'literal', u'value': u''}}\n"
     ]
    }
   ],
   "source": [
    "query = prefixes + \"\"\"\n",
    "SELECT ?street WHERE {\n",
    "    ?org rdf:type lobbyOntology:ArmsCorporation ;\n",
    "        foaf:name ?name .\n",
    "    ?e org:memberOf ?org ;\n",
    "        vcard:hasAddress ?address .\n",
    "    ?address vcard:street-address ?street  .\n",
    "}  \n",
    "\"\"\"\n",
    "sparql.setQuery(query)\n",
    "result = sparql.query().convert()\n",
    "\n",
    "print(\"Organizations in the arms field:\")\n",
    "for row in result['results']['bindings']:\n",
    "    print row\n",
    "#    print ' - %s' % row['address']"
   ]
  },
  {
   "cell_type": "markdown",
   "metadata": {
    "collapsed": true
   },
   "source": [
    "```DESCRIBE ?address WHERE {\n",
    "    ?org rdf:type lobbyOntology:ArmsCorporation ;\n",
    "        foaf:name ?name .\n",
    "    ?e org:memberOf ?org ;\n",
    "        vcard:hasAddress ?address .\n",
    "}```\n",
    "\n",
    "out:\n",
    "```\n",
    "[ a                   vcard:Work ;\n",
    "  rdfs:label          \"Geschäftsstelle, Hochstadenring 50\" ;\n",
    "  vcard:country-name  \"Deutschland\" ;\n",
    "  vcard:hasEmail      \"info@dwt-sgw.de\" ;\n",
    "  vcard:hasFN         \"Deutsche Gesellschaft für Wehrtechnik e.V. ( DWT)\" ;\n",
    "  vcard:hasTelephone  \"+49228410980\" ;\n",
    "  vcard:locality      \"Bonn\" ;\n",
    "  vcard:postal-code   \"53119\"\n",
    "] .\n",
    "\n",
    "[ a                     vcard:Work ;\n",
    "  rdfs:label            \"\" ;\n",
    "  vcard:country-name    \"\" ;\n",
    "  vcard:hasFN           \"Deutsche Gesellschaft für Wehrtechnik e.V.\" ;\n",
    "  vcard:locality        \"Bonn\" ;\n",
    "  vcard:postal-code     \"\" ;\n",
    "  vcard:street-address  \"\"\n",
    "] .\n",
    "\n",
    "[ a                   vcard:Work ;\n",
    "  rdfs:label          \"Luisenstraße 41\" ;\n",
    "  vcard:country-name  \"Deutschland\" ;\n",
    "  vcard:hasEmail      \"frank.kleinkauf@dwt-sgw.de\" ;\n",
    "  vcard:hasFN         \"Dipl.-Ing. Frank Kleinkauf\" ;\n",
    "  vcard:hasTelephone  \"+4930240477715\" ;\n",
    "  vcard:locality      \"Berlin\" ;\n",
    "  vcard:postal-code   \"10117\"\n",
    "] .\n",
    "```"
   ]
  },
  {
   "cell_type": "markdown",
   "metadata": {},
   "source": [
    "### Get all parties"
   ]
  },
  {
   "cell_type": "code",
   "execution_count": 54,
   "metadata": {
    "collapsed": false
   },
   "outputs": [
    {
     "name": "stdout",
     "output_type": "stream",
     "text": [
      "Political Parties:\n",
      " - FW\n",
      " - Pro D\n",
      " - Pro NRW\n",
      " - ÖDP\n",
      " - AfD\n",
      " - CSU\n",
      " - MLPD\n",
      " - Grüne\n",
      " - SPD\n",
      " - CDU Landesverband Sachsen\n",
      " - Die Partei\n",
      " - SSW\n",
      " - CDU\n",
      " - Bündnis 90/Die Grünen Hessen\n",
      " - ÖVP\n",
      " - FDP\n",
      " - NPD\n",
      " - Die Linke\n"
     ]
    }
   ],
   "source": [
    "query = prefixes + \"\"\"\n",
    "SELECT ?party_name WHERE {\n",
    "    ?org rdf:type lobbyOntology:PoliticalParty ;\n",
    "        foaf:name ?party_name .\n",
    "}  \n",
    "\"\"\"\n",
    "sparql.setQuery(query)\n",
    "result = sparql.query().convert()\n",
    "\n",
    "print(\"Political Parties:\")\n",
    "for row in result['results']['bindings']:\n",
    "    print ' - %s' % row['party_name']['value']"
   ]
  },
  {
   "cell_type": "markdown",
   "metadata": {},
   "source": [
    "### Select names of entities that donated to the party AfD and amount of donation"
   ]
  },
  {
   "cell_type": "code",
   "execution_count": 65,
   "metadata": {
    "collapsed": false
   },
   "outputs": [
    {
     "name": "stdout",
     "output_type": "stream",
     "text": [
      "Donations to AfD:\n",
      "Christian Duus donated 10500.0 to AfD\n",
      "Wahl-Bau GmbH donated 50000.0 to AfD\n",
      "Erika Edler donated 50000.0 to AfD\n",
      "Gregor Scheipers donated 15383.18 to AfD\n",
      "Hellmut Fölster donated 13687.85 to AfD\n",
      "Ulrich Wlecke donated 14500.0 to AfD\n",
      "Dr. Uwe Kaack donated 11250.0 to AfD\n",
      "Prof. Dr. Roland Vaubel donated 28203.0 to AfD\n",
      "Dr. Folkard Edler donated 50000.0 to AfD\n",
      "Horst Lieberwirth donated 11750.0 to AfD\n",
      "Gottfried Heller donated 12000.0 to AfD\n",
      "Johannes Ross donated 17389.49 to AfD\n",
      "Günter Reimer donated 13400.0 to AfD\n",
      "Dr. Winfried Schuhmann donated 22345.22 to AfD\n",
      "Dr. Carsten Albers donated 13000.0 to AfD\n"
     ]
    }
   ],
   "source": [
    "query = prefixes + \"\"\"\n",
    "SELECT ?name ?amount WHERE {\n",
    "    ?someone lobbyOntology:donated ?donation .\n",
    "    lobbyFacts:AfD lobbyOntology:received ?donation .\n",
    "    ?someone foaf:name ?name .\n",
    "    ?donation lobbyOntology:amount ?amount .\n",
    "}  \n",
    "\"\"\"\n",
    "sparql.setQuery(query)\n",
    "result = sparql.query().convert()\n",
    "\n",
    "print(\"Donations to AfD:\")\n",
    "for row in result['results']['bindings']:\n",
    "    print \"%s donated %s to AfD\" %  (row['name']['value'], row['amount']['value']) "
   ]
  },
  {
   "cell_type": "markdown",
   "metadata": {},
   "source": [
    "### Find anyone who donated to the party FDP and any organization they are a member of"
   ]
  },
  {
   "cell_type": "code",
   "execution_count": 64,
   "metadata": {
    "collapsed": false
   },
   "outputs": [
    {
     "name": "stdout",
     "output_type": "stream",
     "text": [
      "Political Parties:\n",
      "Philip Morris GmbH donated 10500.0 to FDP and is member of Bund für Lebensmittelrecht und Lebensmittelkunde e.V. (BLL)\n",
      "Südzucker AG donated 23008.05 to FDP and is member of Verein der Kohlenimporteure e.V.\n",
      "Südzucker AG donated 23008.05 to FDP and is member of Bundesverband der Deutschen Süßwarenindustrie e.V. (BDSI)\n",
      "Südzucker AG donated 23008.05 to FDP and is member of Bund für Lebensmittelrecht und Lebensmittelkunde e.V. (BLL)\n",
      "Südzucker AG donated 23008.05 to FDP and is member of Bundesvereinigung der Deutschen Ernährungsindustrie e.V. (BVE)\n",
      "Rainer Brüderle donated 14000.0 to FDP and is member of Kabinett Merkel II\n",
      "Rainer Brüderle donated 14000.0 to FDP and is member of Bundessicherheitsrat\n",
      "Sabine Leutheusser-Schnarrenberger donated 11684.0 to FDP and is member of Kabinett Merkel II\n",
      "Sabine Leutheusser-Schnarrenberger donated 11684.0 to FDP and is member of Gegen Vergessen - Für Demokratie e.V.\n",
      "Sabine Leutheusser-Schnarrenberger donated 11684.0 to FDP and is member of Deutscher Kinderschutzbund e.V.\n",
      "Robert Bosch GmbH donated 42000.0 to FDP and is member of Robert Bosch Stiftung\n",
      "Robert Bosch GmbH donated 71580.6 to FDP and is member of Robert Bosch Stiftung\n",
      "Carl-Ludwig Thiele donated 13109.48 to FDP and is member of Atlantik-Brücke e.V.\n",
      "Deutsche Bank donated 220000.0 to FDP and is member of Bundesverband Deutscher Banken\n",
      "Deutsche Bank donated 220000.0 to FDP and is member of Hering Schuppener\n",
      "Deutsche Bank donated 33233.85 to FDP and is member of Bundesverband Deutscher Banken\n",
      "Deutsche Bank donated 33233.85 to FDP and is member of Hering Schuppener\n",
      "Patrick Meinhardt donated 12664.7 to FDP and is member of FDP\n",
      "Rheinmetall AG donated 14000.0 to FDP and is member of Deutsche Gesellschaft für Wehrtechnik e.V.\n",
      "Rheinmetall AG donated 14000.0 to FDP and is member of Förderkreis Deutsches Heer e.V.\n",
      "Rheinmetall AG donated 14000.0 to FDP and is member of Bundesverband der Deutschen Sicherheits- und Verteidigungsindustrie\n",
      "Sabine Leutheusser-Schnarrenberger donated 11886.19 to FDP and is member of Kabinett Merkel II\n",
      "Sabine Leutheusser-Schnarrenberger donated 11886.19 to FDP and is member of Gegen Vergessen - Für Demokratie e.V.\n",
      "Sabine Leutheusser-Schnarrenberger donated 11886.19 to FDP and is member of Deutscher Kinderschutzbund e.V.\n",
      "Deutsche Bank donated 76693.5 to FDP and is member of Bundesverband Deutscher Banken\n",
      "Deutsche Bank donated 76693.5 to FDP and is member of Hering Schuppener\n",
      "Commerzbank donated 75000.0 to FDP and is member of Bundesverband Deutscher Banken\n",
      "Commerzbank donated 75000.0 to FDP and is member of American Chamber of Commerce in Germany e.V.\n",
      "Commerzbank donated 25564.5 to FDP and is member of Bundesverband Deutscher Banken\n",
      "Commerzbank donated 25564.5 to FDP and is member of American Chamber of Commerce in Germany e.V.\n",
      "Carl-Ludwig Thiele donated 11853.0 to FDP and is member of Atlantik-Brücke e.V.\n",
      "Guido Westerwelle donated 11720.0 to FDP and is member of Kabinett Merkel II\n",
      "Guido Westerwelle donated 11720.0 to FDP and is member of Bundessicherheitsrat\n",
      "Guido Westerwelle donated 11720.0 to FDP and is member of Atlantik-Brücke e.V.\n",
      "Guido Westerwelle donated 11570.0 to FDP and is member of Kabinett Merkel II\n",
      "Guido Westerwelle donated 11570.0 to FDP and is member of Bundessicherheitsrat\n",
      "Guido Westerwelle donated 11570.0 to FDP and is member of Atlantik-Brücke e.V.\n",
      "Airbus Group donated 30000.0 to FDP and is member of Bundesverband der Deutschen Sicherheits- und Verteidigungsindustrie\n",
      "Airbus Group donated 30000.0 to FDP and is member of Förderkreis Deutsches Heer e.V.\n",
      "Airbus Group donated 30000.0 to FDP and is member of Deutsche Gesellschaft für Wehrtechnik e.V.\n",
      "Otto Graf Lambsdorff donated 13804.83 to FDP and is member of Atlantik-Brücke e.V.\n",
      "Guido Westerwelle donated 10120.0 to FDP and is member of Kabinett Merkel II\n",
      "Guido Westerwelle donated 10120.0 to FDP and is member of Bundessicherheitsrat\n",
      "Guido Westerwelle donated 10120.0 to FDP and is member of Atlantik-Brücke e.V.\n",
      "Deutsche Bank donated 66467.7 to FDP and is member of Bundesverband Deutscher Banken\n",
      "Deutsche Bank donated 66467.7 to FDP and is member of Hering Schuppener\n",
      "Robert Bosch GmbH donated 17895.15 to FDP and is member of Robert Bosch Stiftung\n",
      "Deutsche Bank donated 200250.0 to FDP and is member of Bundesverband Deutscher Banken\n",
      "Deutsche Bank donated 200250.0 to FDP and is member of Hering Schuppener\n",
      "Deutsche Bank donated 77286.6 to FDP and is member of Bundesverband Deutscher Banken\n",
      "Deutsche Bank donated 77286.6 to FDP and is member of Hering Schuppener\n",
      "Südzucker AG donated 38000.0 to FDP and is member of Verein der Kohlenimporteure e.V.\n",
      "Südzucker AG donated 38000.0 to FDP and is member of Bundesverband der Deutschen Süßwarenindustrie e.V. (BDSI)\n",
      "Südzucker AG donated 38000.0 to FDP and is member of Bund für Lebensmittelrecht und Lebensmittelkunde e.V. (BLL)\n",
      "Südzucker AG donated 38000.0 to FDP and is member of Bundesvereinigung der Deutschen Ernährungsindustrie e.V. (BVE)\n",
      "Guido Westerwelle donated 12547.8 to FDP and is member of Kabinett Merkel II\n",
      "Guido Westerwelle donated 12547.8 to FDP and is member of Bundessicherheitsrat\n",
      "Guido Westerwelle donated 12547.8 to FDP and is member of Atlantik-Brücke e.V.\n",
      "Robert Bosch GmbH donated 100000.0 to FDP and is member of Robert Bosch Stiftung\n",
      "Südzucker AG donated 24000.0 to FDP and is member of Verein der Kohlenimporteure e.V.\n",
      "Südzucker AG donated 24000.0 to FDP and is member of Bundesverband der Deutschen Süßwarenindustrie e.V. (BDSI)\n",
      "Südzucker AG donated 24000.0 to FDP and is member of Bund für Lebensmittelrecht und Lebensmittelkunde e.V. (BLL)\n",
      "Südzucker AG donated 24000.0 to FDP and is member of Bundesvereinigung der Deutschen Ernährungsindustrie e.V. (BVE)\n",
      "Carl-Ludwig Thiele donated 12614.97 to FDP and is member of Atlantik-Brücke e.V.\n",
      "Deutsche Bank donated 220000.0 to FDP and is member of Bundesverband Deutscher Banken\n",
      "Deutsche Bank donated 220000.0 to FDP and is member of Hering Schuppener\n",
      "Bionorica SE donated 19800.0 to FDP and is member of Bundesverband der Arzneimittel-Hersteller e.V.\n",
      "Verband Forschender Arzneimittelhersteller donated 12782.25 to FDP and is member of Pfizer Deutschland GmbH\n",
      "Cornelia Pieper donated 11340.18 to FDP and is member of Kabinett Merkel II\n",
      "Guido Westerwelle donated 12620.0 to FDP and is member of Kabinett Merkel II\n",
      "Guido Westerwelle donated 12620.0 to FDP and is member of Bundessicherheitsrat\n",
      "Guido Westerwelle donated 12620.0 to FDP and is member of Atlantik-Brücke e.V.\n",
      "Guido Westerwelle donated 10920.0 to FDP and is member of Kabinett Merkel II\n",
      "Guido Westerwelle donated 10920.0 to FDP and is member of Bundessicherheitsrat\n",
      "Guido Westerwelle donated 10920.0 to FDP and is member of Atlantik-Brücke e.V.\n",
      "Deutsche Bank donated 200000.0 to FDP and is member of Bundesverband Deutscher Banken\n",
      "Deutsche Bank donated 200000.0 to FDP and is member of Hering Schuppener\n",
      "Sabine Leutheusser-Schnarrenberger donated 17125.22 to FDP and is member of Kabinett Merkel II\n",
      "Sabine Leutheusser-Schnarrenberger donated 17125.22 to FDP and is member of Gegen Vergessen - Für Demokratie e.V.\n",
      "Sabine Leutheusser-Schnarrenberger donated 17125.22 to FDP and is member of Deutscher Kinderschutzbund e.V.\n",
      "Philip Morris GmbH donated 10225.0 to FDP and is member of Bund für Lebensmittelrecht und Lebensmittelkunde e.V. (BLL)\n",
      "Rheinmetall AG donated 17000.0 to FDP and is member of Deutsche Gesellschaft für Wehrtechnik e.V.\n",
      "Rheinmetall AG donated 17000.0 to FDP and is member of Förderkreis Deutsches Heer e.V.\n",
      "Rheinmetall AG donated 17000.0 to FDP and is member of Bundesverband der Deutschen Sicherheits- und Verteidigungsindustrie\n",
      "Solarworld AG donated 35000.0 to FDP and is member of Bundesverband Solarwirtschaft e.V.\n",
      "Commerzbank donated 50000.0 to FDP and is member of Bundesverband Deutscher Banken\n",
      "Commerzbank donated 50000.0 to FDP and is member of American Chamber of Commerce in Germany e.V.\n",
      "E.ON donated 50000.0 to FDP and is member of Verein der Kohlenimporteure e.V.\n",
      "Iveco Magirus AG donated 15338.7 to FDP and is member of Deutsche Gesellschaft für Wehrtechnik e.V.\n",
      "Iveco Magirus AG donated 15338.7 to FDP and is member of Verband der Automobilindustrie\n",
      "Helm AG donated 15000.0 to FDP and is member of Bundesverband der Arzneimittel-Hersteller e.V.\n",
      "Philip Morris GmbH donated 25000.0 to FDP and is member of Bund für Lebensmittelrecht und Lebensmittelkunde e.V. (BLL)\n",
      "Deutsche Bank donated 100000.0 to FDP and is member of Bundesverband Deutscher Banken\n",
      "Deutsche Bank donated 100000.0 to FDP and is member of Hering Schuppener\n",
      "Südzucker AG donated 38000.0 to FDP and is member of Verein der Kohlenimporteure e.V.\n",
      "Südzucker AG donated 38000.0 to FDP and is member of Bundesverband der Deutschen Süßwarenindustrie e.V. (BDSI)\n",
      "Südzucker AG donated 38000.0 to FDP and is member of Bund für Lebensmittelrecht und Lebensmittelkunde e.V. (BLL)\n",
      "Südzucker AG donated 38000.0 to FDP and is member of Bundesvereinigung der Deutschen Ernährungsindustrie e.V. (BVE)\n",
      "Philip Morris GmbH donated 12225.0 to FDP and is member of Bund für Lebensmittelrecht und Lebensmittelkunde e.V. (BLL)\n",
      "Rheinmetall AG donated 15000.0 to FDP and is member of Deutsche Gesellschaft für Wehrtechnik e.V.\n",
      "Rheinmetall AG donated 15000.0 to FDP and is member of Förderkreis Deutsches Heer e.V.\n",
      "Rheinmetall AG donated 15000.0 to FDP and is member of Bundesverband der Deutschen Sicherheits- und Verteidigungsindustrie\n",
      "Wolfgang Gerhardt donated 11942.2 to FDP and is member of Atlantik-Brücke e.V.\n",
      "Robert Bosch GmbH donated 40000.0 to FDP and is member of Robert Bosch Stiftung\n",
      "Commerzbank donated 60000.0 to FDP and is member of Bundesverband Deutscher Banken\n",
      "Commerzbank donated 60000.0 to FDP and is member of American Chamber of Commerce in Germany e.V.\n",
      "Robert Bosch GmbH donated 50000.0 to FDP and is member of Robert Bosch Stiftung\n",
      "Jimmy Schulz donated 11795.0 to FDP and is member of Enquete-Kommission Internet und digitale Gesellschaft\n",
      "Robert Bosch GmbH donated 25000.0 to FDP and is member of Robert Bosch Stiftung\n",
      "Südzucker AG donated 15000.0 to FDP and is member of Verein der Kohlenimporteure e.V.\n",
      "Südzucker AG donated 15000.0 to FDP and is member of Bundesverband der Deutschen Süßwarenindustrie e.V. (BDSI)\n",
      "Südzucker AG donated 15000.0 to FDP and is member of Bund für Lebensmittelrecht und Lebensmittelkunde e.V. (BLL)\n",
      "Südzucker AG donated 15000.0 to FDP and is member of Bundesvereinigung der Deutschen Ernährungsindustrie e.V. (BVE)\n",
      "Sabine Leutheusser-Schnarrenberger donated 10104.0 to FDP and is member of Kabinett Merkel II\n",
      "Sabine Leutheusser-Schnarrenberger donated 10104.0 to FDP and is member of Gegen Vergessen - Für Demokratie e.V.\n",
      "Sabine Leutheusser-Schnarrenberger donated 10104.0 to FDP and is member of Deutscher Kinderschutzbund e.V.\n",
      "CNC - Communications & Network Consulting AG donated 48000.0 to FDP and is member of Philip Morris GmbH\n",
      "Robert Bosch GmbH donated 15338.7 to FDP and is member of Robert Bosch Stiftung\n",
      "Philip Morris GmbH donated 20225.0 to FDP and is member of Bund für Lebensmittelrecht und Lebensmittelkunde e.V. (BLL)\n",
      "Jimmy Schulz donated 11120.01 to FDP and is member of Enquete-Kommission Internet und digitale Gesellschaft\n",
      "Robert Bosch GmbH donated 51129.0 to FDP and is member of Robert Bosch Stiftung\n",
      "Südzucker AG donated 15338.7 to FDP and is member of Verein der Kohlenimporteure e.V.\n",
      "Südzucker AG donated 15338.7 to FDP and is member of Bundesverband der Deutschen Süßwarenindustrie e.V. (BDSI)\n",
      "Südzucker AG donated 15338.7 to FDP and is member of Bund für Lebensmittelrecht und Lebensmittelkunde e.V. (BLL)\n",
      "Südzucker AG donated 15338.7 to FDP and is member of Bundesvereinigung der Deutschen Ernährungsindustrie e.V. (BVE)\n",
      "HanseMerkur-Versicherungsgruppe donated 25000.0 to FDP and is member of HanseMerkur Krankenversicherung AG\n",
      "Philip Morris GmbH donated 31000.0 to FDP and is member of Bund für Lebensmittelrecht und Lebensmittelkunde e.V. (BLL)\n",
      "E.ON donated 50000.0 to FDP and is member of Verein der Kohlenimporteure e.V.\n",
      "Carl-Ludwig Thiele donated 10043.0 to FDP and is member of Atlantik-Brücke e.V.\n",
      "Guido Westerwelle donated 11370.0 to FDP and is member of Kabinett Merkel II\n",
      "Guido Westerwelle donated 11370.0 to FDP and is member of Bundessicherheitsrat\n",
      "Guido Westerwelle donated 11370.0 to FDP and is member of Atlantik-Brücke e.V.\n",
      "Eric Schweitzer donated 32500.0 to FDP and is member of TTIP-Beirat des BMWi\n",
      "Sabine Leutheusser-Schnarrenberger donated 10049.84 to FDP and is member of Kabinett Merkel II\n",
      "Sabine Leutheusser-Schnarrenberger donated 10049.84 to FDP and is member of Gegen Vergessen - Für Demokratie e.V.\n",
      "Sabine Leutheusser-Schnarrenberger donated 10049.84 to FDP and is member of Deutscher Kinderschutzbund e.V.\n",
      "Porsche Automobil Holding SE donated 80000.0 to FDP and is member of Verband der Automobilindustrie\n",
      "Nordzucker AG donated 13500.0 to FDP and is member of Bundesvereinigung der Deutschen Ernährungsindustrie e.V. (BVE)\n",
      "Nordzucker AG donated 13500.0 to FDP and is member of Bund für Lebensmittelrecht und Lebensmittelkunde e.V. (BLL)\n",
      "Nordzucker AG donated 13500.0 to FDP and is member of Bundesverband der Deutschen Süßwarenindustrie e.V. (BDSI)\n",
      "Philip Morris GmbH donated 12000.0 to FDP and is member of Bund für Lebensmittelrecht und Lebensmittelkunde e.V. (BLL)\n",
      "Robert Bosch GmbH donated 40000.0 to FDP and is member of Robert Bosch Stiftung\n",
      "Sabine Leutheusser-Schnarrenberger donated 24202.98 to FDP and is member of Kabinett Merkel II\n",
      "Sabine Leutheusser-Schnarrenberger donated 24202.98 to FDP and is member of Gegen Vergessen - Für Demokratie e.V.\n",
      "Sabine Leutheusser-Schnarrenberger donated 24202.98 to FDP and is member of Deutscher Kinderschutzbund e.V.\n",
      "Philip Morris GmbH donated 12000.0 to FDP and is member of Bund für Lebensmittelrecht und Lebensmittelkunde e.V. (BLL)\n",
      "Commerzbank donated 41250.0 to FDP and is member of Bundesverband Deutscher Banken\n",
      "Commerzbank donated 41250.0 to FDP and is member of American Chamber of Commerce in Germany e.V.\n",
      "Guido Westerwelle donated 21020.0 to FDP and is member of Kabinett Merkel II\n",
      "Guido Westerwelle donated 21020.0 to FDP and is member of Bundessicherheitsrat\n",
      "Guido Westerwelle donated 21020.0 to FDP and is member of Atlantik-Brücke e.V.\n",
      "Deutsche Bank donated 50000.0 to FDP and is member of Bundesverband Deutscher Banken\n",
      "Deutsche Bank donated 50000.0 to FDP and is member of Hering Schuppener\n",
      "Jan Mücke donated 12191.0 to FDP and is member of FDP\n",
      "E.ON donated 50000.0 to FDP and is member of Verein der Kohlenimporteure e.V.\n",
      "Ulrike Flach donated 11817.96 to FDP and is member of Kabinett Merkel II\n",
      "Wolfgang Gerhardt donated 13885.48 to FDP and is member of Atlantik-Brücke e.V.\n",
      "Philip Morris GmbH donated 15225.0 to FDP and is member of Bund für Lebensmittelrecht und Lebensmittelkunde e.V. (BLL)\n",
      "Philip Morris GmbH donated 13549.18 to FDP and is member of Bund für Lebensmittelrecht und Lebensmittelkunde e.V. (BLL)\n",
      "Otto Graf Lambsdorff donated 11606.28 to FDP and is member of Atlantik-Brücke e.V.\n",
      "Guido Westerwelle donated 11120.56 to FDP and is member of Kabinett Merkel II\n",
      "Guido Westerwelle donated 11120.56 to FDP and is member of Bundessicherheitsrat\n",
      "Guido Westerwelle donated 11120.56 to FDP and is member of Atlantik-Brücke e.V.\n",
      "Werner Hoyer donated 10370.0 to FDP and is member of Kabinett Merkel II\n",
      "Wolfgang Gerhardt donated 10492.91 to FDP and is member of Atlantik-Brücke e.V.\n",
      "Airbus Group donated 30000.0 to FDP and is member of Bundesverband der Deutschen Sicherheits- und Verteidigungsindustrie\n",
      "Airbus Group donated 30000.0 to FDP and is member of Förderkreis Deutsches Heer e.V.\n",
      "Airbus Group donated 30000.0 to FDP and is member of Deutsche Gesellschaft für Wehrtechnik e.V.\n",
      "Bahlsen GmbH & Co. KG donated 12000.0 to FDP and is member of Bund für Lebensmittelrecht und Lebensmittelkunde e.V. (BLL)\n",
      "Bahlsen GmbH & Co. KG donated 12000.0 to FDP and is member of Bundesverband der Deutschen Süßwarenindustrie e.V. (BDSI)\n",
      "Deutsche Bank donated 66467.7 to FDP and is member of Bundesverband Deutscher Banken\n",
      "Deutsche Bank donated 66467.7 to FDP and is member of Hering Schuppener\n",
      "Ruth Wagner donated 10217.6 to FDP and is member of Atlantik-Brücke e.V.\n",
      "Deutsche Bank donated 51129.0 to FDP and is member of Bundesverband Deutscher Banken\n",
      "Deutsche Bank donated 51129.0 to FDP and is member of Hering Schuppener\n",
      "Rheinmetall AG donated 15000.0 to FDP and is member of Deutsche Gesellschaft für Wehrtechnik e.V.\n",
      "Rheinmetall AG donated 15000.0 to FDP and is member of Förderkreis Deutsches Heer e.V.\n",
      "Rheinmetall AG donated 15000.0 to FDP and is member of Bundesverband der Deutschen Sicherheits- und Verteidigungsindustrie\n",
      "Ulrike Flach donated 11379.78 to FDP and is member of Kabinett Merkel II\n",
      "Guido Westerwelle donated 10050.0 to FDP and is member of Kabinett Merkel II\n",
      "Guido Westerwelle donated 10050.0 to FDP and is member of Bundessicherheitsrat\n",
      "Guido Westerwelle donated 10050.0 to FDP and is member of Atlantik-Brücke e.V.\n",
      "Porsche Automobil Holding SE donated 19000.0 to FDP and is member of Verband der Automobilindustrie\n",
      "Commerzbank donated 50650.0 to FDP and is member of Bundesverband Deutscher Banken\n",
      "Commerzbank donated 50650.0 to FDP and is member of American Chamber of Commerce in Germany e.V.\n",
      "Werner Hoyer donated 11499.1 to FDP and is member of Kabinett Merkel II\n",
      "Kirchhoff-Gruppe donated 13300.0 to FDP and is member of KIRCHHOFF Holding GmbH & Co. KG\n",
      "Rheinmetall AG donated 11000.0 to FDP and is member of Deutsche Gesellschaft für Wehrtechnik e.V.\n",
      "Rheinmetall AG donated 11000.0 to FDP and is member of Förderkreis Deutsches Heer e.V.\n",
      "Rheinmetall AG donated 11000.0 to FDP and is member of Bundesverband der Deutschen Sicherheits- und Verteidigungsindustrie\n",
      "Guido Westerwelle donated 10562.0 to FDP and is member of Kabinett Merkel II\n",
      "Guido Westerwelle donated 10562.0 to FDP and is member of Bundessicherheitsrat\n",
      "Guido Westerwelle donated 10562.0 to FDP and is member of Atlantik-Brücke e.V.\n",
      "Robert Bosch GmbH donated 25000.0 to FDP and is member of Robert Bosch Stiftung\n",
      "Deutsche Bank donated 220000.0 to FDP and is member of Bundesverband Deutscher Banken\n",
      "Deutsche Bank donated 220000.0 to FDP and is member of Hering Schuppener\n",
      "E.ON donated 50000.0 to FDP and is member of Verein der Kohlenimporteure e.V.\n",
      "Porsche Automobil Holding SE donated 50000.0 to FDP and is member of Verband der Automobilindustrie\n",
      "Rheinmetall AG donated 27000.0 to FDP and is member of Deutsche Gesellschaft für Wehrtechnik e.V.\n",
      "Rheinmetall AG donated 27000.0 to FDP and is member of Förderkreis Deutsches Heer e.V.\n",
      "Rheinmetall AG donated 27000.0 to FDP and is member of Bundesverband der Deutschen Sicherheits- und Verteidigungsindustrie\n",
      "Deutsche Bank donated 28138.85 to FDP and is member of Bundesverband Deutscher Banken\n",
      "Deutsche Bank donated 28138.85 to FDP and is member of Hering Schuppener\n",
      "Guido Westerwelle donated 12884.51 to FDP and is member of Kabinett Merkel II\n",
      "Guido Westerwelle donated 12884.51 to FDP and is member of Bundessicherheitsrat\n",
      "Guido Westerwelle donated 12884.51 to FDP and is member of Atlantik-Brücke e.V.\n",
      "Sabine Leutheusser-Schnarrenberger donated 10413.52 to FDP and is member of Kabinett Merkel II\n",
      "Sabine Leutheusser-Schnarrenberger donated 10413.52 to FDP and is member of Gegen Vergessen - Für Demokratie e.V.\n",
      "Sabine Leutheusser-Schnarrenberger donated 10413.52 to FDP and is member of Deutscher Kinderschutzbund e.V.\n"
     ]
    }
   ],
   "source": [
    "query = prefixes + \"\"\"\n",
    "SELECT ?name ?amount ?organization WHERE {\n",
    "    ?someone lobbyOntology:donated ?donation .\n",
    "    lobbyFacts:FDP lobbyOntology:received ?donation .\n",
    "    ?someone foaf:name ?name ;\n",
    "        org:memberOf ?org.\n",
    "    ?org foaf:name ?organization .\n",
    "    ?donation lobbyOntology:amount ?amount .\n",
    "}  \n",
    "\"\"\"\n",
    "sparql.setQuery(query)\n",
    "result = sparql.query().convert()\n",
    "\n",
    "print(\"Political Parties:\")\n",
    "for row in result['results']['bindings']:\n",
    "    print \"%s donated %s to FDP and is member of %s\" %  (row['name']['value'], row['amount']['value'], row['organization']['value']) "
   ]
  }
 ],
 "metadata": {
  "kernelspec": {
   "display_name": "Python 2",
   "language": "python",
   "name": "python2"
  },
  "language_info": {
   "codemirror_mode": {
    "name": "ipython",
    "version": 2
   },
   "file_extension": ".py",
   "mimetype": "text/x-python",
   "name": "python",
   "nbconvert_exporter": "python",
   "pygments_lexer": "ipython2",
   "version": "2.7.8"
  }
 },
 "nbformat": 4,
 "nbformat_minor": 0
}
