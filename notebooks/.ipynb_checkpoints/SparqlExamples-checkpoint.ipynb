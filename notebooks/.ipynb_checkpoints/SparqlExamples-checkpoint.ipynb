{
 "cells": [
  {
   "cell_type": "code",
   "execution_count": 10,
   "metadata": {
    "collapsed": true
   },
   "outputs": [],
   "source": [
    "from rdflib import Namespace, Graph\n",
    "from rdflib.namespace import RDF, RDFS, XSD, FOAF\n",
    "from SPARQLWrapper import SPARQLWrapper, JSON"
   ]
  },
  {
   "cell_type": "code",
   "execution_count": 3,
   "metadata": {
    "collapsed": true
   },
   "outputs": [],
   "source": [
    "sparql = SPARQLWrapper(\"http://localhost:3030/lobbyradar/sparql\")"
   ]
  },
  {
   "cell_type": "code",
   "execution_count": 18,
   "metadata": {
    "collapsed": true
   },
   "outputs": [],
   "source": [
    "sparql.setReturnFormat(JSON)"
   ]
  },
  {
   "cell_type": "code",
   "execution_count": 19,
   "metadata": {
    "collapsed": true
   },
   "outputs": [],
   "source": [
    "prefixes = \"\"\"\n",
    "PREFIX rdf: <http://www.w3.org/1999/02/22-rdf-syntax-ns#>\n",
    "PREFIX foaf: <http://xmlns.com/foaf/0.1/>\n",
    "PREFIX lobbyOntology: <https://studi.f4.htw-berlin.de/~s0539710/lobbyradar/ontology#>\n",
    "PREFIX lobbyFacts: <https://studi.f4.htw-berlin.de/~s0539710/lobbyradar#>\n",
    "PREFIX org: <http://www.w3.org/ns/org#>\n",
    "PREFIX vcard: <http://www.w3.org/2006/vcard/ns#>\n",
    "\"\"\""
   ]
  },
  {
   "cell_type": "markdown",
   "metadata": {},
   "source": [
    "### Get 10 lobby organizations"
   ]
  },
  {
   "cell_type": "code",
   "execution_count": 20,
   "metadata": {
    "collapsed": false
   },
   "outputs": [
    {
     "name": "stdout",
     "output_type": "stream",
     "text": [
      "Lobbyorganisation: Bundesverband freier Berufsbetreuer e.V.\n",
      "Lobbyorganisation: DAV - Deutsche Aktuarvereinigung e.V.\n",
      "Lobbyorganisation: Deutscher Schwerhörigenbund e.V. DSB\n",
      "Lobbyorganisation: Deutsche Gesellschaft für Recht und Informatik (DGRI) e.V.\n",
      "Lobbyorganisation: Gesellschaft für Wehr- und Sicherheitspolitik e.V.\n",
      "Lobbyorganisation: Stiftung 2° - Deutsche Unternehmer für Klimaschutz\n",
      "Lobbyorganisation: Deutsche Gesellschaft für Ur- und Frühgeschichte (DGUF) e.V.\n",
      "Lobbyorganisation: Deutsche Gesellschaft zur Förderung der Unterwasserarchäologie e.V.\n",
      "Lobbyorganisation: Wissensforum Backwaren e.V. (WFB)\n",
      "Lobbyorganisation: Deutsche Stiftung Mediation\n"
     ]
    }
   ],
   "source": [
    "sparql.setQuery(prefixes + \n",
    "\"\"\"\n",
    "SELECT ?name WHERE {\n",
    "    ?org rdf:type lobbyOntology:LobbyOrganization ;\n",
    "        foaf:name ?name\n",
    "} LIMIT 10\n",
    "\"\"\")\n",
    "\n",
    "result = sparql.query().convert()\n",
    "for row in result['results']['bindings']:\n",
    "    print(\"Lobbyorganisation: %s\" % row['name']['value'])"
   ]
  },
  {
   "cell_type": "markdown",
   "metadata": {},
   "source": [
    "### Get all organizations that work with arms and weaponry"
   ]
  },
  {
   "cell_type": "code",
   "execution_count": 26,
   "metadata": {
    "collapsed": false
   },
   "outputs": [
    {
     "name": "stdout",
     "output_type": "stream",
     "text": [
      "Organizations in the arms field:\n",
      " - THALES Defence Deutschland GmbH\n",
      " - Diehl Aerospace\n",
      " - SIG SAUER GmbH & Co. KG\n",
      " - Heckler & Koch GmbH\n",
      " - Freundeskreis Fregatte Baden-Württemberg e.V.\n",
      " - European Security and Defense Association\n",
      " - Forum Luft- und Raumfahrt e.V.\n",
      " - Verteidigungsausschuss\n",
      " - Carl Walther GmbH\n",
      " - Interessengemeinschaft Deutsche Luftwaffe e.V.\n",
      " - MBDA Missle Systems\n",
      " - Krauss-Maffai Wegmann GmbH & Co. KG\n",
      " - Bundeswehr\n",
      " - Bundesministerium der Verteidigung\n"
     ]
    }
   ],
   "source": [
    "query = prefixes + \"\"\"\n",
    "SELECT ?name WHERE {\n",
    "    ?org rdf:type lobbyOntology:ArmsCorporation ;\n",
    "        foaf:name ?name\n",
    "}  \n",
    "\"\"\"\n",
    "sparql.setQuery(query)\n",
    "\n",
    "print(\"Organizations in the arms field:\")\n",
    "result = sparql.query().convert()\n",
    "for row in result['results']['bindings']:\n",
    "    print ' - %s' % row['name']['value']"
   ]
  },
  {
   "cell_type": "markdown",
   "metadata": {},
   "source": [
    "### Get all members of a lobby organization"
   ]
  },
  {
   "cell_type": "code",
   "execution_count": 43,
   "metadata": {
    "collapsed": false
   },
   "outputs": [
    {
     "name": "stdout",
     "output_type": "stream",
     "text": [
      "Members of BLL:\n",
      " - Ferrero Deutschland GmbH\n",
      " - Schwartauer Werke GmbH & Co\n",
      " - QS Qualität und Sicherheit GmbH\n",
      " - Mondelez\n",
      " - Nordzucker AG\n",
      " - Verband der Hersteller kulinarischer Lebensmittel e.V.\n",
      " - Südzucker AG\n",
      " - Coca-Cola\n",
      " - Nestlé\n",
      " - Tengelmann Warenhandelsgesellschaft KG\n",
      " - Bahlsen GmbH & Co. KG\n",
      " - Philip Morris GmbH\n",
      " - METRO AG\n"
     ]
    }
   ],
   "source": [
    "query = prefixes + \"\"\"\n",
    "SELECT ?member_name WHERE {\n",
    "    ?org rdf:type lobbyOntology:LobbyOrganization ;\n",
    "        foaf:name \"Bund für Lebensmittelrecht und Lebensmittelkunde e.V. (BLL)\" .\n",
    "    ?member org:memberOf ?org ;\n",
    "        foaf:name ?member_name .\n",
    "} \n",
    "\"\"\"\n",
    "sparql.setQuery(query)\n",
    "\n",
    "print(\"Members of BLL:\")\n",
    "result = sparql.query().convert()\n",
    "for row in result['results']['bindings']:\n",
    "    print \" - %s\" % row['member_name']['value']"
   ]
  },
  {
   "cell_type": "markdown",
   "metadata": {},
   "source": [
    "### Get all work addresses of members of organizations in the arms field"
   ]
  },
  {
   "cell_type": "code",
   "execution_count": 50,
   "metadata": {
    "collapsed": false
   },
   "outputs": [
    {
     "name": "stdout",
     "output_type": "stream",
     "text": [
      "Organizations in the arms field:\n",
      "{u'street': {u'type': u'literal', u'value': u''}}\n"
     ]
    }
   ],
   "source": [
    "query = prefixes + \"\"\"\n",
    "SELECT ?street WHERE {\n",
    "    ?org rdf:type lobbyOntology:ArmsCorporation ;\n",
    "        foaf:name ?name .\n",
    "    ?e org:memberOf ?org ;\n",
    "        vcard:hasAddress ?address .\n",
    "    ?address vcard:street-address ?street  .\n",
    "}  \n",
    "\"\"\"\n",
    "sparql.setQuery(query)\n",
    "result = sparql.query().convert()\n",
    "\n",
    "print(\"Organizations in the arms field:\")\n",
    "for row in result['results']['bindings']:\n",
    "    print row\n",
    "#    print ' - %s' % row['address']"
   ]
  },
  {
   "cell_type": "markdown",
   "metadata": {
    "collapsed": true
   },
   "source": [
    "```DESCRIBE ?address WHERE {\n",
    "    ?org rdf:type lobbyOntology:ArmsCorporation ;\n",
    "        foaf:name ?name .\n",
    "    ?e org:memberOf ?org ;\n",
    "        vcard:hasAddress ?address .\n",
    "}```\n",
    "\n",
    "out:\n",
    "```\n",
    "[ a                   vcard:Work ;\n",
    "  rdfs:label          \"Geschäftsstelle, Hochstadenring 50\" ;\n",
    "  vcard:country-name  \"Deutschland\" ;\n",
    "  vcard:hasEmail      \"info@dwt-sgw.de\" ;\n",
    "  vcard:hasFN         \"Deutsche Gesellschaft für Wehrtechnik e.V. ( DWT)\" ;\n",
    "  vcard:hasTelephone  \"+49228410980\" ;\n",
    "  vcard:locality      \"Bonn\" ;\n",
    "  vcard:postal-code   \"53119\"\n",
    "] .\n",
    "\n",
    "[ a                     vcard:Work ;\n",
    "  rdfs:label            \"\" ;\n",
    "  vcard:country-name    \"\" ;\n",
    "  vcard:hasFN           \"Deutsche Gesellschaft für Wehrtechnik e.V.\" ;\n",
    "  vcard:locality        \"Bonn\" ;\n",
    "  vcard:postal-code     \"\" ;\n",
    "  vcard:street-address  \"\"\n",
    "] .\n",
    "\n",
    "[ a                   vcard:Work ;\n",
    "  rdfs:label          \"Luisenstraße 41\" ;\n",
    "  vcard:country-name  \"Deutschland\" ;\n",
    "  vcard:hasEmail      \"frank.kleinkauf@dwt-sgw.de\" ;\n",
    "  vcard:hasFN         \"Dipl.-Ing. Frank Kleinkauf\" ;\n",
    "  vcard:hasTelephone  \"+4930240477715\" ;\n",
    "  vcard:locality      \"Berlin\" ;\n",
    "  vcard:postal-code   \"10117\"\n",
    "] .\n",
    "```"
   ]
  },
  {
   "cell_type": "markdown",
   "metadata": {},
   "source": [
    "### Get all parties"
   ]
  },
  {
   "cell_type": "code",
   "execution_count": 50,
   "metadata": {
    "collapsed": false
   },
   "outputs": [
    {
     "name": "stdout",
     "output_type": "stream",
     "text": [
      "Organizations in the arms field:\n",
      "{u'street': {u'type': u'literal', u'value': u''}}\n"
     ]
    }
   ],
   "source": [
    "query = prefixes + \"\"\"\n",
    "SELECT ?party_name WHERE {\n",
    "    ?org rdf:type lobbyOntology:ArmsCorporation .\n",
    "}  \n",
    "\"\"\"\n",
    "sparql.setQuery(query)\n",
    "result = sparql.query().convert()\n",
    "\n",
    "print(\"Organizations in the arms field:\")\n",
    "for row in result['results']['bindings']:\n",
    "    print row\n",
    "#    print ' - %s' % row['address']"
   ]
  },
  {
   "cell_type": "code",
   "execution_count": null,
   "metadata": {
    "collapsed": true
   },
   "outputs": [],
   "source": []
  },
  {
   "cell_type": "markdown",
   "metadata": {},
   "source": [
    "### Select names of entities that donated to the party AfD"
   ]
  },
  {
   "cell_type": "code",
   "execution_count": null,
   "metadata": {
    "collapsed": true
   },
   "outputs": [],
   "source": []
  }
 ],
 "metadata": {
  "kernelspec": {
   "display_name": "Python 2",
   "language": "python",
   "name": "python2"
  },
  "language_info": {
   "codemirror_mode": {
    "name": "ipython",
    "version": 2
   },
   "file_extension": ".py",
   "mimetype": "text/x-python",
   "name": "python",
   "nbconvert_exporter": "python",
   "pygments_lexer": "ipython2",
   "version": "2.7.8"
  }
 },
 "nbformat": 4,
 "nbformat_minor": 0
}
