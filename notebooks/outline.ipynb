{
 "cells": [
  {
   "cell_type": "markdown",
   "metadata": {},
   "source": [
    "# Das Lobbyradar\n",
    "\n",
    "\n",
    "- Verbindungen von Politik, NGOs und Wirtschaft auf der Ebene der politischen Interessenvertretung sichtbar\n",
    "- Aufklärung und Informationen zu Lobbyismus und Interessenvertretung\n",
    "- Quelle sind bestehende Quellen und manuelle Recherchen (prreport.de)\n",
    "- https://www.lobbyradar.de/oft-gestellte-fragen"
   ]
  },
  {
   "cell_type": "markdown",
   "metadata": {},
   "source": [
    "# Kritik\n",
    "- Quellen zT unglaubwürdig, Public Affairs-Berater, die nicht im Lobbyregister verwiesen sind (prreport.de)\n",
    "- Manuelle Recherche nicht ausgewiesen (prreport.de)\n",
    "- Fehlerhafte QUellenverweise (prreport.de)\n",
    "- Vernetzung an sich nicht problematisch: Kontakte & Vernetzungen sollten eingeordnet werden. Rolle in den Institutionen erläutert werden. (prreport.de)\n",
    "- Trennen von relevanten und irrelevanten Informationen: Möglichkeit zu filtern fehlt, Informationen können nicht ausgeblendet werden (datenjournalist.de)\n",
    "- Beispiel: blende alle Verbindungen aus, die auf Mitgliedschaften beruhen. zeige mir nur Wirtschaftsverbände sowie Institutionen des Bundestages an. (datenjournalist.de)\n",
    "- Thematische Filter fehlen: zeige mir z.B. alles zum Thema Umwelt  (datenjournalist.de)\n",
    "- Eigene Merklisten bzw. Themenfilter erstellen?  (datenjournalist.de)"
   ]
  },
  {
   "cell_type": "markdown",
   "metadata": {},
   "source": [
    "# Ideen\n",
    "- Konvertierung in RDF! (mit FOAF etc)\n",
    "- Named graphs für scoping\n",
    "- Verknüpfung Lobbdyradar entities mit dbpedia o. lobbypedia (lobbypedia via scraping) o. http://ec.europa.eu/transparencyregister/public/homePage.do\n",
    "- Parteispenden, Teilnahme etc unterschiedlich visualisieren. Farben einstellbar ermöglichen. (prreport.de)\n",
    "- Differenzierte Betrachtung der Beziehungen. Nicht alle sind schlecht (prreport.de)\n",
    "- Netzwerke bewerten, Einordnung zwischen Rollen und Funktion von Personen und Institutionen schaffen (prreport.de)\n",
    "- Nimmt jemand mehrfach durch verschiedene Verbindungen Einfluss?\n",
    "- Politiker, die Teil eines Unternehmens sind oder anderweitig verknüpft\n",
    "- Aktuelle Nachrichten ranjoinen\n",
    "- Einholen weiterer Informationen über zB Firmen\n",
    "\n",
    "- __Dazu Wissen über politische Strukturen bereitstellen: Wenn ich mir einen Politiker des.. kp Amtes gerade anschaue, kann mir auch ein Satz über die Funktion dieses Amtes angezeigt werden__\n",
    "Heißt die Informationen aus dem Lobbyradar mit politischem Wissen aufzubereiten, sodass bessere Urteile getroffen werden können.\n",
    "\n",
    "### Was kann eine semantische Aufbereitung der Daten bringen?\n",
    "- Welche Beziehungen zwischen Politikern und Wirtschaft sind wirklich gefährlich?- Quellen zT unglaubwürdig, Public Affairs-Berater, die nicht im Lobbyregister verwiesen sind (prreport.de)\n",
    "- Manuelle Recherche nicht ausgewiesen (prreport.de)\n",
    "- Fehlerhafte QUellenverweise (prreport.de)\n",
    "- Vernetzung an sich nicht problematisch: Kontakte & Vernetzungen sollten eingeordnet werden. Rolle in den Institutionen erläutert werden. (prreport.de)\n",
    "- Trennen von relevanten und irrelevanten Informationen: Möglichkeit zu filtern fehlt, Informationen können nicht ausgeblendet werden (datenjournalist.de)\n",
    "- Beispiel: blende alle Verbindungen aus, die auf Mitgliedschaften beruhen. zeige mir nur Wirtschaftsverbände sowie Institutionen des Bundestages an. (datenjournalist.de)\n",
    "- Thematische Filter fehlen: zeige mir z.B. alles zum Thema Umwelt  (datenjournalist.de)\n",
    "- Eigene Merklisten bzw. Themenfilter erstellen?  (datenjournalist.de)\n",
    "\n",
    "- Die Daten scheinen oft sehr ungenau zu sein. Es gibt Politiker mit CDU, mit CSU, mit CDU/CSU, CDU Nordrhein-Westfalen etc. Mit semantischen Relationen kann zwischen diesen eine Verbindung hergestellt werden\n",
    "- Durch heranholen anderer Quellen (dbpedia?) entscheiden, ob eine Entity eine Partei ist. Oder ob Politiker zu einer gehören.\n",
    "- Vllt auf eine große Seite wie dbPedia konzentrieren, da die queries aber wirklich gut und ergebnisreich machen -> gute bestätigung der rollen, entity resolution & wissenszuwachs\n",
    "- Use case: 1. Einen Politiker raussuchen 2. Verbindungen sehen 3. Eine wählen 4. Entity auf der anderen Seite der Verbindung sehen 5. Weitere Daten über diese Entity einholen können! (vor allem wenn diese nicht in der DB ist)\n",
    "- Geholte (sichere!) Informationen in die DB evtl speichern\n",
    "- Stimmenabgabe bei offenen Abstimmungen im Parlament etc scrapen und sichtbar machen? Kurzinfos (mit RDF Verlinkung natürlich) über die letzten Abstimmungen und Entscheidungen und Interviews/Zitate dieser Person bereitstellen\n",
    "- (Wahl-)Kampagnenfinanzierung\n",
    "- Dabei auch Beziehungen noch eine Ecke weiter betrachten, insbesondere sehr ausgeprägte\n",
    "\n",
    "- Zumindest eine kleine Visualisierung!"
   ]
  },
  {
   "cell_type": "markdown",
   "metadata": {},
   "source": [
    "# Technisch\n",
    "- URIs bei Aufruf entweder content negotiation oder redirect auf Sparql DESCRIBE query, der Seite generiert (z.b. DESCRIBE <http://www.rdfabout.com/rdf/usgov/congress/people/O000007> )\n"
   ]
  },
  {
   "cell_type": "code",
   "execution_count": null,
   "metadata": {
    "collapsed": true
   },
   "outputs": [],
   "source": []
  },
  {
   "cell_type": "markdown",
   "metadata": {},
   "source": [
    "## Quellen\n",
    "- lobbypedia.de (API siehe https://www.mediawiki.org/wiki/API:Main_page)\n",
    "\n",
    "prreport.de\n",
    "http://prreport.de/home/aktuell/article/9843-dieser-platte-ansatz-hilft-der-transparenz-debatte-nicht/\n",
    "datenjournalist.de\n",
    "http://datenjournalist.de/warum-das-lobbyradar-so-kaum-zu-gebrauchen-ist/"
   ]
  }
 ],
 "metadata": {
  "kernelspec": {
   "display_name": "Python 2",
   "language": "python",
   "name": "python2"
  },
  "language_info": {
   "codemirror_mode": {
    "name": "ipython",
    "version": 2
   },
   "file_extension": ".py",
   "mimetype": "text/x-python",
   "name": "python",
   "nbconvert_exporter": "python",
   "pygments_lexer": "ipython2",
   "version": "2.7.8"
  }
 },
 "nbformat": 4,
 "nbformat_minor": 0
}
