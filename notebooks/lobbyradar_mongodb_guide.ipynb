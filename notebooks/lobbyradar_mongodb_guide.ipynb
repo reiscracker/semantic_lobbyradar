{
 "cells": [
  {
   "cell_type": "markdown",
   "metadata": {},
   "source": [
    "### Make sure mongodb service is up and running\n",
    "### _First time only_: Import entities and relations into database\n",
    "\n",
    "Bash:\n",
    "```bash\n",
    "mongorestore --db lobbyradar --collection entities dumps/entities.bson\n",
    "mongorestore --db lobbyradar --collection relations dumps/relations.bson\n",
    "```"
   ]
  },
  {
   "cell_type": "markdown",
   "metadata": {},
   "source": [
    "## Connect to database"
   ]
  },
  {
   "cell_type": "code",
   "execution_count": 2,
   "metadata": {
    "collapsed": false
   },
   "outputs": [],
   "source": [
    "import pymongo\n",
    "from pymongo import MongoClient\n",
    "from pprint import pprint, pformat\n",
    "\n",
    "client = MongoClient() # Default address localhost\n",
    "db = client.lobbyradar"
   ]
  },
  {
   "cell_type": "markdown",
   "metadata": {},
   "source": [
    "## The collections"
   ]
  },
  {
   "cell_type": "markdown",
   "metadata": {},
   "source": [
    "### Numbers"
   ]
  },
  {
   "cell_type": "code",
   "execution_count": 3,
   "metadata": {
    "collapsed": false
   },
   "outputs": [
    {
     "name": "stdout",
     "output_type": "stream",
     "text": [
      "Collections in database: entities, relations\n",
      "Entities: 26380 documents\n",
      "Relations: 32137 documents\n"
     ]
    }
   ],
   "source": [
    "# The database has two collections\n",
    "print(\"Collections in database: \" + \", \".join(db.collection_names(include_system_collections=False)))\n",
    "\n",
    "print(\"Entities: %s documents\" % db.entities.count())\n",
    "print(\"Relations: %s documents\" % db.relations.count())"
   ]
  },
  {
   "cell_type": "markdown",
   "metadata": {},
   "source": [
    "### Simple queries"
   ]
  },
  {
   "cell_type": "code",
   "execution_count": 18,
   "metadata": {
    "collapsed": false
   },
   "outputs": [
    {
     "name": "stdout",
     "output_type": "stream",
     "text": [
      "Distict entity types:[u'entity', u'person']\n"
     ]
    }
   ],
   "source": [
    "print(\"Distict entity types:\" + pformat(db.entities.distinct(\"type\")))"
   ]
  },
  {
   "cell_type": "code",
   "execution_count": 19,
   "metadata": {
    "collapsed": false
   },
   "outputs": [
    {
     "name": "stdout",
     "output_type": "stream",
     "text": [
      "Distict relation types:[u'general', u'publication']\n"
     ]
    }
   ],
   "source": [
    "print(\"Distict relation types:\" + pformat(db.relations.distinct(\"type\")))"
   ]
  },
  {
   "cell_type": "code",
   "execution_count": 20,
   "metadata": {
    "collapsed": true
   },
   "outputs": [
    {
     "name": "stdout",
     "output_type": "stream",
     "text": [
      "First Entity document in database:{u'_id': ObjectId('54bd3c748b934da06340f4c1'),\n",
      " u'aliases': [u'DIE LINKE',\n",
      "              u'Die Linke',\n",
      "              u'Partei DIE LINKE',\n",
      "              u'DIE LINKE.',\n",
      "              u'Linkspartei',\n",
      "              u'Linkspartei.PDS',\n",
      "              u'PDS',\n",
      "              u'WASG',\n",
      "              u'Partei des Demokratischen Sozialismus',\n",
      "              u'Arbeit & soziale Gerechtigkeit \\u2013 Die Wahlalternative',\n",
      "              u'Wahlalternative',\n",
      "              u'Wahlalternative Arbeit und soziale Gerechtigkeit'],\n",
      " u'created': datetime.datetime(2015, 1, 19, 17, 18, 44, 807000),\n",
      " u'data': [{u'auto': True,\n",
      "            u'created': datetime.datetime(2015, 5, 28, 18, 11, 9, 657000),\n",
      "            u'desc': u'Partei',\n",
      "            u'format': u'string',\n",
      "            u'id': u'2b1adb60a31d37cf9cc0fdccb75149456a425095c6bf5e77abac117ed1a69d0f',\n",
      "            u'key': u'partei',\n",
      "            u'updated': datetime.datetime(2015, 5, 28, 18, 11, 9, 657000),\n",
      "            u'value': u'Die Linke'},\n",
      "           {u'auto': True,\n",
      "            u'created': datetime.datetime(2015, 1, 19, 17, 18, 44, 808000),\n",
      "            u'desc': u'Adresse',\n",
      "            u'format': u'address',\n",
      "            u'id': u'bb4b34d6b3f916cea2ca09b7cea7842afbec6c9d303c3dc31a5823bda70658bb',\n",
      "            u'key': u'address',\n",
      "            u'updated': datetime.datetime(2015, 1, 19, 17, 18, 44, 808000),\n",
      "            u'value': {u'addr': u'Bundesgesch\\xe4ftsstelle',\n",
      "                       u'city': u'Berlin',\n",
      "                       u'country': u'Deutschland',\n",
      "                       u'email': u'bundesgeschaeftsstelle@die-linke.de',\n",
      "                       u'fax': u'+493024009310',\n",
      "                       u'name': u'Partei DIE LINKE',\n",
      "                       u'postcode': u'10178',\n",
      "                       u'street': u'Kleine Alexanderstra\\xdfe 28',\n",
      "                       u'tel': u'+493024009397',\n",
      "                       u'type': u'main',\n",
      "                       u'www': u'http://www.die-linke.de/'}}],\n",
      " u'importer': u'parteien',\n",
      " u'name': u'Die Linke',\n",
      " u'search': [u'die linke',\n",
      "             u'partei die linke',\n",
      "             u'linkspartei',\n",
      "             u'linksparteipds',\n",
      "             u'pds',\n",
      "             u'wasg',\n",
      "             u'partei des demokratischen sozialismus',\n",
      "             u'arbeit and soziale gerechtigkeit die wahlalternative',\n",
      "             u'wahlalternative',\n",
      "             u'wahlalternative arbeit und soziale gerechtigkeit'],\n",
      " u'slug': u'die linke',\n",
      " u'tags': [u'partei', u'linke'],\n",
      " u'type': u'entity',\n",
      " u'updated': datetime.datetime(2015, 5, 28, 18, 11, 12, 646000)}\n",
      "\n"
     ]
    }
   ],
   "source": [
    "# Some commands\n",
    "print(\"First Entity document in database:\" + pformat(db.entities.find_one()) + \"\\n\")\n",
    "#entity_cursor = db.entities.find() # Would find all entities\n",
    "#entity_cursor.next() # Iterator for resultset"
   ]
  },
  {
   "cell_type": "code",
   "execution_count": 21,
   "metadata": {
    "collapsed": true
   },
   "outputs": [
    {
     "name": "stdout",
     "output_type": "stream",
     "text": [
      "First relation document in database:{u'_id': ObjectId('54bd3c968b934da063413717'),\n",
      " u'created': datetime.datetime(2015, 1, 19, 17, 19, 18, 521000),\n",
      " u'data': [{u'desc': u'Verbindung',\n",
      "            u'format': u'association',\n",
      "            u'importer': u'created by lobbyliste importer',\n",
      "            u'key': u'association',\n",
      "            u'value': {u'position': u'Vorstand',\n",
      "                       u'sources': [u'http://bundestag.de/blob/189476/8989cc5f5f65426215d7e0233704b20a/lobbylisteaktuell-data.pdf'],\n",
      "                       u'type': u'executive'}}],\n",
      " u'entities': [ObjectId('54bd3c768b934da06340f4c5'),\n",
      "               ObjectId('54bd3c768b934da06340f4c7')],\n",
      " u'importer': u'lobbyliste',\n",
      " u'tags': [],\n",
      " u'type': u'general',\n",
      " u'updated': datetime.datetime(2015, 1, 19, 17, 19, 18, 521000),\n",
      " u'weight': 1}\n",
      "\n"
     ]
    }
   ],
   "source": [
    "print(\"First relation document in database:\" + pformat(db.relations.find_one()) + \"\\n\")\n",
    "#relation_cursor = db.entities.find()\n",
    "#relation_cursor.next()"
   ]
  },
  {
   "cell_type": "markdown",
   "metadata": {},
   "source": [
    "### Aggregations"
   ]
  },
  {
   "cell_type": "code",
   "execution_count": 22,
   "metadata": {
    "collapsed": true
   },
   "outputs": [
    {
     "name": "stdout",
     "output_type": "stream",
     "text": [
      "Entitiy types count:\n",
      "[{u'_id': u'person', u'counter': 19828}, {u'_id': u'entity', u'counter': 6552}]\n",
      "Relation types count:\n",
      "[{u'_id': u'general', u'counter': 32136}, {u'_id': u'publication', u'counter': 1}]\n"
     ]
    }
   ],
   "source": [
    "from bson.son import SON\n",
    "\n",
    "# Aggregation pipeline that groups by type (entity/person) and counts the sum of documents in each group in a field \"counter\"\n",
    "# The second step sorts the groups by counter and id \n",
    "pipeline = [\n",
    "    {\"$group\": {\"_id\": \"$type\", \"counter\": {\"$sum\": 1}}},   # First step\n",
    "    {\"$sort\": SON([(\"counter\", -1), (\"_id\", -1)])}          # Second step\n",
    "]\n",
    "\n",
    "# Output as list to get all values at once instead of a cursor\n",
    "print(\"Entitiy types count:\")\n",
    "print(list(db.entities.aggregate(pipeline, cursor={})))\n",
    "print(\"Relation types count:\")\n",
    "print(list(db.relations.aggregate(pipeline, cursor={})))"
   ]
  },
  {
   "cell_type": "code",
   "execution_count": 23,
   "metadata": {
    "collapsed": true
   },
   "outputs": [
    {
     "data": {
      "text/plain": [
       "[{u'_id': u'parteien', u'count': 1},\n",
       " {u'_id': u'parteispenden14', u'count': 6},\n",
       " {u'_id': u'kabinette', u'count': 34},\n",
       " {u'_id': u'seitenwechsler', u'count': 214},\n",
       " {u'_id': u'thinktanks', u'count': 309},\n",
       " {u'_id': u'parteispenden13', u'count': 311},\n",
       " {u'_id': u'laender', u'count': 370},\n",
       " {u'_id': u'dax', u'count': 541},\n",
       " {u'_id': None, u'count': 1063},\n",
       " {u'_id': u'pr', u'count': 1767},\n",
       " {u'_id': u'bundestag', u'count': 2046},\n",
       " {u'_id': u'parteispenden', u'count': 2914},\n",
       " {u'_id': u'lobbyliste', u'count': 16804}]"
      ]
     },
     "execution_count": 23,
     "metadata": {},
     "output_type": "execute_result"
    }
   ],
   "source": [
    "# Aggregation mit Gruppierung der Dokumente aus der collection entities nach Feld \"importer\", zählen der Gruppen und aufsteigend danach sortieren\n",
    "pipeline = [ {\"$group\": {\"_id\": \"$importer\", \"count\": {\"$sum\": 1}}} , {\"$sort\": {\"count\":1} }]\n",
    "list(db.entities.aggregate(pipeline, cursor={}))"
   ]
  },
  {
   "cell_type": "markdown",
   "metadata": {},
   "source": [
    "## Queries"
   ]
  },
  {
   "cell_type": "raw",
   "metadata": {},
   "source": [
    "tochterfirmen_relations = db.relations.find({ \"type\": \"Tochterfirma\" })\n",
    "print(\"%s Tocherfirma-Beziehungen gefunden.\" % tochterfirmen_relations.count())"
   ]
  },
  {
   "cell_type": "markdown",
   "metadata": {},
   "source": [
    "### Entitäten mit Attribut \"importer\": \"parteispenden14\""
   ]
  },
  {
   "cell_type": "code",
   "execution_count": 29,
   "metadata": {
    "collapsed": false
   },
   "outputs": [
    {
     "name": "stdout",
     "output_type": "stream",
     "text": [
      "{u'name': u'Firma R & W Industriebeteiligungen GmbH'}\n",
      "{u'name': u'R&W Industriebeteiligungen GmbH'}\n",
      "{u'name': u'MLPD'}\n",
      "3 Entitäten mit importer parteispenden14 gefunden\n"
     ]
    }
   ],
   "source": [
    "query = {'type': 'entity', 'importer': 'parteispenden14'}\n",
    "projection = {'_id': 0, 'name': 1}\n",
    "for i in db.entities.find(query, projection):\n",
    "     pprint(i)\n",
    "\n",
    "print(\"%s Entitäten mit importer parteispenden14 gefunden\" % db.entities.find(query, projection).count())"
   ]
  },
  {
   "cell_type": "markdown",
   "metadata": {},
   "source": [
    "#### Entitäten mit \"importer\": \"parteispenden14\", deren Namen zwischen G und H beginnen "
   ]
  },
  {
   "cell_type": "code",
   "execution_count": 41,
   "metadata": {
    "collapsed": true
   },
   "outputs": [
    {
     "data": {
      "text/plain": [
       "[{u'_id': ObjectId('550f0eabe073b81931ff68fe'),\n",
       "  u'aliases': [],\n",
       "  u'created': datetime.datetime(2015, 3, 22, 18, 49, 14, 193000),\n",
       "  u'data': [{u'auto': True,\n",
       "    u'created': datetime.datetime(2015, 3, 22, 18, 49, 14, 193000),\n",
       "    u'desc': u'Quelle',\n",
       "    u'format': u'link',\n",
       "    u'id': u'ae3aece79528dc33c4839fe6590a7f04931dd2552583a1deda7c1235510dc3cf',\n",
       "    u'key': u'source',\n",
       "    u'updated': datetime.datetime(2015, 3, 22, 18, 49, 14, 193000),\n",
       "    u'value': {u'remark': u'Bundestag Drs. 18/3614',\n",
       "     u'url': u'http://dip.bundestag.de/btd/18/037/1803757.pdf'}},\n",
       "   {u'auto': True,\n",
       "    u'created': datetime.datetime(2015, 3, 22, 18, 49, 14, 193000),\n",
       "    u'desc': u'Adresse',\n",
       "    u'format': u'address',\n",
       "    u'id': u'57562edd16541b49aecce26513d95e417b9a3fa3fdd2c92d962c800f9a18ad6a',\n",
       "    u'key': u'address',\n",
       "    u'updated': datetime.datetime(2015, 3, 22, 18, 49, 14, 193000),\n",
       "    u'value': {u'addr': u'',\n",
       "     u'city': u'Duisburg',\n",
       "     u'country': u'Germany',\n",
       "     u'name': u'Gabi Georgiou',\n",
       "     u'postcode': u'47179',\n",
       "     u'street': u'Hoevelerstra\\xdfe 38',\n",
       "     u'type': u'main'}},\n",
       "   {u'auto': True,\n",
       "    u'created': datetime.datetime(2015, 3, 22, 18, 49, 14, 193000),\n",
       "    u'desc': u'Nachname',\n",
       "    u'format': u'string',\n",
       "    u'id': u'823c780d85be6cc1bd218b394738a8522f55927a2c3d00c28c015a9db254cabd',\n",
       "    u'key': u'surname',\n",
       "    u'updated': datetime.datetime(2015, 3, 22, 18, 49, 14, 193000),\n",
       "    u'value': u'Georgiou'},\n",
       "   {u'auto': True,\n",
       "    u'created': datetime.datetime(2015, 3, 22, 18, 49, 14, 193000),\n",
       "    u'desc': u'Vornamen',\n",
       "    u'format': u'string',\n",
       "    u'id': u'74754e5eb8e1562fcdf8fed3ad1a7cde64a90f63d16ca5d92af7bdf3eb069d8e',\n",
       "    u'key': u'names',\n",
       "    u'updated': datetime.datetime(2015, 3, 22, 18, 49, 14, 193000),\n",
       "    u'value': u'Gabi'}],\n",
       "  u'importer': u'parteispenden14',\n",
       "  u'name': u'Gabi Georgiou',\n",
       "  u'search': [u'gabi georgiou'],\n",
       "  u'slug': u'gabi georgiou',\n",
       "  u'tags': [u'parteispenden14'],\n",
       "  u'type': u'person',\n",
       "  u'updated': datetime.datetime(2015, 3, 22, 18, 49, 15, 15000)}]"
      ]
     },
     "execution_count": 41,
     "metadata": {},
     "output_type": "execute_result"
    }
   ],
   "source": [
    "list(db.entities.find( {'importer': 'parteispenden14', 'name': {'$gte': 'G', '$lte': 'H'} } ))"
   ]
  },
  {
   "cell_type": "markdown",
   "metadata": {},
   "source": [
    "#### Gruppierung der Importer"
   ]
  },
  {
   "cell_type": "code",
   "execution_count": 105,
   "metadata": {
    "collapsed": false
   },
   "outputs": [
    {
     "data": {
      "text/plain": [
       "[{u'_id': u'parteien', u'count': 1},\n",
       " {u'_id': u'parteispenden14', u'count': 6},\n",
       " {u'_id': u'kabinette', u'count': 34},\n",
       " {u'_id': u'seitenwechsler', u'count': 214},\n",
       " {u'_id': u'thinktanks', u'count': 309},\n",
       " {u'_id': u'parteispenden13', u'count': 311},\n",
       " {u'_id': u'laender', u'count': 370},\n",
       " {u'_id': u'dax', u'count': 541},\n",
       " {u'_id': None, u'count': 1063},\n",
       " {u'_id': u'pr', u'count': 1767},\n",
       " {u'_id': u'bundestag', u'count': 2046},\n",
       " {u'_id': u'parteispenden', u'count': 2914},\n",
       " {u'_id': u'lobbyliste', u'count': 16804}]"
      ]
     },
     "execution_count": 105,
     "metadata": {},
     "output_type": "execute_result"
    }
   ],
   "source": [
    "# Gruppierung nach importer und Zählen der Elemente der Gruppen. Dann sortieren\n",
    "pipeline = [ {\"$group\": {\"_id\": \"$importer\", \"count\": {\"$sum\": 1}}} , {\"$sort\": {\"count\":1} }]\n",
    "list(db.entities.aggregate(pipeline, cursor={}))"
   ]
  },
  {
   "cell_type": "markdown",
   "metadata": {},
   "source": [
    "### Name von Entitäten, deren Namen zwischen X-Z beginnen"
   ]
  },
  {
   "cell_type": "code",
   "execution_count": 42,
   "metadata": {
    "collapsed": true
   },
   "outputs": [
    {
     "name": "stdout",
     "output_type": "stream",
     "text": [
      "{u'name': u'XLAB-Stiftung zur F\\xf6rderung der Naturwissenschaften'}\n",
      "{u'name': u'XVIDA'}\n",
      "{u'name': u'Xander Heijnen'}\n",
      "{u'name': u'Xander Hijnen'}\n",
      "{u'name': u'Xaver Fischer'}\n",
      "{u'name': u'Xaver Jung'}\n",
      "{u'name': u'Xaver Kroner'}\n",
      "{u'name': u'Xaver Schmidt'}\n",
      "{u'name': u'Xavier Feys'}\n",
      "{u'name': u'Xavier Gonzalez'}\n",
      "{u'name': u'Xavier Roth le Gentil'}\n",
      "{u'name': u'XertifiX e.V.'}\n",
      "{u'name': u'Xinhua News Agency'}\n",
      "{u'name': u'Xu Rong Heinrich'}\n",
      "{u'name': u'YARA GmbH & Co. KG'}\n",
      "{u'name': u'YOC AG'}\n",
      "{u'name': u'Yade L\\xfctz'}\n",
      "{u'name': u'Yahoo'}\n",
      "{u'name': u'Yan C. Steinschen'}\n",
      "{u'name': u'Yanina Terentyeva'}\n",
      "{u'name': u'Yankee Candle'}\n",
      "{u'name': u'Yanki P\\xfcrs\\xfcn'}\n",
      "{u'name': u'Yasmin Fahimi'}\n",
      "{u'name': u'Yasushi Yamawaki'}\n",
      "{u'name': u'Yello Strom'}\n",
      "{u'name': u'Yeom Tae-Young'}\n",
      "{u'name': u'Yesim Eraslan'}\n",
      "{u'name': u'Yilmaz Kahraman'}\n",
      "{u'name': u'Yingli Green Energy International'}\n",
      "{u'name': u'Yoram-Illy Ehrlich'}\n",
      "{u'name': u'Yorck Hillegaart'}\n",
      "{u'name': u'Yorck Jetter'}\n",
      "{u'name': u'Yorck Otto'}\n",
      "{u'name': u'Yorkville'}\n",
      "{u'name': u'Younes Ouagasse'}\n",
      "{u'name': u'Young-He Kuchenm\\xfcller'}\n",
      "{u'name': u'Yskert von Kodolitsch'}\n",
      "{u'name': u'Yukos'}\n",
      "{u'name': u'Yusuf Karacelik'}\n",
      "{u'name': u'Yvonne Coulin'}\n",
      "{u'name': u'Yvonne Everhartz'}\n",
      "{u'name': u'Yvonne Gausepohl'}\n",
      "{u'name': u'Yvonne Kaiser'}\n",
      "{u'name': u'Yvonne Karmann-Proppert'}\n",
      "{u'name': u'Yvonne Magwas'}\n",
      "{u'name': u'Yvonne Ploetz'}\n",
      "{u'name': u'Yvonne Schulz'}\n",
      "{u'name': u'Yvonne van Diepen'}\n",
      "{u'name': u'Y\\xfcksel Aslan'}\n",
      "{u'name': u'Y\\xfcksel Karaaslan'}\n"
     ]
    }
   ],
   "source": [
    "query = {'name': {'$gte': 'X', '$lte': 'Z'} }                                                                                                                                                  \n",
    "projection = {'_id':0, 'name':1}                                                                                                                                                               \n",
    "for i in db.entities.find(query, projection):                                                                                                                                                  \n",
    "    pprint(i)   "
   ]
  },
  {
   "cell_type": "markdown",
   "metadata": {},
   "source": [
    "### Entitäten anhand von Tags finden"
   ]
  },
  {
   "cell_type": "markdown",
   "metadata": {},
   "source": [
    "#### A representative"
   ]
  },
  {
   "cell_type": "code",
   "execution_count": 49,
   "metadata": {
    "collapsed": false
   },
   "outputs": [
    {
     "name": "stdout",
     "output_type": "stream",
     "text": [
      "\"Ralf Denda\" is a representative.\n"
     ]
    },
    {
     "data": {
      "text/plain": [
       "[u'lobbyist', u'lobbyismus', u'representative']"
      ]
     },
     "execution_count": 49,
     "metadata": {},
     "output_type": "execute_result"
    }
   ],
   "source": [
    "# Query on a array fields (here tags field)                                                                                                                                                    \n",
    "query = {'tags': \"representative\"}                                                                                                                                                             \n",
    "one_representative = db.entities.find_one(query)                                                                                                                                                                    \n",
    "print(\"\\\"%s\\\" is a representative.\" % one_representative.get(\"name\"))\n",
    "one_representative.get(\"tags\")"
   ]
  },
  {
   "cell_type": "markdown",
   "metadata": {},
   "source": [
    "#### A representative or guy in Medien"
   ]
  },
  {
   "cell_type": "code",
   "execution_count": 54,
   "metadata": {
    "collapsed": false
   },
   "outputs": [
    {
     "name": "stdout",
     "output_type": "stream",
     "text": [
      "\"Allianz Deutscher Produzenten - Film & Fernsehen e.V.\" is either a representative or working in Medien\n"
     ]
    },
    {
     "data": {
      "text/plain": [
       "[u'lobbyorganisation', u'lobbyismus', u'Medien']"
      ]
     },
     "execution_count": 54,
     "metadata": {},
     "output_type": "execute_result"
    }
   ],
   "source": [
    "# $in operator : any of the provided values should match                                                                                                                                       \n",
    "query = {'tags': {'$in':[\"representative\", \"Medien\"]}}                                                                                                                                         \n",
    "print(\"\\\"%s\\\" is either a representative or working in Medien\" % db.entities.find_one(query).get(\"name\"))\n",
    "db.entities.find_one(query).get(\"tags\")"
   ]
  },
  {
   "cell_type": "markdown",
   "metadata": {},
   "source": [
    "#### A lobbyist AND guy in Medien"
   ]
  },
  {
   "cell_type": "code",
   "execution_count": 55,
   "metadata": {
    "collapsed": false
   },
   "outputs": [
    {
     "name": "stdout",
     "output_type": "stream",
     "text": [
      "\"Allianz Deutscher Produzenten - Film & Fernsehen e.V.\" is tagged with lobbyismus and working in Medien\n"
     ]
    },
    {
     "data": {
      "text/plain": [
       "[u'lobbyorganisation', u'lobbyismus', u'Medien']"
      ]
     },
     "execution_count": 55,
     "metadata": {},
     "output_type": "execute_result"
    }
   ],
   "source": [
    "# $all operator: all values must match\n",
    "query = {'tags': {'$all':[\"lobbyismus\", \"Medien\"]}}                                                                                                                                            \n",
    "print(\"\\\"%s\\\" is tagged with lobbyismus and working in Medien\" % db.entities.find_one(query).get(\"name\"))\n",
    "db.entities.find_one(query).get(\"tags\")"
   ]
  },
  {
   "cell_type": "markdown",
   "metadata": {},
   "source": [
    "#### Count tags"
   ]
  },
  {
   "cell_type": "code",
   "execution_count": 58,
   "metadata": {
    "collapsed": false,
    "scrolled": true
   },
   "outputs": [
    {
     "name": "stdout",
     "output_type": "stream",
     "text": [
      "Die Datenbank enthält 41 Entitäten mit Tag Medien und 16998 Entitäten mit Tag lobbyismus\n"
     ]
    }
   ],
   "source": [
    "# in compararion with                                                                                                                                                                          \n",
    "print(\"Die Datenbank enthält %s Entitäten mit Tag Medien und %s Entitäten mit Tag lobbyismus\" % (db.entities.find({'tags': \"Medien\"}).count(), db.entities.find({'tags': \"lobbyismus\"}).count()))"
   ]
  },
  {
   "cell_type": "markdown",
   "metadata": {},
   "source": [
    "### Access inner documents and arrays"
   ]
  },
  {
   "cell_type": "markdown",
   "metadata": {},
   "source": [
    "#### Get the first 5 other known aliases for \"Die Linke\""
   ]
  },
  {
   "cell_type": "code",
   "execution_count": 104,
   "metadata": {
    "collapsed": false
   },
   "outputs": [
    {
     "data": {
      "text/plain": [
       "[u'DIE LINKE',\n",
       " u'Die Linke',\n",
       " u'Partei DIE LINKE',\n",
       " u'DIE LINKE.',\n",
       " u'Linkspartei']"
      ]
     },
     "execution_count": 104,
     "metadata": {},
     "output_type": "execute_result"
    }
   ],
   "source": [
    "# dot notation for querying inner documents or projection                                                                                                                                      \n",
    "projection = { \"_id\":0, \"aliases\": {\"$slice\": 5} }   \n",
    "db.entities.find_one({ \"name\": \"Die Linke\"}, projection).get(\"aliases\")"
   ]
  },
  {
   "cell_type": "markdown",
   "metadata": {},
   "source": [
    "### Entpacken von Arrays mit $unwind"
   ]
  },
  {
   "cell_type": "code",
   "execution_count": 119,
   "metadata": {
    "collapsed": false
   },
   "outputs": [
    {
     "data": {
      "text/plain": [
       "[{u'_id': u'parteien', u'count': 2},\n",
       " {u'_id': u'kabinette', u'count': 11},\n",
       " {u'_id': u'parteispenden14', u'count': 18},\n",
       " {u'_id': u'laender', u'count': 45},\n",
       " {u'_id': u'seitenwechsler', u'count': 559},\n",
       " {u'_id': u'dax', u'count': 733},\n",
       " {u'_id': u'parteispenden13', u'count': 1086},\n",
       " {u'_id': u'thinktanks', u'count': 1700},\n",
       " {u'_id': u'pr', u'count': 1866},\n",
       " {u'_id': None, u'count': 3580},\n",
       " {u'_id': u'bundestag', u'count': 11440},\n",
       " {u'_id': u'parteispenden', u'count': 16959},\n",
       " {u'_id': u'lobbyliste', u'count': 41513}]"
      ]
     },
     "execution_count": 119,
     "metadata": {},
     "output_type": "execute_result"
    }
   ],
   "source": [
    "# Aggregation, die das \"data\"-Array einer Entität zerlegt und für jeden Wert einen neuen Eintrag im Resultset erzeugt.\n",
    "# Diese werden dann nach importer gruppiert, die Gruppengrößen gezählt und entsprechend sortiert\n",
    "pipeline = [\n",
    "    {\"$unwind\": \"$data\"},\n",
    "    {\"$group\": {\"_id\": \"$importer\", \"count\": {\"$sum\": 1}}},\n",
    "    {\"$sort\": {\"count\":1} }\n",
    "]\n",
    "list(db.entities.aggregate(pipeline))"
   ]
  },
  {
   "cell_type": "code",
   "execution_count": 121,
   "metadata": {
    "collapsed": false
   },
   "outputs": [
    {
     "data": {
      "text/plain": [
       "[{u'_id': u'source', u'count': 27828},\n",
       " {u'_id': u'titles', u'count': 14560},\n",
       " {u'_id': u'address', u'count': 12712},\n",
       " {u'_id': u'link', u'count': 5433},\n",
       " {u'_id': u'surname', u'count': 3445},\n",
       " {u'_id': u'names', u'count': 3441},\n",
       " {u'_id': u'photo', u'count': 2433},\n",
       " {u'_id': u'description', u'count': 2384},\n",
       " {u'_id': u'members', u'count': 2118},\n",
       " {u'_id': u'organisations', u'count': 953},\n",
       " {u'_id': u'topic', u'count': 684},\n",
       " {u'_id': u'bundesland', u'count': 629},\n",
       " {u'_id': u'btcertuid', u'count': 608},\n",
       " {u'_id': u'wahlkreis', u'count': 524},\n",
       " {u'_id': u'verified', u'count': 449},\n",
       " {u'_id': u'displayname', u'count': 402},\n",
       " {u'_id': u'url', u'count': 206},\n",
       " {u'_id': u'landesliste', u'count': 194},\n",
       " {u'_id': u'finance', u'count': 151},\n",
       " {u'_id': u'partei', u'count': 130},\n",
       " {u'_id': u'staff', u'count': 126},\n",
       " {u'_id': u'title', u'count': 55},\n",
       " {u'_id': u'legalform', u'count': 28},\n",
       " {u'_id': u'www', u'count': 9},\n",
       " {u'_id': u'begin', u'count': 5},\n",
       " {u'_id': u'end', u'count': 4},\n",
       " {u'_id': u'listenplatz', u'count': 1}]"
      ]
     },
     "execution_count": 121,
     "metadata": {},
     "output_type": "execute_result"
    }
   ],
   "source": [
    "# Aggregation, die das \"data\"-Array einer Entität zerlegt und für jeden Wert einen neuen Eintrag im Resultset erzeugt.\n",
    "# Anschließend wird nach dem Feld data.key gruppiert etc p.p. \n",
    "pipeline = [ {\"$unwind\": \"$data\"} , {\"$group\": {\"_id\": \"$data.key\", \"count\":{\"$sum\": 1}}}, {\"$sort\": {\"count\":-1}}]\n",
    "list(db.entities.aggregate(pipeline, cursor={}))"
   ]
  },
  {
   "cell_type": "markdown",
   "metadata": {},
   "source": [
    "### Hilfsfunktion, die das Abfragen eines Wertes im data Array der Entitäten vereinfacht"
   ]
  },
  {
   "cell_type": "code",
   "execution_count": null,
   "metadata": {
    "collapsed": true
   },
   "outputs": [],
   "source": [
    "def get_cursor_given_key_value(key):\n",
    "    assert type(key) == str\n",
    "    pipeline = [ {\"$unwind\": \"$data\"} , {\"$match\": { \"data.key\": key}}, {\"$limit\":10}]\n",
    "    return db.entities.aggregate(pipeline, cursor={})"
   ]
  }
 ],
 "metadata": {
  "kernelspec": {
   "display_name": "Python 2",
   "language": "python",
   "name": "python2"
  },
  "language_info": {
   "codemirror_mode": {
    "name": "ipython",
    "version": 2
   },
   "file_extension": ".py",
   "mimetype": "text/x-python",
   "name": "python",
   "nbconvert_exporter": "python",
   "pygments_lexer": "ipython2",
   "version": "2.7.8"
  }
 },
 "nbformat": 4,
 "nbformat_minor": 0
}
